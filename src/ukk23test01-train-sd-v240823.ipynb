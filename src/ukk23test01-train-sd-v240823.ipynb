{
 "cells": [
  {
   "cell_type": "markdown",
   "id": "f1c7506c-6d94-4e57-a197-16d55e0fa61c",
   "metadata": {},
   "source": [
    "# RTE+RRTMGP-NN training - SDumont\n",
    "\n",
    "*Last edited: 2024-08-23*\n",
    "\n",
    "\n",
    "**[WORK IN PROGRESS]**\n",
    "\n",
    "\n",
    "\n",
    "This Notebook generates files containing the neural network (NN) model that is later used in the RTE+RRTMGP-NN model. The implementation uses TensorFlow and Python, and Fortran routines are used to generate the training data set. The idea is to replace the RRTMGP lookup tables with NN. The code and data from Ukkonen & Hogan (2023) need to be installed for the Notebook to work. And after training, the model is saved to disk using two file formats, HDF5 and netCDF. The main code (RTE+RRTMGP) is written in Fortan, including the part that makes the prediction from the NN model.\n",
    "\n",
    "Based on:\n",
    "\n",
    "- Ukkonen, P., & Hogan, R. J. (2023). Implementation of a machine-learned gas optics parameterization in the ECMWF Integrated Forecasting System: RRTMGP-NN 2.0. Geoscientific Model Development, 16(11), 3241–3261. https://doi.org/10.5194/gmd-16-3241-2023\n",
    "\n",
    "- Most of the code and data was adapted from:\n",
    "    - <https://github.com/peterukk/rte-rrtmgp-nn>\n",
    "    - <https://doi.org/10.5281/zenodo.7413935>\n",
    "\n",
    "- Additional information, code and data can be obtained from::\n",
    "    - <https://doi.org/10.5281/zenodo.6576680>\n",
    "    - <https://doi.org/10.5281/zenodo.7148329>\n",
    "    - <https://zenodo.org/records/7413935>\n",
    "    - <https://zenodo.org/records/7413952>\n",
    "    - <https://zenodo.org/records/7852526>\n",
    "\n",
    "Notes:\n",
    "\n",
    "- Up to this point in development, the Fortran code to generate data does not compile on SDumont, but it is possible to use data generated on the local PC and transferred to SDdumont, and use TensorFlow to train the DNN.\n",
    "- The dataset, due to its size, is not hosted in this repository, and must be downloaded from the links above, and placed in the corresponding directories.\n",
    "- The documentation is described in the work of Ukkonen & Hogan.\n",
    "- In this Notebook, the base directory where the code and data are located is `ukk23test01/`.\n",
    "- The training, which uses TensorFlow, is located in the `examples/rrtmgp-nn-training/` directory.\n",
    "- This Notebook itself is located outside the base directory, one level below.\n",
    "- The machine has 16 GB RAM, an NVIDIA GPU with 4 GB VRAM, and a 2-core Intel processor.\n",
    "- Training data is generated from RRTMGP.\n",
    "- To perform the prediction, \"g-point\" vectors are used, containing:\n",
    "    - LW\n",
    "        - Planck fraction, absorption cross-section, or both\n",
    "    - SW\n",
    "        - Absorption cross-section, or Rayleigh cross-section\n",
    "- Models are saved to `../../neural/data` with a file name containing the custom radiation scores.\n",
    "\n",
    "Task List:\n",
    "\n",
    "- [ ] Run the Fortran code, which generates data, on SDumont."
   ]
  },
  {
   "cell_type": "markdown",
   "id": "858de0d7-e756-4792-9557-96286b26a2b0",
   "metadata": {},
   "source": [
    "## Dataset\n",
    "\n",
    "Due to space footprint, the datasets and their respective repositories are not hosted in this GitHub repository, and need to be recreated from the links above. Some data files are created during the execution of the routines, such as the NN training data set. The data directories are:\n",
    "\n",
    "- neural/data\n",
    "- rrtmgp/data\n",
    "- examples/rfmip-clear-sky/data\n",
    "- examples/rfmip-clear-sky/output_fluxes\n",
    "- examples/rrtmgp-nn-training/data\n",
    "- examples/rrtmgp-nn-training/inputs_to_RRTMGP"
   ]
  },
  {
   "cell_type": "markdown",
   "id": "32ce390d-2c53-440f-a80c-c69059efd7b2",
   "metadata": {},
   "source": [
    "## Dependencies"
   ]
  },
  {
   "cell_type": "markdown",
   "id": "c47a2866-8f8b-4ee0-bc08-d3dedb81d68a",
   "metadata": {},
   "source": [
    "Fortran and dependencies:\n",
    "\n",
    "    gfortran libopenblas-dev libnetcdf-dev libnetcdff-dev\n",
    "\n",
    "Jupyter config\n",
    "\n",
    "    module load gcc/11.1 netcdf/4.9.2_openmpi-4.1.6_gnu openblas/0.3.19_gnu cmake/3.9.4 make/4.3\n",
    "    source $HOME/conda/bin/activate base\n",
    "    jupyter-lab ...\n",
    "\n",
    "Python dependencies:\n",
    "  - python\n",
    "  - numba\n",
    "  - tbb\n",
    "  - netcdf4\n",
    "  - pip:\n",
    "    - tensorflow"
   ]
  },
  {
   "cell_type": "markdown",
   "id": "e64309ba-f34e-484d-95a7-77213a286e17",
   "metadata": {},
   "source": [
    "## Go to work dir"
   ]
  },
  {
   "cell_type": "code",
   "execution_count": 1,
   "id": "07e1d7ac-1a6d-4adf-b07d-f6d851a47ae6",
   "metadata": {
    "scrolled": true
   },
   "outputs": [
    {
     "name": "stdout",
     "output_type": "stream",
     "text": [
      "/prj/ampemi/eduardo.miranda2/ecrad-proposal/ukk23test01/examples/rrtmgp-nn-training\n"
     ]
    }
   ],
   "source": [
    "%cd ukk23test01/examples/rrtmgp-nn-training/"
   ]
  },
  {
   "cell_type": "markdown",
   "id": "4cf825da-0a01-4ce1-855e-e178127a4dd6",
   "metadata": {},
   "source": [
    "## Build the Fortran code"
   ]
  },
  {
   "cell_type": "markdown",
   "id": "12f42ed7-b10d-47bf-a51b-166c3413bece",
   "metadata": {},
   "source": [
    "Environment variables configuration:"
   ]
  },
  {
   "cell_type": "code",
   "execution_count": 2,
   "id": "64a3daaa-71d1-4ed4-bc0d-fed81fcad273",
   "metadata": {},
   "outputs": [
    {
     "name": "stdout",
     "output_type": "stream",
     "text": [
      "VAR=\"../../\"\n",
      "rm rrtmgp_lw_gendata_rfmipstyle rrtmgp_sw_gendata_rfmipstyle *.o *.mod *.optrpt\n",
      "rm: cannot remove ‘rrtmgp_lw_gendata_rfmipstyle’: No such file or directory\n",
      "rm: cannot remove ‘rrtmgp_sw_gendata_rfmipstyle’: No such file or directory\n",
      "rm: cannot remove ‘*.optrpt’: No such file or directory\n",
      "make: [Makefile:151: clean] Error 1 (ignored)\n"
     ]
    }
   ],
   "source": [
    "! make clean"
   ]
  },
  {
   "cell_type": "markdown",
   "id": "69306d8f-d04b-462d-809b-76b00fc67db7",
   "metadata": {},
   "source": [
    "(...) locations of the netCDF C and Fortran libraries and module files as environmental variables (NCHOME and NFHOME)"
   ]
  },
  {
   "cell_type": "code",
   "execution_count": 3,
   "id": "3a6d026e-4887-4821-9b79-b8e7c0707bda",
   "metadata": {},
   "outputs": [
    {
     "name": "stdout",
     "output_type": "stream",
     "text": [
      "env: FC=gfortran\n",
      "env: FCFLAGS=-ffree-line-length-none -m64 -march=native -O3 -lcurl\n",
      "env: NCHOME=/scratch/app/netcdf/4.9.2_openmpi-4.1.6_gnu\n",
      "env: NFHOME=/scratch/app/netcdf/4.9.2_openmpi-4.1.6_gnu\n",
      "env: BLASLIB=openblas\n"
     ]
    }
   ],
   "source": [
    "%env FC=gfortran\n",
    "%env FCFLAGS=-ffree-line-length-none -m64 -march=native -O3 -lcurl\n",
    "%env NCHOME=/scratch/app/netcdf/4.9.2_openmpi-4.1.6_gnu\n",
    "%env NFHOME=/scratch/app/netcdf/4.9.2_openmpi-4.1.6_gnu\n",
    "%env BLASLIB=openblas"
   ]
  },
  {
   "cell_type": "markdown",
   "id": "d3de1270-f2d7-4c64-a47b-57dc310a3c96",
   "metadata": {},
   "source": [
    "It compiles on the local machine, but on the SDumont it is showing errors and does not compile:"
   ]
  },
  {
   "cell_type": "code",
   "execution_count": null,
   "id": "0a9df88f-ab49-484a-b7a4-bb85f9a3247d",
   "metadata": {
    "scrolled": true
   },
   "outputs": [],
   "source": [
    "%%bash\n",
    "module load gcc/11.1 netcdf/4.9.2_openmpi-4.1.6_gnu openblas/0.3.19_gnu\n",
    "make"
   ]
  },
  {
   "cell_type": "markdown",
   "id": "18bd2314-2e55-49f2-96a4-2f8e2ff7b011",
   "metadata": {},
   "source": [
    "- Example of executable command format: `./rrtmgp_lw_gendata_rfmipstyle [block_size] [input file] [k-distribution file] [input-output file]`"
   ]
  },
  {
   "cell_type": "markdown",
   "id": "9a7a7e69-423d-45c2-8942-35da6cda1404",
   "metadata": {},
   "source": [
    "Once built, the next step is to generate the training data."
   ]
  },
  {
   "cell_type": "markdown",
   "id": "b3a68f9c-e7db-44ef-b32e-fb56be45c34a",
   "metadata": {},
   "source": [
    "### Block_size\n",
    "\n",
    "- The block size is the number of columns to be computed at a time, and must be an integer such that the remainder of dividing `ncol*nexp` by `block_size` is zero.\n",
    "- `block_size = 3` worked in all cases:"
   ]
  },
  {
   "cell_type": "markdown",
   "id": "03b51d32-1d9d-478e-b6ee-b468c93680d9",
   "metadata": {},
   "source": [
    "## Training data generation\n",
    "\n",
    "Using Fortran executables"
   ]
  },
  {
   "cell_type": "code",
   "execution_count": null,
   "id": "dcf930c3-d1cc-485a-8a43-e14bfe0bae40",
   "metadata": {
    "scrolled": true
   },
   "outputs": [],
   "source": [
    "%%bash\n",
    "./rrtmgp_lw_gendata_rfmipstyle \\\n",
    "    3 \\\n",
    "    inputs_to_RRTMGP/inputs_Garand_BIG.nc \\\n",
    "    ../../rrtmgp/data/rrtmgp-data-lw-g128-210809.nc \\\n",
    "    data/ml_training_lw_g128_Garand_BIG.nc"
   ]
  },
  {
   "cell_type": "code",
   "execution_count": 35,
   "id": "c6d6978b-7510-421d-b57d-ff304bff89b1",
   "metadata": {
    "scrolled": true
   },
   "outputs": [
    {
     "name": "stdout",
     "output_type": "stream",
     "text": [
      " Usage: rrtmgp_rfmip_lw [block_size] [rfmip_file] [k-distribution_file] input_output file]\n",
      " input fileinputs_to_RRTMGP/inputs_AMON_ssp245_ssp585_2054_2100.nc                                                                             \n",
      " ncol:         420 nexp:         200 nlay:          19\n",
      " Doing        28000 blocks of size            3\n",
      " Calculation uses gases: water_vapor ozone carbon_dioxide methane nitrous_oxide oxygen nitrogen cfc11 cfc12 carbon_monoxide carbon_tetrachloride hcfc22 hfc143a hfc125 hfc23 hfc32 hfc134a cf4 \n",
      " min of play   100.000000     k_dist%get_press_min()   1.00518358    \n",
      " -------------------------------------------------------------------------\n",
      " starting clear-sky longwave computations\n",
      " Finished with computations!\n",
      " mean of flux_down is:   83.7984009    \n",
      " mean of flux_up is:   279.662506    \n",
      " -------------------------------------------------------------------------\n",
      " Attempting to save RRTMGP input/output to data/ml_training_lw_g128_AMON_ssp245_ssp585_2054_2100.nc                                                                            \n",
      " RRTMGP inputs (gas concs + T + p) were successfully saved\n",
      " Optical properties (RRTMGP output) were successfully saved. All done!\n",
      " -------------------------------------------------------------------------\n"
     ]
    }
   ],
   "source": [
    "%%bash\n",
    "./rrtmgp_lw_gendata_rfmipstyle \\\n",
    "    3 \\\n",
    "    inputs_to_RRTMGP/inputs_AMON_ssp245_ssp585_2054_2100.nc \\\n",
    "    ../../rrtmgp/data/rrtmgp-data-lw-g128-210809.nc \\\n",
    "    data/ml_training_lw_g128_AMON_ssp245_ssp585_2054_2100.nc"
   ]
  },
  {
   "cell_type": "code",
   "execution_count": 36,
   "id": "f60b4f93-65f8-4ea8-898d-5d393e7282e8",
   "metadata": {
    "scrolled": true
   },
   "outputs": [
    {
     "name": "stdout",
     "output_type": "stream",
     "text": [
      " Usage: rrtmgp_rfmip_lw [block_size] [rfmip_file] [k-distribution_file] input_output file]\n",
      " input fileinputs_to_RRTMGP/inputs_CAMS_new_CKDMIPstyle.nc                                                                                     \n",
      " ncol:        1000 nexp:          42 nlay:          60\n",
      " Doing        14000 blocks of size            3\n",
      " Calculation uses gases: water_vapor ozone carbon_dioxide methane nitrous_oxide oxygen nitrogen cfc11 cfc12 carbon_monoxide carbon_tetrachloride hcfc22 hfc143a hfc125 hfc23 hfc32 hfc134a cf4 \n",
      " min of play   10.0000000     k_dist%get_press_min()   1.00518358    \n",
      " -------------------------------------------------------------------------\n",
      " starting clear-sky longwave computations\n",
      " Finished with computations!\n",
      " mean of flux_down is:   94.9205475    \n",
      " mean of flux_up is:   257.382263    \n",
      " -------------------------------------------------------------------------\n",
      " Attempting to save RRTMGP input/output to data/ml_training_lw_g128_CAMS_new_CKDMIPstyle.nc                                                                                    \n",
      " RRTMGP inputs (gas concs + T + p) were successfully saved\n",
      " Optical properties (RRTMGP output) were successfully saved. All done!\n",
      " -------------------------------------------------------------------------\n"
     ]
    }
   ],
   "source": [
    "%%bash\n",
    "./rrtmgp_lw_gendata_rfmipstyle \\\n",
    "    3 \\\n",
    "    inputs_to_RRTMGP/inputs_CAMS_new_CKDMIPstyle.nc \\\n",
    "    ../../rrtmgp/data/rrtmgp-data-lw-g128-210809.nc \\\n",
    "    data/ml_training_lw_g128_CAMS_new_CKDMIPstyle.nc"
   ]
  },
  {
   "cell_type": "code",
   "execution_count": 37,
   "id": "bcd96a42-7dcb-44a1-a656-02cca5974e47",
   "metadata": {
    "scrolled": true
   },
   "outputs": [
    {
     "name": "stdout",
     "output_type": "stream",
     "text": [
      " Usage: rrtmgp_rfmip_lw [block_size] [rfmip_file] [k-distribution_file] input_output file]\n",
      " input fileinputs_to_RRTMGP/inputs_CKDMIP-MM-Big.nc                                                                                            \n",
      " ncol:         243 nexp:          58 nlay:          52\n",
      " Doing         4698 blocks of size            3\n",
      " Calculation uses gases: water_vapor ozone carbon_dioxide methane nitrous_oxide oxygen nitrogen cfc11 cfc12 carbon_monoxide carbon_tetrachloride hcfc22 hfc143a hfc125 hfc23 hfc32 hfc134a cf4 \n",
      " min of play  0.504999995     k_dist%get_press_min()   1.00518358    \n",
      " -------------------------------------------------------------------------\n",
      " starting clear-sky longwave computations\n",
      " Finished with computations!\n",
      " mean of flux_down is:   39.1128159    \n",
      " mean of flux_up is:   281.537994    \n",
      " -------------------------------------------------------------------------\n",
      " Attempting to save RRTMGP input/output to data/ml_training_lw_g128_CKDMIP-MMM-Big.nc                                                                                          \n",
      " RRTMGP inputs (gas concs + T + p) were successfully saved\n",
      " Optical properties (RRTMGP output) were successfully saved. All done!\n",
      " -------------------------------------------------------------------------\n"
     ]
    }
   ],
   "source": [
    "%%bash\n",
    "./rrtmgp_lw_gendata_rfmipstyle \\\n",
    "    3 \\\n",
    "    inputs_to_RRTMGP/inputs_CKDMIP-MM-Big.nc \\\n",
    "    ../../rrtmgp/data/rrtmgp-data-lw-g128-210809.nc \\\n",
    "    data/ml_training_lw_g128_CKDMIP-MMM-Big.nc"
   ]
  },
  {
   "cell_type": "markdown",
   "id": "6d064d9f-1163-446f-bfab-554578ff4895",
   "metadata": {},
   "source": [
    "## Training using TensorFlow"
   ]
  },
  {
   "cell_type": "markdown",
   "id": "f923646e-c620-44b4-b2ab-992fea09facc",
   "metadata": {},
   "source": [
    "Loading the libraries:"
   ]
  },
  {
   "cell_type": "code",
   "execution_count": 2,
   "id": "819e481b-9147-4e84-9551-58559663ee6c",
   "metadata": {},
   "outputs": [
    {
     "name": "stderr",
     "output_type": "stream",
     "text": [
      "2024-08-23 11:20:28.037990: I tensorflow/core/platform/cpu_feature_guard.cc:193] This TensorFlow binary is optimized with oneAPI Deep Neural Network Library (oneDNN) to use the following CPU instructions in performance-critical operations:  AVX2 AVX512F FMA\n",
      "To enable them in other operations, rebuild TensorFlow with the appropriate compiler flags.\n"
     ]
    }
   ],
   "source": [
    "import tensorflow as tf\n",
    "from tensorflow.keras import losses, optimizers"
   ]
  },
  {
   "cell_type": "markdown",
   "id": "fc7f1fab-0933-4f25-954d-000b254fdb75",
   "metadata": {},
   "source": [
    "Checks GPU availability:"
   ]
  },
  {
   "cell_type": "code",
   "execution_count": 3,
   "id": "871db00b-e405-42b9-a666-f5383ab938d1",
   "metadata": {},
   "outputs": [
    {
     "name": "stdout",
     "output_type": "stream",
     "text": [
      "[PhysicalDevice(name='/physical_device:GPU:0', device_type='GPU'), PhysicalDevice(name='/physical_device:GPU:1', device_type='GPU'), PhysicalDevice(name='/physical_device:GPU:2', device_type='GPU'), PhysicalDevice(name='/physical_device:GPU:3', device_type='GPU')]\n"
     ]
    }
   ],
   "source": [
    "print(tf.config.list_physical_devices(\"GPU\"))"
   ]
  },
  {
   "cell_type": "code",
   "execution_count": 4,
   "id": "bfdcdebc-472a-47d3-8031-aca2d1834801",
   "metadata": {},
   "outputs": [],
   "source": [
    "import os\n",
    "import sys\n",
    "import numpy as np"
   ]
  },
  {
   "cell_type": "markdown",
   "id": "ee60a8c6-1d59-41be-86be-8f12cfe3203a",
   "metadata": {},
   "source": [
    "Load routines contained in code files in the working directory:"
   ]
  },
  {
   "cell_type": "code",
   "execution_count": 5,
   "id": "147feb06-e00d-444a-864a-883d3238a477",
   "metadata": {},
   "outputs": [],
   "source": [
    "from ml_load_save_preproc import (\n",
    "    save_model_netcdf,\n",
    "    load_rrtmgp,\n",
    "    scale_outputs_wrapper,\n",
    "    preproc_pow_standardization_reverse,\n",
    "    preproc_tau_to_crossection,\n",
    "    preproc_minmax_inputs_rrtmgp,\n",
    ")"
   ]
  },
  {
   "cell_type": "code",
   "execution_count": 6,
   "id": "d5ba5329-09e8-4f19-b9bf-a850a2c56402",
   "metadata": {},
   "outputs": [],
   "source": [
    "from ml_scaling_coefficients import xcoeffs_all, input_names_all"
   ]
  },
  {
   "cell_type": "code",
   "execution_count": 7,
   "id": "1ad673d7-b02e-4237-80db-c0952c081f00",
   "metadata": {},
   "outputs": [],
   "source": [
    "from ml_trainfuncs_keras import (\n",
    "    create_model_mlp,\n",
    "    expdiff,\n",
    "    hybrid_loss_wrapper,\n",
    ")"
   ]
  },
  {
   "cell_type": "markdown",
   "id": "93a00505-88c1-467c-84f2-2cb36a4537e8",
   "metadata": {},
   "source": [
    "## Configure predictand, NN complexity, etc"
   ]
  },
  {
   "cell_type": "code",
   "execution_count": 8,
   "id": "5004c372-7a79-4ae9-9b7d-dabe0bc7b24f",
   "metadata": {},
   "outputs": [],
   "source": [
    "predictand = \"lw_both\""
   ]
  },
  {
   "cell_type": "code",
   "execution_count": 9,
   "id": "a6726cf6-7566-48b6-a48b-4b8958ffb8eb",
   "metadata": {},
   "outputs": [],
   "source": [
    "scaling_method = \"Ukkonen2020\"  # only option currently"
   ]
  },
  {
   "cell_type": "markdown",
   "id": "1bcd2e09-2f91-406d-9a84-55a78374bf5b",
   "metadata": {},
   "source": [
    "For `use_existing_input_scaling_coefficients` True is generally a safe choice, min max coefficients have been computed using a large dataset spanning both LGM (Last Glacial Maximum) and high future emissions scenarios. However, check that your scaled inputs fall somewhere in the 0-1 range. Negative values in particular might cause problems:"
   ]
  },
  {
   "cell_type": "code",
   "execution_count": 10,
   "id": "76e3cafe-24c6-453a-8383-1516ceb99ac1",
   "metadata": {},
   "outputs": [],
   "source": [
    "use_existing_input_scaling_coefficients = True"
   ]
  },
  {
   "cell_type": "markdown",
   "id": "e9f9bd90-7724-4c38-8877-7b66b97c11ad",
   "metadata": {},
   "source": [
    "## Loss function, metrics"
   ]
  },
  {
   "cell_type": "code",
   "execution_count": 11,
   "id": "035260ff-4a00-4883-8467-7f40cf832d48",
   "metadata": {},
   "outputs": [],
   "source": [
    "patience = 70\n",
    "epochs = 200"
   ]
  },
  {
   "cell_type": "markdown",
   "id": "a639d39b-3407-47cf-9032-6c754f2893a5",
   "metadata": {},
   "source": [
    "Added \"()\" to MeanSquaredError as described in <https://stackoverflow.com/questions/62494412/typeerror-expected-float32-passed-to-parameter-y-of-op-equal-got-auto-of> :"
   ]
  },
  {
   "cell_type": "code",
   "execution_count": 12,
   "id": "dd9e1e2d-f689-4131-bc2a-9c8dfb0000f7",
   "metadata": {},
   "outputs": [],
   "source": [
    "lossfunc = losses.MeanSquaredError()\n",
    "mymetrics = [\"mean_absolute_error\"]\n",
    "expfirst = False"
   ]
  },
  {
   "cell_type": "markdown",
   "id": "7f934a9a-dae0-424b-beee-6e8f566ee156",
   "metadata": {},
   "source": [
    "## Batch size and learning rate"
   ]
  },
  {
   "cell_type": "code",
   "execution_count": 13,
   "id": "cac4ed6c-f2fe-44fb-8c24-e69f624b1fba",
   "metadata": {},
   "outputs": [],
   "source": [
    "lr = 0.001\n",
    "batch_size = 2048"
   ]
  },
  {
   "cell_type": "markdown",
   "id": "c4cba823-a25c-41e3-a8de-44dbeef1627e",
   "metadata": {},
   "source": [
    "## NN Hyperparameters"
   ]
  },
  {
   "cell_type": "markdown",
   "id": "268d0766-9834-45f0-91a1-d7c59ffff63b",
   "metadata": {},
   "source": [
    "Number of neurons in each hidden layer:"
   ]
  },
  {
   "cell_type": "code",
   "execution_count": 14,
   "id": "29c2738b-dd68-4960-aac6-45ad3f49b067",
   "metadata": {},
   "outputs": [],
   "source": [
    "neurons = [72, 72]"
   ]
  },
  {
   "cell_type": "markdown",
   "id": "84d971ce-d371-4dca-9f93-17b30a631d23",
   "metadata": {},
   "source": [
    "Activation functions used after each layer: first the input layer, and then the hidden layers:"
   ]
  },
  {
   "cell_type": "code",
   "execution_count": 15,
   "id": "0e382ac8-751a-4046-8e40-c05308688f4d",
   "metadata": {},
   "outputs": [],
   "source": [
    "activ = [\"softsign\", \"softsign\", \"linear\"]"
   ]
  },
  {
   "cell_type": "code",
   "execution_count": 16,
   "id": "74ed57aa-cb2a-432a-8f6a-98fc083edcb6",
   "metadata": {},
   "outputs": [],
   "source": [
    "if np.size(activ) != np.size(neurons) + 1:\n",
    "    print(\"Number of activations must be number of hidden layers + 1!\")"
   ]
  },
  {
   "cell_type": "markdown",
   "id": "b3d5a5fd-1669-4113-b61d-0bf41ab888c1",
   "metadata": {},
   "source": [
    "Weight initializer: the default is probably an OK choice  (glorot):"
   ]
  },
  {
   "cell_type": "code",
   "execution_count": 17,
   "id": "023c7f05-81a9-4ba5-9d61-4c211b87ac37",
   "metadata": {},
   "outputs": [],
   "source": [
    "initializer = \"glorot_uniform\""
   ]
  },
  {
   "cell_type": "markdown",
   "id": "5f9ce323-0c2d-4847-bab0-3f931adbcdba",
   "metadata": {},
   "source": [
    "## Routine for concatenating existing datasets containing raw inputs and outputs"
   ]
  },
  {
   "cell_type": "code",
   "execution_count": 18,
   "id": "f1a52f67-dbd6-4447-8877-1fac25b3e28f",
   "metadata": {},
   "outputs": [],
   "source": [
    "def add_dataset(fpath, predictand, expfirst, x, y, col_dry, input_names, kdist,\n",
    "                data_str):\n",
    "    x_new, y_new, col_dry_new, input_names_new, kdist_new = load_rrtmgp(\n",
    "        fpath, predictand, expfirst=expfirst)\n",
    "    if not (kdist == kdist_new):\n",
    "        print(\"Kdist does not match previous dataset!\")\n",
    "        return None\n",
    "    if not (input_names == input_names_new):\n",
    "        print(\"Input_names does not match previous dataset!\")\n",
    "        return None\n",
    "    ns = x.shape[0]\n",
    "    x = np.concatenate((x, x_new), axis=0)\n",
    "    y = np.concatenate((y, y_new), axis=0)\n",
    "    col_dry = np.concatenate((col_dry, col_dry_new), axis=0)\n",
    "    print(\"{:.2e} samples previously, {:.2e} after adding data from: {}\".format(\n",
    "        ns, x.shape[0],\n",
    "        fpath.split(\"/\")[-1]))\n",
    "    data_str = data_str + \" , \" + fpath.split(\"/\")[-1]\n",
    "    return x, y, col_dry, data_str"
   ]
  },
  {
   "cell_type": "markdown",
   "id": "572d997d-6ffa-412f-a34b-93e45a306414",
   "metadata": {},
   "source": [
    "## Provide data containing inputs and outputs"
   ]
  },
  {
   "cell_type": "markdown",
   "id": "d7418f9f-9e27-46c2-8365-3ade1ef39c06",
   "metadata": {},
   "source": [
    "- Profiles used:\n",
    "    - Expanded Garand\n",
    "    - GCM data (AMON_...)\n",
    "    - CAMS data\n",
    "    - Extended CKDMIP-Average-Maximum-Minimum profiles\n",
    "- RFMIP ised used for validation."
   ]
  },
  {
   "cell_type": "markdown",
   "id": "a04f5a86-29c6-4af6-aa29-ac2d4cfdc737",
   "metadata": {},
   "source": [
    "The full dataset consumes a lot of RAM and VRAM"
   ]
  },
  {
   "cell_type": "code",
   "execution_count": 19,
   "id": "72827141-0cd2-4fa6-acd9-949a5ccacc0d",
   "metadata": {},
   "outputs": [],
   "source": [
    "datadir = \"data/\"\n",
    "fpath = datadir + \"ml_training_lw_g128_Garand_BIG.nc\"  # 0.6 GB\n",
    "fpath2 = datadir + \"ml_training_lw_g128_AMON_ssp245_ssp585_2054_2100.nc\"  # 1.7 GB\n",
    "fpath3 = datadir + \"ml_training_lw_g128_CAMS_new_CKDMIPstyle.nc\"  # 2.6 GB\n",
    "fpath4 = datadir + \"ml_training_lw_g128_CKDMIP-MMM-Big.nc\"  # 0.8 GB"
   ]
  },
  {
   "cell_type": "markdown",
   "id": "b763df71-625c-4faa-bfef-b79a5bb6879b",
   "metadata": {},
   "source": [
    "Load only the small ones, to fit RAM"
   ]
  },
  {
   "cell_type": "markdown",
   "id": "e90cbea4-c910-4a53-a6fb-8cfca8e8d3b8",
   "metadata": {},
   "source": [
    "Choose a small dataset just for testing (training using the full dataset requires a lot of RAM):"
   ]
  },
  {
   "cell_type": "code",
   "execution_count": 20,
   "id": "77de03ef-dc8d-40d5-af2f-e3043ce7d1bc",
   "metadata": {},
   "outputs": [],
   "source": [
    "#fpaths = [fpath, fpath2, fpath3, fpath4]\n",
    "fpaths = [fpath, fpath2, fpath4]"
   ]
  },
  {
   "cell_type": "markdown",
   "id": "8a9a4d73-cd66-4045-a104-44e4a07e4e18",
   "metadata": {},
   "source": [
    "## Load data "
   ]
  },
  {
   "cell_type": "markdown",
   "id": "12f64d95-a6e3-408f-807d-a52102275125",
   "metadata": {},
   "source": [
    "Load training data"
   ]
  },
  {
   "cell_type": "code",
   "execution_count": 21,
   "id": "76074a13-cf2a-4a32-905f-947f6d980a83",
   "metadata": {},
   "outputs": [
    {
     "data": {
      "text/plain": [
       "'/prj/ampemi/eduardo.miranda2/ecrad-proposal/ukk23test01/examples/rrtmgp-nn-training'"
      ]
     },
     "execution_count": 21,
     "metadata": {},
     "output_type": "execute_result"
    }
   ],
   "source": [
    "%pwd"
   ]
  },
  {
   "cell_type": "code",
   "execution_count": 22,
   "id": "f87995be-3de3-4701-9a5f-3fac89413ece",
   "metadata": {},
   "outputs": [
    {
     "name": "stdout",
     "output_type": "stream",
     "text": [
      "/prj/ampemi/eduardo.miranda2/ecrad-proposal/ukk23test01/examples/rrtmgp-nn-training/data/ml_training_lw_g128_Garand_BIG.nc\n"
     ]
    }
   ],
   "source": [
    "! ls /prj/ampemi/eduardo.miranda2/ecrad-proposal/ukk23test01/examples/rrtmgp-nn-training/data/ml_training_lw_g128_Garand_BIG.nc"
   ]
  },
  {
   "cell_type": "code",
   "execution_count": 23,
   "id": "466c44e9-5092-4b9f-ae4a-f7c0d3c118ac",
   "metadata": {},
   "outputs": [
    {
     "name": "stdout",
     "output_type": "stream",
     "text": [
      "input_names found in file\n",
      "there are 13524 profiles in this dataset (322 experiments, 42 columns)\n"
     ]
    }
   ],
   "source": [
    "x_tr_raw, y_tr_raw, col_dry_tr, input_names, kdist = load_rrtmgp(\n",
    "    fpaths[0], predictand, expfirst=expfirst)"
   ]
  },
  {
   "cell_type": "code",
   "execution_count": 24,
   "id": "38134e14-e192-4bcd-a2ee-149df27da73f",
   "metadata": {},
   "outputs": [],
   "source": [
    "data_str = fpath.split(\"/\")[-1]\n",
    "# data_str"
   ]
  },
  {
   "cell_type": "markdown",
   "id": "779afc8b-b83b-457c-b903-6ff8d339c7c0",
   "metadata": {},
   "source": [
    "The full training dataset is split into multiple files:"
   ]
  },
  {
   "cell_type": "code",
   "execution_count": 25,
   "id": "46d5ca99-74e3-4e75-a30c-994d542130fa",
   "metadata": {
    "jp-MarkdownHeadingCollapsed": true
   },
   "outputs": [
    {
     "name": "stdout",
     "output_type": "stream",
     "text": [
      "input_names found in file\n",
      "there are 84000 profiles in this dataset (200 experiments, 420 columns)\n",
      "5.68e+05 samples previously, 2.16e+06 after adding data from: ml_training_lw_g128_AMON_ssp245_ssp585_2054_2100.nc\n",
      "input_names found in file\n",
      "there are 14094 profiles in this dataset (58 experiments, 243 columns)\n",
      "2.16e+06 samples previously, 2.90e+06 after adding data from: ml_training_lw_g128_CKDMIP-MMM-Big.nc\n",
      "CPU times: user 1.78 s, sys: 3.75 s, total: 5.53 s\n",
      "Wall time: 9.76 s\n"
     ]
    }
   ],
   "source": [
    "%%time\n",
    "# We can have different datasets that we merge\n",
    "for fpath in fpaths[1:]:\n",
    "    x_tr_raw, y_tr_raw, col_dry_tr, data_str = add_dataset(\n",
    "        fpath,\n",
    "        predictand,\n",
    "        expfirst,\n",
    "        x_tr_raw,\n",
    "        y_tr_raw,\n",
    "        col_dry_tr,\n",
    "        input_names,\n",
    "        kdist,\n",
    "        data_str,\n",
    "    )"
   ]
  },
  {
   "cell_type": "code",
   "execution_count": 26,
   "id": "a770f366-6be2-4bd9-8e63-8ec3c9d9bedb",
   "metadata": {},
   "outputs": [],
   "source": [
    "nx = x_tr_raw.shape[1]  # temperature + pressure + gases\n",
    "ny = y_tr_raw.shape[1]  # number of g-points"
   ]
  },
  {
   "cell_type": "code",
   "execution_count": 27,
   "id": "dadbe734-3848-47b5-9c00-0063e56e7040",
   "metadata": {},
   "outputs": [],
   "source": [
    "shuffle = True"
   ]
  },
  {
   "cell_type": "markdown",
   "id": "b30b1057-1e50-4cd9-9397-f2075707e849",
   "metadata": {},
   "source": [
    "It can be a cell that consumes a lot of time and memory, depending on the dataset:"
   ]
  },
  {
   "cell_type": "markdown",
   "id": "0ead75e2-1651-4ace-8a05-49cf64791187",
   "metadata": {},
   "source": [
    "## Input and output scaling"
   ]
  },
  {
   "cell_type": "code",
   "execution_count": 28,
   "id": "e2efafe3-f7b3-4ff7-95f6-a0ab8ede0142",
   "metadata": {},
   "outputs": [
    {
     "name": "stdout",
     "output_type": "stream",
     "text": [
      "CPU times: user 1min 51s, sys: 8.19 s, total: 1min 59s\n",
      "Wall time: 24.3 s\n"
     ]
    }
   ],
   "source": [
    "%%time\n",
    "if scaling_method != \"Ukkonen2020\":\n",
    "    print(\"Only one type of pre-processing currently supported!\")\n",
    "else:\n",
    "    # Input scaling - min-max\n",
    "    if use_existing_input_scaling_coefficients:\n",
    "        if xcoeffs_all == None:\n",
    "            sys.exit(\"Input scaling coefficients (xcoeffs) missing!\")\n",
    "        (xmin_all, xmax_all) = xcoeffs_all\n",
    "        # input_names loaded from file, describes inputs in order of x_tr_raw\n",
    "        # input_names_all corresponds to xmin_all and xmax_all\n",
    "        # Order of inputs may be different than in the existing coefficients,\n",
    "        # account for that by indexing\n",
    "        a = np.array(input_names_all)\n",
    "        b = np.array(input_names)\n",
    "        indices = np.where(b[:, None] == a[None, :])[1]\n",
    "        xmin = xmin_all[indices]\n",
    "        xmax = xmax_all[indices]\n",
    "        x_tr = preproc_minmax_inputs_rrtmgp(x_tr_raw, (xmin, xmax))\n",
    "    else:\n",
    "        x_tr, xmin, xmax = preproc_minmax_inputs_rrtmgp(x_tr_raw)\n",
    "        # Output scaling\n",
    "        # first, do y = y / N if y is optical depth, to get cross-sections\n",
    "        # then, square root scaling y: y=y**(1/nfac); cheaper and weaker version of\n",
    "        # log scaling. nfac = 8 for cross-sections, 2 for Planck fraction\n",
    "        # After this, use standard-scaling (not for Planck fraction)\n",
    "\n",
    "    y_tr, ymean, ystd = scale_outputs_wrapper(y_tr_raw, col_dry_tr, predictand)"
   ]
  },
  {
   "cell_type": "markdown",
   "id": "723e1c98-0c6d-49b1-9914-059771e3e17d",
   "metadata": {},
   "source": [
    "## I/O\n",
    "\n",
    "RRTMGP-NN models are saved as NetCDF files which contain metadata describing how to obtain the physical outputs, as well as the training data"
   ]
  },
  {
   "cell_type": "code",
   "execution_count": 29,
   "id": "58e02e44-d16c-4c61-9f96-fa033653e17b",
   "metadata": {},
   "outputs": [],
   "source": [
    "x_scaling_str = (\n",
    "    \"To get the required NN inputs, do the following: \"\n",
    "    \"x(i) = log(x(i)) for i=pressure; \"\n",
    "    \"x(i) = x(i)**(1/4) for i=H2O and O3; \"\n",
    "    \"x(i) = (x(i) - xmin(i)) / (xmax(i) - xmin(i)) for all inputs\"\n",
    ")\n",
    "y_scaling_str = (\n",
    "    \"Model predicts scaled cross-sections. Given the raw NN output y,\"\n",
    "    \" do the following to obtain optical depth: \"\n",
    "    \"y(igpt,j) = ystd(igpt)*y(igpt,j) + ymean(igpt); y(igpt,j) \"\n",
    "    \"= y(igpt,j)**8; y(igpt,j) = y(igpt,j) * layer_dry_air_molecules(j)\"\n",
    ")"
   ]
  },
  {
   "cell_type": "code",
   "execution_count": 30,
   "id": "85432a67-06c0-4225-955a-ad19bebbebdf",
   "metadata": {},
   "outputs": [],
   "source": [
    "model_str = \"\""
   ]
  },
  {
   "cell_type": "markdown",
   "id": "6d3ec315-72f1-4b0a-8031-d80809489b83",
   "metadata": {},
   "source": [
    "Try to reduce memory consumption:"
   ]
  },
  {
   "cell_type": "code",
   "execution_count": 31,
   "id": "88d42aa6-9e83-46e3-9f90-05fbb065f4a3",
   "metadata": {},
   "outputs": [],
   "source": [
    "import gc"
   ]
  },
  {
   "cell_type": "code",
   "execution_count": 32,
   "id": "b5c6e215-b31a-416c-9c80-d548b75c3fcb",
   "metadata": {},
   "outputs": [
    {
     "data": {
      "text/plain": [
       "35909"
      ]
     },
     "execution_count": 32,
     "metadata": {},
     "output_type": "execute_result"
    }
   ],
   "source": [
    "gc.collect()"
   ]
  },
  {
   "cell_type": "markdown",
   "id": "655fa5c5-dd83-487d-a78b-b1738095b086",
   "metadata": {},
   "source": [
    "## TensorFlow Training\n",
    "\n",
    "### Create and compile model"
   ]
  },
  {
   "cell_type": "code",
   "execution_count": 33,
   "id": "b9b5332f-7b32-4154-828f-6e2897e9ea06",
   "metadata": {},
   "outputs": [
    {
     "name": "stdout",
     "output_type": "stream",
     "text": [
      "CPU times: user 1.85 s, sys: 1.14 s, total: 2.99 s\n",
      "Wall time: 2.99 s\n"
     ]
    },
    {
     "name": "stderr",
     "output_type": "stream",
     "text": [
      "2024-08-23 11:22:09.496115: I tensorflow/core/platform/cpu_feature_guard.cc:193] This TensorFlow binary is optimized with oneAPI Deep Neural Network Library (oneDNN) to use the following CPU instructions in performance-critical operations:  AVX2 AVX512F FMA\n",
      "To enable them in other operations, rebuild TensorFlow with the appropriate compiler flags.\n",
      "2024-08-23 11:22:12.099472: I tensorflow/core/common_runtime/gpu/gpu_device.cc:1613] Created device /job:localhost/replica:0/task:0/device:GPU:0 with 30971 MB memory:  -> device: 0, name: Tesla V100-PCIE-32GB, pci bus id: 0000:3b:00.0, compute capability: 7.0\n",
      "2024-08-23 11:22:12.100943: I tensorflow/core/common_runtime/gpu/gpu_device.cc:1613] Created device /job:localhost/replica:0/task:0/device:GPU:1 with 30971 MB memory:  -> device: 1, name: Tesla V100-PCIE-32GB, pci bus id: 0000:5e:00.0, compute capability: 7.0\n",
      "2024-08-23 11:22:12.102610: I tensorflow/core/common_runtime/gpu/gpu_device.cc:1613] Created device /job:localhost/replica:0/task:0/device:GPU:2 with 30971 MB memory:  -> device: 2, name: Tesla V100-PCIE-32GB, pci bus id: 0000:86:00.0, compute capability: 7.0\n",
      "2024-08-23 11:22:12.104272: I tensorflow/core/common_runtime/gpu/gpu_device.cc:1613] Created device /job:localhost/replica:0/task:0/device:GPU:3 with 30971 MB memory:  -> device: 3, name: Tesla V100-PCIE-32GB, pci bus id: 0000:af:00.0, compute capability: 7.0\n"
     ]
    }
   ],
   "source": [
    "%%time\n",
    "devstr = \"/gpu:0\"\n",
    "os.environ[\"CUDA_VISIBLE_DEVICES\"] = \"0\"\n",
    "\n",
    "optim = optimizers.Adam(learning_rate=lr)\n",
    "\n",
    "model = create_model_mlp(nx=nx,\n",
    "                         ny=ny,\n",
    "                         neurons=neurons,\n",
    "                         activ=activ,\n",
    "                         kernel_init=initializer)\n",
    "\n",
    "model.compile(loss=lossfunc, optimizer=optim, metrics=mymetrics)"
   ]
  },
  {
   "cell_type": "markdown",
   "id": "46f09ef5-01cc-4d70-ac2f-b540ab4f0ce5",
   "metadata": {},
   "source": [
    "### Start training"
   ]
  },
  {
   "cell_type": "code",
   "execution_count": 34,
   "id": "804f9b3a-6e4f-4c95-8c56-945048405733",
   "metadata": {
    "scrolled": true
   },
   "outputs": [
    {
     "name": "stdout",
     "output_type": "stream",
     "text": [
      "Epoch 1/200\n"
     ]
    },
    {
     "name": "stderr",
     "output_type": "stream",
     "text": [
      "2024-08-23 11:22:43.127504: I tensorflow/compiler/xla/service/service.cc:173] XLA service 0x7fbff0bd1be0 initialized for platform CUDA (this does not guarantee that XLA will be used). Devices:\n",
      "2024-08-23 11:22:43.127546: I tensorflow/compiler/xla/service/service.cc:181]   StreamExecutor device (0): Tesla V100-PCIE-32GB, Compute Capability 7.0\n",
      "2024-08-23 11:22:43.127554: I tensorflow/compiler/xla/service/service.cc:181]   StreamExecutor device (1): Tesla V100-PCIE-32GB, Compute Capability 7.0\n",
      "2024-08-23 11:22:43.127560: I tensorflow/compiler/xla/service/service.cc:181]   StreamExecutor device (2): Tesla V100-PCIE-32GB, Compute Capability 7.0\n",
      "2024-08-23 11:22:43.127566: I tensorflow/compiler/xla/service/service.cc:181]   StreamExecutor device (3): Tesla V100-PCIE-32GB, Compute Capability 7.0\n",
      "2024-08-23 11:22:43.133872: I tensorflow/compiler/mlir/tensorflow/utils/dump_mlir_util.cc:268] disabling MLIR crash reproducer, set env var `MLIR_CRASH_REPRODUCER_DIRECTORY` to enable.\n",
      "Numba: Attempted to fork from a non-main thread, the TBB library may be in an invalid state in the child process.\n",
      "Numba: Attempted to fork from a non-main thread, the TBB library may be in an invalid state in the child process.\n",
      "Numba: Attempted to fork from a non-main thread, the TBB library may be in an invalid state in the child process.\n",
      "2024-08-23 11:22:43.627422: I tensorflow/compiler/jit/xla_compilation_cache.cc:477] Compiled cluster using XLA!  This line is logged at most once for the lifetime of the process.\n",
      "Numba: Attempted to fork from a non-main thread, the TBB library may be in an invalid state in the child process.\n",
      "Numba: Attempted to fork from a non-main thread, the TBB library may be in an invalid state in the child process.\n",
      "Numba: Attempted to fork from a non-main thread, the TBB library may be in an invalid state in the child process.\n"
     ]
    },
    {
     "name": "stdout",
     "output_type": "stream",
     "text": [
      "   1/1415 [..............................] - ETA: 1:46:52 - loss: 0.5369 - mean_absolute_error: 0.5530"
     ]
    },
    {
     "name": "stderr",
     "output_type": "stream",
     "text": [
      "Numba: Attempted to fork from a non-main thread, the TBB library may be in an invalid state in the child process.\n"
     ]
    },
    {
     "name": "stdout",
     "output_type": "stream",
     "text": [
      "1415/1415 [==============================] - 8s 2ms/step - loss: 0.0414 - mean_absolute_error: 0.0885\n",
      "Epoch 2/200\n",
      "1415/1415 [==============================] - 4s 2ms/step - loss: 0.0061 - mean_absolute_error: 0.0335\n",
      "Epoch 3/200\n",
      "1415/1415 [==============================] - 4s 3ms/step - loss: 0.0036 - mean_absolute_error: 0.0242\n",
      "Epoch 4/200\n",
      "1415/1415 [==============================] - 4s 2ms/step - loss: 0.0026 - mean_absolute_error: 0.0200\n",
      "Epoch 5/200\n",
      "1415/1415 [==============================] - 3s 2ms/step - loss: 0.0020 - mean_absolute_error: 0.0173\n",
      "Epoch 6/200\n",
      "1415/1415 [==============================] - 4s 2ms/step - loss: 0.0017 - mean_absolute_error: 0.0156\n",
      "Epoch 7/200\n",
      "1415/1415 [==============================] - 3s 2ms/step - loss: 0.0014 - mean_absolute_error: 0.0145\n",
      "Epoch 8/200\n",
      "1415/1415 [==============================] - 4s 2ms/step - loss: 0.0012 - mean_absolute_error: 0.0137\n",
      "Epoch 9/200\n",
      "1415/1415 [==============================] - 3s 2ms/step - loss: 0.0011 - mean_absolute_error: 0.0129\n",
      "Epoch 10/200\n",
      "1415/1415 [==============================] - 3s 2ms/step - loss: 0.0010 - mean_absolute_error: 0.0125\n",
      "Epoch 11/200\n",
      "1415/1415 [==============================] - 4s 3ms/step - loss: 9.4721e-04 - mean_absolute_error: 0.0120\n",
      "Epoch 12/200\n",
      "1415/1415 [==============================] - 3s 2ms/step - loss: 8.8267e-04 - mean_absolute_error: 0.0116\n",
      "Epoch 13/200\n",
      "1415/1415 [==============================] - 4s 3ms/step - loss: 8.2555e-04 - mean_absolute_error: 0.0113\n",
      "Epoch 14/200\n",
      "1415/1415 [==============================] - 3s 2ms/step - loss: 7.8085e-04 - mean_absolute_error: 0.0110\n",
      "Epoch 15/200\n",
      "1415/1415 [==============================] - 4s 2ms/step - loss: 7.4033e-04 - mean_absolute_error: 0.0108\n",
      "Epoch 16/200\n",
      "1415/1415 [==============================] - 4s 2ms/step - loss: 7.0683e-04 - mean_absolute_error: 0.0106\n",
      "Epoch 17/200\n",
      "1415/1415 [==============================] - 4s 3ms/step - loss: 6.7912e-04 - mean_absolute_error: 0.0104\n",
      "Epoch 18/200\n",
      "1415/1415 [==============================] - 3s 2ms/step - loss: 6.5362e-04 - mean_absolute_error: 0.0103\n",
      "Epoch 19/200\n",
      "1415/1415 [==============================] - 3s 2ms/step - loss: 6.3005e-04 - mean_absolute_error: 0.0101\n",
      "Epoch 20/200\n",
      "1415/1415 [==============================] - 3s 2ms/step - loss: 6.0986e-04 - mean_absolute_error: 0.0100\n",
      "Epoch 21/200\n",
      "1415/1415 [==============================] - 3s 2ms/step - loss: 5.8939e-04 - mean_absolute_error: 0.0099\n",
      "Epoch 22/200\n",
      "1415/1415 [==============================] - 4s 2ms/step - loss: 5.7358e-04 - mean_absolute_error: 0.0098\n",
      "Epoch 23/200\n",
      "1415/1415 [==============================] - 4s 2ms/step - loss: 5.5975e-04 - mean_absolute_error: 0.0097\n",
      "Epoch 24/200\n",
      "1415/1415 [==============================] - 4s 3ms/step - loss: 5.4352e-04 - mean_absolute_error: 0.0096\n",
      "Epoch 25/200\n",
      "1415/1415 [==============================] - 4s 3ms/step - loss: 5.2798e-04 - mean_absolute_error: 0.0095\n",
      "Epoch 26/200\n",
      "1415/1415 [==============================] - 4s 2ms/step - loss: 5.1825e-04 - mean_absolute_error: 0.0095\n",
      "Epoch 27/200\n",
      "1415/1415 [==============================] - 4s 3ms/step - loss: 5.0298e-04 - mean_absolute_error: 0.0093\n",
      "Epoch 28/200\n",
      "1415/1415 [==============================] - 4s 3ms/step - loss: 4.9454e-04 - mean_absolute_error: 0.0093\n",
      "Epoch 29/200\n",
      "1415/1415 [==============================] - 4s 3ms/step - loss: 4.8237e-04 - mean_absolute_error: 0.0092\n",
      "Epoch 30/200\n",
      "1415/1415 [==============================] - 4s 3ms/step - loss: 4.7233e-04 - mean_absolute_error: 0.0091\n",
      "Epoch 31/200\n",
      "1415/1415 [==============================] - 4s 3ms/step - loss: 4.6496e-04 - mean_absolute_error: 0.0091\n",
      "Epoch 32/200\n",
      "1415/1415 [==============================] - 4s 2ms/step - loss: 4.5255e-04 - mean_absolute_error: 0.0090\n",
      "Epoch 33/200\n",
      "1415/1415 [==============================] - 4s 3ms/step - loss: 4.4663e-04 - mean_absolute_error: 0.0090\n",
      "Epoch 34/200\n",
      "1415/1415 [==============================] - 4s 2ms/step - loss: 4.3539e-04 - mean_absolute_error: 0.0089\n",
      "Epoch 35/200\n",
      "1415/1415 [==============================] - 3s 2ms/step - loss: 4.3047e-04 - mean_absolute_error: 0.0089\n",
      "Epoch 36/200\n",
      "1415/1415 [==============================] - 4s 2ms/step - loss: 4.2221e-04 - mean_absolute_error: 0.0088\n",
      "Epoch 37/200\n",
      "1415/1415 [==============================] - 4s 3ms/step - loss: 4.1554e-04 - mean_absolute_error: 0.0087\n",
      "Epoch 38/200\n",
      "1415/1415 [==============================] - 3s 2ms/step - loss: 4.0990e-04 - mean_absolute_error: 0.0087\n",
      "Epoch 39/200\n",
      "1415/1415 [==============================] - 4s 3ms/step - loss: 4.0224e-04 - mean_absolute_error: 0.0086\n",
      "Epoch 40/200\n",
      "1415/1415 [==============================] - 4s 3ms/step - loss: 3.9871e-04 - mean_absolute_error: 0.0086\n",
      "Epoch 41/200\n",
      "1415/1415 [==============================] - 4s 3ms/step - loss: 3.9100e-04 - mean_absolute_error: 0.0085\n",
      "Epoch 42/200\n",
      "1415/1415 [==============================] - 4s 3ms/step - loss: 3.8554e-04 - mean_absolute_error: 0.0085\n",
      "Epoch 43/200\n",
      "1415/1415 [==============================] - 3s 2ms/step - loss: 3.8088e-04 - mean_absolute_error: 0.0085\n",
      "Epoch 44/200\n",
      "1415/1415 [==============================] - 4s 3ms/step - loss: 3.7545e-04 - mean_absolute_error: 0.0084\n",
      "Epoch 45/200\n",
      "1415/1415 [==============================] - 4s 2ms/step - loss: 3.6943e-04 - mean_absolute_error: 0.0084\n",
      "Epoch 46/200\n",
      "1415/1415 [==============================] - 4s 3ms/step - loss: 3.6737e-04 - mean_absolute_error: 0.0084\n",
      "Epoch 47/200\n",
      "1415/1415 [==============================] - 3s 2ms/step - loss: 3.6203e-04 - mean_absolute_error: 0.0083\n",
      "Epoch 48/200\n",
      "1415/1415 [==============================] - 4s 2ms/step - loss: 3.5785e-04 - mean_absolute_error: 0.0083\n",
      "Epoch 49/200\n",
      "1415/1415 [==============================] - 4s 3ms/step - loss: 3.5281e-04 - mean_absolute_error: 0.0082\n",
      "Epoch 50/200\n",
      "1415/1415 [==============================] - 3s 2ms/step - loss: 3.4930e-04 - mean_absolute_error: 0.0082\n",
      "Epoch 51/200\n",
      "1415/1415 [==============================] - 3s 2ms/step - loss: 3.4427e-04 - mean_absolute_error: 0.0081\n",
      "Epoch 52/200\n",
      "1415/1415 [==============================] - 4s 3ms/step - loss: 3.4258e-04 - mean_absolute_error: 0.0081\n",
      "Epoch 53/200\n",
      "1415/1415 [==============================] - 3s 2ms/step - loss: 3.3761e-04 - mean_absolute_error: 0.0081\n",
      "Epoch 54/200\n",
      "1415/1415 [==============================] - 4s 3ms/step - loss: 3.3421e-04 - mean_absolute_error: 0.0081\n",
      "Epoch 55/200\n",
      "1415/1415 [==============================] - 3s 2ms/step - loss: 3.3228e-04 - mean_absolute_error: 0.0081\n",
      "Epoch 56/200\n",
      "1415/1415 [==============================] - 4s 3ms/step - loss: 3.2844e-04 - mean_absolute_error: 0.0080\n",
      "Epoch 57/200\n",
      "1415/1415 [==============================] - 3s 2ms/step - loss: 3.2380e-04 - mean_absolute_error: 0.0079\n",
      "Epoch 58/200\n",
      "1415/1415 [==============================] - 4s 2ms/step - loss: 3.2276e-04 - mean_absolute_error: 0.0080\n",
      "Epoch 59/200\n",
      "1415/1415 [==============================] - 4s 3ms/step - loss: 3.1956e-04 - mean_absolute_error: 0.0079\n",
      "Epoch 60/200\n",
      "1415/1415 [==============================] - 3s 2ms/step - loss: 3.1579e-04 - mean_absolute_error: 0.0079\n",
      "Epoch 61/200\n",
      "1415/1415 [==============================] - 4s 3ms/step - loss: 3.1251e-04 - mean_absolute_error: 0.0078\n",
      "Epoch 62/200\n",
      "1415/1415 [==============================] - 4s 2ms/step - loss: 3.1071e-04 - mean_absolute_error: 0.0078\n",
      "Epoch 63/200\n",
      "1415/1415 [==============================] - 3s 2ms/step - loss: 3.0819e-04 - mean_absolute_error: 0.0078\n",
      "Epoch 64/200\n",
      "1415/1415 [==============================] - 4s 3ms/step - loss: 3.0540e-04 - mean_absolute_error: 0.0078\n",
      "Epoch 65/200\n",
      "1415/1415 [==============================] - 4s 3ms/step - loss: 3.0406e-04 - mean_absolute_error: 0.0078\n",
      "Epoch 66/200\n",
      "1415/1415 [==============================] - 4s 3ms/step - loss: 3.0046e-04 - mean_absolute_error: 0.0077\n",
      "Epoch 67/200\n",
      "1415/1415 [==============================] - 4s 2ms/step - loss: 2.9752e-04 - mean_absolute_error: 0.0077\n",
      "Epoch 68/200\n",
      "1415/1415 [==============================] - 4s 3ms/step - loss: 2.9613e-04 - mean_absolute_error: 0.0077\n",
      "Epoch 69/200\n",
      "1415/1415 [==============================] - 4s 3ms/step - loss: 2.9371e-04 - mean_absolute_error: 0.0077\n",
      "Epoch 70/200\n",
      "1415/1415 [==============================] - 4s 3ms/step - loss: 2.9232e-04 - mean_absolute_error: 0.0076\n",
      "Epoch 71/200\n",
      "1415/1415 [==============================] - 4s 3ms/step - loss: 2.8848e-04 - mean_absolute_error: 0.0076\n",
      "Epoch 72/200\n",
      "1415/1415 [==============================] - 3s 2ms/step - loss: 2.8778e-04 - mean_absolute_error: 0.0076\n",
      "Epoch 73/200\n",
      "1415/1415 [==============================] - 3s 2ms/step - loss: 2.8551e-04 - mean_absolute_error: 0.0076\n",
      "Epoch 74/200\n",
      "1415/1415 [==============================] - 3s 2ms/step - loss: 2.8364e-04 - mean_absolute_error: 0.0075\n",
      "Epoch 75/200\n",
      "1415/1415 [==============================] - 3s 2ms/step - loss: 2.8244e-04 - mean_absolute_error: 0.0075\n",
      "Epoch 76/200\n",
      "1415/1415 [==============================] - 3s 2ms/step - loss: 2.7861e-04 - mean_absolute_error: 0.0075\n",
      "Epoch 77/200\n",
      "1415/1415 [==============================] - 4s 3ms/step - loss: 2.7766e-04 - mean_absolute_error: 0.0075\n",
      "Epoch 78/200\n",
      "1415/1415 [==============================] - 4s 3ms/step - loss: 2.7688e-04 - mean_absolute_error: 0.0075\n",
      "Epoch 79/200\n",
      "1415/1415 [==============================] - 3s 2ms/step - loss: 2.7518e-04 - mean_absolute_error: 0.0075\n",
      "Epoch 80/200\n",
      "1415/1415 [==============================] - 4s 3ms/step - loss: 2.7379e-04 - mean_absolute_error: 0.0074\n",
      "Epoch 81/200\n",
      "1415/1415 [==============================] - 3s 2ms/step - loss: 2.7294e-04 - mean_absolute_error: 0.0074\n",
      "Epoch 82/200\n",
      "1415/1415 [==============================] - 4s 2ms/step - loss: 2.7102e-04 - mean_absolute_error: 0.0074\n",
      "Epoch 83/200\n",
      "1415/1415 [==============================] - 4s 3ms/step - loss: 2.6895e-04 - mean_absolute_error: 0.0074\n",
      "Epoch 84/200\n",
      "1415/1415 [==============================] - 3s 2ms/step - loss: 2.6650e-04 - mean_absolute_error: 0.0073\n",
      "Epoch 85/200\n",
      "1415/1415 [==============================] - 4s 2ms/step - loss: 2.6720e-04 - mean_absolute_error: 0.0074\n",
      "Epoch 86/200\n",
      "1415/1415 [==============================] - 4s 3ms/step - loss: 2.6425e-04 - mean_absolute_error: 0.0073\n",
      "Epoch 87/200\n",
      "1415/1415 [==============================] - 3s 2ms/step - loss: 2.6298e-04 - mean_absolute_error: 0.0073\n",
      "Epoch 88/200\n",
      "1415/1415 [==============================] - 4s 3ms/step - loss: 2.6358e-04 - mean_absolute_error: 0.0073\n",
      "Epoch 89/200\n",
      "1415/1415 [==============================] - 3s 2ms/step - loss: 2.6089e-04 - mean_absolute_error: 0.0073\n",
      "Epoch 90/200\n",
      "1415/1415 [==============================] - 3s 2ms/step - loss: 2.5849e-04 - mean_absolute_error: 0.0073\n",
      "Epoch 91/200\n",
      "1415/1415 [==============================] - 3s 2ms/step - loss: 2.5920e-04 - mean_absolute_error: 0.0073\n",
      "Epoch 92/200\n",
      "1415/1415 [==============================] - 4s 3ms/step - loss: 2.5658e-04 - mean_absolute_error: 0.0072\n",
      "Epoch 93/200\n",
      "1415/1415 [==============================] - 3s 2ms/step - loss: 2.5624e-04 - mean_absolute_error: 0.0072\n",
      "Epoch 94/200\n",
      "1415/1415 [==============================] - 3s 2ms/step - loss: 2.5629e-04 - mean_absolute_error: 0.0073\n",
      "Epoch 95/200\n",
      "1415/1415 [==============================] - 4s 2ms/step - loss: 2.5413e-04 - mean_absolute_error: 0.0072\n",
      "Epoch 96/200\n",
      "1415/1415 [==============================] - 3s 2ms/step - loss: 2.5368e-04 - mean_absolute_error: 0.0072\n",
      "Epoch 97/200\n",
      "1415/1415 [==============================] - 3s 2ms/step - loss: 2.5177e-04 - mean_absolute_error: 0.0072\n",
      "Epoch 98/200\n",
      "1415/1415 [==============================] - 4s 3ms/step - loss: 2.5249e-04 - mean_absolute_error: 0.0072\n",
      "Epoch 99/200\n",
      "1415/1415 [==============================] - 3s 2ms/step - loss: 2.4983e-04 - mean_absolute_error: 0.0072\n",
      "Epoch 100/200\n",
      "1415/1415 [==============================] - 3s 2ms/step - loss: 2.5017e-04 - mean_absolute_error: 0.0072\n",
      "Epoch 101/200\n",
      "1415/1415 [==============================] - 3s 2ms/step - loss: 2.4617e-04 - mean_absolute_error: 0.0071\n",
      "Epoch 102/200\n",
      "1415/1415 [==============================] - 3s 2ms/step - loss: 2.4763e-04 - mean_absolute_error: 0.0071\n",
      "Epoch 103/200\n",
      "1415/1415 [==============================] - 3s 2ms/step - loss: 2.4611e-04 - mean_absolute_error: 0.0071\n",
      "Epoch 104/200\n",
      "1415/1415 [==============================] - 3s 2ms/step - loss: 2.4511e-04 - mean_absolute_error: 0.0071\n",
      "Epoch 105/200\n",
      "1415/1415 [==============================] - 4s 2ms/step - loss: 2.4515e-04 - mean_absolute_error: 0.0071\n",
      "Epoch 106/200\n",
      "1415/1415 [==============================] - 3s 2ms/step - loss: 2.4178e-04 - mean_absolute_error: 0.0071\n",
      "Epoch 107/200\n",
      "1415/1415 [==============================] - 3s 2ms/step - loss: 2.4145e-04 - mean_absolute_error: 0.0071\n",
      "Epoch 108/200\n",
      "1415/1415 [==============================] - 3s 2ms/step - loss: 2.4204e-04 - mean_absolute_error: 0.0071\n",
      "Epoch 109/200\n",
      "1415/1415 [==============================] - 4s 3ms/step - loss: 2.4101e-04 - mean_absolute_error: 0.0071\n",
      "Epoch 110/200\n",
      "1415/1415 [==============================] - 3s 2ms/step - loss: 2.4012e-04 - mean_absolute_error: 0.0071\n",
      "Epoch 111/200\n",
      "1415/1415 [==============================] - 3s 2ms/step - loss: 2.4765e-04 - mean_absolute_error: 0.0071\n",
      "Epoch 112/200\n",
      "1415/1415 [==============================] - 4s 3ms/step - loss: 2.3460e-04 - mean_absolute_error: 0.0069\n",
      "Epoch 113/200\n",
      "1415/1415 [==============================] - 3s 2ms/step - loss: 2.3671e-04 - mean_absolute_error: 0.0070\n",
      "Epoch 114/200\n",
      "1415/1415 [==============================] - 4s 3ms/step - loss: 2.3723e-04 - mean_absolute_error: 0.0070\n",
      "Epoch 115/200\n",
      "1415/1415 [==============================] - 3s 2ms/step - loss: 2.3524e-04 - mean_absolute_error: 0.0070\n",
      "Epoch 116/200\n",
      "1415/1415 [==============================] - 3s 2ms/step - loss: 2.3443e-04 - mean_absolute_error: 0.0070\n",
      "Epoch 117/200\n",
      "1415/1415 [==============================] - 4s 2ms/step - loss: 2.3360e-04 - mean_absolute_error: 0.0070\n",
      "Epoch 118/200\n",
      "1415/1415 [==============================] - 3s 2ms/step - loss: 2.3451e-04 - mean_absolute_error: 0.0070\n",
      "Epoch 119/200\n",
      "1415/1415 [==============================] - 3s 2ms/step - loss: 2.3113e-04 - mean_absolute_error: 0.0069\n",
      "Epoch 120/200\n",
      "1415/1415 [==============================] - 4s 3ms/step - loss: 2.3049e-04 - mean_absolute_error: 0.0069\n",
      "Epoch 121/200\n",
      "1415/1415 [==============================] - 3s 2ms/step - loss: 2.3145e-04 - mean_absolute_error: 0.0069\n",
      "Epoch 122/200\n",
      "1415/1415 [==============================] - 4s 3ms/step - loss: 2.2940e-04 - mean_absolute_error: 0.0069\n",
      "Epoch 123/200\n",
      "1415/1415 [==============================] - 4s 3ms/step - loss: 2.2982e-04 - mean_absolute_error: 0.0069\n",
      "Epoch 124/200\n",
      "1415/1415 [==============================] - 4s 2ms/step - loss: 2.3094e-04 - mean_absolute_error: 0.0069\n",
      "Epoch 125/200\n",
      "1415/1415 [==============================] - 3s 2ms/step - loss: 2.2832e-04 - mean_absolute_error: 0.0069\n",
      "Epoch 126/200\n",
      "1415/1415 [==============================] - 4s 3ms/step - loss: 2.2700e-04 - mean_absolute_error: 0.0069\n",
      "Epoch 127/200\n",
      "1415/1415 [==============================] - 3s 2ms/step - loss: 2.2682e-04 - mean_absolute_error: 0.0069\n",
      "Epoch 128/200\n",
      "1415/1415 [==============================] - 3s 2ms/step - loss: 2.2641e-04 - mean_absolute_error: 0.0069\n",
      "Epoch 129/200\n",
      "1415/1415 [==============================] - 3s 2ms/step - loss: 2.2518e-04 - mean_absolute_error: 0.0069\n",
      "Epoch 130/200\n",
      "1415/1415 [==============================] - 4s 3ms/step - loss: 2.2774e-04 - mean_absolute_error: 0.0069\n",
      "Epoch 131/200\n",
      "1415/1415 [==============================] - 3s 2ms/step - loss: 2.2178e-04 - mean_absolute_error: 0.0068\n",
      "Epoch 132/200\n",
      "1415/1415 [==============================] - 3s 2ms/step - loss: 2.2193e-04 - mean_absolute_error: 0.0068\n",
      "Epoch 133/200\n",
      "1415/1415 [==============================] - 4s 3ms/step - loss: 2.2310e-04 - mean_absolute_error: 0.0068\n",
      "Epoch 134/200\n",
      "1415/1415 [==============================] - 4s 3ms/step - loss: 2.2110e-04 - mean_absolute_error: 0.0068\n",
      "Epoch 135/200\n",
      "1415/1415 [==============================] - 4s 2ms/step - loss: 2.2066e-04 - mean_absolute_error: 0.0068\n",
      "Epoch 136/200\n",
      "1415/1415 [==============================] - 4s 3ms/step - loss: 2.2114e-04 - mean_absolute_error: 0.0068\n",
      "Epoch 137/200\n",
      "1415/1415 [==============================] - 4s 3ms/step - loss: 2.2062e-04 - mean_absolute_error: 0.0068\n",
      "Epoch 138/200\n",
      "1415/1415 [==============================] - 3s 2ms/step - loss: 2.1881e-04 - mean_absolute_error: 0.0068\n",
      "Epoch 139/200\n",
      "1415/1415 [==============================] - 3s 2ms/step - loss: 2.1755e-04 - mean_absolute_error: 0.0068\n",
      "Epoch 140/200\n",
      "1415/1415 [==============================] - 4s 3ms/step - loss: 2.1822e-04 - mean_absolute_error: 0.0068\n",
      "Epoch 141/200\n",
      "1415/1415 [==============================] - 3s 2ms/step - loss: 2.1821e-04 - mean_absolute_error: 0.0068\n",
      "Epoch 142/200\n",
      "1415/1415 [==============================] - 4s 2ms/step - loss: 2.1615e-04 - mean_absolute_error: 0.0067\n",
      "Epoch 143/200\n",
      "1415/1415 [==============================] - 4s 3ms/step - loss: 2.1637e-04 - mean_absolute_error: 0.0068\n",
      "Epoch 144/200\n",
      "1415/1415 [==============================] - 4s 2ms/step - loss: 2.1527e-04 - mean_absolute_error: 0.0067\n",
      "Epoch 145/200\n",
      "1415/1415 [==============================] - 3s 2ms/step - loss: 2.1414e-04 - mean_absolute_error: 0.0067\n",
      "Epoch 146/200\n",
      "1415/1415 [==============================] - 4s 3ms/step - loss: 2.1475e-04 - mean_absolute_error: 0.0067\n",
      "Epoch 147/200\n",
      "1415/1415 [==============================] - 3s 2ms/step - loss: 2.1458e-04 - mean_absolute_error: 0.0067\n",
      "Epoch 148/200\n",
      "1415/1415 [==============================] - 4s 3ms/step - loss: 2.1273e-04 - mean_absolute_error: 0.0067\n",
      "Epoch 149/200\n",
      "1415/1415 [==============================] - 4s 3ms/step - loss: 2.1363e-04 - mean_absolute_error: 0.0067\n",
      "Epoch 150/200\n",
      "1415/1415 [==============================] - 3s 2ms/step - loss: 2.1221e-04 - mean_absolute_error: 0.0067\n",
      "Epoch 151/200\n",
      "1415/1415 [==============================] - 3s 2ms/step - loss: 2.1260e-04 - mean_absolute_error: 0.0067\n",
      "Epoch 152/200\n",
      "1415/1415 [==============================] - 4s 3ms/step - loss: 2.1088e-04 - mean_absolute_error: 0.0067\n",
      "Epoch 153/200\n",
      "1415/1415 [==============================] - 3s 2ms/step - loss: 2.1036e-04 - mean_absolute_error: 0.0067\n",
      "Epoch 154/200\n",
      "1415/1415 [==============================] - 4s 2ms/step - loss: 2.1065e-04 - mean_absolute_error: 0.0067\n",
      "Epoch 155/200\n",
      "1415/1415 [==============================] - 3s 2ms/step - loss: 2.0855e-04 - mean_absolute_error: 0.0066\n",
      "Epoch 156/200\n",
      "1415/1415 [==============================] - 3s 2ms/step - loss: 2.1039e-04 - mean_absolute_error: 0.0067\n",
      "Epoch 157/200\n",
      "1415/1415 [==============================] - 4s 3ms/step - loss: 2.0921e-04 - mean_absolute_error: 0.0066\n",
      "Epoch 158/200\n",
      "1415/1415 [==============================] - 3s 2ms/step - loss: 2.0945e-04 - mean_absolute_error: 0.0067\n",
      "Epoch 159/200\n",
      "1415/1415 [==============================] - 4s 2ms/step - loss: 2.0660e-04 - mean_absolute_error: 0.0066\n",
      "Epoch 160/200\n",
      "1415/1415 [==============================] - 4s 3ms/step - loss: 2.0679e-04 - mean_absolute_error: 0.0066\n",
      "Epoch 161/200\n",
      "1415/1415 [==============================] - 3s 2ms/step - loss: 2.0742e-04 - mean_absolute_error: 0.0066\n",
      "Epoch 162/200\n",
      "1415/1415 [==============================] - 3s 2ms/step - loss: 2.0775e-04 - mean_absolute_error: 0.0066\n",
      "Epoch 163/200\n",
      "1415/1415 [==============================] - 4s 2ms/step - loss: 2.0562e-04 - mean_absolute_error: 0.0066\n",
      "Epoch 164/200\n",
      "1415/1415 [==============================] - 4s 2ms/step - loss: 2.0428e-04 - mean_absolute_error: 0.0066\n",
      "Epoch 165/200\n",
      "1415/1415 [==============================] - 4s 2ms/step - loss: 2.0908e-04 - mean_absolute_error: 0.0067\n",
      "Epoch 166/200\n",
      "1415/1415 [==============================] - 3s 2ms/step - loss: 2.0402e-04 - mean_absolute_error: 0.0066\n",
      "Epoch 167/200\n",
      "1415/1415 [==============================] - 3s 2ms/step - loss: 2.0223e-04 - mean_absolute_error: 0.0065\n",
      "Epoch 168/200\n",
      "1415/1415 [==============================] - 4s 3ms/step - loss: 2.0345e-04 - mean_absolute_error: 0.0066\n",
      "Epoch 169/200\n",
      "1415/1415 [==============================] - 3s 2ms/step - loss: 2.0319e-04 - mean_absolute_error: 0.0066\n",
      "Epoch 170/200\n",
      "1415/1415 [==============================] - 4s 3ms/step - loss: 2.0291e-04 - mean_absolute_error: 0.0066\n",
      "Epoch 171/200\n",
      "1415/1415 [==============================] - 4s 3ms/step - loss: 2.0269e-04 - mean_absolute_error: 0.0066\n",
      "Epoch 172/200\n",
      "1415/1415 [==============================] - 3s 2ms/step - loss: 2.0256e-04 - mean_absolute_error: 0.0066\n",
      "Epoch 173/200\n",
      "1415/1415 [==============================] - 4s 2ms/step - loss: 2.0082e-04 - mean_absolute_error: 0.0065\n",
      "Epoch 174/200\n",
      "1415/1415 [==============================] - 4s 3ms/step - loss: 2.0103e-04 - mean_absolute_error: 0.0065\n",
      "Epoch 175/200\n",
      "1415/1415 [==============================] - 3s 2ms/step - loss: 2.0032e-04 - mean_absolute_error: 0.0065\n",
      "Epoch 176/200\n",
      "1415/1415 [==============================] - 4s 3ms/step - loss: 1.9940e-04 - mean_absolute_error: 0.0065\n",
      "Epoch 177/200\n",
      "1415/1415 [==============================] - 3s 2ms/step - loss: 2.0059e-04 - mean_absolute_error: 0.0065\n",
      "Epoch 178/200\n",
      "1415/1415 [==============================] - 3s 2ms/step - loss: 1.9911e-04 - mean_absolute_error: 0.0065\n",
      "Epoch 179/200\n",
      "1415/1415 [==============================] - 4s 3ms/step - loss: 1.9924e-04 - mean_absolute_error: 0.0065\n",
      "Epoch 180/200\n",
      "1415/1415 [==============================] - 3s 2ms/step - loss: 1.9795e-04 - mean_absolute_error: 0.0065\n",
      "Epoch 181/200\n",
      "1415/1415 [==============================] - 3s 2ms/step - loss: 1.9944e-04 - mean_absolute_error: 0.0065\n",
      "Epoch 182/200\n",
      "1415/1415 [==============================] - 4s 3ms/step - loss: 1.9651e-04 - mean_absolute_error: 0.0065\n",
      "Epoch 183/200\n",
      "1415/1415 [==============================] - 3s 2ms/step - loss: 2.0046e-04 - mean_absolute_error: 0.0065\n",
      "Epoch 184/200\n",
      "1415/1415 [==============================] - 3s 2ms/step - loss: 1.9685e-04 - mean_absolute_error: 0.0065\n",
      "Epoch 185/200\n",
      "1415/1415 [==============================] - 4s 3ms/step - loss: 1.9617e-04 - mean_absolute_error: 0.0065\n",
      "Epoch 186/200\n",
      "1415/1415 [==============================] - 3s 2ms/step - loss: 1.9688e-04 - mean_absolute_error: 0.0065\n",
      "Epoch 187/200\n",
      "1415/1415 [==============================] - 3s 2ms/step - loss: 1.9544e-04 - mean_absolute_error: 0.0064\n",
      "Epoch 188/200\n",
      "1415/1415 [==============================] - 4s 2ms/step - loss: 1.9541e-04 - mean_absolute_error: 0.0064\n",
      "Epoch 189/200\n",
      "1415/1415 [==============================] - 4s 3ms/step - loss: 1.9539e-04 - mean_absolute_error: 0.0065\n",
      "Epoch 190/200\n",
      "1415/1415 [==============================] - 4s 2ms/step - loss: 1.9484e-04 - mean_absolute_error: 0.0064\n",
      "Epoch 191/200\n",
      "1415/1415 [==============================] - 4s 3ms/step - loss: 1.9584e-04 - mean_absolute_error: 0.0064\n",
      "Epoch 192/200\n",
      "1415/1415 [==============================] - 3s 2ms/step - loss: 1.9398e-04 - mean_absolute_error: 0.0064\n",
      "Epoch 193/200\n",
      "1415/1415 [==============================] - 4s 2ms/step - loss: 1.9329e-04 - mean_absolute_error: 0.0064\n",
      "Epoch 194/200\n",
      "1415/1415 [==============================] - 4s 2ms/step - loss: 1.9342e-04 - mean_absolute_error: 0.0064\n",
      "Epoch 195/200\n",
      "1415/1415 [==============================] - 3s 2ms/step - loss: 1.9303e-04 - mean_absolute_error: 0.0064\n",
      "Epoch 196/200\n",
      "1415/1415 [==============================] - 3s 2ms/step - loss: 1.9332e-04 - mean_absolute_error: 0.0064\n",
      "Epoch 197/200\n",
      "1415/1415 [==============================] - 4s 3ms/step - loss: 1.9124e-04 - mean_absolute_error: 0.0064\n",
      "Epoch 198/200\n",
      "1415/1415 [==============================] - 3s 2ms/step - loss: 1.9200e-04 - mean_absolute_error: 0.0064\n",
      "Epoch 199/200\n",
      "1415/1415 [==============================] - 3s 2ms/step - loss: 1.9188e-04 - mean_absolute_error: 0.0064\n",
      "Epoch 200/200\n",
      "1415/1415 [==============================] - 3s 2ms/step - loss: 1.9094e-04 - mean_absolute_error: 0.0064\n",
      "CPU times: user 19min 38s, sys: 2min 24s, total: 22min 2s\n",
      "Wall time: 11min 51s\n"
     ]
    }
   ],
   "source": [
    "%%time\n",
    "with tf.device(devstr):\n",
    "    history = model.fit(\n",
    "        x_tr,\n",
    "        y_tr,\n",
    "        epochs=epochs,\n",
    "        batch_size=batch_size,\n",
    "        shuffle=shuffle,\n",
    "        verbose=1,\n",
    "        callbacks=[],\n",
    "    )\n",
    "    history = history.history"
   ]
  },
  {
   "cell_type": "markdown",
   "id": "76396e42-842d-422b-823f-3b33af362a9b",
   "metadata": {},
   "source": [
    "## Total parameters:"
   ]
  },
  {
   "cell_type": "code",
   "execution_count": 35,
   "id": "fcf378e7-9eca-4c11-811d-e143923eafcd",
   "metadata": {
    "scrolled": true
   },
   "outputs": [
    {
     "name": "stdout",
     "output_type": "stream",
     "text": [
      "Model: \"sequential\"\n",
      "_________________________________________________________________\n",
      " Layer (type)                Output Shape              Param #   \n",
      "=================================================================\n",
      " dense (Dense)               (None, 72)                1368      \n",
      "                                                                 \n",
      " dense_1 (Dense)             (None, 72)                5256      \n",
      "                                                                 \n",
      " dense_2 (Dense)             (None, 256)               18688     \n",
      "                                                                 \n",
      "=================================================================\n",
      "Total params: 25,312\n",
      "Trainable params: 25,312\n",
      "Non-trainable params: 0\n",
      "_________________________________________________________________\n"
     ]
    }
   ],
   "source": [
    "model.summary()"
   ]
  },
  {
   "cell_type": "markdown",
   "id": "c0f108f4-f7d8-4953-94b1-3738c8450cd5",
   "metadata": {},
   "source": [
    "## Save model\n",
    "\n",
    "- Save model to NN model directory `../../neural/data` after training.\n",
    "- File name includes loss values, so shouldn't override anything."
   ]
  },
  {
   "cell_type": "markdown",
   "id": "1d88efcd-4876-44f9-bb94-3cbb657eb187",
   "metadata": {},
   "source": [
    "### Get a descriptive filename for the model"
   ]
  },
  {
   "cell_type": "code",
   "execution_count": 38,
   "id": "32b3f5ba-6475-4ea3-bc93-86a084a95a33",
   "metadata": {},
   "outputs": [],
   "source": [
    "comm = \"test01\""
   ]
  },
  {
   "cell_type": "code",
   "execution_count": 35,
   "id": "0f8fe18b-008c-4922-b68a-9efe18536678",
   "metadata": {},
   "outputs": [
    {
     "data": {
      "text/plain": [
       "'72_72'"
      ]
     },
     "execution_count": 35,
     "metadata": {},
     "output_type": "execute_result"
    }
   ],
   "source": [
    "neurons_str = (np.array2string(np.array(neurons)).strip(\"[]\").replace(\" \", \"_\"))\n",
    "neurons_str"
   ]
  },
  {
   "cell_type": "code",
   "execution_count": 37,
   "id": "a4c1a97c-b3d1-4121-b904-b26dad855d5d",
   "metadata": {},
   "outputs": [
    {
     "data": {
      "text/plain": [
       "'rrtmgp-data-lw-g128-210809.nc'"
      ]
     },
     "execution_count": 37,
     "metadata": {},
     "output_type": "execute_result"
    }
   ],
   "source": [
    "kdist"
   ]
  },
  {
   "cell_type": "code",
   "execution_count": 36,
   "id": "ed13df0d-6641-487a-baab-faaa27c8b35a",
   "metadata": {},
   "outputs": [
    {
     "data": {
      "text/plain": [
       "'lw-g128-210809'"
      ]
     },
     "execution_count": 36,
     "metadata": {},
     "output_type": "execute_result"
    }
   ],
   "source": [
    "source = kdist[12:].strip(\".nc\")\n",
    "source"
   ]
  },
  {
   "cell_type": "code",
   "execution_count": 39,
   "id": "a10b0047-4d8a-406e-91e0-c424699bf563",
   "metadata": {},
   "outputs": [
    {
     "data": {
      "text/plain": [
       "'../../neural/data/lw-g128-210809_both_72_72_test01.h5'"
      ]
     },
     "execution_count": 39,
     "metadata": {},
     "output_type": "execute_result"
    }
   ],
   "source": [
    "fpath_keras = (\"../../neural/data/\" + source + \"_\" + predictand[3:] + \"_\" +\n",
    "               neurons_str + \"_\" + comm + \".h5\")\n",
    "fpath_keras"
   ]
  },
  {
   "cell_type": "code",
   "execution_count": 41,
   "id": "b049020e-854f-4eab-bea5-1dfc6b95fdce",
   "metadata": {},
   "outputs": [
    {
     "data": {
      "text/plain": [
       "'../../neural/data/lw-g128-210809_both_72_72_test01.nc'"
      ]
     },
     "execution_count": 41,
     "metadata": {},
     "output_type": "execute_result"
    }
   ],
   "source": [
    "fpath_netcdf = fpath_keras[:-3] + \".nc\"\n",
    "fpath_netcdf"
   ]
  },
  {
   "cell_type": "markdown",
   "id": "3dc28cf4-f390-45ab-9359-c9e68f978690",
   "metadata": {},
   "source": [
    "### Saving model in both netCDF and HDF5 format"
   ]
  },
  {
   "cell_type": "code",
   "execution_count": null,
   "id": "48592f67-6c37-4dea-a8ea-fceff19a322e",
   "metadata": {},
   "outputs": [],
   "source": [
    "# model.save(fpath_keras, save_format=\"h5\")"
   ]
  },
  {
   "cell_type": "code",
   "execution_count": 42,
   "id": "4ec39ff6-9491-45e3-b892-f17c45131801",
   "metadata": {},
   "outputs": [],
   "source": [
    "save_model_netcdf(\n",
    "    fpath_netcdf,\n",
    "    model,\n",
    "    activ,\n",
    "    input_names,\n",
    "    kdist,\n",
    "    xmin,\n",
    "    xmax,\n",
    "    ymean,\n",
    "    ystd,\n",
    "    y_scaling_comment=y_scaling_str,\n",
    "    x_scaling_comment=x_scaling_str,\n",
    "    data_comment=data_str,\n",
    "    model_comment=model_str,\n",
    ")"
   ]
  },
  {
   "cell_type": "markdown",
   "id": "c49e90b4-7580-4d8a-a35e-bcbdbb59f602",
   "metadata": {},
   "source": [
    "## References"
   ]
  },
  {
   "cell_type": "markdown",
   "id": "d73c9652-39f2-40e9-becf-249d55e8f188",
   "metadata": {},
   "source": [
    "Ukkonen, P., & Hogan, R. J. (2023). Implementation of a machine-learned gas optics parameterization in the ECMWF Integrated Forecasting System: RRTMGP-NN 2.0. Geoscientific Model Development, 16(11), 3241–3261. https://doi.org/10.5194/gmd-16-3241-2023\n",
    "\n",
    "Ukkonen, P., & Hogan, R. J. (2024). Twelve Times Faster yet Accurate: A New State-Of-The-Art in Radiation Schemes via Performance and Spectral Optimization. Journal of Advances in Modeling Earth Systems, 16(1), e2023MS003932. https://doi.org/10.1029/2023MS003932\n",
    "\n",
    "Ukkonen, P., & Hogan, R. J. (2023). Fast computation of cloud 3D radiative effects in dynamical models by optimizing the ecRad scheme [Preprint]. Preprints. https://doi.org/10.22541/essoar.168298700.07329865/v1\n",
    "\n",
    "Ukkonen, P. (2022). Improving the trade-off between accuracy and efficiency of atmospheric radiative transfer computations by using machine learning and code optimization. http://dx.doi.org/10.13140/RG.2.2.27880.03846\n",
    "\n",
    "Ukkonen, P. (2022). Exploring Pathways to More Accurate Machine Learning Emulation of Atmospheric Radiative Transfer. Journal of Advances in Modeling Earth Systems, 14(4), e2021MS002875. https://doi.org/10.1029/2021MS002875\n",
    "\n",
    "Yao, Y., Zhong, X., Zheng, Y., & Wang, Z. (2023). A Physics-Incorporated Deep Learning Framework for Parameterization of Atmospheric Radiative Transfer. Journal of Advances in Modeling Earth Systems, 15(5), e2022MS003445. https://doi.org/10.1029/2022MS003445\n"
   ]
  },
  {
   "cell_type": "markdown",
   "id": "e0c15aff-a7b7-4d56-81a4-9b610184f6c8",
   "metadata": {},
   "source": [
    "## Environment"
   ]
  },
  {
   "cell_type": "code",
   "execution_count": null,
   "id": "eb3a9a47-5ffb-4c4e-9811-5b625721349a",
   "metadata": {},
   "outputs": [],
   "source": [
    "%%bash\n",
    "source ${HOME}/conda/bin/activate tf2\n",
    "conda export --file requirements.yml"
   ]
  },
  {
   "cell_type": "markdown",
   "id": "8c0b96f4-f08d-4fc9-befc-3952fca22d51",
   "metadata": {},
   "source": [
    "Data:"
   ]
  },
  {
   "cell_type": "code",
   "execution_count": null,
   "id": "1320bfd5-ffd6-4b59-aa70-c10ef02d392d",
   "metadata": {},
   "outputs": [],
   "source": [
    "%%bash\n",
    "ls -1 ukk23test01/neural/data/ > neur_data.txt\n",
    "ls -1 ukk23test01/rrtmgp/data/ > rrtm_data.txt\n",
    "ls -1 ukk23test01/examples/rfmip-clear-sky/data/ > exam_rfmi_data.txt\n",
    "ls -1 ukk23test01/examples/rfmip-clear-sky/output_fluxes/ > exam_rfmi_flux.txt\n",
    "ls -1 ukk23test01/examples/rrtmgp-nn-training/data/ > exam_rrtm_data.txt\n",
    "ls -1 ukk23test01/examples/rrtmgp-nn-training/inputs_to_RRTMGP/ >  exam_rrtm_rrtm.txt"
   ]
  }
 ],
 "metadata": {
  "kernelspec": {
   "display_name": "tf2",
   "language": "python",
   "name": "tf2"
  },
  "language_info": {
   "codemirror_mode": {
    "name": "ipython",
    "version": 3
   },
   "file_extension": ".py",
   "mimetype": "text/x-python",
   "name": "python",
   "nbconvert_exporter": "python",
   "pygments_lexer": "ipython3",
   "version": "3.12.6"
  }
 },
 "nbformat": 4,
 "nbformat_minor": 5
}
