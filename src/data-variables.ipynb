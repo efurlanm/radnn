{
 "cells": [
  {
   "cell_type": "code",
   "execution_count": null,
   "id": "86b341e9-6fbb-4c0c-a727-8f1b48dc1dee",
   "metadata": {},
   "outputs": [],
   "source": [
    "# DATA VARIABLES"
   ]
  },
  {
   "cell_type": "code",
   "execution_count": 1,
   "id": "4b6ca280-53a7-4e5d-bf64-a28aaf79bf82",
   "metadata": {},
   "outputs": [],
   "source": [
    "import netCDF4 as nc"
   ]
  },
  {
   "cell_type": "code",
   "execution_count": 3,
   "id": "21268dca-dbb4-4d29-bcf7-99a9e2c26242",
   "metadata": {},
   "outputs": [
    {
     "name": "stdout",
     "output_type": "stream",
     "text": [
      "['key_species', 'kmajor', 'rayl_lower', 'rayl_upper', 'absorption_coefficient_ref_P', 'absorption_coefficient_ref_T', 'bnd_limits_gpt', 'bnd_limits_wavenumber', 'gas_minor', 'gas_names', 'identifier_minor', 'minor_gases_lower', 'minor_gases_upper', 'minor_limits_gpt_lower', 'minor_limits_gpt_upper', 'minor_scales_with_density_lower', 'minor_scales_with_density_upper', 'press_ref', 'press_ref_trop', 'scale_by_complement_lower', 'scale_by_complement_upper', 'scaling_gas_lower', 'scaling_gas_upper', 'temp_ref', 'vmr_ref', 'kminor_lower', 'kminor_start_lower', 'kminor_upper', 'kminor_start_upper', 'solar_source_facular', 'solar_source_sunspot', 'solar_source_quiet', 'tsi_default', 'mg_default', 'sb_default']\n"
     ]
    }
   ],
   "source": [
    "FILE = \"/home/x/git/radnn/ukk22test02/rrtmgp/data/rrtmgp-data-sw-g224-2018-12-04.nc\"\n",
    "print(list(nc.Dataset(FILE).variables))"
   ]
  },
  {
   "cell_type": "code",
   "execution_count": 2,
   "id": "78e890dd-63d8-491c-a0d4-6ad32875860d",
   "metadata": {},
   "outputs": [
    {
     "name": "stdout",
     "output_type": "stream",
     "text": [
      "['rsu', 'rsd', 'rsd_dir', 'toa_flux', 'sfc_alb', 'mu0', 'rrtmgp_sw_input', 'tau_sw_gas', 'ssa_sw_gas', 'col_dry']\n"
     ]
    }
   ],
   "source": [
    "FILE = \"/home/x/data/5833494-ukk22-data/RRTMGP_data_g224_CAMS_2009-2018_sans_2014-2015_RND.nc\"\n",
    "print(list(nc.Dataset(FILE).variables))"
   ]
  }
 ],
 "metadata": {
  "kernelspec": {
   "display_name": "tf2",
   "language": "python",
   "name": "tf2"
  },
  "language_info": {
   "codemirror_mode": {
    "name": "ipython",
    "version": 3
   },
   "file_extension": ".py",
   "mimetype": "text/x-python",
   "name": "python",
   "nbconvert_exporter": "python",
   "pygments_lexer": "ipython3",
   "version": "3.12.6"
  }
 },
 "nbformat": 4,
 "nbformat_minor": 5
}
