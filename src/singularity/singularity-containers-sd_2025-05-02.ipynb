{
 "cells": [
  {
   "cell_type": "markdown",
   "id": "f56d36b4-17cb-4d51-bc12-ad2dfde0b155",
   "metadata": {},
   "source": [
    "# SingularityCE example\n",
    "\n",
    "This Notebook runs on the SDumont.\n",
    "\n",
    "References:\n",
    "\n",
    "- User guide: <https://docs.sylabs.io/guides/4.2/user-guide/>\n",
    "- <https://github.com/sylabs/singularity/releases/tag/v4.2.1>\n",
    "- <https://github.com/LucasFernando-aes/SDumont-UserPOV/blob/main/singularity.md>\n",
    "- <https://guiesbibtic.upf.edu/recerca/hpc/singularity>\n",
    "- <https://pawseysc.github.io/hpc-container-training/13-singularity-intro/>\n",
    "- <https://epcced.github.io/2020-12-08-Containers-Online/aio/index.html>\n",
    "- <https://singularity-tutorial.github.io/02-basic-usage/>\n",
    "- <https://hsf-training.github.io/hsf-training-singularity-webpage/>\n",
    "- <https://catalog.ngc.nvidia.com/orgs/nvidia/containers/pytorch/tags>"
   ]
  },
  {
   "cell_type": "markdown",
   "id": "526d4eaa-b40b-464d-be82-760371c88ff3",
   "metadata": {},
   "source": [
    "Check for related modules:"
   ]
  },
  {
   "cell_type": "code",
   "execution_count": 2,
   "id": "9601681d-aafe-442b-a3bf-b69146ab53ab",
   "metadata": {},
   "outputs": [
    {
     "name": "stdout",
     "output_type": "stream",
     "text": [
      "   parabricks/2.5.0_singularity_sequana\n",
      "   parabricks/3.0_singularity_sequana                            (D)\n"
     ]
    }
   ],
   "source": [
    "! module avail 2>&1 | grep -i -E \"docker|apptainer|singularity|udocker\""
   ]
  },
  {
   "cell_type": "markdown",
   "id": "709e14b7-002e-41ed-8e13-23b1fd948279",
   "metadata": {},
   "source": [
    "Check the available Singularity version:"
   ]
  },
  {
   "cell_type": "code",
   "execution_count": 3,
   "id": "d4833989-cfbc-4234-ba8e-2bf3890350c9",
   "metadata": {},
   "outputs": [
    {
     "name": "stdout",
     "output_type": "stream",
     "text": [
      "singularity-ce version 4.2.1-1\n"
     ]
    }
   ],
   "source": [
    "! singularity --version"
   ]
  },
  {
   "cell_type": "markdown",
   "id": "da6d5997-cd5e-401b-95e4-e3fb6f386331",
   "metadata": {},
   "source": [
    "Download example container:"
   ]
  },
  {
   "cell_type": "code",
   "execution_count": 4,
   "id": "8773f836-60e0-476a-914c-a9ec81b28b47",
   "metadata": {
    "scrolled": true
   },
   "outputs": [
    {
     "name": "stdout",
     "output_type": "stream",
     "text": [
      "\u001b[34mINFO:   \u001b[0m Using cached image\n",
      "\u001b[33mWARNING:\u001b[0m integrity: signature not found for object group 1\n",
      "\u001b[33mWARNING:\u001b[0m Skipping container verification\n"
     ]
    }
   ],
   "source": [
    "! singularity pull --force library://godlovedc/funny/lolcow"
   ]
  },
  {
   "cell_type": "code",
   "execution_count": 5,
   "id": "1f553827-9cc6-4bc1-9814-b0ddb5a8da62",
   "metadata": {},
   "outputs": [
    {
     "name": "stdout",
     "output_type": "stream",
     "text": [
      "lolcow_latest.sif\n"
     ]
    }
   ],
   "source": [
    "! ls lolcow_latest.sif"
   ]
  },
  {
   "cell_type": "markdown",
   "id": "60ce6650-0b2d-4a66-9e05-2f34e6985afa",
   "metadata": {},
   "source": [
    "The following cell ran in a terminal, starting a container and running an interactive shell inside it:"
   ]
  },
  {
   "cell_type": "raw",
   "id": "75cca4e6-a6fa-4eb2-8e77-411dcf75021d",
   "metadata": {},
   "source": [
    "[user.name@sdumont18 container]$ singularity shell lolcow_latest.sif\n",
    "Singularity> cat /etc/os-release\n",
    "NAME=\"Ubuntu\"\n",
    "VERSION=\"16.04.5 LTS (Xenial Xerus)\"\n",
    "ID=ubuntu\n",
    "ID_LIKE=debian\n",
    "PRETTY_NAME=\"Ubuntu 16.04.5 LTS\"\n",
    "VERSION_ID=\"16.04\"\n",
    "HOME_URL=\"http://www.ubuntu.com/\"\n",
    "SUPPORT_URL=\"http://help.ubuntu.com/\"\n",
    "BUG_REPORT_URL=\"http://bugs.launchpad.net/ubuntu/\"\n",
    "VERSION_CODENAME=xenial\n",
    "UBUNTU_CODENAME=xenial\n",
    "Singularity> whoami\n",
    "user.name\n",
    "Singularity> hostname\n",
    "sdumont18\n",
    "Singularity> which cowsay\n",
    "/usr/games/cowsay\n",
    "Singularity> cowsay moo\n",
    " _____\n",
    "< moo >\n",
    " -----\n",
    "        \\   ^__^\n",
    "         \\  (oo)\\_______\n",
    "            (__)\\       )\\/\\\n",
    "                ||----w |\n",
    "                ||     ||\n",
    "Singularity> fortune | cowsay | lolcat\n",
    " ______________________________________\n",
    "/ A few hours grace before the madness \\\n",
    "\\ begins again.                        /\n",
    " --------------------------------------\n",
    "        \\   ^__^\n",
    "         \\  (oo)\\_______\n",
    "            (__)\\       )\\/\\\n",
    "                ||----w |\n",
    "                ||     ||\n",
    "Singularity> exit\n",
    "exit"
   ]
  },
  {
   "cell_type": "markdown",
   "id": "82c799e5-7536-4e6a-88d2-a47e3766d321",
   "metadata": {},
   "source": [
    "Executing a command within the container, via the host's command line:"
   ]
  },
  {
   "cell_type": "code",
   "execution_count": 6,
   "id": "4e0ae0b4-6eca-4ef1-98e9-5e42d4ef40c2",
   "metadata": {},
   "outputs": [
    {
     "name": "stdout",
     "output_type": "stream",
     "text": [
      "NAME=\"Ubuntu\"\n",
      "VERSION=\"16.04.5 LTS (Xenial Xerus)\"\n",
      "ID=ubuntu\n",
      "ID_LIKE=debian\n",
      "PRETTY_NAME=\"Ubuntu 16.04.5 LTS\"\n",
      "VERSION_ID=\"16.04\"\n",
      "HOME_URL=\"http://www.ubuntu.com/\"\n",
      "SUPPORT_URL=\"http://help.ubuntu.com/\"\n",
      "BUG_REPORT_URL=\"http://bugs.launchpad.net/ubuntu/\"\n",
      "VERSION_CODENAME=xenial\n",
      "UBUNTU_CODENAME=xenial\n"
     ]
    }
   ],
   "source": [
    "! singularity exec lolcow_latest.sif cat /etc/os-release"
   ]
  },
  {
   "cell_type": "code",
   "execution_count": 7,
   "id": "7d1d9127-e5ec-4d1b-aa7a-4ff781346442",
   "metadata": {},
   "outputs": [
    {
     "name": "stdout",
     "output_type": "stream",
     "text": [
      " _____\n",
      "< moo >\n",
      " -----\n",
      "        \\   ^__^\n",
      "         \\  (oo)\\_______\n",
      "            (__)\\       )\\/\\\n",
      "                ||----w |\n",
      "                ||     ||\n"
     ]
    }
   ],
   "source": [
    "! singularity exec lolcow_latest.sif cowsay moo"
   ]
  },
  {
   "cell_type": "markdown",
   "id": "9477dbbf-349b-4d18-8f70-6352637faa9f",
   "metadata": {},
   "source": [
    "## Another example, downloading the PyTorch container\n",
    "\n",
    "<https://catalog.ngc.nvidia.com/orgs/nvidia/containers/pytorch/tags>\n",
    "\n",
    "nvcr.io/nvidia/pytorch:25.04-py3"
   ]
  },
  {
   "cell_type": "markdown",
   "id": "83ad47aa-f02d-4605-b3ca-844dbca84965",
   "metadata": {},
   "source": [
    "run on terminal:\n",
    "\n",
    "    export SINGULARITY_DOCKER_USERNAME='$oauthtoken'\n",
    "    export SINGULARITY_DOCKER_PASSWORD=<key>\n",
    "    singularity pull pytorch25.04.sif docker://nvcr.io/nvidia/pytorch:25.04-py3"
   ]
  },
  {
   "cell_type": "markdown",
   "id": "733dceb5-ab73-4ab1-95d4-db93bef0d8a3",
   "metadata": {
    "jp-MarkdownHeadingCollapsed": true
   },
   "source": [
    "It is not possible to download for this container, a timeout occurs on the login node, and on an interactive node an error message appears when authenticating in the Nvidia repo. The interactive execution node is configured using:\n",
    "\n",
    "    salloc --partition=sequana_gpu_shared --nodes=1 --ntasks=2 --time=30 --job-name test01\n",
    "    ssh sdumontxxxx\n",
    "    ...\n",
    "    exit\n",
    "    exit\n",
    "\n",
    "The solution is to download to the local machine using Docker, save as .tar, and transfer to SDumont using scp or syncthing. On the local machine:\n",
    "\n",
    "    docker login nvcr.io    # USERNAME&PASSWORD\n",
    "    docker pull nvcr.io/nvidia/pytorch:22.03-py3\n",
    "    docker save nvcr.io/nvidia/pytorch:22.03-py3  > local.tar\n",
    "    transfer (to the image/ directory)\n",
    "\n",
    "On the login node it is not possible to convert the image to SIF format:"
   ]
  },
  {
   "cell_type": "code",
   "execution_count": 1,
   "id": "ffdffcc4-26fd-417b-9a86-1b2f711a3f57",
   "metadata": {
    "scrolled": true
   },
   "outputs": [
    {
     "name": "stdout",
     "output_type": "stream",
     "text": [
      "local.tar\n"
     ]
    },
    {
     "name": "stderr",
     "output_type": "stream",
     "text": [
      "INFO:    Starting build...\n",
      "Getting image source signatures\n",
      "Copying blob sha256:867d0767a47c392f80acb51572851923d6d3e55289828b0cd84a96ba342660c7\n",
      "Copying blob sha256:01e996931197162c4d65bfc6867f243df01e5f70f877c1c9beccd6978297e643\n",
      "Copying blob sha256:2ff0ade8d3c97b175cf6be4658d30fc655fa86b0198224c8f5b18e39cdd97e5f\n",
      "Copying blob sha256:fec6965e7a6b67b61a1337a169d91dcbb93ebeee67bb5d38a241f7fa4fa048ea\n",
      "Copying blob sha256:83cdade3c9b5e8313ab6d74bcfcc0492a4ae4b9fbf3d09a35ab52abaaf492d9d\n",
      "Copying blob sha256:a060c5cefec7f091c555e77e46d0130a49dfc39023365e216c154613603f456a\n",
      "Copying blob sha256:2df8c0a32afe2d088aafe59dc368643b14ddd15f9673cac769548c28ec384e04\n",
      "Copying blob sha256:899455397741dac157e85ecf485ec909e52ce1ada5d37853c93544c13e7f5f81\n",
      "Copying blob sha256:2f175b794573ab5e137bd2f5f52a2c1716bb5287ca8755ea8ad166fa9b1ee898\n",
      "Copying blob sha256:85f49f4e6923e73ae6c3ab79d4b7f1f8156141952f3f69535ca49f6a543f9e24\n",
      "Copying blob sha256:6a1014d46250ad84e998df518cecf334cf4dc3255d8da2107f5b14adb0137638\n",
      "Copying blob sha256:b9dfd77f5b0a234bacf98a6f9b5dd833dae4bd2acda78ee715a41e057669316d\n",
      "Copying blob sha256:850236713495eb5c9272fff0a67a72d80954d308cf530db88f5d238810b77530\n",
      "Copying blob sha256:5f70bf18a086007016e948b04aed3b82103a36bea41755b6cddfaf10ace3c6ef\n",
      "Copying blob sha256:6fb2a344ac89c7580001056daa9aaee6e145a046b503c35a9a3b5c04039ef30b\n",
      "Copying blob sha256:f89ef356505ebbde71244b0328031d581f807e9649fbc16ae9bad8c0b5044070\n",
      "Copying blob sha256:abf81ae6f4c8f107d399013c0f18ec8bd260f7b3fb25f19406102245bc0f01fe\n",
      "Copying blob sha256:852255d743c1a984be0c79a398f85c6f1c65c9ecd09ccb19ca4dd028ec34a84c\n",
      "Copying blob sha256:8fb729c89bb442004e39e13ee49ea0389bee5d241cb5e950af6160bcfd241e61\n",
      "Copying blob sha256:5ec341fc8fe7788009c830779035a302135c6df37450d0b5bd7c3fee12061d48\n",
      "Copying blob sha256:f7655918bfe60f5e7d7e95fd5887b490a251c72cf7fc070ca3bf081aee1d9b50\n",
      "Copying blob sha256:489f24d7d38164360790608a0da985125b4d69f41d63245974a9a904fc939c1e\n",
      "Copying blob sha256:1ee80d85e1cfefe604d95e7bcb45bf8cf0a117536f298cbde50da54329e679d7\n",
      "Copying blob sha256:fc3209a87194def474449b37b7ef0dae252e2452ecb5a5ffc2d81e12216005bf\n",
      "Copying blob sha256:5342e89df8e3a76605e7fe8c2a5db18fa28f757d0ab0c2fdcda0f42e9b6373c2\n",
      "Copying blob sha256:6ba71d233b759f8399a3a8a47dc829198bee3ad8eb3502c3069cbd9b53a48453\n",
      "Copying blob sha256:5f70bf18a086007016e948b04aed3b82103a36bea41755b6cddfaf10ace3c6ef\n",
      "Copying blob sha256:3b1792efdad9259661dfc30826f29abf456fa8b5ddac96bda338f282f5e115e1\n",
      "Copying blob sha256:3b720402b8abae528e3d207a876fed9f2c5e9de4e5f2e6f8bf46d0257710041e\n",
      "Copying blob sha256:e1aa1f9ee97ed771d635717edb0ff12757ce266966f399759e68d2d1f0d2fdab\n",
      "Copying blob sha256:7a7051e759c4f2325854116fc9b21dcfaa58f9b4aebe743ee8d78fb758c39c88\n",
      "Copying blob sha256:77a776e8014b011fc8858f05204f698998cc030966d13ae9f485a5f426040259\n",
      "Copying blob sha256:7821737d952f1296d580cb17965c84a2be8264feb3be91c967b74445c98a937b\n",
      "Copying blob sha256:14e6ddddf256545200fb3a2f8e9881624b2774359d1662b6ccdcbb2348ad364a\n",
      "Copying blob sha256:65c14c7eaf47324e28a04724c252becd2088583d39559a2c5dc946fcf296ee55\n",
      "Copying blob sha256:40f364efa84f1962030597fe2c218819b6615086fd65c653e18a53fb88c297e6\n",
      "Copying blob sha256:8456d4967bfe7d1a3f1c5812040fca36a0c07823425c278007993e552e0a9525\n",
      "Copying blob sha256:e94fa5c9c51822fa5b28c320c14ce8ee9942c59e954662a1e073acc782b9aea9\n",
      "Copying blob sha256:ea54ed1c9d39b17fabdf13617bfa0d94fa3a1691ef4a3847533f2e404e6d21fd\n",
      "Copying blob sha256:b92c6f3cf8ba79699a2607fc6010d0cc0599da479dce176332b6f03e1f2225f8\n",
      "Copying blob sha256:c68289e5466ac392537384b1d1994716e30bfe200558434067ff00c758d64b07\n",
      "Copying blob sha256:4995463ed504e50c7094525768f55bcf4c1b77e3fe720e2a350a514ad22bf904\n",
      "Copying blob sha256:80df8233699ef1706496708ee09b4f0e3681119c63cec14feac5e4b0e20f3959\n",
      "Copying blob sha256:0f010943c2be8f878e5165b682577d20ccdcefe2e5e52f873416e79648972b45\n",
      "Copying blob sha256:6d24369f9726e691bb2cae68f65dc604996d1d72194fb5e7ffbac365c8fa27cd\n",
      "Copying blob sha256:fe48bfeac91d74749aa282e68bdb462f53eb1414812c1e684a5075470c99cadf\n",
      "Copying blob sha256:9c7a2e08fe4cab75c768008df33cd4a1f5cb925bff73738cb3adc25f71a12220\n",
      "Copying config sha256:5c38bbe3758d2bf477bbaabc1d4c93b4d9f7cef0332fc829488ccecff7024cd6\n",
      "Writing manifest to image destination\n",
      "Storing signatures\n",
      "2024/06/10 20:01:34  info unpack layer: sha256:68ae9bf80e819b51d62f5e6a72de3364116f7d3013e9bb0471a66c8cb5b5c219\n",
      "2024/06/10 20:01:35  info unpack layer: sha256:bfa22944d7f27a0c3faf5dd15daa5eaf2504c8527617871539af9b67a1810c53\n",
      "2024/06/10 20:01:39  info unpack layer: sha256:845cdf20fbec7b2ab006818361f98732c2e1d3f6bd7024d0f27dafa60be3f0f5\n",
      "2024/06/10 20:01:42  info unpack layer: sha256:61018be65cafc1909fff0aa9287dfc157c8fee7766128ac959476f2598fae6c8\n",
      "2024/06/10 20:01:42  info unpack layer: sha256:1a030b7aa46d8c6802c7fc765eb42984d13dc440c3f24fe283ccc0048c70f82f\n",
      "2024/06/10 20:02:49  info unpack layer: sha256:5dac5ab6209701c30b0925443fbed56e37e0f41520022778ec37f725336df5fa\n",
      "2024/06/10 20:02:49  info unpack layer: sha256:2c7a32251a74400a58d102018097dffc8c2107fb8d0a94aa6f1c92d720200101\n",
      "2024/06/10 20:02:49  info unpack layer: sha256:ea445da495a14f1092e5919c5da43345f2cd8d215d1a2d8679892c5c34161383\n",
      "2024/06/10 20:02:49  info unpack layer: sha256:c581fefca5456c2afcbb0810d3923e2462138729c2523e54e647fd02bd993e74\n",
      "2024/06/10 20:02:49  info unpack layer: sha256:f84ad511285d7ba242bcfef9f8886d1d47f679dfc70c3566c4d7aa709b64a531\n",
      "2024/06/10 20:02:50  info unpack layer: sha256:36afb5d00374b4df1b6aa117a19b90286198ad94a595a962570eec0b1d0cd5bd\n",
      "2024/06/10 20:02:53  info unpack layer: sha256:f32148ba7fa51bd392b31c769db9060a0748a331a5b5bd597da0caa2df8bfc74\n",
      "2024/06/10 20:02:53  info unpack layer: sha256:dd54346b3b3f85aae1e4af408426b1f22ef9426cb9c1052ea20ab393e41d361e\n",
      "2024/06/10 20:03:02  info unpack layer: sha256:4ca545ee6d5db5c1170386eeb39b2ffe3bd46e5d4a73a9acbebc805f19607eb3\n",
      "2024/06/10 20:03:02  info unpack layer: sha256:89a984e0b169b985cbc658133620afb268fa70a679c3a73a85e945be0d4ff3a4\n",
      "2024/06/10 20:03:04  info unpack layer: sha256:8e0fb453a945aa36e55179ba7992ce91b437849b4408c8f825543ff0821127dc\n",
      "2024/06/10 20:03:33  info unpack layer: sha256:215a3dc3aecda761d561e9caa72cad4300755851187f58ef1fe29e09757a0e0c\n",
      "2024/06/10 20:03:33  info unpack layer: sha256:da579a8babeb09ab142bab8b3d74a42260f2ba0bfb7e0a60329c538eafaf7639\n",
      "2024/06/10 20:03:33  info unpack layer: sha256:28fce72b06e0630049d2561ebf29910b4bc7859ff36ac1d14d4dde173783a576\n",
      "2024/06/10 20:03:52  info unpack layer: sha256:7bc9557d01922b5a103b781c3921193d6c55964c14ce887820ce771e1856ff7c\n",
      "2024/06/10 20:03:53  info unpack layer: sha256:7e511e2a25bae7ae811deb0ebcb098f1d6e11d2389c60add9b56f24a5d522d20\n",
      "2024/06/10 20:03:57  info unpack layer: sha256:de4b4efd034e105d2ea4ef3e2802a0dd2f43bbd19cbf3dd445aac12e3bc8ab91\n",
      "2024/06/10 20:03:58  info unpack layer: sha256:02c9298582db401b7167704c904de045354ca94c91c824bb1e3e879bf39c08d1\n",
      "2024/06/10 20:03:58  info unpack layer: sha256:88a1a87122f69e063436e87ac8960f414f5992fc53600861e55738acf4d7bd02\n",
      "2024/06/10 20:04:01  warn rootless{usr/local/nvm/versions/node/v16.6.1/bin/npm} ignoring (usually) harmless EPERM on setxattr \"user.rootlesscontainers\"\n",
      "2024/06/10 20:04:01  warn rootless{usr/local/nvm/versions/node/v16.6.1/bin/npx} ignoring (usually) harmless EPERM on setxattr \"user.rootlesscontainers\"\n",
      "2024/06/10 20:04:02  info unpack layer: sha256:cf13c7a106d9d923d9f35c7c1b25aee62e296bff53f88fb9bb637998367e0c31\n",
      "2024/06/10 20:04:02  info unpack layer: sha256:6a083be126689b6eeeddccb2e3ce548c1f6521c93f1e576e3e074d26501349d4\n",
      "2024/06/10 20:04:07  info unpack layer: sha256:4ca545ee6d5db5c1170386eeb39b2ffe3bd46e5d4a73a9acbebc805f19607eb3\n",
      "2024/06/10 20:04:07  info unpack layer: sha256:78d417bf70815937d984307de91610854094c0a584a56de78ebf1af2bcaffbaf\n",
      "2024/06/10 20:04:08  info unpack layer: sha256:46ebe2a1ea63e0d198484fdf116e8506c710e9e377de4427b95083e757178cc8\n",
      "2024/06/10 20:04:08  info unpack layer: sha256:8823518a5a11ac7fe6f71076290a43eeae1904e5bcb8c1cd490219c868859ccb\n",
      "2024/06/10 20:04:34  info unpack layer: sha256:a019541ef016dc37a4d1f707f2e2c9f7a8c75912c220a710ebc63be97e6a4992\n",
      "2024/06/10 20:04:55  info unpack layer: sha256:1cf41711951dcabebe7aa7f6655637db954f0640d354be0c38585f2bd8d897dc\n",
      "2024/06/10 20:04:56  info unpack layer: sha256:e29d287a9f717bfbfe40b193fe896a9b4852d769f432205649bc62d7460df594\n",
      "2024/06/10 20:04:56  info unpack layer: sha256:42585e546c9599cb27679dfb5480ddeef45c5e6312c57524890260fbc74fd50d\n",
      "2024/06/10 20:05:00  info unpack layer: sha256:195112d6f94a8ed25a253edd5e2c383e0b0944dc4de820ece72da54461e86ef8\n",
      "2024/06/10 20:05:00  info unpack layer: sha256:76fd577178880b5ca003337b67c19c9d8de49424f7c16745738637f125345e78\n",
      "2024/06/10 20:05:14  warn rootless{usr/include/rapids/libcxx/include} ignoring (usually) harmless EPERM on setxattr \"user.rootlesscontainers\"\n",
      "2024/06/10 20:05:14  warn rootless{usr/lib/libarrow.so} ignoring (usually) harmless EPERM on setxattr \"user.rootlesscontainers\"\n",
      "2024/06/10 20:05:14  warn rootless{usr/lib/libarrow.so.500} ignoring (usually) harmless EPERM on setxattr \"user.rootlesscontainers\"\n",
      "2024/06/10 20:05:14  warn rootless{usr/lib/libarrow_cuda.so} ignoring (usually) harmless EPERM on setxattr \"user.rootlesscontainers\"\n",
      "2024/06/10 20:05:14  warn rootless{usr/lib/libarrow_cuda.so.500} ignoring (usually) harmless EPERM on setxattr \"user.rootlesscontainers\"\n",
      "2024/06/10 20:05:14  warn rootless{usr/lib/libarrow_dataset.so} ignoring (usually) harmless EPERM on setxattr \"user.rootlesscontainers\"\n",
      "2024/06/10 20:05:14  warn rootless{usr/lib/libarrow_dataset.so.500} ignoring (usually) harmless EPERM on setxattr \"user.rootlesscontainers\"\n",
      "2024/06/10 20:05:14  warn rootless{usr/lib/libarrow_python.so} ignoring (usually) harmless EPERM on setxattr \"user.rootlesscontainers\"\n",
      "2024/06/10 20:05:14  warn rootless{usr/lib/libarrow_python.so.500} ignoring (usually) harmless EPERM on setxattr \"user.rootlesscontainers\"\n",
      "2024/06/10 20:05:44  warn rootless{usr/lib/libparquet.so} ignoring (usually) harmless EPERM on setxattr \"user.rootlesscontainers\"\n",
      "2024/06/10 20:05:44  warn rootless{usr/lib/libparquet.so.500} ignoring (usually) harmless EPERM on setxattr \"user.rootlesscontainers\"\n",
      "2024/06/10 20:05:50  info unpack layer: sha256:ffa4c804dc4fb2a8dae5110c44d26c886629690c9917a780903b79ba67a59bea\n",
      "2024/06/10 20:05:50  info unpack layer: sha256:d22076cedb2ab3198c0a5dc13de8dbbe8fc8f03cc5cb264ea52bb003035f7f00\n",
      "2024/06/10 20:05:50  info unpack layer: sha256:5202e6dc1a0b43a8b60e63ff139c211b8c34d9b371ef18a6d3f2bd6b4c8a7ab9\n",
      "2024/06/10 20:05:50  info unpack layer: sha256:dab1dc4f31fef0a01739ff0d683f15828e094790d29e4a2e80af77232627cfd6\n",
      "2024/06/10 20:05:51  info unpack layer: sha256:05ee3b6d570cccd2d39fdc2ef67b151d021b4681c33dde9120739a5a0e6bbe0d\n",
      "2024/06/10 20:05:52  info unpack layer: sha256:d143313679d2eb096bab646ebcbd990e029ab7c10be4237726e6af0a65eb61af\n",
      "2024/06/10 20:05:52  info unpack layer: sha256:6d542ab240499c1b8d096af6465ec2ae53cdc52ee745af4f20aa5ae61e23b2a5\n",
      "2024/06/10 20:05:52  info unpack layer: sha256:8ab66965a4e01a2a6729207e2bc6b1cf4d34655f9362c3dae5afdb3feacfdf16\n",
      "2024/06/10 20:05:55  info unpack layer: sha256:f6c7a5650dc44bd44089b477cc1910cff564f3d4ed014d02d11d611234f97162\n",
      "2024/06/10 20:05:55  info unpack layer: sha256:c95c7c5fffce9c91dbd0931737435d0b27951fa85615e308c3bb6c690cd30cfd\n",
      "2024/06/10 20:05:55  info unpack layer: sha256:cb40ba74f7e9ab9069c7262449b33ba7331a182759c712d95a4554938cd1a498\n",
      "INFO:    Creating SIF file...\n",
      "FATAL:   While performing build: while creating squashfs: create command failed: signal: killed: \n"
     ]
    },
    {
     "ename": "CalledProcessError",
     "evalue": "Command 'b'cd ../image\\nls\\nsingularity build local_tar.sif docker-archive://local.tar\\n'' returned non-zero exit status 255.",
     "output_type": "error",
     "traceback": [
      "\u001b[0;31m---------------------------------------------------------------------------\u001b[0m",
      "\u001b[0;31mCalledProcessError\u001b[0m                        Traceback (most recent call last)",
      "Cell \u001b[0;32mIn[1], line 1\u001b[0m\n\u001b[0;32m----> 1\u001b[0m \u001b[43mget_ipython\u001b[49m\u001b[43m(\u001b[49m\u001b[43m)\u001b[49m\u001b[38;5;241;43m.\u001b[39;49m\u001b[43mrun_cell_magic\u001b[49m\u001b[43m(\u001b[49m\u001b[38;5;124;43m'\u001b[39;49m\u001b[38;5;124;43mbash\u001b[39;49m\u001b[38;5;124;43m'\u001b[39;49m\u001b[43m,\u001b[49m\u001b[43m \u001b[49m\u001b[38;5;124;43m'\u001b[39;49m\u001b[38;5;124;43m'\u001b[39;49m\u001b[43m,\u001b[49m\u001b[43m \u001b[49m\u001b[38;5;124;43m'\u001b[39;49m\u001b[38;5;124;43mcd ../image\u001b[39;49m\u001b[38;5;130;43;01m\\n\u001b[39;49;00m\u001b[38;5;124;43mls\u001b[39;49m\u001b[38;5;130;43;01m\\n\u001b[39;49;00m\u001b[38;5;124;43msingularity build local_tar.sif docker-archive://local.tar\u001b[39;49m\u001b[38;5;130;43;01m\\n\u001b[39;49;00m\u001b[38;5;124;43m'\u001b[39;49m\u001b[43m)\u001b[49m\n",
      "File \u001b[0;32m~/miniconda3/lib/python3.11/site-packages/IPython/core/interactiveshell.py:2517\u001b[0m, in \u001b[0;36mInteractiveShell.run_cell_magic\u001b[0;34m(self, magic_name, line, cell)\u001b[0m\n\u001b[1;32m   2515\u001b[0m \u001b[38;5;28;01mwith\u001b[39;00m \u001b[38;5;28mself\u001b[39m\u001b[38;5;241m.\u001b[39mbuiltin_trap:\n\u001b[1;32m   2516\u001b[0m     args \u001b[38;5;241m=\u001b[39m (magic_arg_s, cell)\n\u001b[0;32m-> 2517\u001b[0m     result \u001b[38;5;241m=\u001b[39m \u001b[43mfn\u001b[49m\u001b[43m(\u001b[49m\u001b[38;5;241;43m*\u001b[39;49m\u001b[43margs\u001b[49m\u001b[43m,\u001b[49m\u001b[43m \u001b[49m\u001b[38;5;241;43m*\u001b[39;49m\u001b[38;5;241;43m*\u001b[39;49m\u001b[43mkwargs\u001b[49m\u001b[43m)\u001b[49m\n\u001b[1;32m   2519\u001b[0m \u001b[38;5;66;03m# The code below prevents the output from being displayed\u001b[39;00m\n\u001b[1;32m   2520\u001b[0m \u001b[38;5;66;03m# when using magics with decorator @output_can_be_silenced\u001b[39;00m\n\u001b[1;32m   2521\u001b[0m \u001b[38;5;66;03m# when the last Python token in the expression is a ';'.\u001b[39;00m\n\u001b[1;32m   2522\u001b[0m \u001b[38;5;28;01mif\u001b[39;00m \u001b[38;5;28mgetattr\u001b[39m(fn, magic\u001b[38;5;241m.\u001b[39mMAGIC_OUTPUT_CAN_BE_SILENCED, \u001b[38;5;28;01mFalse\u001b[39;00m):\n",
      "File \u001b[0;32m~/miniconda3/lib/python3.11/site-packages/IPython/core/magics/script.py:154\u001b[0m, in \u001b[0;36mScriptMagics._make_script_magic.<locals>.named_script_magic\u001b[0;34m(line, cell)\u001b[0m\n\u001b[1;32m    152\u001b[0m \u001b[38;5;28;01melse\u001b[39;00m:\n\u001b[1;32m    153\u001b[0m     line \u001b[38;5;241m=\u001b[39m script\n\u001b[0;32m--> 154\u001b[0m \u001b[38;5;28;01mreturn\u001b[39;00m \u001b[38;5;28;43mself\u001b[39;49m\u001b[38;5;241;43m.\u001b[39;49m\u001b[43mshebang\u001b[49m\u001b[43m(\u001b[49m\u001b[43mline\u001b[49m\u001b[43m,\u001b[49m\u001b[43m \u001b[49m\u001b[43mcell\u001b[49m\u001b[43m)\u001b[49m\n",
      "File \u001b[0;32m~/miniconda3/lib/python3.11/site-packages/IPython/core/magics/script.py:314\u001b[0m, in \u001b[0;36mScriptMagics.shebang\u001b[0;34m(self, line, cell)\u001b[0m\n\u001b[1;32m    309\u001b[0m \u001b[38;5;28;01mif\u001b[39;00m args\u001b[38;5;241m.\u001b[39mraise_error \u001b[38;5;129;01mand\u001b[39;00m p\u001b[38;5;241m.\u001b[39mreturncode \u001b[38;5;241m!=\u001b[39m \u001b[38;5;241m0\u001b[39m:\n\u001b[1;32m    310\u001b[0m     \u001b[38;5;66;03m# If we get here and p.returncode is still None, we must have\u001b[39;00m\n\u001b[1;32m    311\u001b[0m     \u001b[38;5;66;03m# killed it but not yet seen its return code. We don't wait for it,\u001b[39;00m\n\u001b[1;32m    312\u001b[0m     \u001b[38;5;66;03m# in case it's stuck in uninterruptible sleep. -9 = SIGKILL\u001b[39;00m\n\u001b[1;32m    313\u001b[0m     rc \u001b[38;5;241m=\u001b[39m p\u001b[38;5;241m.\u001b[39mreturncode \u001b[38;5;129;01mor\u001b[39;00m \u001b[38;5;241m-\u001b[39m\u001b[38;5;241m9\u001b[39m\n\u001b[0;32m--> 314\u001b[0m     \u001b[38;5;28;01mraise\u001b[39;00m CalledProcessError(rc, cell)\n",
      "\u001b[0;31mCalledProcessError\u001b[0m: Command 'b'cd ../image\\nls\\nsingularity build local_tar.sif docker-archive://local.tar\\n'' returned non-zero exit status 255."
     ]
    }
   ],
   "source": [
    "%%bash\n",
    "cd ../image\n",
    "ls\n",
    "time singularity build local_tar.sif docker-archive://local.tar"
   ]
  },
  {
   "cell_type": "markdown",
   "id": "0267f4d3-5d6f-45bd-861f-6e6118befe8d",
   "metadata": {},
   "source": [
    "You need to copy the .tar.gz to scratch, start an interactive shell, and then convert to SIF:"
   ]
  },
  {
   "cell_type": "code",
   "execution_count": 2,
   "id": "34c8b6e7-24ca-402f-85a6-5ad44822e37e",
   "metadata": {},
   "outputs": [],
   "source": [
    "! cp local.tar /scratch/<user-dir>/container/"
   ]
  },
  {
   "cell_type": "markdown",
   "id": "afb57dc8-65e7-4c88-8545-4cd5878051e0",
   "metadata": {},
   "source": [
    "In a shell:\n",
    "\n",
    "    salloc --partition=sequana_gpu_shared --nodes=1 --ntasks=2 --time=30 --job-name test01\n",
    "    ssh sdumontxxxx\n",
    "    cd ...\n",
    "    singularity build pytorch22.03.sif docker-archive://local.tar\n",
    "    ..."
   ]
  },
  {
   "cell_type": "markdown",
   "id": "2d73583e-4d3e-42b8-b228-3c10a905b5f6",
   "metadata": {},
   "source": [
    "Running on the sdumont18:"
   ]
  },
  {
   "cell_type": "code",
   "execution_count": 11,
   "id": "a49bf19b-d8dc-40d3-8268-1264c77f996a",
   "metadata": {},
   "outputs": [
    {
     "name": "stdout",
     "output_type": "stream",
     "text": [
      "Tue Jun 11 14:23:27 2024       \n",
      "+-----------------------------------------------------------------------------+\n",
      "| NVIDIA-SMI 470.82.01    Driver Version: 470.82.01    CUDA Version: 11.6     |\n",
      "|-------------------------------+----------------------+----------------------+\n",
      "| GPU  Name        Persistence-M| Bus-Id        Disp.A | Volatile Uncorr. ECC |\n",
      "| Fan  Temp  Perf  Pwr:Usage/Cap|         Memory-Usage | GPU-Util  Compute M. |\n",
      "|                               |                      |               MIG M. |\n",
      "|===============================+======================+======================|\n",
      "|   0  Tesla V100-PCIE...  Off  | 00000000:3B:00.0 Off |                    0 |\n",
      "| N/A   41C    P0    38W / 250W |      0MiB / 32510MiB |      0%      Default |\n",
      "|                               |                      |                  N/A |\n",
      "+-------------------------------+----------------------+----------------------+\n",
      "|   1  Tesla V100-PCIE...  Off  | 00000000:5E:00.0 Off |                    0 |\n",
      "| N/A   34C    P0    37W / 250W |      0MiB / 32510MiB |      0%      Default |\n",
      "|                               |                      |                  N/A |\n",
      "+-------------------------------+----------------------+----------------------+\n",
      "|   2  Tesla V100-PCIE...  Off  | 00000000:86:00.0 Off |                    0 |\n",
      "| N/A   33C    P0    34W / 250W |      0MiB / 32510MiB |      0%      Default |\n",
      "|                               |                      |                  N/A |\n",
      "+-------------------------------+----------------------+----------------------+\n",
      "|   3  Tesla V100-PCIE...  Off  | 00000000:AF:00.0 Off |                    0 |\n",
      "| N/A   34C    P0    35W / 250W |      0MiB / 32510MiB |      2%      Default |\n",
      "|                               |                      |                  N/A |\n",
      "+-------------------------------+----------------------+----------------------+\n",
      "                                                                               \n",
      "+-----------------------------------------------------------------------------+\n",
      "| Processes:                                                                  |\n",
      "|  GPU   GI   CI        PID   Type   Process name                  GPU Memory |\n",
      "|        ID   ID                                                   Usage      |\n",
      "|=============================================================================|\n",
      "|  No running processes found                                                 |\n",
      "+-----------------------------------------------------------------------------+\n"
     ]
    }
   ],
   "source": [
    "! singularity exec --nv /scratch/ampemi/<urser>/container/pytorch22.03.sif nvidia-smi"
   ]
  },
  {
   "cell_type": "markdown",
   "id": "fbe35b05-8633-424a-b462-47aaf27ce915",
   "metadata": {},
   "source": [
    "Running interactively in a shell:\n",
    "\n",
    "    $ singularity shell --nv pytorch22.03.sif\n",
    "    Singularity> nvidia-smi\n",
    "    Tue Jun 11 11:15:49 2024       \n",
    "    +-----------------------------------------------------------------------------+\n",
    "    | NVIDIA-SMI 470.82.01    Driver Version: 470.82.01    CUDA Version: 11.6     |\n",
    "    |-------------------------------+----------------------+----------------------+\n",
    "    | GPU  Name        Persistence-M| Bus-Id        Disp.A | Volatile Uncorr. ECC |\n",
    "    | Fan  Temp  Perf  Pwr:Usage/Cap|         Memory-Usage | GPU-Util  Compute M. |\n",
    "    |                               |                      |               MIG M. |\n",
    "    |===============================+======================+======================|\n",
    "    |   0  Tesla V100-PCIE...  Off  | 00000000:3B:00.0 Off |                    0 |\n",
    "    | N/A   45C    P0    39W / 250W |      0MiB / 32510MiB |      0%      Default |\n",
    "    |                               |                      |                  N/A |\n",
    "    +-------------------------------+----------------------+----------------------+\n",
    "    |   1  Tesla V100-PCIE...  Off  | 00000000:5E:00.0 Off |                    0 |\n",
    "    | N/A   36C    P0    37W / 250W |      0MiB / 32510MiB |      0%      Default |\n",
    "    |                               |                      |                  N/A |\n",
    "    +-------------------------------+----------------------+----------------------+\n",
    "    |   2  Tesla V100-PCIE...  Off  | 00000000:86:00.0 Off |                    0 |\n",
    "    | N/A   35C    P0    35W / 250W |      0MiB / 32510MiB |      0%      Default |\n",
    "    |                               |                      |                  N/A |\n",
    "    +-------------------------------+----------------------+----------------------+\n",
    "    |   3  Tesla V100-PCIE...  Off  | 00000000:AF:00.0 Off |                    0 |\n",
    "    | N/A   36C    P0    35W / 250W |      0MiB / 32510MiB |      2%      Default |\n",
    "    |                               |                      |                  N/A |\n",
    "    +-------------------------------+----------------------+----------------------+\n",
    "                                                                                   \n",
    "    +-----------------------------------------------------------------------------+\n",
    "    | Processes:                                                                  |\n",
    "    |  GPU   GI   CI        PID   Type   Process name                  GPU Memory |\n",
    "    |        ID   ID                                                   Usage      |\n",
    "    |=============================================================================|\n",
    "    |  No running processes found                                                 |\n",
    "    +-----------------------------------------------------------------------------+\n",
    "    Singularity> "
   ]
  },
  {
   "cell_type": "markdown",
   "id": "63c517a1-e1d2-4f95-82c9-03d6b31f2cec",
   "metadata": {},
   "source": [
    "Check PyTorch:\n",
    "\n",
    "```python\n",
    "$ singularity shell --nv pytorch22.03.sif\n",
    "Singularity> python\n",
    "Python 3.8.12 | packaged by conda-forge | (default, Jan 30 2022, 23:42:07) \n",
    "[GCC 9.4.0] on linux\n",
    "Type \"help\", \"copyright\", \"credits\" or \"license\" for more information.\n",
    ">>> import torch\n",
    ">>> x = torch.rand(5, 3)\n",
    ">>> print(x)\n",
    "tensor([[0.7518, 0.3518, 0.3545],\n",
    "        [0.5821, 0.3066, 0.6131],\n",
    "        [0.0897, 0.5199, 0.5225],\n",
    "        [0.4321, 0.3631, 0.0693],\n",
    "        [0.1293, 0.1515, 0.0600]])\n",
    ">>>\n",
    ">>> import torch\n",
    ">>> torch.cuda.is_available()\n",
    "True\n",
    "```"
   ]
  }
 ],
 "metadata": {
  "kernelspec": {
   "display_name": "Python 3 (ipykernel)",
   "language": "python",
   "name": "python3"
  },
  "language_info": {
   "codemirror_mode": {
    "name": "ipython",
    "version": 3
   },
   "file_extension": ".py",
   "mimetype": "text/x-python",
   "name": "python",
   "nbconvert_exporter": "python",
   "pygments_lexer": "ipython3",
   "version": "3.12.8"
  }
 },
 "nbformat": 4,
 "nbformat_minor": 5
}
