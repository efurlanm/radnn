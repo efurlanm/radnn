{
 "cells": [
  {
   "cell_type": "markdown",
   "id": "f56d36b4-17cb-4d51-bc12-ad2dfde0b155",
   "metadata": {},
   "source": [
    "# Singularity (now Apptainer)\n",
    "\n",
    "*Last edited: 2024-06-09*\n",
    "\n",
    "This Notebook run on SDumont.\n",
    "\n",
    "References:\n",
    "\n",
    "- <https://github.com/LucasFernando-aes/SDumont-UserPOV/blob/main/singularity.md>\n",
    "- <https://github.com/apptainer/singularity/releases/tag/v3.8.5>\n",
    "- <https://apptainer.org/>\n",
    "- <https://guiesbibtic.upf.edu/recerca/hpc/singularity>\n",
    "- <https://pawseysc.github.io/hpc-container-training/13-singularity-intro/>\n",
    "- <https://epcced.github.io/2020-12-08-Containers-Online/aio/index.html>\n",
    "- <https://singularity-tutorial.github.io/02-basic-usage/>\n",
    "- <https://hsf-training.github.io/hsf-training-singularity-webpage/>\n",
    "- <https://catalog.ngc.nvidia.com/orgs/nvidia/containers/pytorch/tags>\n",
    "- <https://docs.sylabs.io/guides/3.8/user-guide/>\n",
    "\n",
    "In November 2021 the Singularity open source project joined the Linux Foundation [and was renamed](https://en.wikipedia.org/wiki/Singularity_(software)) to Apptainer."
   ]
  },
  {
   "cell_type": "code",
   "execution_count": null,
   "id": "1b3ac8dd-47c3-44b3-966b-d621e53b68ab",
   "metadata": {},
   "outputs": [],
   "source": []
  },
  {
   "cell_type": "code",
   "execution_count": 3,
   "id": "9601681d-aafe-442b-a3bf-b69146ab53ab",
   "metadata": {},
   "outputs": [],
   "source": [
    "! module avail -t 2>&1 | grep -i docker"
   ]
  },
  {
   "cell_type": "code",
   "execution_count": 2,
   "id": "e5f3f35b-b7aa-4c7e-bcd6-ab8991ea206b",
   "metadata": {},
   "outputs": [],
   "source": [
    "! module avail -t 2>&1 | grep -i apptainer"
   ]
  },
  {
   "cell_type": "code",
   "execution_count": 1,
   "id": "ccff6753-0687-4e7a-9106-8488c1a8d178",
   "metadata": {},
   "outputs": [
    {
     "name": "stdout",
     "output_type": "stream",
     "text": [
      "parabricks/2.5.0_singularity_sequana\n",
      "parabricks/3.0_singularity_sequana\n"
     ]
    }
   ],
   "source": [
    "! module avail -t 2>&1 | grep -i singularity"
   ]
  },
  {
   "cell_type": "code",
   "execution_count": 4,
   "id": "d4833989-cfbc-4234-ba8e-2bf3890350c9",
   "metadata": {},
   "outputs": [
    {
     "name": "stdout",
     "output_type": "stream",
     "text": [
      "singularity version 3.8.5-1.el7\n"
     ]
    }
   ],
   "source": [
    "! singularity --version"
   ]
  },
  {
   "cell_type": "code",
   "execution_count": 7,
   "id": "ba725959-6857-4b1b-b177-b0aa736ccca1",
   "metadata": {},
   "outputs": [],
   "source": [
    "! rm lolcow_latest.sif"
   ]
  },
  {
   "cell_type": "code",
   "execution_count": 8,
   "id": "8773f836-60e0-476a-914c-a9ec81b28b47",
   "metadata": {
    "scrolled": true
   },
   "outputs": [
    {
     "name": "stdout",
     "output_type": "stream",
     "text": [
      "\u001b[34mINFO:   \u001b[0m Using cached image\n",
      "\u001b[33mWARNING:\u001b[0m integrity: signature not found for object group 1\n",
      "\u001b[33mWARNING:\u001b[0m Skipping container verification\n"
     ]
    }
   ],
   "source": [
    "! singularity pull --force library://godlovedc/funny/lolcow"
   ]
  },
  {
   "cell_type": "code",
   "execution_count": 9,
   "id": "1f553827-9cc6-4bc1-9814-b0ddb5a8da62",
   "metadata": {},
   "outputs": [
    {
     "name": "stdout",
     "output_type": "stream",
     "text": [
      "lolcow_latest.sif\n"
     ]
    }
   ],
   "source": [
    "! ls lolcow_latest.sif"
   ]
  },
  {
   "cell_type": "raw",
   "id": "75cca4e6-a6fa-4eb2-8e77-411dcf75021d",
   "metadata": {},
   "source": [
    "[user.name@sdumont18 container]$ singularity shell lolcow_latest.sif\n",
    "Singularity> cat /etc/os-release\n",
    "NAME=\"Ubuntu\"\n",
    "VERSION=\"16.04.5 LTS (Xenial Xerus)\"\n",
    "ID=ubuntu\n",
    "ID_LIKE=debian\n",
    "PRETTY_NAME=\"Ubuntu 16.04.5 LTS\"\n",
    "VERSION_ID=\"16.04\"\n",
    "HOME_URL=\"http://www.ubuntu.com/\"\n",
    "SUPPORT_URL=\"http://help.ubuntu.com/\"\n",
    "BUG_REPORT_URL=\"http://bugs.launchpad.net/ubuntu/\"\n",
    "VERSION_CODENAME=xenial\n",
    "UBUNTU_CODENAME=xenial\n",
    "Singularity> whoami\n",
    "user.name\n",
    "Singularity> hostname\n",
    "sdumont18\n",
    "Singularity> which cowsay\n",
    "/usr/games/cowsay\n",
    "Singularity> cowsay moo\n",
    " _____\n",
    "< moo >\n",
    " -----\n",
    "        \\   ^__^\n",
    "         \\  (oo)\\_______\n",
    "            (__)\\       )\\/\\\n",
    "                ||----w |\n",
    "                ||     ||\n",
    "Singularity> fortune | cowsay | lolcat\n",
    " ______________________________________\n",
    "/ A few hours grace before the madness \\\n",
    "\\ begins again.                        /\n",
    " --------------------------------------\n",
    "        \\   ^__^\n",
    "         \\  (oo)\\_______\n",
    "            (__)\\       )\\/\\\n",
    "                ||----w |\n",
    "                ||     ||\n",
    "Singularity> exit\n",
    "exit"
   ]
  },
  {
   "cell_type": "markdown",
   "id": "9477dbbf-349b-4d18-8f70-6352637faa9f",
   "metadata": {},
   "source": [
    "https://catalog.ngc.nvidia.com/orgs/nvidia/containers/pytorch/tags\n",
    "\n",
    "nvcr.io/nvidia/pytorch:24.05-py3"
   ]
  },
  {
   "cell_type": "markdown",
   "id": "3854fd47-c82c-43b0-b925-5b606321c555",
   "metadata": {},
   "source": [
    "salloc --partition=sequana_gpu_shared --nodes=1 --ntasks=1 --time=20 --job-name test01\n",
    "ssh sdumontxxxx\n",
    "...\n",
    "exit\n",
    "exit"
   ]
  },
  {
   "cell_type": "code",
   "execution_count": 10,
   "id": "5fdd305c-7ab3-48d0-b021-aee631b47626",
   "metadata": {
    "scrolled": true
   },
   "outputs": [
    {
     "name": "stderr",
     "output_type": "stream",
     "text": [
      "INFO:    Converting OCI blobs to SIF format\n",
      "INFO:    Starting build...\n",
      "Getting image source signatures\n",
      "Copying blob sha256:4d32b49e2995210e8937f0898327f196d3fcc52486f0be920e8b2d65f150a7ab\n",
      "Copying blob sha256:45893188359aca643d5918c9932da995364dc62013dfa40c075298b1baabece3\n",
      "Copying blob sha256:5ad1f2004580e415b998124ea394e9d4072a35d70968118c779f307204d6bd17\n",
      "Copying blob sha256:6ddc1d0f91833b36aac1c6f0c8cea005c87d94bab132d46cc06d9b060a81cca3\n",
      "Copying blob sha256:4cc43a803109d6e9d1fd35495cef9b1257035f5341a2db54f7a1940815b6cc65\n",
      "Copying blob sha256:e94a4481e9334ff402bf90628594f64a426672debbdfb55f1290802e52013907\n",
      "Copying blob sha256:3e7e4c9bc2b136814c20c04feb4eea2b2ecf972e20182d88759931130cfb4181\n",
      "Copying blob sha256:9463aa3f56275af97693df69478a2dc1d171f4e763ca6f7b6f370a35e605c154\n",
      "Copying blob sha256:a4a0c690bc7da07e592514dccaa26098a387e8457f69095e922b6d73f7852502\n",
      "Copying blob sha256:59d451175f6950740e26d38c322da0ef67cb59da63181eb32996f752ba8a2f17\n",
      "Copying blob sha256:eaf45e9f32d1f5a9983945a1a9f8dedbb475bc0f578337610e00b4dedec87c20\n",
      "Copying blob sha256:d8d16d6af76dc7c6b539422a25fdad5efb8ada5a8188069fcd9d113e3b783304\n",
      "Copying blob sha256:9e04bda98b05554953459b5edef7b2b14d32f1a00b979a23d04b6eb5c191e66b\n",
      "Copying blob sha256:4f4fb700ef54461cfa02571ae0db9a0dc1e0cdb5577484a6d75e68dc38e8acc1\n",
      "Copying blob sha256:600169a9eeb90d73300e3d33859c1c9addf9f338bef9513e3ab719f6fbed39a4\n",
      "Copying blob sha256:5ab4a4c795873db7bd60e491a2d47ed74eefc371a3b18fa5f414e0db8a00097b\n",
      "Copying blob sha256:cc9c383bbe7ebe2c84298ba248c4a2a07063d8e691da5a7cc0e1070b7605637d\n",
      "Copying blob sha256:28f0a4457214c419a0e792989a05b32aabfe288a9a4efef8037dfb48232cb483\n",
      "Copying blob sha256:c9fa92ce1ad6b2f970cca3f68af958da9bd4d43c6962b4c91965eac822806e6f\n",
      "Copying blob sha256:6de187d8986c7f6c91fef8d21a0c79adad0ee432cb1ce5aae744a97ea8772817\n",
      "Copying blob sha256:776dd63817184de76e71037b01c4a7308fc60383b005ecb8674f40feeb340f7c\n",
      "Copying blob sha256:fbcec89863dccc0853a6330c22792801bbb3bcd5ca1a2eac1431225247aa0df0\n",
      "Copying blob sha256:cc9bd67c83a553365b3c865d6f18fb564745e1e834ea586381e00bcaf7fda0ad\n",
      "Copying blob sha256:b14fad4790ba71d322ad569201cee7d9d47061d00a6327780ab35f54e6776a7b\n",
      "Copying blob sha256:2e662c1f02bf06572c62a33873a252c6f8525b652efbb9aac0f2f7c3dd8ea69a\n",
      "Copying blob sha256:43fd87c93a0ebf98acce090ad62e17b64131c5ab423bbf1c7470a5e2556b82c2\n",
      "Copying blob sha256:4f4fb700ef54461cfa02571ae0db9a0dc1e0cdb5577484a6d75e68dc38e8acc1\n",
      "Copying blob sha256:c25c11c90147bae2944f754617fb3a0a5f229ec06c0b34950ac00484883a8ca8\n",
      "Copying blob sha256:21f8a0e7678c7cbbf31db6709eaf5836b3719f4a169835d3713ddf9fbb1603a0\n",
      "Copying blob sha256:38498f1bac59aa1fb7e4b2d2d877c0e34530fc46a89c2b1bbad0bee163a87a35\n",
      "Copying blob sha256:be1dcb77f9286f979ca93c0b26303faf62fb21b2c11bf7cc18e32787ca4d5334\n",
      "Copying blob sha256:cbb8b770c5f1e4625ff08b99a18727afaf2ddf6eec76d286707c57d711f1da6f\n",
      "Copying blob sha256:570f80eab64d63e287848f4a3b9ac296e25705b1cff50b43d5952a10c67db4b5\n",
      "Copying blob sha256:3a68c3ed38b19cf1703a07884dd48edaa36092168a66158cb667601f0c0f1e75\n",
      "Copying blob sha256:44048c6af4c5854ae49eaa5d53a3d4b9d6512bd86adb2ef4b80bff57a142435f\n",
      "Copying blob sha256:aa81cbfe793ba3f5f8cb8d51d767a9c1f1751330cd0a0ecf2762174d47fe5040\n",
      "Copying blob sha256:7be5ff0e99ab9df9c87bae696e9239d7243bc3e5402dd395c3d55918dee1f657\n",
      "Copying blob sha256:fcaebb8600f0c3e3376fef56367157ef5da709a6fead68fa8c35ed42131f3791\n",
      "Copying blob sha256:5fcfa55efbe2472b0b583ddf5acea5eda40794790f423674344f8b9653cb3d90\n",
      "Copying blob sha256:30e2d0565dc130b264c65f9e95ae85ae224704dce0b7db126a5fa5c67f21f699\n",
      "Copying blob sha256:57161218948176f4f07c6b16766865e5ecfeb7448012dd916075fb94515e8aaf\n",
      "Copying blob sha256:41b60602350725f54c02464b531716dce2cfc89b49d66c44c4c53c569af61e1a\n",
      "Copying blob sha256:b46fc2bc95278510284270b1aef27fc6ae0ef55327ebfd12fc828a1999b9304c\n",
      "Copying blob sha256:218cc4dc57a5517d9e53c13465ab5d77e08b573887f398d98cce50426ae57a5d\n",
      "Copying blob sha256:312f4a0d232a53f78011e825559e0d89d68ef02d167c8221e6c96e64e2593f80\n",
      "Copying blob sha256:e4b105bef9a0766afe27b5916b8ef14766141736c58717420f59522db978d718\n",
      "Copying blob sha256:775c8d6f4c5131589a3055f9fb656c4072d07646ba713a4ff1da1a39f3585a0c\n",
      "Copying config sha256:5c38bbe3758d2bf477bbaabc1d4c93b4d9f7cef0332fc829488ccecff7024cd6\n",
      "Writing manifest to image destination\n",
      "Storing signatures\n",
      "2024/06/10 11:08:08  info unpack layer: sha256:4d32b49e2995210e8937f0898327f196d3fcc52486f0be920e8b2d65f150a7ab\n",
      "2024/06/10 11:08:08  info unpack layer: sha256:45893188359aca643d5918c9932da995364dc62013dfa40c075298b1baabece3\n",
      "2024/06/10 11:08:11  info unpack layer: sha256:5ad1f2004580e415b998124ea394e9d4072a35d70968118c779f307204d6bd17\n",
      "2024/06/10 11:08:13  info unpack layer: sha256:6ddc1d0f91833b36aac1c6f0c8cea005c87d94bab132d46cc06d9b060a81cca3\n",
      "2024/06/10 11:08:13  info unpack layer: sha256:4cc43a803109d6e9d1fd35495cef9b1257035f5341a2db54f7a1940815b6cc65\n",
      "2024/06/10 11:08:53  info unpack layer: sha256:e94a4481e9334ff402bf90628594f64a426672debbdfb55f1290802e52013907\n",
      "2024/06/10 11:08:53  info unpack layer: sha256:3e7e4c9bc2b136814c20c04feb4eea2b2ecf972e20182d88759931130cfb4181\n",
      "2024/06/10 11:08:53  info unpack layer: sha256:9463aa3f56275af97693df69478a2dc1d171f4e763ca6f7b6f370a35e605c154\n",
      "2024/06/10 11:08:53  info unpack layer: sha256:a4a0c690bc7da07e592514dccaa26098a387e8457f69095e922b6d73f7852502\n",
      "2024/06/10 11:08:53  info unpack layer: sha256:59d451175f6950740e26d38c322da0ef67cb59da63181eb32996f752ba8a2f17\n",
      "2024/06/10 11:08:54  info unpack layer: sha256:eaf45e9f32d1f5a9983945a1a9f8dedbb475bc0f578337610e00b4dedec87c20\n",
      "2024/06/10 11:08:56  info unpack layer: sha256:d8d16d6af76dc7c6b539422a25fdad5efb8ada5a8188069fcd9d113e3b783304\n",
      "2024/06/10 11:08:56  info unpack layer: sha256:9e04bda98b05554953459b5edef7b2b14d32f1a00b979a23d04b6eb5c191e66b\n",
      "2024/06/10 11:09:01  info unpack layer: sha256:4f4fb700ef54461cfa02571ae0db9a0dc1e0cdb5577484a6d75e68dc38e8acc1\n",
      "2024/06/10 11:09:01  info unpack layer: sha256:600169a9eeb90d73300e3d33859c1c9addf9f338bef9513e3ab719f6fbed39a4\n",
      "2024/06/10 11:09:02  info unpack layer: sha256:5ab4a4c795873db7bd60e491a2d47ed74eefc371a3b18fa5f414e0db8a00097b\n",
      "2024/06/10 11:09:18  info unpack layer: sha256:cc9c383bbe7ebe2c84298ba248c4a2a07063d8e691da5a7cc0e1070b7605637d\n",
      "2024/06/10 11:09:18  info unpack layer: sha256:28f0a4457214c419a0e792989a05b32aabfe288a9a4efef8037dfb48232cb483\n",
      "2024/06/10 11:09:18  info unpack layer: sha256:c9fa92ce1ad6b2f970cca3f68af958da9bd4d43c6962b4c91965eac822806e6f\n",
      "2024/06/10 11:09:27  info unpack layer: sha256:6de187d8986c7f6c91fef8d21a0c79adad0ee432cb1ce5aae744a97ea8772817\n",
      "2024/06/10 11:09:27  info unpack layer: sha256:776dd63817184de76e71037b01c4a7308fc60383b005ecb8674f40feeb340f7c\n",
      "2024/06/10 11:09:30  info unpack layer: sha256:fbcec89863dccc0853a6330c22792801bbb3bcd5ca1a2eac1431225247aa0df0\n",
      "2024/06/10 11:09:30  info unpack layer: sha256:cc9bd67c83a553365b3c865d6f18fb564745e1e834ea586381e00bcaf7fda0ad\n",
      "2024/06/10 11:09:30  info unpack layer: sha256:b14fad4790ba71d322ad569201cee7d9d47061d00a6327780ab35f54e6776a7b\n",
      "2024/06/10 11:09:32  warn rootless{usr/local/nvm/versions/node/v16.6.1/bin/npm} ignoring (usually) harmless EPERM on setxattr \"user.rootlesscontainers\"\n",
      "2024/06/10 11:09:32  warn rootless{usr/local/nvm/versions/node/v16.6.1/bin/npx} ignoring (usually) harmless EPERM on setxattr \"user.rootlesscontainers\"\n",
      "2024/06/10 11:09:32  info unpack layer: sha256:2e662c1f02bf06572c62a33873a252c6f8525b652efbb9aac0f2f7c3dd8ea69a\n",
      "2024/06/10 11:09:32  info unpack layer: sha256:43fd87c93a0ebf98acce090ad62e17b64131c5ab423bbf1c7470a5e2556b82c2\n",
      "2024/06/10 11:09:35  info unpack layer: sha256:4f4fb700ef54461cfa02571ae0db9a0dc1e0cdb5577484a6d75e68dc38e8acc1\n",
      "2024/06/10 11:09:35  info unpack layer: sha256:c25c11c90147bae2944f754617fb3a0a5f229ec06c0b34950ac00484883a8ca8\n",
      "2024/06/10 11:09:36  info unpack layer: sha256:21f8a0e7678c7cbbf31db6709eaf5836b3719f4a169835d3713ddf9fbb1603a0\n",
      "2024/06/10 11:09:36  info unpack layer: sha256:38498f1bac59aa1fb7e4b2d2d877c0e34530fc46a89c2b1bbad0bee163a87a35\n",
      "2024/06/10 11:09:51  info unpack layer: sha256:be1dcb77f9286f979ca93c0b26303faf62fb21b2c11bf7cc18e32787ca4d5334\n",
      "2024/06/10 11:10:04  info unpack layer: sha256:cbb8b770c5f1e4625ff08b99a18727afaf2ddf6eec76d286707c57d711f1da6f\n",
      "2024/06/10 11:10:04  info unpack layer: sha256:570f80eab64d63e287848f4a3b9ac296e25705b1cff50b43d5952a10c67db4b5\n",
      "2024/06/10 11:10:04  info unpack layer: sha256:3a68c3ed38b19cf1703a07884dd48edaa36092168a66158cb667601f0c0f1e75\n",
      "2024/06/10 11:10:07  info unpack layer: sha256:44048c6af4c5854ae49eaa5d53a3d4b9d6512bd86adb2ef4b80bff57a142435f\n",
      "2024/06/10 11:10:07  info unpack layer: sha256:aa81cbfe793ba3f5f8cb8d51d767a9c1f1751330cd0a0ecf2762174d47fe5040\n",
      "2024/06/10 11:10:13  warn rootless{usr/include/rapids/libcxx/include} ignoring (usually) harmless EPERM on setxattr \"user.rootlesscontainers\"\n",
      "2024/06/10 11:10:14  warn rootless{usr/lib/libarrow.so} ignoring (usually) harmless EPERM on setxattr \"user.rootlesscontainers\"\n",
      "2024/06/10 11:10:14  warn rootless{usr/lib/libarrow.so.500} ignoring (usually) harmless EPERM on setxattr \"user.rootlesscontainers\"\n",
      "2024/06/10 11:10:14  warn rootless{usr/lib/libarrow_cuda.so} ignoring (usually) harmless EPERM on setxattr \"user.rootlesscontainers\"\n",
      "2024/06/10 11:10:14  warn rootless{usr/lib/libarrow_cuda.so.500} ignoring (usually) harmless EPERM on setxattr \"user.rootlesscontainers\"\n",
      "2024/06/10 11:10:14  warn rootless{usr/lib/libarrow_dataset.so} ignoring (usually) harmless EPERM on setxattr \"user.rootlesscontainers\"\n",
      "2024/06/10 11:10:14  warn rootless{usr/lib/libarrow_dataset.so.500} ignoring (usually) harmless EPERM on setxattr \"user.rootlesscontainers\"\n",
      "2024/06/10 11:10:14  warn rootless{usr/lib/libarrow_python.so} ignoring (usually) harmless EPERM on setxattr \"user.rootlesscontainers\"\n",
      "2024/06/10 11:10:14  warn rootless{usr/lib/libarrow_python.so.500} ignoring (usually) harmless EPERM on setxattr \"user.rootlesscontainers\"\n",
      "2024/06/10 11:10:31  warn rootless{usr/lib/libparquet.so} ignoring (usually) harmless EPERM on setxattr \"user.rootlesscontainers\"\n",
      "2024/06/10 11:10:31  warn rootless{usr/lib/libparquet.so.500} ignoring (usually) harmless EPERM on setxattr \"user.rootlesscontainers\"\n",
      "2024/06/10 11:10:35  info unpack layer: sha256:7be5ff0e99ab9df9c87bae696e9239d7243bc3e5402dd395c3d55918dee1f657\n",
      "2024/06/10 11:10:35  info unpack layer: sha256:fcaebb8600f0c3e3376fef56367157ef5da709a6fead68fa8c35ed42131f3791\n",
      "2024/06/10 11:10:35  info unpack layer: sha256:5fcfa55efbe2472b0b583ddf5acea5eda40794790f423674344f8b9653cb3d90\n",
      "2024/06/10 11:10:35  info unpack layer: sha256:30e2d0565dc130b264c65f9e95ae85ae224704dce0b7db126a5fa5c67f21f699\n",
      "2024/06/10 11:10:36  info unpack layer: sha256:57161218948176f4f07c6b16766865e5ecfeb7448012dd916075fb94515e8aaf\n",
      "2024/06/10 11:10:36  info unpack layer: sha256:41b60602350725f54c02464b531716dce2cfc89b49d66c44c4c53c569af61e1a\n",
      "2024/06/10 11:10:36  info unpack layer: sha256:b46fc2bc95278510284270b1aef27fc6ae0ef55327ebfd12fc828a1999b9304c\n",
      "2024/06/10 11:10:36  info unpack layer: sha256:218cc4dc57a5517d9e53c13465ab5d77e08b573887f398d98cce50426ae57a5d\n",
      "2024/06/10 11:10:37  info unpack layer: sha256:312f4a0d232a53f78011e825559e0d89d68ef02d167c8221e6c96e64e2593f80\n",
      "2024/06/10 11:10:37  info unpack layer: sha256:e4b105bef9a0766afe27b5916b8ef14766141736c58717420f59522db978d718\n",
      "2024/06/10 11:10:37  info unpack layer: sha256:775c8d6f4c5131589a3055f9fb656c4072d07646ba713a4ff1da1a39f3585a0c\n",
      "INFO:    Creating SIF file...\n",
      "FATAL:   While making image from oci registry: error fetching image to cache: while building SIF from layers: while creating squashfs: create command failed: signal: killed: \n"
     ]
    },
    {
     "ename": "CalledProcessError",
     "evalue": "Command 'b\"export SINGULARITY_DOCKER_USERNAME='$oauthtoken'\\nexport SINGULARITY_DOCKER_PASSWORD=MzZ0ZmRtcWFkMXZsaWNnN2NmYTVsZTk4Nm06OTcwZGNhYjYtNjcyNy00OTQ0LTgxYzMtZDBmZmEwNDZmZWU1\\nsingularity pull pytorch22.03.sif docker://nvcr.io/nvidia/pytorch:22.03-py3\\n\"' returned non-zero exit status 255.",
     "output_type": "error",
     "traceback": [
      "\u001b[0;31m---------------------------------------------------------------------------\u001b[0m",
      "\u001b[0;31mCalledProcessError\u001b[0m                        Traceback (most recent call last)",
      "Cell \u001b[0;32mIn[10], line 1\u001b[0m\n\u001b[0;32m----> 1\u001b[0m \u001b[43mget_ipython\u001b[49m\u001b[43m(\u001b[49m\u001b[43m)\u001b[49m\u001b[38;5;241;43m.\u001b[39;49m\u001b[43mrun_cell_magic\u001b[49m\u001b[43m(\u001b[49m\u001b[38;5;124;43m'\u001b[39;49m\u001b[38;5;124;43mbash\u001b[39;49m\u001b[38;5;124;43m'\u001b[39;49m\u001b[43m,\u001b[49m\u001b[43m \u001b[49m\u001b[38;5;124;43m'\u001b[39;49m\u001b[38;5;124;43m'\u001b[39;49m\u001b[43m,\u001b[49m\u001b[43m \u001b[49m\u001b[38;5;124;43m\"\u001b[39;49m\u001b[38;5;124;43mexport SINGULARITY_DOCKER_USERNAME=\u001b[39;49m\u001b[38;5;124;43m'\u001b[39;49m\u001b[38;5;124;43m$oauthtoken\u001b[39;49m\u001b[38;5;124;43m'\u001b[39;49m\u001b[38;5;130;43;01m\\n\u001b[39;49;00m\u001b[38;5;124;43mexport SINGULARITY_DOCKER_PASSWORD=MzZ0ZmRtcWFkMXZsaWNnN2NmYTVsZTk4Nm06OTcwZGNhYjYtNjcyNy00OTQ0LTgxYzMtZDBmZmEwNDZmZWU1\u001b[39;49m\u001b[38;5;130;43;01m\\n\u001b[39;49;00m\u001b[38;5;124;43msingularity pull pytorch22.03.sif docker://nvcr.io/nvidia/pytorch:22.03-py3\u001b[39;49m\u001b[38;5;130;43;01m\\n\u001b[39;49;00m\u001b[38;5;124;43m\"\u001b[39;49m\u001b[43m)\u001b[49m\n",
      "File \u001b[0;32m~/miniconda3/lib/python3.11/site-packages/IPython/core/interactiveshell.py:2517\u001b[0m, in \u001b[0;36mInteractiveShell.run_cell_magic\u001b[0;34m(self, magic_name, line, cell)\u001b[0m\n\u001b[1;32m   2515\u001b[0m \u001b[38;5;28;01mwith\u001b[39;00m \u001b[38;5;28mself\u001b[39m\u001b[38;5;241m.\u001b[39mbuiltin_trap:\n\u001b[1;32m   2516\u001b[0m     args \u001b[38;5;241m=\u001b[39m (magic_arg_s, cell)\n\u001b[0;32m-> 2517\u001b[0m     result \u001b[38;5;241m=\u001b[39m \u001b[43mfn\u001b[49m\u001b[43m(\u001b[49m\u001b[38;5;241;43m*\u001b[39;49m\u001b[43margs\u001b[49m\u001b[43m,\u001b[49m\u001b[43m \u001b[49m\u001b[38;5;241;43m*\u001b[39;49m\u001b[38;5;241;43m*\u001b[39;49m\u001b[43mkwargs\u001b[49m\u001b[43m)\u001b[49m\n\u001b[1;32m   2519\u001b[0m \u001b[38;5;66;03m# The code below prevents the output from being displayed\u001b[39;00m\n\u001b[1;32m   2520\u001b[0m \u001b[38;5;66;03m# when using magics with decorator @output_can_be_silenced\u001b[39;00m\n\u001b[1;32m   2521\u001b[0m \u001b[38;5;66;03m# when the last Python token in the expression is a ';'.\u001b[39;00m\n\u001b[1;32m   2522\u001b[0m \u001b[38;5;28;01mif\u001b[39;00m \u001b[38;5;28mgetattr\u001b[39m(fn, magic\u001b[38;5;241m.\u001b[39mMAGIC_OUTPUT_CAN_BE_SILENCED, \u001b[38;5;28;01mFalse\u001b[39;00m):\n",
      "File \u001b[0;32m~/miniconda3/lib/python3.11/site-packages/IPython/core/magics/script.py:154\u001b[0m, in \u001b[0;36mScriptMagics._make_script_magic.<locals>.named_script_magic\u001b[0;34m(line, cell)\u001b[0m\n\u001b[1;32m    152\u001b[0m \u001b[38;5;28;01melse\u001b[39;00m:\n\u001b[1;32m    153\u001b[0m     line \u001b[38;5;241m=\u001b[39m script\n\u001b[0;32m--> 154\u001b[0m \u001b[38;5;28;01mreturn\u001b[39;00m \u001b[38;5;28;43mself\u001b[39;49m\u001b[38;5;241;43m.\u001b[39;49m\u001b[43mshebang\u001b[49m\u001b[43m(\u001b[49m\u001b[43mline\u001b[49m\u001b[43m,\u001b[49m\u001b[43m \u001b[49m\u001b[43mcell\u001b[49m\u001b[43m)\u001b[49m\n",
      "File \u001b[0;32m~/miniconda3/lib/python3.11/site-packages/IPython/core/magics/script.py:314\u001b[0m, in \u001b[0;36mScriptMagics.shebang\u001b[0;34m(self, line, cell)\u001b[0m\n\u001b[1;32m    309\u001b[0m \u001b[38;5;28;01mif\u001b[39;00m args\u001b[38;5;241m.\u001b[39mraise_error \u001b[38;5;129;01mand\u001b[39;00m p\u001b[38;5;241m.\u001b[39mreturncode \u001b[38;5;241m!=\u001b[39m \u001b[38;5;241m0\u001b[39m:\n\u001b[1;32m    310\u001b[0m     \u001b[38;5;66;03m# If we get here and p.returncode is still None, we must have\u001b[39;00m\n\u001b[1;32m    311\u001b[0m     \u001b[38;5;66;03m# killed it but not yet seen its return code. We don't wait for it,\u001b[39;00m\n\u001b[1;32m    312\u001b[0m     \u001b[38;5;66;03m# in case it's stuck in uninterruptible sleep. -9 = SIGKILL\u001b[39;00m\n\u001b[1;32m    313\u001b[0m     rc \u001b[38;5;241m=\u001b[39m p\u001b[38;5;241m.\u001b[39mreturncode \u001b[38;5;129;01mor\u001b[39;00m \u001b[38;5;241m-\u001b[39m\u001b[38;5;241m9\u001b[39m\n\u001b[0;32m--> 314\u001b[0m     \u001b[38;5;28;01mraise\u001b[39;00m CalledProcessError(rc, cell)\n",
      "\u001b[0;31mCalledProcessError\u001b[0m: Command 'b\"export SINGULARITY_DOCKER_USERNAME='$oauthtoken'\\nexport SINGULARITY_DOCKER_PASSWORD=MzZ0ZmRtcWFkMXZsaWNnN2NmYTVsZTk4Nm06OTcwZGNhYjYtNjcyNy00OTQ0LTgxYzMtZDBmZmEwNDZmZWU1\\nsingularity pull pytorch22.03.sif docker://nvcr.io/nvidia/pytorch:22.03-py3\\n\"' returned non-zero exit status 255."
     ]
    }
   ],
   "source": [
    "%%bash\n",
    "export SINGULARITY_DOCKER_USERNAME='$oauthtoken'\n",
    "export SINGULARITY_DOCKER_PASSWORD=MzZ0ZmRtcWFkMXZsaWNnN2NmYTVsZTk4Nm06OTcwZGNhYjYtNjcyNy00OTQ0LTgxYzMtZDBmZmEwNDZmZWU1\n",
    "time singularity pull pytorch22.03.sif docker://nvcr.io/nvidia/pytorch:22.03-py3"
   ]
  },
  {
   "cell_type": "markdown",
   "id": "0e3b7955-3f94-49ac-b4ce-2821d5f9ea5a",
   "metadata": {},
   "source": [
    "- não funciona\n",
    "- aparentemente dá timeout no nó de login\n",
    "- testado no sdumont13, e sdumont18\n",
    "- usando Job Interativo (salloc) também não funciona, a mensagem de erro é que não conseguiu autenticar no repositório da nvidia\n",
    "- o singularity é antigo, de 2021"
   ]
  },
  {
   "cell_type": "markdown",
   "id": "324f5b58-a7ad-4b47-862e-7195acac1728",
   "metadata": {},
   "source": [
    "Em uma máquina local tem que usar o Docker para baixar a imagem, converter para .tar, e depois copia para o SDumont:\n",
    "\n",
    "    docker login nvcr.io\n",
    "    USERNAME='$oauthtoken'\n",
    "    PASSWORD=MzZ0ZmRtcWFkMXZsaWNnN2NmYTVsZTk4Nm06OTcwZGNhYjYtNjcyNy00OTQ0LTgxYzMtZDBmZmEwNDZmZWU1\n",
    "    time docker pull nvcr.io/nvidia/pytorch:22.03-py3\n",
    "    sudo docker save 4730bc516b92 -o local.tar"
   ]
  },
  {
   "cell_type": "code",
   "execution_count": null,
   "id": "c828725e-45d8-497c-8b62-95b7c86e03fb",
   "metadata": {},
   "outputs": [],
   "source": []
  }
 ],
 "metadata": {
  "kernelspec": {
   "display_name": "Python 3 (ipykernel)",
   "language": "python",
   "name": "python3"
  },
  "language_info": {
   "codemirror_mode": {
    "name": "ipython",
    "version": 3
   },
   "file_extension": ".py",
   "mimetype": "text/x-python",
   "name": "python",
   "nbconvert_exporter": "python",
   "pygments_lexer": "ipython3",
   "version": "3.12.2"
  }
 },
 "nbformat": 4,
 "nbformat_minor": 5
}
