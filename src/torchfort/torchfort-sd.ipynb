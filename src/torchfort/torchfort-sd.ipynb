{
 "cells": [
  {
   "cell_type": "markdown",
   "id": "b78ca713-7087-4033-9863-6501173b1219",
   "metadata": {},
   "source": [
    "## Container: torchfort_v4.sif"
   ]
  },
  {
   "cell_type": "code",
   "execution_count": 1,
   "id": "c89b0dc4-7b7c-4b72-ab50-b84f9905a85e",
   "metadata": {},
   "outputs": [
    {
     "name": "stdout",
     "output_type": "stream",
     "text": [
      "Thu May 15 13:23:51 2025       \n",
      "+-----------------------------------------------------------------------------------------+\n",
      "| NVIDIA-SMI 560.35.03              Driver Version: 560.35.03      CUDA Version: 12.6     |\n",
      "|-----------------------------------------+------------------------+----------------------+\n",
      "| GPU  Name                 Persistence-M | Bus-Id          Disp.A | Volatile Uncorr. ECC |\n",
      "| Fan  Temp   Perf          Pwr:Usage/Cap |           Memory-Usage | GPU-Util  Compute M. |\n",
      "|                                         |                        |               MIG M. |\n",
      "|=========================================+========================+======================|\n",
      "|   0  Tesla V100-PCIE-32GB           On  |   00000000:3B:00.0 Off |                    0 |\n",
      "| N/A   32C    P0             25W /  250W |       1MiB /  32768MiB |      0%      Default |\n",
      "|                                         |                        |                  N/A |\n",
      "+-----------------------------------------+------------------------+----------------------+\n",
      "|   1  Tesla V100-PCIE-32GB           On  |   00000000:5E:00.0 Off |                    0 |\n",
      "| N/A   26C    P0             23W /  250W |       1MiB /  32768MiB |      0%      Default |\n",
      "|                                         |                        |                  N/A |\n",
      "+-----------------------------------------+------------------------+----------------------+\n",
      "|   2  Tesla V100-PCIE-32GB           On  |   00000000:86:00.0 Off |                    0 |\n",
      "| N/A   25C    P0             25W /  250W |       1MiB /  32768MiB |      0%      Default |\n",
      "|                                         |                        |                  N/A |\n",
      "+-----------------------------------------+------------------------+----------------------+\n",
      "|   3  Tesla V100-PCIE-32GB           On  |   00000000:AF:00.0 Off |                    0 |\n",
      "| N/A   25C    P0             24W /  250W |       1MiB /  32768MiB |      0%      Default |\n",
      "|                                         |                        |                  N/A |\n",
      "+-----------------------------------------+------------------------+----------------------+\n",
      "                                                                                         \n",
      "+-----------------------------------------------------------------------------------------+\n",
      "| Processes:                                                                              |\n",
      "|  GPU   GI   CI        PID   Type   Process name                              GPU Memory |\n",
      "|        ID   ID                                                               Usage      |\n",
      "|=========================================================================================|\n",
      "|  No running processes found                                                             |\n",
      "+-----------------------------------------------------------------------------------------+\n"
     ]
    }
   ],
   "source": [
    "%%bash\n",
    "singularity shell --nv $HOME/containers/torchfort_v4.sif\n",
    "nvidia-smi\n",
    "exit"
   ]
  },
  {
   "cell_type": "markdown",
   "id": "17d165d8-4971-41a5-993a-219993ecc056",
   "metadata": {},
   "source": [
    "## Equivalences Docker (D) vs Singularity (S)\n",
    "\n",
    "    --gpus=all → On Singularity, we use --nv to enable NVIDIA GPUs.\n",
    "    -v /host:/container → On Singularity, we use --bind /host:/container.\n",
    "    -p → Singularity doesn't manage ports directly like Docker, so it needs alternatives like external SSH redirection.\n",
    "    --user 1000:1000 → Singularity inherits the system user, so there is no need to set a user ID.\n",
    "\n",
    "\n",
    "| **Docker**                        | **Singularity**                          |\n",
    "|------------------------------------|------------------------------------------|\n",
    "| `docker run -d --name t01 image`  | `singularity instance start image.sif t01` |\n",
    "| `docker exec -it t01 bash`        | `singularity exec instance://t01 bash` |\n",
    "| `docker stop t01`                 | `singularity instance stop t01` |\n",
    "\n",
    "- In Singularity, when stopping the instance, the changes are lost. You need to save first with the command: `singularity build new_container.sif torchfort_v4.sif`\n",
    "- Singularity automatically mounts the host directories: `$HOME, $PWD, /tmp, /var/tmp, /proc, /sys, /dev, /etc/resolv.conf, /etc/passwd, /etc/group`\n",
    "- In Singularity, containers run in the same network namespace as the host system, so access can be more direct than in containers like Docker.\n",
    "- On Singularity, by default, images (.sif) are read-only. To be able to write to them, you can mount directories on the host using --bind, use a writable tmpfs overlay filesystem that allocates a small amount of RAM for this purpose with --writable-tmpfs, create an overlay (like a union filesystem) with an external file and using --overlay, and create a directory as a container using --sandbox.\n",
    "- The Singularity container automatically mounts the instance's `$HOME` as the host's `$HOME`, so it ends up mixing files used by both the container and the host in `$HOME`. This behavior may not always be desirable, especially if the operating systems and software used in the container and the host are different. An example is the conda environment, which may exist in the host's `$HOME` and another environment in the container. In this case it would be better to use the `--no-home` flag and mount the host's `$HOME` in `mnt/`, e.g. with the `--bind $HOME:/mnt/x` flag."
   ]
  },
  {
   "cell_type": "markdown",
   "id": "cbfa9cc9-5868-4191-a692-241fbfb84e57",
   "metadata": {},
   "source": [
    "Interactive:"
   ]
  },
  {
   "cell_type": "markdown",
   "id": "99afd566-466d-4663-bbc5-0a8101a0b73e",
   "metadata": {},
   "source": [
    "singularity run --nv $HOME/containers/torchfort_v4.sif"
   ]
  },
  {
   "cell_type": "markdown",
   "id": "cd2eb12d-2135-4672-bfaa-009ec0911b6c",
   "metadata": {},
   "source": [
    "Background run:"
   ]
  },
  {
   "cell_type": "code",
   "execution_count": 3,
   "id": "638b9450-0cce-43e5-9990-4f2d94cd8d64",
   "metadata": {},
   "outputs": [
    {
     "name": "stdout",
     "output_type": "stream",
     "text": [
      "\u001b[34mINFO:   \u001b[0m Instance stats will not be available - system configuration does not support cgroup management.\n",
      "\u001b[34mINFO:   \u001b[0m instance started successfully\n"
     ]
    }
   ],
   "source": [
    "! singularity instance start --nv $HOME/containers/torchfort_v4.sif t01"
   ]
  },
  {
   "cell_type": "markdown",
   "id": "81fadab7-fdae-49b2-bc0c-484e170d7471",
   "metadata": {},
   "source": [
    "Other commands:"
   ]
  },
  {
   "cell_type": "code",
   "execution_count": 5,
   "id": "45f65ea8-bbb5-451b-9f1b-95a44597f2c6",
   "metadata": {},
   "outputs": [
    {
     "name": "stdout",
     "output_type": "stream",
     "text": [
      "/prj/ampemi/eduardo.miranda2/radnn/src/torchfort\n"
     ]
    }
   ],
   "source": [
    "! singularity exec instance://t01 pwd"
   ]
  },
  {
   "cell_type": "code",
   "execution_count": 7,
   "id": "e42ad82e-ba95-4d5f-ba1e-6865f0f06a44",
   "metadata": {},
   "outputs": [],
   "source": [
    "%%bash\n",
    "singularity exec instance://t01 \\\n",
    "    jupyter-lab \\\n",
    "    --no-browser \\\n",
    "    --notebook-dir=/ \\\n",
    "    --IdentityProvider.token='' --ServerApp.password='' \\\n",
    "    --ip=0.0.0.0 --port=8895 \\\n",
    "    >/dev/null 2>&1 &"
   ]
  },
  {
   "cell_type": "code",
   "execution_count": 2,
   "id": "5c009042-9741-4af8-b88b-fca1adb4f84c",
   "metadata": {},
   "outputs": [
    {
     "name": "stdout",
     "output_type": "stream",
     "text": [
      "\u001b[34mINFO:   \u001b[0m Stopping t01 instance of /home/x/containers/torchfort_v05.sif (PID=4914)\n"
     ]
    }
   ],
   "source": [
    "! singularity instance stop t01"
   ]
  },
  {
   "cell_type": "code",
   "execution_count": 4,
   "id": "422070e5-aa50-4d22-8b85-a9c9ecac58a6",
   "metadata": {},
   "outputs": [
    {
     "name": "stdout",
     "output_type": "stream",
     "text": [
      "INSTANCE NAME    PID        IP    IMAGE\n",
      "t01              2239860          /prj/ampemi/eduardo.miranda2/containers/torchfort_v4.sif\n"
     ]
    }
   ],
   "source": [
    "! singularity instance list"
   ]
  },
  {
   "cell_type": "code",
   "execution_count": null,
   "id": "56a76dad-1f1d-411a-b4d2-323d3777c030",
   "metadata": {},
   "outputs": [],
   "source": [
    "! singularity build new_container.sif torchfort_v4.sif"
   ]
  }
 ],
 "metadata": {
  "kernelspec": {
   "display_name": "Python 3 (ipykernel)",
   "language": "python",
   "name": "python3"
  },
  "language_info": {
   "codemirror_mode": {
    "name": "ipython",
    "version": 3
   },
   "file_extension": ".py",
   "mimetype": "text/x-python",
   "name": "python",
   "nbconvert_exporter": "python",
   "pygments_lexer": "ipython3",
   "version": "3.12.5"
  }
 },
 "nbformat": 4,
 "nbformat_minor": 5
}
