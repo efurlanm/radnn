{
 "cells": [
  {
   "cell_type": "markdown",
   "id": "4d2ba297-cc1c-41ac-9c65-7f5d1ceaa024",
   "metadata": {},
   "source": [
    "Local machine"
   ]
  },
  {
   "cell_type": "markdown",
   "id": "55c5e353-da4a-45bc-b225-74aa1744ba21",
   "metadata": {},
   "source": [
    "gfortran setup"
   ]
  },
  {
   "cell_type": "code",
   "execution_count": 2,
   "id": "5a51b9f6-1305-47a1-8251-1e79e9badb3a",
   "metadata": {},
   "outputs": [
    {
     "name": "stdout",
     "output_type": "stream",
     "text": [
      "Reading package lists... Done\n",
      "Building dependency tree... Done\n",
      "Reading state information... Done\n",
      "The following additional packages will be installed:\n",
      "  gcc-11-offload-nvptx libgomp-plugin-nvptx1 nvptx-tools\n",
      "Suggested packages:\n",
      "  libcuda1 | libnvidia-tesla-cuda1 | libcuda1-any nvidia-cuda-toolkit\n",
      "The following NEW packages will be installed:\n",
      "  gcc-11-offload-nvptx gcc-offload-nvptx libgomp-plugin-nvptx1 nvptx-tools\n",
      "0 upgraded, 4 newly installed, 0 to remove and 83 not upgraded.\n",
      "Need to get 10.4 MB of archives.\n",
      "After this operation, 58.7 MB of additional disk space will be used.\n",
      "Get:1 http://archive.ubuntu.com/ubuntu jammy/universe amd64 nvptx-tools amd64 0.20180301-1build1 [28.2 kB]\n",
      "Get:2 http://archive.ubuntu.com/ubuntu jammy-updates/universe amd64 libgomp-plugin-nvptx1 amd64 12.3.0-1ubuntu1~22.04 [14.9 kB]\n",
      "Get:3 http://archive.ubuntu.com/ubuntu jammy-updates/universe amd64 gcc-11-offload-nvptx amd64 11.4.0-1ubuntu1~22.04 [10.4 MB]\n",
      "Get:4 http://archive.ubuntu.com/ubuntu jammy/universe amd64 gcc-offload-nvptx amd64 4:11.2.0-1ubuntu1 [974 B]\n",
      "Fetched 10.4 MB in 3s (3564 kB/s)\n",
      "debconf: delaying package configuration, since apt-utils is not installed\n",
      "\n",
      "\u001b7\u001b[0;23r\u001b8\u001b[1ASelecting previously unselected package nvptx-tools.\n",
      "(Reading database ... 27419 files and directories currently installed.)\n",
      "Preparing to unpack .../nvptx-tools_0.20180301-1build1_amd64.deb ...\n",
      "\u001b7\u001b[24;0f\u001b[42m\u001b[30mProgress: [  0%]\u001b[49m\u001b[39m [..........................................................] \u001b8\u001b7\u001b[24;0f\u001b[42m\u001b[30mProgress: [  6%]\u001b[49m\u001b[39m [###.......................................................] \u001b8Unpacking nvptx-tools (0.20180301-1build1) ...\n",
      "\u001b7\u001b[24;0f\u001b[42m\u001b[30mProgress: [ 12%]\u001b[49m\u001b[39m [######....................................................] \u001b8Selecting previously unselected package libgomp-plugin-nvptx1:amd64.\n",
      "Preparing to unpack .../libgomp-plugin-nvptx1_12.3.0-1ubuntu1~22.04_amd64.deb ...\n",
      "\u001b7\u001b[24;0f\u001b[42m\u001b[30mProgress: [ 18%]\u001b[49m\u001b[39m [##########................................................] \u001b8Unpacking libgomp-plugin-nvptx1:amd64 (12.3.0-1ubuntu1~22.04) ...\n",
      "\u001b7\u001b[24;0f\u001b[42m\u001b[30mProgress: [ 24%]\u001b[49m\u001b[39m [#############.............................................] \u001b8Selecting previously unselected package gcc-11-offload-nvptx.\n",
      "Preparing to unpack .../gcc-11-offload-nvptx_11.4.0-1ubuntu1~22.04_amd64.deb ...\n",
      "\u001b7\u001b[24;0f\u001b[42m\u001b[30mProgress: [ 29%]\u001b[49m\u001b[39m [#################.........................................] \u001b8Unpacking gcc-11-offload-nvptx (11.4.0-1ubuntu1~22.04) ...\n",
      "\u001b7\u001b[24;0f\u001b[42m\u001b[30mProgress: [ 35%]\u001b[49m\u001b[39m [####################......................................] \u001b8Selecting previously unselected package gcc-offload-nvptx.\n",
      "Preparing to unpack .../gcc-offload-nvptx_4%3a11.2.0-1ubuntu1_amd64.deb ...\n",
      "\u001b7\u001b[24;0f\u001b[42m\u001b[30mProgress: [ 41%]\u001b[49m\u001b[39m [#######################...................................] \u001b8Unpacking gcc-offload-nvptx (4:11.2.0-1ubuntu1) ...\n",
      "\u001b7\u001b[24;0f\u001b[42m\u001b[30mProgress: [ 47%]\u001b[49m\u001b[39m [###########################...............................] \u001b8Setting up libgomp-plugin-nvptx1:amd64 (12.3.0-1ubuntu1~22.04) ...\n",
      "\u001b7\u001b[24;0f\u001b[42m\u001b[30mProgress: [ 53%]\u001b[49m\u001b[39m [##############################............................] \u001b8\u001b7\u001b[24;0f\u001b[42m\u001b[30mProgress: [ 59%]\u001b[49m\u001b[39m [##################################........................] \u001b8Setting up nvptx-tools (0.20180301-1build1) ...\n",
      "\u001b7\u001b[24;0f\u001b[42m\u001b[30mProgress: [ 65%]\u001b[49m\u001b[39m [#####################################.....................] \u001b8\u001b7\u001b[24;0f\u001b[42m\u001b[30mProgress: [ 71%]\u001b[49m\u001b[39m [########################################..................] \u001b8Setting up gcc-11-offload-nvptx (11.4.0-1ubuntu1~22.04) ...\n",
      "\u001b7\u001b[24;0f\u001b[42m\u001b[30mProgress: [ 76%]\u001b[49m\u001b[39m [############################################..............] \u001b8\u001b7\u001b[24;0f\u001b[42m\u001b[30mProgress: [ 82%]\u001b[49m\u001b[39m [###############################################...........] \u001b8Setting up gcc-offload-nvptx (4:11.2.0-1ubuntu1) ...\n",
      "\u001b7\u001b[24;0f\u001b[42m\u001b[30mProgress: [ 88%]\u001b[49m\u001b[39m [###################################################.......] \u001b8\u001b7\u001b[24;0f\u001b[42m\u001b[30mProgress: [ 94%]\u001b[49m\u001b[39m [######################################################....] \u001b8Processing triggers for libc-bin (2.35-0ubuntu3.4) ...\n",
      "\n",
      "\u001b7\u001b[0;24r\u001b8\u001b[1A\u001b[J"
     ]
    }
   ],
   "source": [
    "! apt install -y gcc-offload-nvptx"
   ]
  },
  {
   "cell_type": "code",
   "execution_count": 1,
   "id": "2d64250f-a6e3-439f-b97b-39cb80ecd1ed",
   "metadata": {},
   "outputs": [
    {
     "name": "stdout",
     "output_type": "stream",
     "text": [
      "Reading package lists... Done\n",
      "Building dependency tree... Done\n",
      "Reading state information... Done\n",
      "The following NEW packages will be installed:\n",
      "  nvtop\n",
      "0 upgraded, 1 newly installed, 0 to remove and 83 not upgraded.\n",
      "Need to get 43.9 kB of archives.\n",
      "After this operation, 106 kB of additional disk space will be used.\n",
      "Get:1 http://archive.ubuntu.com/ubuntu jammy/multiverse amd64 nvtop amd64 1.2.2-1 [43.9 kB]\n",
      "Fetched 43.9 kB in 1s (72.8 kB/s)m\u001b[33m\n",
      "debconf: delaying package configuration, since apt-utils is not installed\n",
      "\n",
      "\u001b7\u001b[0;23r\u001b8\u001b[1ASelecting previously unselected package nvtop.\n",
      "(Reading database ... 27499 files and directories currently installed.)\n",
      "Preparing to unpack .../nvtop_1.2.2-1_amd64.deb ...\n",
      "\u001b7\u001b[24;0f\u001b[42m\u001b[30mProgress: [  0%]\u001b[49m\u001b[39m [..........................................................] \u001b8\u001b7\u001b[24;0f\u001b[42m\u001b[30mProgress: [ 20%]\u001b[49m\u001b[39m [###########...............................................] \u001b8Unpacking nvtop (1.2.2-1) ...\n",
      "\u001b7\u001b[24;0f\u001b[42m\u001b[30mProgress: [ 40%]\u001b[49m\u001b[39m [#######################...................................] \u001b8Setting up nvtop (1.2.2-1) ...\n",
      "\u001b7\u001b[24;0f\u001b[42m\u001b[30mProgress: [ 60%]\u001b[49m\u001b[39m [##################################........................] \u001b8\u001b7\u001b[24;0f\u001b[42m\u001b[30mProgress: [ 80%]\u001b[49m\u001b[39m [##############################################............] \u001b8\n",
      "\u001b7\u001b[0;24r\u001b8\u001b[1A\u001b[J"
     ]
    }
   ],
   "source": [
    "! sudo apt install -y nvtop"
   ]
  },
  {
   "cell_type": "code",
   "execution_count": null,
   "id": "3f9af012-fc2d-42b8-a6cf-849b904f7d6f",
   "metadata": {},
   "outputs": [],
   "source": []
  }
 ],
 "metadata": {
  "kernelspec": {
   "display_name": "Python 3 (ipykernel)",
   "language": "python",
   "name": "python3"
  },
  "language_info": {
   "codemirror_mode": {
    "name": "ipython",
    "version": 3
   },
   "file_extension": ".py",
   "mimetype": "text/x-python",
   "name": "python",
   "nbconvert_exporter": "python",
   "pygments_lexer": "ipython3",
   "version": "3.12.5"
  }
 },
 "nbformat": 4,
 "nbformat_minor": 5
}
