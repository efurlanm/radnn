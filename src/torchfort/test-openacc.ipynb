{
 "cells": [
  {
   "cell_type": "code",
   "execution_count": 1,
   "id": "d8b307d2-9d55-4755-b0cc-5d91cf325078",
   "metadata": {},
   "outputs": [
    {
     "name": "stdout",
     "output_type": "stream",
     "text": [
      "Overwriting test-openacc.f90\n"
     ]
    }
   ],
   "source": [
    "%%writefile test-openacc.f90\n",
    "program compare_cpu_gpu\n",
    "  use openacc\n",
    "  implicit none\n",
    "  integer :: i, j, n\n",
    "  real :: x, start_cpu, finish_cpu, start_gpu, finish_gpu\n",
    "\n",
    "  n = 10**9\n",
    "  x = 0.0\n",
    "\n",
    "  ! Medindo tempo na CPU\n",
    "  call cpu_time(start_cpu)\n",
    "  do j = 1, 5\n",
    "  do i = 1, n\n",
    "    x = x + sqrt(real(i))\n",
    "  end do\n",
    "  write(*, '(A)', advance='no') '.'\n",
    "  end do\n",
    "  call cpu_time(finish_cpu)\n",
    "\n",
    "  print *, \"Tempo de execução na CPU:\", finish_cpu - start_cpu, \"segundos\"\n",
    "\n",
    "  x = 0.0  ! Resetando variável\n",
    "\n",
    "  ! Medindo tempo na GPU\n",
    "  call cpu_time(start_gpu)\n",
    "  do j = 1, 5\n",
    "  !$acc parallel loop\n",
    "  do i = 1, n\n",
    "    x = x + sqrt(real(i))\n",
    "  end do\n",
    "  !$acc end parallel loop\n",
    "  write(*, '(A)', advance='no') '.'\n",
    "  end do\n",
    "  call cpu_time(finish_gpu)\n",
    "\n",
    "  print *, \"Tempo de execução na GPU:\", finish_gpu - start_gpu, \"segundos\"\n",
    "\n",
    "end program compare_cpu_gpu"
   ]
  },
  {
   "cell_type": "code",
   "execution_count": 14,
   "id": "cad08ce4-083a-4fdc-80ee-be565cc2a7dd",
   "metadata": {},
   "outputs": [],
   "source": [
    "! nvfortran -acc -O0 test-openacc.f90 -o test-openacc.out"
   ]
  },
  {
   "cell_type": "code",
   "execution_count": 16,
   "id": "e6e4e138-bddb-4100-85e1-fae4c22f57ac",
   "metadata": {},
   "outputs": [
    {
     "name": "stdout",
     "output_type": "stream",
     "text": [
      "..... Tempo de execução na CPU:    29.68084     segundos\n",
      "..... Tempo de execução na GPU:   0.1168900     segundos\n"
     ]
    }
   ],
   "source": [
    "! ./test-openacc.out"
   ]
  },
  {
   "cell_type": "code",
   "execution_count": null,
   "id": "4fa21731-155d-4cd5-90dd-c43c6ed8981a",
   "metadata": {},
   "outputs": [],
   "source": []
  }
 ],
 "metadata": {
  "kernelspec": {
   "display_name": "Python 3 (ipykernel)",
   "language": "python",
   "name": "python3"
  },
  "language_info": {
   "codemirror_mode": {
    "name": "ipython",
    "version": 3
   },
   "file_extension": ".py",
   "mimetype": "text/x-python",
   "name": "python",
   "nbconvert_exporter": "python",
   "pygments_lexer": "ipython3",
   "version": "3.12.5"
  }
 },
 "nbformat": 4,
 "nbformat_minor": 5
}
