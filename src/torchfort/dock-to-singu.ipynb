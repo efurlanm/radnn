{
 "cells": [
  {
   "cell_type": "markdown",
   "id": "f342d2b1-1bde-40a0-b1ae-41fb0889f4d4",
   "metadata": {},
   "source": [
    "# Setup Container\n",
    "\n",
    "On local machine"
   ]
  },
  {
   "cell_type": "markdown",
   "id": "4c7c9369-fe7d-40c1-9282-4cb756eef6a2",
   "metadata": {},
   "source": [
    "Running on local machine, Torchfort is installed as instructed in the manual: <https://nvidia.github.io/TorchFort/installation.html>. This creates a docker container \"torchfort\".  From the manual:\n",
    "\n",
    "\"We provide a Dockerfile which contains all relevant dependencies and builds using the NVIDIA HPC SDK software libraries and compilers, which is our **recommended way** to build TorchFort. In order to build TorchFort using Docker, simply clone the repo and call:\n",
    "\n",
    "    docker build -t torchfort:latest -f docker/Dockerfile .\n",
    "\n",
    "from the top level directory of the repo. Inside the container, TorchFort will be installed in `/opt/torchfort` \"\n",
    "\n",
    "Then, just for testing, conda and jupyterlab are added to the container, user x is created, and a commit is made to build the working image."
   ]
  },
  {
   "cell_type": "code",
   "execution_count": 1,
   "id": "3df11b3a-f11a-412d-94f2-e7466356f4e9",
   "metadata": {},
   "outputs": [
    {
     "name": "stdout",
     "output_type": "stream",
     "text": [
      "REPOSITORY    TAG                       IMAGE ID       CREATED         SIZE\n",
      "torchfort     v4                        80e7a7a5bfcd   11 days ago     32GB\n",
      "torchfort     v3                        588b0fba0bad   3 weeks ago     32GB\n",
      "torchfort     v2                        5ef57bf9de13   3 weeks ago     30.3GB\n",
      "torchfort     latest                    f4a1749ea5e5   4 weeks ago     28.9GB\n",
      "nvidia/cuda   12.3.1-base-ubuntu22.04   bcdbb14063fa   17 months ago   243MB\n"
     ]
    }
   ],
   "source": [
    "! sudo docker images"
   ]
  },
  {
   "cell_type": "code",
   "execution_count": 3,
   "id": "506aacae-2e62-45a2-bacc-b8e2a6231959",
   "metadata": {},
   "outputs": [
    {
     "name": "stdout",
     "output_type": "stream",
     "text": [
      "CONTAINER ID   IMAGE     COMMAND   CREATED   STATUS    PORTS     NAMES\n"
     ]
    }
   ],
   "source": [
    "! sudo docker ps"
   ]
  },
  {
   "cell_type": "code",
   "execution_count": 4,
   "id": "ede6d8a8-a0ba-4ffe-833e-a2a25a04a788",
   "metadata": {},
   "outputs": [
    {
     "name": "stdout",
     "output_type": "stream",
     "text": [
      "CONTAINER ID   IMAGE          COMMAND             CREATED       STATUS                     PORTS                                                                                  NAMES\n",
      "e8006476e793   torchfort:v3   \"/bin/sh -c bash\"   3 weeks ago   Exited (255) 2 weeks ago   0.0.0.0:8895->8895/tcp, [::]:8895->8895/tcp, 0.0.0.0:2222->22/tcp, [::]:2222->22/tcp   t01\n"
     ]
    }
   ],
   "source": [
    "! sudo docker ps -a"
   ]
  },
  {
   "cell_type": "code",
   "execution_count": 6,
   "id": "9c05c83a-c912-4024-8e99-5d5d24f6ffc6",
   "metadata": {},
   "outputs": [
    {
     "name": "stdout",
     "output_type": "stream",
     "text": [
      "affc598bd3c3c2f9214cecb5b096e1aee47dcc711f496549089b20cf5a735aec\n"
     ]
    }
   ],
   "source": [
    "! sudo docker run -d -it --gpus=all\\\n",
    "    -v $HOME:$HOME -w $HOME \\\n",
    "    --name t02 \\\n",
    "    torchfort:latest"
   ]
  },
  {
   "cell_type": "code",
   "execution_count": null,
   "id": "96a233fc-95e1-403a-9627-65be50a9100a",
   "metadata": {},
   "outputs": [],
   "source": []
  },
  {
   "cell_type": "code",
   "execution_count": null,
   "id": "d22ab2ff-a967-48be-94f8-70da380d6b3d",
   "metadata": {},
   "outputs": [],
   "source": []
  },
  {
   "cell_type": "markdown",
   "id": "e78f5cf6-a128-4453-a978-2eb9a5f94cc5",
   "metadata": {},
   "source": [
    "Other options"
   ]
  },
  {
   "cell_type": "code",
   "execution_count": null,
   "id": "e375c691-7587-4d8f-aa2e-f8185974becc",
   "metadata": {},
   "outputs": [],
   "source": [
    "    --privileged \\               # root in a container and on the host system\n",
    "    -p 8895:8895 \\               # jupyter server port\n",
    "    -p 2222:22 \\                 # ssh port\n",
    "    -v /home/x:/mnt/x \\          # access to the host home dir\n",
    "    -v /torchfort:/torchfort \\   # alternative host dir\n",
    "    --workdir /home/x \\\n",
    "    --user 1000:1000 \\"
   ]
  },
  {
   "cell_type": "code",
   "execution_count": null,
   "id": "6cdf0d9f-b7c3-47e7-9796-b7bce6c12f0c",
   "metadata": {},
   "outputs": [],
   "source": []
  },
  {
   "cell_type": "code",
   "execution_count": null,
   "id": "198e9ca4-55bf-4b52-9c59-e1cc95ee8b39",
   "metadata": {},
   "outputs": [],
   "source": []
  },
  {
   "cell_type": "code",
   "execution_count": null,
   "id": "2fd8053f-a9ae-4bdf-b3bc-64eee29dfdf0",
   "metadata": {},
   "outputs": [],
   "source": []
  },
  {
   "cell_type": "code",
   "execution_count": 2,
   "id": "8f315fa3-3a37-4add-a0fd-df80ceeede6f",
   "metadata": {},
   "outputs": [
    {
     "name": "stdout",
     "output_type": "stream",
     "text": [
      "CONTAINER ID   IMAGE          COMMAND             CREATED       STATUS                      PORTS                                                                                  NAMES\n",
      "e8006476e793   torchfort:v3   \"/bin/sh -c bash\"   10 days ago   Exited (255) 18 hours ago   0.0.0.0:8895->8895/tcp, [::]:8895->8895/tcp, 0.0.0.0:2222->22/tcp, [::]:2222->22/tcp   t01\n"
     ]
    }
   ],
   "source": [
    "! sudo docker ps -a"
   ]
  },
  {
   "cell_type": "markdown",
   "id": "e74ba20d-c2c9-4de8-9556-41beb76b5842",
   "metadata": {},
   "source": [
    "Starts the container in the background:"
   ]
  },
  {
   "cell_type": "code",
   "execution_count": 4,
   "id": "f93cc360-0fbb-40dd-bce4-d1cc2dd2594d",
   "metadata": {},
   "outputs": [
    {
     "name": "stdout",
     "output_type": "stream",
     "text": [
      "t01\n"
     ]
    }
   ],
   "source": [
    "! sudo docker start t01"
   ]
  },
  {
   "cell_type": "markdown",
   "id": "251cd12c-18fc-4c7a-992d-b3a28799d913",
   "metadata": {},
   "source": [
    "The image was created with:"
   ]
  },
  {
   "cell_type": "code",
   "execution_count": 19,
   "id": "17b9b02d-8dc2-4e55-96e1-444438435602",
   "metadata": {},
   "outputs": [
    {
     "name": "stdout",
     "output_type": "stream",
     "text": [
      "e8006476e7930589db3484eed3d1b9b5da4d7352f212ea5917ff4a405feb97dc\n"
     ]
    }
   ],
   "source": [
    "%%bash\n",
    "sudo docker run -d -it --gpus=all\\\n",
    "    --privileged \\               # root in a container and on the host system\n",
    "    -p 8895:8895 \\               # jupyter server port\n",
    "    -p 2222:22 \\                 # ssh port\n",
    "    -v /home/x:/mnt/x \\          # access to the host home dir\n",
    "    -v /torchfort:/torchfort \\   # alternative host dir\n",
    "    --workdir /home/x \\\n",
    "    --user 1000:1000 \\\n",
    "    --name t01 \\\n",
    "    torchfort:v3"
   ]
  },
  {
   "cell_type": "markdown",
   "id": "db06f3c7-2377-4ca3-8f41-381a9b9457c9",
   "metadata": {},
   "source": [
    "Check if it is running in the background:"
   ]
  },
  {
   "cell_type": "code",
   "execution_count": 5,
   "id": "8d797acd-192f-4655-aa09-250805f10973",
   "metadata": {},
   "outputs": [
    {
     "name": "stdout",
     "output_type": "stream",
     "text": [
      "CONTAINER ID   IMAGE          COMMAND             CREATED       STATUS         PORTS                                                                                  NAMES\n",
      "e8006476e793   torchfort:v3   \"/bin/sh -c bash\"   10 days ago   Up 7 seconds   0.0.0.0:8895->8895/tcp, [::]:8895->8895/tcp, 0.0.0.0:2222->22/tcp, [::]:2222->22/tcp   t01\n"
     ]
    }
   ],
   "source": [
    "! sudo docker ps"
   ]
  },
  {
   "cell_type": "markdown",
   "id": "7fa40bc0-a987-49a1-b3f3-e48b795654b7",
   "metadata": {},
   "source": [
    "Start jupyterlab inside the container:"
   ]
  },
  {
   "cell_type": "code",
   "execution_count": 25,
   "id": "98212886-c51b-4c87-bffd-d3503f206484",
   "metadata": {},
   "outputs": [],
   "source": [
    "! sudo docker exec t01 bash /home/x/startjupyterlab"
   ]
  },
  {
   "cell_type": "markdown",
   "id": "287a481f-e51c-4093-8c93-84a03abd0a54",
   "metadata": {},
   "source": [
    "The jupyterlab server can then be accessed using `localhost:8895` in the browser."
   ]
  },
  {
   "cell_type": "markdown",
   "id": "22fd0ef0-5957-42c3-8e27-81d90e06ab1f",
   "metadata": {},
   "source": [
    "## Create new image from existing container"
   ]
  },
  {
   "cell_type": "code",
   "execution_count": 1,
   "id": "ece59bf5-47b4-49d4-b941-72f78435b81d",
   "metadata": {},
   "outputs": [
    {
     "name": "stdout",
     "output_type": "stream",
     "text": [
      "sha256:80e7a7a5bfcd551394890049564bbbb238553574611f5702fb4f8e4ddae1a3ce\n"
     ]
    }
   ],
   "source": [
    "! sudo docker commit t01 torchfort:v4"
   ]
  },
  {
   "cell_type": "code",
   "execution_count": 2,
   "id": "91725b41-e9e7-4b1a-a7cc-c6c62dbdf4e7",
   "metadata": {},
   "outputs": [
    {
     "name": "stdout",
     "output_type": "stream",
     "text": [
      "REPOSITORY    TAG                       IMAGE ID       CREATED          SIZE\n",
      "torchfort     v4                        80e7a7a5bfcd   13 seconds ago   32GB\n",
      "torchfort     v3                        588b0fba0bad   13 days ago      32GB\n",
      "torchfort     v2                        5ef57bf9de13   2 weeks ago      30.3GB\n",
      "torchfort     latest                    f4a1749ea5e5   2 weeks ago      28.9GB\n",
      "nvidia/cuda   12.3.1-base-ubuntu22.04   bcdbb14063fa   17 months ago    243MB\n"
     ]
    }
   ],
   "source": [
    "! sudo docker images"
   ]
  },
  {
   "cell_type": "markdown",
   "id": "9f12217c-b911-41b8-bc88-e676f6a90407",
   "metadata": {},
   "source": [
    "## Convert to Singularity container"
   ]
  },
  {
   "cell_type": "code",
   "execution_count": 3,
   "id": "d6c1613a-7e1d-4dbf-b1a1-3cfef7b15b9a",
   "metadata": {},
   "outputs": [
    {
     "name": "stdout",
     "output_type": "stream",
     "text": [
      "singularity-ce version 4.3.1-jammy\n"
     ]
    }
   ],
   "source": [
    "! singularity --version"
   ]
  },
  {
   "cell_type": "markdown",
   "id": "0cbaa616-241a-420e-bed8-9c11f72a97e3",
   "metadata": {},
   "source": [
    "Creates a Singularity container (.sif) from an image that is already loaded into the Docker daemon:"
   ]
  },
  {
   "cell_type": "code",
   "execution_count": 15,
   "id": "8269db00-14df-4c1f-9922-4eac1f7aab44",
   "metadata": {},
   "outputs": [
    {
     "name": "stdout",
     "output_type": "stream",
     "text": [
      "\u001b[34mINFO:   \u001b[0m Starting build...\n",
      "\u001b[34mINFO:   \u001b[0m Fetching OCI image...\n",
      "\u001b[34mINFO:   \u001b[0m Extracting OCI image...\n",
      "\u001b[34mINFO:   \u001b[0m Inserting Singularity configuration...\n",
      "\u001b[34mINFO:   \u001b[0m Creating SIF file...\n",
      "\u001b[34mINFO:   \u001b[0m Build complete: torchfort_v4.sif\n"
     ]
    }
   ],
   "source": [
    "! sudo singularity build torchfort_v4.sif docker-daemon://torchfort:v4"
   ]
  },
  {
   "cell_type": "code",
   "execution_count": 17,
   "id": "72118150-7c61-46a2-8623-9cf077c3bd96",
   "metadata": {},
   "outputs": [
    {
     "name": "stdout",
     "output_type": "stream",
     "text": [
      "-rwxr-xr-x 1 x x 13G mai  4 21:37 torchfort_v4.sif\n"
     ]
    }
   ],
   "source": [
    "! ls -lh torchfort_v4.sif"
   ]
  },
  {
   "cell_type": "code",
   "execution_count": 7,
   "id": "73923af5-174f-4c58-a5af-f267178d7bef",
   "metadata": {},
   "outputs": [
    {
     "name": "stdout",
     "output_type": "stream",
     "text": [
      "\u001b[34mINFO:   \u001b[0m Starting build...\n",
      "\u001b[34mINFO:   \u001b[0m Fetching OCI image...\n",
      "\u001b[34mINFO:   \u001b[0m Extracting OCI image...\n",
      "\u001b[34mINFO:   \u001b[0m Inserting Singularity configuration...\n",
      "\u001b[34mINFO:   \u001b[0m Creating SIF file...\n",
      "\u001b[34mINFO:   \u001b[0m Build complete: torchfort_v1.sif\n"
     ]
    }
   ],
   "source": [
    "! sudo singularity build torchfort_v1.sif docker-daemon://torchfort:latest"
   ]
  },
  {
   "cell_type": "code",
   "execution_count": 19,
   "id": "6ced4876-0733-4b6e-acab-45a08994fbdf",
   "metadata": {},
   "outputs": [
    {
     "name": "stdout",
     "output_type": "stream",
     "text": [
      "aux  conda  radnn\n"
     ]
    }
   ],
   "source": [
    "! ls /prj"
   ]
  },
  {
   "cell_type": "code",
   "execution_count": 20,
   "id": "3abb2505-91d5-4bca-9c08-01a85daf838b",
   "metadata": {},
   "outputs": [],
   "source": [
    "! mkdir /prj/containers"
   ]
  },
  {
   "cell_type": "markdown",
   "id": "9fa32aee-74d1-4309-85ff-d2cc5404c3de",
   "metadata": {},
   "source": [
    "Copies to the SyncThing directory synchronized with SDumont. The image should appear in SDumont after the sync is complete."
   ]
  },
  {
   "cell_type": "code",
   "execution_count": 21,
   "id": "f7f153f3-a94b-451e-b93e-da1227377629",
   "metadata": {},
   "outputs": [],
   "source": [
    "! cp torchfort_v4.sif /prj/containers/"
   ]
  },
  {
   "cell_type": "code",
   "execution_count": 22,
   "id": "3a479b9a-19d1-4833-8698-6190347171ad",
   "metadata": {},
   "outputs": [
    {
     "name": "stdout",
     "output_type": "stream",
     "text": [
      "-rwxr-xr-x 1 x x 13G mai  4 22:52 /prj/containers/torchfort_v4.sif\n"
     ]
    }
   ],
   "source": [
    "! ls -lh /prj/containers/torchfort_v4.sif"
   ]
  },
  {
   "cell_type": "code",
   "execution_count": null,
   "id": "11217c0b-c2f2-45c7-836e-0b334c30e4ac",
   "metadata": {},
   "outputs": [],
   "source": []
  },
  {
   "cell_type": "code",
   "execution_count": null,
   "id": "7b2b8b89-2a28-4975-b4a2-df30d5fa015a",
   "metadata": {},
   "outputs": [],
   "source": []
  },
  {
   "cell_type": "code",
   "execution_count": null,
   "id": "adc10b35-e983-4533-b472-4f3b7dda2aa6",
   "metadata": {},
   "outputs": [],
   "source": []
  },
  {
   "cell_type": "code",
   "execution_count": 2,
   "id": "4267c194-01e6-4494-a465-805d2484c8e9",
   "metadata": {},
   "outputs": [
    {
     "name": "stdout",
     "output_type": "stream",
     "text": [
      "/home/x/containers\n"
     ]
    }
   ],
   "source": [
    "%cd ~/containers"
   ]
  },
  {
   "cell_type": "code",
   "execution_count": 3,
   "id": "5ff35b79-05f7-4fe1-b6ad-0e60344615f7",
   "metadata": {},
   "outputs": [
    {
     "name": "stdout",
     "output_type": "stream",
     "text": [
      "\u001b[34mINFO:   \u001b[0m Starting build...\n",
      "\u001b[34mINFO:   \u001b[0m Fetching OCI image...\n",
      "\u001b[34mINFO:   \u001b[0m Extracting OCI image...\n",
      "\u001b[34mINFO:   \u001b[0m Inserting Singularity configuration...\n",
      "\u001b[34mINFO:   \u001b[0m Creating SIF file...\n",
      "\u001b[34mINFO:   \u001b[0m Build complete: torchfort.sif\n"
     ]
    }
   ],
   "source": [
    "! sudo time singularity build torchfort.sif docker-daemon://torchfort:latest"
   ]
  },
  {
   "cell_type": "code",
   "execution_count": null,
   "id": "b7ee45bb-e534-45c3-87c5-e9f10b485e2e",
   "metadata": {},
   "outputs": [],
   "source": []
  }
 ],
 "metadata": {
  "kernelspec": {
   "display_name": "Python 3 (ipykernel)",
   "language": "python",
   "name": "python3"
  },
  "language_info": {
   "codemirror_mode": {
    "name": "ipython",
    "version": 3
   },
   "file_extension": ".py",
   "mimetype": "text/x-python",
   "name": "python",
   "nbconvert_exporter": "python",
   "pygments_lexer": "ipython3",
   "version": "3.12.5"
  }
 },
 "nbformat": 4,
 "nbformat_minor": 5
}
