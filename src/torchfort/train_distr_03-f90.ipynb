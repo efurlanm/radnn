{
 "cells": [
  {
   "cell_type": "markdown",
   "id": "e98a2a67-f80a-4347-a476-d37833e59dfd",
   "metadata": {},
   "source": [
    "# Train distributed F90 in another directory\n",
    "\n",
    "Testing by creating a new directory in `examples`, compiling and running in this new location."
   ]
  },
  {
   "cell_type": "markdown",
   "id": "0f15a326-2ce2-4ada-9766-e52951522927",
   "metadata": {},
   "source": [
    "    %%writefile torchfort_local/CMakeLists.txt\n",
    "    ...\n",
    "    \n",
    "    # build examples\n",
    "    if (TORCHFORT_BUILD_EXAMPLES)\n",
    "      add_subdirectory(examples/cpp/cart_pole)\n",
    "      if (TORCHFORT_BUILD_FORTRAN)\n",
    "        add_subdirectory(examples/fortran/simulation)\n",
    "        add_subdirectory(examples/fortran/graph)\n",
    "    #======================================\n",
    "        add_subdirectory(examples/fortran/train_distr_03)\n",
    "    #======================================\n",
    "      endif()\n",
    "    endif()\n",
    "    \n",
    "    # build tests\n",
    "    ......"
   ]
  },
  {
   "cell_type": "markdown",
   "id": "70c59c26-8d75-4999-b28b-23b29082dfe5",
   "metadata": {},
   "source": [
    "    %%writefile torchfort_local/examples/fortran/burgers/CMakeLists.txt\n",
    "    find_package(HDF5 COMPONENTS Fortran REQUIRED)\n",
    "    \n",
    "    set(fortran_example_targets\n",
    "    #======================================\n",
    "      train_distr_03\n",
    "    #======================================\n",
    "    )\n",
    "    \n",
    "    \n",
    "    #======================================\n",
    "    add_executable(train_distr_03)\n",
    "    target_sources(train_distr_03\n",
    "      PRIVATE\n",
    "      train_distr_03.f90\n",
    "      simulation.f90\n",
    "    )\n",
    "    set_target_properties(train_distr_03 PROPERTIES Fortran_MODULE_DIRECTORY ${CMAKE_CURRENT_SOURCE_DIR}/mod/2 )\n",
    "    #======================================\n",
    "    \n",
    "    \n",
    "    ......\n",
    "    \n",
    "    \n",
    "    install(\n",
    "      TARGETS ${fortran_example_targets}\n",
    "    #======================================\n",
    "      RUNTIME DESTINATION ${CMAKE_INSTALL_PREFIX}/bin/examples/fortran/train_distr_03\n",
    "    #======================================\n",
    "    )\n",
    "    \n",
    "    install(\n",
    "      FILES ${CMAKE_CURRENT_SOURCE_DIR}/config_mlp_native.yaml\n",
    "            ${CMAKE_CURRENT_SOURCE_DIR}/config_fcn_torchscript.yaml\n",
    "            ${CMAKE_CURRENT_SOURCE_DIR}/generate_fcn_model.py\n",
    "            ${CMAKE_CURRENT_SOURCE_DIR}/visualize.py\n",
    "    #======================================\n",
    "      DESTINATION ${CMAKE_INSTALL_PREFIX}/bin/examples/fortran/train_distr_03)\n",
    "    #======================================"
   ]
  },
  {
   "cell_type": "code",
   "execution_count": 1,
   "id": "fdd7a7c1-ab00-464a-a871-3d89ea1fb9cf",
   "metadata": {},
   "outputs": [
    {
     "name": "stdout",
     "output_type": "stream",
     "text": [
      "-- Found Python: /usr/bin/python3.10 (found version \"3.10.12\") found components: Interpreter \n",
      "-- Found CUDAToolkit: /opt/nvidia/hpc_sdk/Linux_x86_64/25.3/cuda/12.8/include (found version \"12.8.93\") \n",
      "-- NVHPC_CUDA_VERSION not specified.\n",
      "-- Default CUDA version selected: 12.8\n",
      "-- Using NCCL library: /usr/lib/x86_64-linux-gnu/libnccl.so\n",
      "-- Found CUDAToolkit: /opt/nvidia/hpc_sdk/Linux_x86_64/25.3/cuda/12.8/include (found version \"12.8.93\") \n",
      "-- PyTorch: CUDA detected: 12.8\n",
      "-- PyTorch: CUDA nvcc is: /opt/nvidia/hpc_sdk/Linux_x86_64/25.3/cuda/bin/nvcc\n",
      "-- PyTorch: CUDA toolkit directory: /opt/nvidia/hpc_sdk/Linux_x86_64/25.3/cuda\n",
      "-- PyTorch: Header version is: 12.8\n"
     ]
    },
    {
     "name": "stderr",
     "output_type": "stream",
     "text": [
      "\u001b[33mCMake Warning at /usr/local/lib/python3.10/dist-packages/torch/share/cmake/Caffe2/public/cuda.cmake:140 (message):\n",
      "  Failed to compute shorthash for libnvrtc.so\n",
      "Call Stack (most recent call first):\n",
      "  /usr/local/lib/python3.10/dist-packages/torch/share/cmake/Caffe2/Caffe2Config.cmake:86 (include)\n",
      "  /usr/local/lib/python3.10/dist-packages/torch/share/cmake/Torch/TorchConfig.cmake:68 (find_package)\n",
      "  CMakeLists.txt:110 (find_package)\n",
      "\n",
      "\u001b[0m\n",
      "\u001b[33mCMake Warning (dev) at /usr/share/cmake-3.22/Modules/FindPackageHandleStandardArgs.cmake:438 (message):\n",
      "  The package name passed to `find_package_handle_standard_args` (nvtx3) does\n",
      "  not match the name of the calling package (Caffe2).  This can lead to\n",
      "  problems in calling code that expects `find_package` result variables\n",
      "  (e.g., `_FOUND`) to follow a certain pattern.\n",
      "Call Stack (most recent call first):\n",
      "  /usr/local/lib/python3.10/dist-packages/torch/share/cmake/Caffe2/public/cuda.cmake:178 (find_package_handle_standard_args)\n",
      "  /usr/local/lib/python3.10/dist-packages/torch/share/cmake/Caffe2/Caffe2Config.cmake:86 (include)\n",
      "  /usr/local/lib/python3.10/dist-packages/torch/share/cmake/Torch/TorchConfig.cmake:68 (find_package)\n",
      "  CMakeLists.txt:110 (find_package)\n",
      "This warning is for project developers.  Use -Wno-dev to suppress it.\n",
      "\u001b[0m\n",
      "\u001b[33mCMake Warning at /usr/local/lib/python3.10/dist-packages/torch/share/cmake/Caffe2/public/cuda.cmake:184 (message):\n",
      "  Cannot find NVTX3, find old NVTX instead\n",
      "Call Stack (most recent call first):\n",
      "  /usr/local/lib/python3.10/dist-packages/torch/share/cmake/Caffe2/Caffe2Config.cmake:86 (include)\n",
      "  /usr/local/lib/python3.10/dist-packages/torch/share/cmake/Torch/TorchConfig.cmake:68 (find_package)\n",
      "  CMakeLists.txt:110 (find_package)\n",
      "\n",
      "\u001b[0m\n"
     ]
    },
    {
     "name": "stdout",
     "output_type": "stream",
     "text": [
      "-- Could NOT find nvtx3 (missing: nvtx3_dir) \n",
      "-- USE_CUDNN is set to 0. Compiling without cuDNN support\n",
      "-- USE_CUSPARSELT is set to 0. Compiling without cuSPARSELt support\n",
      "-- USE_CUDSS is set to 0. Compiling without cuDSS support\n",
      "-- USE_CUFILE is set to 0. Compiling without cuFile support\n",
      "-- Added CUDA NVCC flags for: -gencode;arch=compute_70,code=sm_70;-gencode;arch=compute_80,code=sm_80;-gencode;arch=compute_90,code=sm_90\n"
     ]
    },
    {
     "name": "stderr",
     "output_type": "stream",
     "text": [
      "\u001b[33mCMake Warning at /usr/local/lib/python3.10/dist-packages/torch/share/cmake/Torch/TorchConfig.cmake:22 (message):\n",
      "  static library kineto_LIBRARY-NOTFOUND not found.\n",
      "Call Stack (most recent call first):\n",
      "  /usr/local/lib/python3.10/dist-packages/torch/share/cmake/Torch/TorchConfig.cmake:125 (append_torchlib_if_found)\n",
      "  CMakeLists.txt:110 (find_package)\n",
      "\n",
      "\u001b[0m\n"
     ]
    },
    {
     "name": "stdout",
     "output_type": "stream",
     "text": [
      "-- Using yaml-cpp library: /opt/yaml-cpp/lib/libyaml-cpp.a\n",
      "-- Found Python: /usr/bin/python3.10 (found suitable version \"3.10.12\", minimum required is \"3.6\") found components: Interpreter Development Development.Module Development.Embed \n",
      "-- Found pybind11: /usr/include (found version \"2.9.1\")\n",
      "-- Configuring done\n",
      "-- Generating done\n",
      "-- Build files have been written to: /torchfort/build\n",
      "\u001b[35m\u001b[1mScanning dependencies of target torchfort_fort\u001b[0m\n",
      "[  5%] Built target torchfort_fort\n",
      "\u001b[35m\u001b[1mConsolidate compiler generated dependencies of target torchfort\u001b[0m\n",
      "[ 91%] Built target torchfort\n",
      "\u001b[35m\u001b[1mScanning dependencies of target train_distr_03\u001b[0m\n",
      "[100%] Built target train_distr_03\n"
     ]
    }
   ],
   "source": [
    "%%bash\n",
    "singularity exec --nv \\\n",
    "  --bind torchfort_local:/torchfort \\\n",
    "  ~/containers/torchfort.sif \\\n",
    "  bash -c \"CUDA_PATH=/opt/nvidia/hpc_sdk/Linux_x86_64/25.3/cuda && \\\n",
    "    cd /torchfort/build && \\\n",
    "    cmake .. && \\\n",
    "    make -j10 train_distr_03\""
   ]
  },
  {
   "cell_type": "code",
   "execution_count": 3,
   "id": "3feb4a35-4532-4257-b2ff-dee74619d62c",
   "metadata": {},
   "outputs": [
    {
     "name": "stdout",
     "output_type": "stream",
     "text": [
      "-- Found Python: /usr/bin/python3.10 (found version \"3.10.12\") found components: Interpreter \n",
      "-- Found CUDAToolkit: /opt/nvidia/hpc_sdk/Linux_x86_64/25.3/cuda/12.8/include (found version \"12.8.93\") \n",
      "-- NVHPC_CUDA_VERSION not specified.\n",
      "-- Default CUDA version selected: 12.8\n",
      "-- Using NCCL library: /usr/lib/x86_64-linux-gnu/libnccl.so\n",
      "-- Found CUDAToolkit: /opt/nvidia/hpc_sdk/Linux_x86_64/25.3/cuda/12.8/include (found version \"12.8.93\") \n",
      "-- PyTorch: CUDA detected: 12.8\n",
      "-- PyTorch: CUDA nvcc is: /opt/nvidia/hpc_sdk/Linux_x86_64/25.3/cuda/bin/nvcc\n",
      "-- PyTorch: CUDA toolkit directory: /opt/nvidia/hpc_sdk/Linux_x86_64/25.3/cuda\n",
      "-- PyTorch: Header version is: 12.8\n"
     ]
    },
    {
     "name": "stderr",
     "output_type": "stream",
     "text": [
      "\u001b[33mCMake Warning at /usr/local/lib/python3.10/dist-packages/torch/share/cmake/Caffe2/public/cuda.cmake:140 (message):\n",
      "  Failed to compute shorthash for libnvrtc.so\n",
      "Call Stack (most recent call first):\n",
      "  /usr/local/lib/python3.10/dist-packages/torch/share/cmake/Caffe2/Caffe2Config.cmake:86 (include)\n",
      "  /usr/local/lib/python3.10/dist-packages/torch/share/cmake/Torch/TorchConfig.cmake:68 (find_package)\n",
      "  CMakeLists.txt:110 (find_package)\n",
      "\n",
      "\u001b[0m\n",
      "\u001b[33mCMake Warning (dev) at /usr/share/cmake-3.22/Modules/FindPackageHandleStandardArgs.cmake:438 (message):\n",
      "  The package name passed to `find_package_handle_standard_args` (nvtx3) does\n",
      "  not match the name of the calling package (Caffe2).  This can lead to\n",
      "  problems in calling code that expects `find_package` result variables\n",
      "  (e.g., `_FOUND`) to follow a certain pattern.\n",
      "Call Stack (most recent call first):\n",
      "  /usr/local/lib/python3.10/dist-packages/torch/share/cmake/Caffe2/public/cuda.cmake:178 (find_package_handle_standard_args)\n",
      "  /usr/local/lib/python3.10/dist-packages/torch/share/cmake/Caffe2/Caffe2Config.cmake:86 (include)\n",
      "  /usr/local/lib/python3.10/dist-packages/torch/share/cmake/Torch/TorchConfig.cmake:68 (find_package)\n",
      "  CMakeLists.txt:110 (find_package)\n",
      "This warning is for project developers.  Use -Wno-dev to suppress it.\n",
      "\u001b[0m\n",
      "\u001b[33mCMake Warning at /usr/local/lib/python3.10/dist-packages/torch/share/cmake/Caffe2/public/cuda.cmake:184 (message):\n",
      "  Cannot find NVTX3, find old NVTX instead\n",
      "Call Stack (most recent call first):\n",
      "  /usr/local/lib/python3.10/dist-packages/torch/share/cmake/Caffe2/Caffe2Config.cmake:86 (include)\n",
      "  /usr/local/lib/python3.10/dist-packages/torch/share/cmake/Torch/TorchConfig.cmake:68 (find_package)\n",
      "  CMakeLists.txt:110 (find_package)\n",
      "\n",
      "\u001b[0m\n"
     ]
    },
    {
     "name": "stdout",
     "output_type": "stream",
     "text": [
      "-- Could NOT find nvtx3 (missing: nvtx3_dir) \n",
      "-- USE_CUDNN is set to 0. Compiling without cuDNN support\n",
      "-- USE_CUSPARSELT is set to 0. Compiling without cuSPARSELt support\n",
      "-- USE_CUDSS is set to 0. Compiling without cuDSS support\n",
      "-- USE_CUFILE is set to 0. Compiling without cuFile support\n",
      "-- Added CUDA NVCC flags for: -gencode;arch=compute_70,code=sm_70;-gencode;arch=compute_80,code=sm_80;-gencode;arch=compute_90,code=sm_90\n"
     ]
    },
    {
     "name": "stderr",
     "output_type": "stream",
     "text": [
      "\u001b[33mCMake Warning at /usr/local/lib/python3.10/dist-packages/torch/share/cmake/Torch/TorchConfig.cmake:22 (message):\n",
      "  static library kineto_LIBRARY-NOTFOUND not found.\n",
      "Call Stack (most recent call first):\n",
      "  /usr/local/lib/python3.10/dist-packages/torch/share/cmake/Torch/TorchConfig.cmake:125 (append_torchlib_if_found)\n",
      "  CMakeLists.txt:110 (find_package)\n",
      "\n",
      "\u001b[0m\n"
     ]
    },
    {
     "name": "stdout",
     "output_type": "stream",
     "text": [
      "-- Using yaml-cpp library: /opt/yaml-cpp/lib/libyaml-cpp.a\n",
      "-- Found Python: /usr/bin/python3.10 (found suitable version \"3.10.12\", minimum required is \"3.6\") found components: Interpreter Development Development.Module Development.Embed \n",
      "-- Found pybind11: /usr/include (found version \"2.9.1\")\n",
      "-- Configuring done\n",
      "-- Generating done\n",
      "-- Build files have been written to: /torchfort/build\n",
      "\u001b[35m\u001b[1mScanning dependencies of target torchfort_fort\u001b[0m\n",
      "[  5%] Built target torchfort_fort\n",
      "\u001b[35m\u001b[1mConsolidate compiler generated dependencies of target torchfort\u001b[0m\n",
      "[ 91%] Built target torchfort\n",
      "\u001b[35m\u001b[1mScanning dependencies of target train_distr_03\u001b[0m\n",
      "[ 94%] \u001b[32mBuilding Fortran object examples/fortran/train_distr_03/CMakeFiles/train_distr_03.dir/simulation.f90.o\u001b[0m\n",
      "[ 97%] \u001b[32mBuilding Fortran object examples/fortran/train_distr_03/CMakeFiles/train_distr_03.dir/train_distr_03.f90.o\u001b[0m\n",
      "[100%] \u001b[32m\u001b[1mLinking Fortran executable train_distr_03\u001b[0m\n",
      "[100%] Built target train_distr_03\n"
     ]
    }
   ],
   "source": [
    "%%bash\n",
    "singularity exec --nv \\\n",
    "  --bind ~/torchfort:/torchfort \\\n",
    "  ~/containers/torchfort.sif \\\n",
    "  bash -c \"CUDA_PATH=/opt/nvidia/hpc_sdk/Linux_x86_64/25.3/cuda && \\\n",
    "    cd /torchfort/build && \\\n",
    "    cmake .. && \\\n",
    "    make -j10 train_distr_03\""
   ]
  },
  {
   "cell_type": "code",
   "execution_count": null,
   "id": "50949b22-f01b-46a2-adcf-7e06f4245d13",
   "metadata": {},
   "outputs": [],
   "source": []
  },
  {
   "cell_type": "code",
   "execution_count": 6,
   "id": "352bcc3b-52d8-4345-aa39-0c20b5bbb3ea",
   "metadata": {},
   "outputs": [
    {
     "name": "stdout",
     "output_type": "stream",
     "text": [
      "[  5%] Built target torchfort_fort\n",
      "[ 91%] Built target torchfort\n",
      "[100%] Built target train_distr_03\n"
     ]
    }
   ],
   "source": [
    "! ./sing \"make -j10 train_distr_03\""
   ]
  },
  {
   "cell_type": "code",
   "execution_count": 10,
   "id": "6144a227-2722-4a30-ad41-75eaaba142bb",
   "metadata": {},
   "outputs": [],
   "source": [
    "! cp ~/torchfort/build/examples/fortran/train_distr_03/train_distr_03 \\\n",
    "     ~/torchfort/examples/fortran/train_distr_03/"
   ]
  },
  {
   "cell_type": "code",
   "execution_count": 12,
   "id": "65b6073d-8fcb-4b2e-b8b9-b7d074dd7c21",
   "metadata": {},
   "outputs": [
    {
     "name": "stdout",
     "output_type": "stream",
     "text": [
      " Run settings:\n",
      " \tconfigfile: config_mlp_native.yaml\n",
      " \tsimulation_device: cpu\n",
      " \ttrain_device: cpu\n",
      " \tcheckpoint_dir:NONE\n",
      " \toutput_model_name: out/model.pt\n",
      " \toutput_checkpoint_dir: checkpoint\n",
      " \tntrain_steps:        100000\n",
      " \tnval_steps:          1000\n",
      " \tval_write_freq:            10\n",
      " \n",
      "TORCHFORT::WARN: enable_wandb_hook is true but the environment variable TORCHFORT_LOGDIR was not specified. To enable logging, set TORCHFORT_LOGDIR to a writeable directory prior to launching wandb_helper.py and your torchfort enabled application.\n",
      "TORCHFORT::WARN: enable_wandb_hook is true but the environment variable TORCHFORT_LOGDIR was not specified. To enable logging, set TORCHFORT_LOGDIR to a writeable directory prior to launching wandb_helper.py and your torchfort enabled application.\n",
      " start training...\n",
      "TORCHFORT::INFO: model: mymodel, step_train: 100, loss: 0.309343, lr: 0.000999998\n",
      "TORCHFORT::INFO: model: mymodel, step_train: 200, loss: 5.52502, lr: 0.00099999\n",
      "TORCHFORT::INFO: model: mymodel, step_train: 300, loss: 0.680441, lr: 0.000999978\n",
      "TORCHFORT::INFO: model: mymodel, step_train: 400, loss: 1.60569, lr: 0.000999961\n",
      "TORCHFORT::INFO: model: mymodel, step_train: 500, loss: 2.86801, lr: 0.000999939\n",
      "TORCHFORT::INFO: model: mymodel, step_train: 600, loss: 1.15369, lr: 0.000999911\n",
      "TORCHFORT::INFO: model: mymodel, step_train: 700, loss: 0.325865, lr: 0.000999879\n",
      "^C\n"
     ]
    }
   ],
   "source": [
    "! ./sing \"cd /torchfort/examples/fortran/train_distr_03/ && \\\n",
    "    mpirun --allow-run-as-root -np 2 ./train_distr_03 --simulation_device -1 --train_device -1\""
   ]
  },
  {
   "cell_type": "code",
   "execution_count": null,
   "id": "cf98efea-789b-4081-ac12-463c3c03ee02",
   "metadata": {},
   "outputs": [],
   "source": []
  }
 ],
 "metadata": {
  "kernelspec": {
   "display_name": "Python 3 (ipykernel)",
   "language": "python",
   "name": "python3"
  },
  "language_info": {
   "codemirror_mode": {
    "name": "ipython",
    "version": 3
   },
   "file_extension": ".py",
   "mimetype": "text/x-python",
   "name": "python",
   "nbconvert_exporter": "python",
   "pygments_lexer": "ipython3",
   "version": "3.12.5"
  }
 },
 "nbformat": 4,
 "nbformat_minor": 5
}
