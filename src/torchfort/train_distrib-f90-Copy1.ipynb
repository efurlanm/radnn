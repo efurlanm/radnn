{
 "cells": [
  {
   "cell_type": "markdown",
   "id": "4527337d-7844-4170-a484-6ca631bb2049",
   "metadata": {},
   "source": [
    "The goal of this Notebook is to compile the Torchfort example outside the container, without having to recreate the container.\n",
    "\n",
    "The original Dockerfile removes (`rm -rf torchfort`) the source files. You need to change it to keep the `/torchfort/build` directory, recreate the container in Docker, then copy `/torchfort/build` from inside the container to the external directory, in this case in the same location from where it was built."
   ]
  },
  {
   "cell_type": "code",
   "execution_count": 1,
   "id": "b9a28ffa-fe49-4fde-af89-bc5ec6089167",
   "metadata": {},
   "outputs": [
    {
     "name": "stdout",
     "output_type": "stream",
     "text": [
      "singularity-ce version 4.3.1-jammy\n"
     ]
    }
   ],
   "source": [
    "! singularity --version"
   ]
  },
  {
   "cell_type": "code",
   "execution_count": 12,
   "id": "52be7ba6-59b8-4868-b7da-5e5dc5224d34",
   "metadata": {},
   "outputs": [
    {
     "name": "stdout",
     "output_type": "stream",
     "text": [
      "Overwriting sing\n"
     ]
    }
   ],
   "source": [
    "%%writefile sing\n",
    "singularity exec --nv \\\n",
    "  --bind torchfort_local:/torchfort \\\n",
    "  ~/containers/torchfort.sif \\\n",
    "  bash -c \"CUDA_PATH=/opt/nvidia/hpc_sdk/Linux_x86_64/25.3/cuda && \\\n",
    "    cd /torchfort/build && \\\n",
    "    $* \""
   ]
  },
  {
   "cell_type": "code",
   "execution_count": 13,
   "id": "997af14d-dc37-4e03-8f9d-99ef127ee16a",
   "metadata": {},
   "outputs": [
    {
     "name": "stdout",
     "output_type": "stream",
     "text": [
      "Overwriting sing\n"
     ]
    }
   ],
   "source": [
    "%%writefile sing\n",
    "singularity exec --nv \\\n",
    "  --bind ~/torchfort:/torchfort \\\n",
    "  ~/containers/torchfort.sif \\\n",
    "  bash -c \"CUDA_PATH=/opt/nvidia/hpc_sdk/Linux_x86_64/25.3/cuda && \\\n",
    "    cd /torchfort/build && \\\n",
    "    $* \""
   ]
  },
  {
   "cell_type": "code",
   "execution_count": 14,
   "id": "15c2d37d-19b8-4512-a805-d600ca1d4543",
   "metadata": {},
   "outputs": [],
   "source": [
    "! chmod +x sing"
   ]
  },
  {
   "cell_type": "code",
   "execution_count": 15,
   "id": "15ff6267-0d9b-4956-aa86-61f50ff1bef1",
   "metadata": {},
   "outputs": [
    {
     "name": "stdout",
     "output_type": "stream",
     "text": [
      "/home/x/conda/bin:/home/x/conda/condabin:/home/x/.nvm/versions/node/v24.3.0/bin:/home/x/.local/bin:/home/x/bin:/usr/local/sbin:/usr/local/bin:/usr/sbin:/usr/bin:/sbin:/bin:/snap/bin:/home/x/bin:/home/x/.local/bin\n"
     ]
    }
   ],
   "source": [
    "! ./sing \"echo $PATH\""
   ]
  },
  {
   "cell_type": "code",
   "execution_count": 16,
   "id": "5f157b51-3295-4273-b784-209f813b7173",
   "metadata": {},
   "outputs": [
    {
     "name": "stdout",
     "output_type": "stream",
     "text": [
      "PRETTY_NAME=\"Ubuntu 22.04.5 LTS\"\n",
      "NAME=\"Ubuntu\"\n",
      "VERSION_ID=\"22.04\"\n",
      "VERSION=\"22.04.5 LTS (Jammy Jellyfish)\"\n",
      "VERSION_CODENAME=jammy\n",
      "ID=ubuntu\n",
      "ID_LIKE=debian\n",
      "HOME_URL=\"https://www.ubuntu.com/\"\n",
      "SUPPORT_URL=\"https://help.ubuntu.com/\"\n",
      "BUG_REPORT_URL=\"https://bugs.launchpad.net/ubuntu/\"\n",
      "PRIVACY_POLICY_URL=\"https://www.ubuntu.com/legal/terms-and-policies/privacy-policy\"\n",
      "UBUNTU_CODENAME=jammy\n"
     ]
    }
   ],
   "source": [
    "! ./sing \"cat /etc/os-release\""
   ]
  },
  {
   "cell_type": "code",
   "execution_count": 17,
   "id": "27cd6050-8f21-4368-bcf3-51d20094024b",
   "metadata": {
    "scrolled": true
   },
   "outputs": [
    {
     "name": "stdout",
     "output_type": "stream",
     "text": [
      "-- Found Python: /usr/bin/python3.10 (found version \"3.10.12\") found components: Interpreter \n",
      "-- Found CUDAToolkit: /opt/nvidia/hpc_sdk/Linux_x86_64/25.3/cuda/12.8/include (found version \"12.8.93\") \n",
      "-- NVHPC_CUDA_VERSION not specified.\n",
      "-- Default CUDA version selected: 12.8\n",
      "-- Using NCCL library: /usr/lib/x86_64-linux-gnu/libnccl.so\n",
      "-- Found CUDAToolkit: /opt/nvidia/hpc_sdk/Linux_x86_64/25.3/cuda/12.8/include (found version \"12.8.93\") \n",
      "-- PyTorch: CUDA detected: 12.8\n",
      "-- PyTorch: CUDA nvcc is: /opt/nvidia/hpc_sdk/Linux_x86_64/25.3/cuda/bin/nvcc\n",
      "-- PyTorch: CUDA toolkit directory: /opt/nvidia/hpc_sdk/Linux_x86_64/25.3/cuda\n",
      "-- PyTorch: Header version is: 12.8\n",
      "\u001b[33mCMake Warning at /usr/local/lib/python3.10/dist-packages/torch/share/cmake/Caffe2/public/cuda.cmake:140 (message):\n",
      "  Failed to compute shorthash for libnvrtc.so\n",
      "Call Stack (most recent call first):\n",
      "  /usr/local/lib/python3.10/dist-packages/torch/share/cmake/Caffe2/Caffe2Config.cmake:86 (include)\n",
      "  /usr/local/lib/python3.10/dist-packages/torch/share/cmake/Torch/TorchConfig.cmake:68 (find_package)\n",
      "  CMakeLists.txt:110 (find_package)\n",
      "\n",
      "\u001b[0m\n",
      "\u001b[33mCMake Warning (dev) at /usr/share/cmake-3.22/Modules/FindPackageHandleStandardArgs.cmake:438 (message):\n",
      "  The package name passed to `find_package_handle_standard_args` (nvtx3) does\n",
      "  not match the name of the calling package (Caffe2).  This can lead to\n",
      "  problems in calling code that expects `find_package` result variables\n",
      "  (e.g., `_FOUND`) to follow a certain pattern.\n",
      "Call Stack (most recent call first):\n",
      "  /usr/local/lib/python3.10/dist-packages/torch/share/cmake/Caffe2/public/cuda.cmake:178 (find_package_handle_standard_args)\n",
      "  /usr/local/lib/python3.10/dist-packages/torch/share/cmake/Caffe2/Caffe2Config.cmake:86 (include)\n",
      "  /usr/local/lib/python3.10/dist-packages/torch/share/cmake/Torch/TorchConfig.cmake:68 (find_package)\n",
      "  CMakeLists.txt:110 (find_package)\n",
      "This warning is for project developers.  Use -Wno-dev to suppress it.\n",
      "\u001b[0m\n",
      "-- Could NOT find nvtx3 (missing: nvtx3_dir) \n",
      "\u001b[33mCMake Warning at /usr/local/lib/python3.10/dist-packages/torch/share/cmake/Caffe2/public/cuda.cmake:184 (message):\n",
      "  Cannot find NVTX3, find old NVTX instead\n",
      "Call Stack (most recent call first):\n",
      "  /usr/local/lib/python3.10/dist-packages/torch/share/cmake/Caffe2/Caffe2Config.cmake:86 (include)\n",
      "  /usr/local/lib/python3.10/dist-packages/torch/share/cmake/Torch/TorchConfig.cmake:68 (find_package)\n",
      "  CMakeLists.txt:110 (find_package)\n",
      "\n",
      "\u001b[0m\n",
      "-- USE_CUDNN is set to 0. Compiling without cuDNN support\n",
      "-- USE_CUSPARSELT is set to 0. Compiling without cuSPARSELt support\n",
      "-- USE_CUDSS is set to 0. Compiling without cuDSS support\n",
      "-- USE_CUFILE is set to 0. Compiling without cuFile support\n",
      "-- Added CUDA NVCC flags for: -gencode;arch=compute_70,code=sm_70;-gencode;arch=compute_80,code=sm_80;-gencode;arch=compute_90,code=sm_90\n",
      "\u001b[33mCMake Warning at /usr/local/lib/python3.10/dist-packages/torch/share/cmake/Torch/TorchConfig.cmake:22 (message):\n",
      "  static library kineto_LIBRARY-NOTFOUND not found.\n",
      "Call Stack (most recent call first):\n",
      "  /usr/local/lib/python3.10/dist-packages/torch/share/cmake/Torch/TorchConfig.cmake:125 (append_torchlib_if_found)\n",
      "  CMakeLists.txt:110 (find_package)\n",
      "\n",
      "\u001b[0m\n",
      "-- Using yaml-cpp library: /opt/yaml-cpp/lib/libyaml-cpp.a\n",
      "-- Found Python: /usr/bin/python3.10 (found suitable version \"3.10.12\", minimum required is \"3.6\") found components: Interpreter Development Development.Module Development.Embed \n",
      "-- Found pybind11: /usr/include (found version \"2.9.1\")\n",
      "-- Configuring done\n",
      "-- Generating done\n",
      "-- Build files have been written to: /torchfort/build\n",
      "\u001b[35m\u001b[1mScanning dependencies of target torchfort_fort\u001b[0m\n",
      "[  5%] Built target torchfort_fort\n",
      "\u001b[35m\u001b[1mConsolidate compiler generated dependencies of target torchfort\u001b[0m\n",
      "[ 91%] Built target torchfort\n",
      "\u001b[35m\u001b[1mScanning dependencies of target train_distributed\u001b[0m\n",
      "[ 94%] \u001b[32mBuilding Fortran object examples/fortran/simulation/CMakeFiles/train_distributed.dir/simulation.f90.o\u001b[0m\n",
      "[ 97%] \u001b[32mBuilding Fortran object examples/fortran/simulation/CMakeFiles/train_distributed.dir/train_distributed.f90.o\u001b[0m\n",
      "[100%] \u001b[32m\u001b[1mLinking Fortran executable train_distributed\u001b[0m\n",
      "[100%] Built target train_distributed\n"
     ]
    }
   ],
   "source": [
    "! ./sing \"make -j10 train_distributed\""
   ]
  },
  {
   "cell_type": "code",
   "execution_count": null,
   "id": "f091a42a-9c15-4813-8c6a-d3659bc45a92",
   "metadata": {},
   "outputs": [],
   "source": []
  },
  {
   "cell_type": "code",
   "execution_count": null,
   "id": "0f2304e3-6110-44c9-aaca-e72ce3ad77fb",
   "metadata": {},
   "outputs": [],
   "source": []
  },
  {
   "cell_type": "code",
   "execution_count": 5,
   "id": "0285b968-3485-4850-82f1-9566e0343ecf",
   "metadata": {},
   "outputs": [],
   "source": [
    "! ./sing \"cd /torchfort && \\\n",
    "    nvfortran hello.f90 -o hello_world_exec\""
   ]
  },
  {
   "cell_type": "code",
   "execution_count": 24,
   "id": "283b4e81-d932-4fdd-b2b4-6c17829700f4",
   "metadata": {},
   "outputs": [
    {
     "name": "stdout",
     "output_type": "stream",
     "text": [
      "0_notes-tfort#.txt\t    torchfort_local\n",
      "cmakelists.ipynb\t    torchfort_local-2025-03-20\n",
      "container-make.ipynb\t    train-01.ipynb\n",
      "dock-to-singu.ipynb\t    train-02.ipynb\n",
      "jl-insid-ctner.ipynb\t    train_distrib-f90.ipynb\n",
      "jl-insid-ctner-train.ipynb  train_distrib.ipynb\n",
      "mpi-simple-example-fortran  train_distrib-sd.ipynb\n",
      "openacc-tests.ipynb\t    train_distrib-sd-slurm-02.ipynb\n",
      "prompt-train_distr_02.txt   train_distrib-sd-slurm.ipynb\n",
      "setup-nvptx.ipynb\t    train_distrib.srm\n",
      "sing\t\t\t    train-sd.ipynb\n",
      "tfort-singu-test-sd.ipynb   train-singu.ipynb\n"
     ]
    }
   ],
   "source": [
    "! ls"
   ]
  },
  {
   "cell_type": "code",
   "execution_count": 25,
   "id": "d0ed8183-30c8-4812-92f5-ebbe8e76fe0c",
   "metadata": {},
   "outputs": [
    {
     "name": "stdout",
     "output_type": "stream",
     "text": [
      " Hello world!\n"
     ]
    }
   ],
   "source": [
    "! ./sing \"cd /torchfort && \\\n",
    "    ./hello_world_exec\""
   ]
  },
  {
   "cell_type": "code",
   "execution_count": null,
   "id": "b5dfa99f-1aef-49e3-bf6e-f9cbba501caf",
   "metadata": {},
   "outputs": [],
   "source": []
  },
  {
   "cell_type": "markdown",
   "id": "4b847dfe-bc19-4dcb-b605-1ce44f5683a1",
   "metadata": {},
   "source": [
    "## train_distr_02"
   ]
  },
  {
   "cell_type": "code",
   "execution_count": 27,
   "id": "953abe1d-5746-4270-916a-eb04068f31b0",
   "metadata": {},
   "outputs": [
    {
     "name": "stdout",
     "output_type": "stream",
     "text": [
      "Overwriting torchfort_local/examples/fortran/simulation/CMakeLists.txt\n"
     ]
    }
   ],
   "source": [
    "%%writefile torchfort_local/examples/fortran/simulation/CMakeLists.txt\n",
    "find_package(HDF5 COMPONENTS Fortran REQUIRED)\n",
    "\n",
    "set(fortran_example_targets\n",
    "  train\n",
    "  train_distributed\n",
    "#======================================\n",
    "  train_distr_02\n",
    "#======================================\n",
    ")\n",
    "\n",
    "\n",
    "\n",
    "add_executable(train)\n",
    "target_sources(train\n",
    "  PRIVATE\n",
    "  train.f90\n",
    "  simulation.f90\n",
    ")\n",
    "set_target_properties(train PROPERTIES Fortran_MODULE_DIRECTORY ${CMAKE_CURRENT_SOURCE_DIR}/mod/0 )\n",
    "\n",
    "add_executable(train_distributed)\n",
    "target_sources(train_distributed\n",
    "  PRIVATE\n",
    "  train_distributed.f90\n",
    "  simulation.f90\n",
    ")\n",
    "set_target_properties(train_distributed PROPERTIES Fortran_MODULE_DIRECTORY ${CMAKE_CURRENT_SOURCE_DIR}/mod/1 )\n",
    "\n",
    "#======================================\n",
    "add_executable(train_distr_02)\n",
    "target_sources(train_distr_02\n",
    "  PRIVATE\n",
    "  train_distr_02.f90\n",
    "  simulation.f90\n",
    ")\n",
    "set_target_properties(train_distr_02 PROPERTIES Fortran_MODULE_DIRECTORY ${CMAKE_CURRENT_SOURCE_DIR}/mod/2 )\n",
    "#======================================\n",
    "\n",
    "\n",
    "\n",
    "foreach(tgt ${fortran_example_targets})\n",
    "  target_include_directories(${tgt}\n",
    "    PRIVATE\n",
    "    ${CMAKE_BINARY_DIR}/include\n",
    "    ${MPI_Fortran_INCLUDE_DIRS}\n",
    "    ${HDF5_Fortran_INCLUDE_DIRS}\n",
    "  )\n",
    "  target_link_libraries(${tgt} PRIVATE MPI::MPI_Fortran)\n",
    "  target_link_libraries(${tgt} PRIVATE hdf5::hdf5_fortran)\n",
    "  target_link_libraries(${tgt} PRIVATE \"${PROJECT_NAME}_fort\")\n",
    "  target_link_libraries(${tgt} PRIVATE ${PROJECT_NAME})\n",
    "  if (CMAKE_Fortran_COMPILER_ID STREQUAL \"NVHPC\")\n",
    "    target_compile_options(${tgt} PRIVATE $<$<COMPILE_LANGUAGE:Fortran>:-cpp -acc -gpu=${CUF_GPU_ARG}>)\n",
    "    target_link_options(${tgt} PRIVATE $<$<COMPILE_LANGUAGE:Fortran>: -acc -gpu=${CUF_GPU_ARG}>)\n",
    "  elseif (CMAKE_Fortran_COMPILER_ID STREQUAL \"GNU\")\n",
    "    target_compile_options(${tgt} PRIVATE $<$<COMPILE_LANGUAGE:Fortran>:-cpp -fbackslash>)\n",
    "  endif()\n",
    "endforeach()\n",
    "\n",
    "install(\n",
    "  TARGETS ${fortran_example_targets}\n",
    "  RUNTIME DESTINATION ${CMAKE_INSTALL_PREFIX}/bin/examples/fortran/simulation\n",
    ")\n",
    "\n",
    "install(\n",
    "  FILES ${CMAKE_CURRENT_SOURCE_DIR}/config_mlp_native.yaml\n",
    "        ${CMAKE_CURRENT_SOURCE_DIR}/config_fcn_torchscript.yaml\n",
    "        ${CMAKE_CURRENT_SOURCE_DIR}/generate_fcn_model.py\n",
    "        ${CMAKE_CURRENT_SOURCE_DIR}/visualize.py\n",
    "  DESTINATION ${CMAKE_INSTALL_PREFIX}/bin/examples/fortran/simulation)"
   ]
  },
  {
   "cell_type": "code",
   "execution_count": 26,
   "id": "4754e21a-76f7-41e5-be53-66fd85b660f1",
   "metadata": {},
   "outputs": [
    {
     "name": "stdout",
     "output_type": "stream",
     "text": [
      "-- Found Python: /usr/bin/python3.10 (found version \"3.10.12\") found components: Interpreter \n",
      "-- Found CUDAToolkit: /opt/nvidia/hpc_sdk/Linux_x86_64/25.3/cuda/12.8/include (found version \"12.8.93\") \n",
      "-- NVHPC_CUDA_VERSION not specified.\n",
      "-- Default CUDA version selected: 12.8\n",
      "-- Using NCCL library: /usr/lib/x86_64-linux-gnu/libnccl.so\n",
      "-- Found CUDAToolkit: /opt/nvidia/hpc_sdk/Linux_x86_64/25.3/cuda/12.8/include (found version \"12.8.93\") \n",
      "-- PyTorch: CUDA detected: 12.8\n",
      "-- PyTorch: CUDA nvcc is: /opt/nvidia/hpc_sdk/Linux_x86_64/25.3/cuda/bin/nvcc\n",
      "-- PyTorch: CUDA toolkit directory: /opt/nvidia/hpc_sdk/Linux_x86_64/25.3/cuda\n",
      "-- PyTorch: Header version is: 12.8\n",
      "\u001b[33mCMake Warning at /usr/local/lib/python3.10/dist-packages/torch/share/cmake/Caffe2/public/cuda.cmake:140 (message):\n",
      "  Failed to compute shorthash for libnvrtc.so\n",
      "Call Stack (most recent call first):\n",
      "  /usr/local/lib/python3.10/dist-packages/torch/share/cmake/Caffe2/Caffe2Config.cmake:86 (include)\n",
      "  /usr/local/lib/python3.10/dist-packages/torch/share/cmake/Torch/TorchConfig.cmake:68 (find_package)\n",
      "  CMakeLists.txt:110 (find_package)\n",
      "\n",
      "\u001b[0m\n",
      "\u001b[33mCMake Warning (dev) at /usr/share/cmake-3.22/Modules/FindPackageHandleStandardArgs.cmake:438 (message):\n",
      "  The package name passed to `find_package_handle_standard_args` (nvtx3) does\n",
      "  not match the name of the calling package (Caffe2).  This can lead to\n",
      "  problems in calling code that expects `find_package` result variables\n",
      "  (e.g., `_FOUND`) to follow a certain pattern.\n",
      "Call Stack (most recent call first):\n",
      "  /usr/local/lib/python3.10/dist-packages/torch/share/cmake/Caffe2/public/cuda.cmake:178 (find_package_handle_standard_args)\n",
      "  /usr/local/lib/python3.10/dist-packages/torch/share/cmake/Caffe2/Caffe2Config.cmake:86 (include)\n",
      "  /usr/local/lib/python3.10/dist-packages/torch/share/cmake/Torch/TorchConfig.cmake:68 (find_package)\n",
      "  CMakeLists.txt:110 (find_package)\n",
      "This warning is for project developers.  Use -Wno-dev to suppress it.\n",
      "\u001b[0m\n",
      "-- Could NOT find nvtx3 (missing: nvtx3_dir) \n",
      "\u001b[33mCMake Warning at /usr/local/lib/python3.10/dist-packages/torch/share/cmake/Caffe2/public/cuda.cmake:184 (message):\n",
      "  Cannot find NVTX3, find old NVTX instead\n",
      "Call Stack (most recent call first):\n",
      "  /usr/local/lib/python3.10/dist-packages/torch/share/cmake/Caffe2/Caffe2Config.cmake:86 (include)\n",
      "  /usr/local/lib/python3.10/dist-packages/torch/share/cmake/Torch/TorchConfig.cmake:68 (find_package)\n",
      "  CMakeLists.txt:110 (find_package)\n",
      "\n",
      "\u001b[0m\n",
      "-- USE_CUDNN is set to 0. Compiling without cuDNN support\n",
      "-- USE_CUSPARSELT is set to 0. Compiling without cuSPARSELt support\n",
      "-- USE_CUDSS is set to 0. Compiling without cuDSS support\n",
      "-- USE_CUFILE is set to 0. Compiling without cuFile support\n",
      "-- Added CUDA NVCC flags for: -gencode;arch=compute_70,code=sm_70;-gencode;arch=compute_80,code=sm_80;-gencode;arch=compute_90,code=sm_90\n",
      "\u001b[33mCMake Warning at /usr/local/lib/python3.10/dist-packages/torch/share/cmake/Torch/TorchConfig.cmake:22 (message):\n",
      "  static library kineto_LIBRARY-NOTFOUND not found.\n",
      "Call Stack (most recent call first):\n",
      "  /usr/local/lib/python3.10/dist-packages/torch/share/cmake/Torch/TorchConfig.cmake:125 (append_torchlib_if_found)\n",
      "  CMakeLists.txt:110 (find_package)\n",
      "\n",
      "\u001b[0m\n",
      "-- Using yaml-cpp library: /opt/yaml-cpp/lib/libyaml-cpp.a\n",
      "-- Found Python: /usr/bin/python3.10 (found suitable version \"3.10.12\", minimum required is \"3.6\") found components: Interpreter Development Development.Module Development.Embed \n",
      "-- Found pybind11: /usr/include (found version \"2.9.1\")\n",
      "-- Configuring done\n",
      "-- Generating done\n",
      "-- Build files have been written to: /torchfort/build\n",
      "\u001b[35m\u001b[1mScanning dependencies of target torchfort_fort\u001b[0m\n",
      "[  5%] Built target torchfort_fort\n",
      "\u001b[35m\u001b[1mConsolidate compiler generated dependencies of target torchfort\u001b[0m\n",
      "[ 91%] Built target torchfort\n",
      "\u001b[35m\u001b[1mScanning dependencies of target train_distr_02\u001b[0m\n",
      "[100%] Built target train_distr_02\n"
     ]
    }
   ],
   "source": [
    "! ./sing \"cmake .. && \\\n",
    "        make -j10 train_distr_02\""
   ]
  },
  {
   "cell_type": "code",
   "execution_count": null,
   "id": "8e5da7e8-d84c-432b-b376-840ddb607933",
   "metadata": {},
   "outputs": [],
   "source": []
  },
  {
   "cell_type": "code",
   "execution_count": null,
   "id": "ccc7d792-dba8-477d-984a-152dff50bfd0",
   "metadata": {},
   "outputs": [],
   "source": []
  },
  {
   "cell_type": "code",
   "execution_count": 7,
   "id": "1847331c-859e-4cef-9615-2d64715de4ae",
   "metadata": {},
   "outputs": [
    {
     "name": "stdout",
     "output_type": "stream",
     "text": [
      "[  5%] Built target torchfort_fort\n",
      "[ 91%] Built target torchfort\n",
      "[ 94%] \u001b[32m\u001b[1mLinking Fortran executable train_distr_02\u001b[0m\n",
      "[100%] Built target train_distr_02\n"
     ]
    }
   ],
   "source": [
    "! ./sing \"make -j10 train_distr_02\""
   ]
  },
  {
   "cell_type": "code",
   "execution_count": null,
   "id": "475318c2-a3e0-4e1e-b25e-28479bbce0a2",
   "metadata": {},
   "outputs": [],
   "source": []
  },
  {
   "cell_type": "code",
   "execution_count": null,
   "id": "6c114ee1-4c56-43a0-93da-7e463aecad30",
   "metadata": {},
   "outputs": [],
   "source": []
  },
  {
   "cell_type": "code",
   "execution_count": null,
   "id": "69f33482-8742-43ec-9fa2-6d8de7e51688",
   "metadata": {},
   "outputs": [],
   "source": []
  }
 ],
 "metadata": {
  "kernelspec": {
   "display_name": "Python 3 (ipykernel)",
   "language": "python",
   "name": "python3"
  },
  "language_info": {
   "codemirror_mode": {
    "name": "ipython",
    "version": 3
   },
   "file_extension": ".py",
   "mimetype": "text/x-python",
   "name": "python",
   "nbconvert_exporter": "python",
   "pygments_lexer": "ipython3",
   "version": "3.12.5"
  }
 },
 "nbformat": 4,
 "nbformat_minor": 5
}
