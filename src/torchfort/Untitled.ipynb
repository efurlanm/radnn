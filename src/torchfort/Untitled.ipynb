{
 "cells": [
  {
   "cell_type": "markdown",
   "id": "5a42b4df-a307-4c0a-ab62-3f7b4085a3b1",
   "metadata": {},
   "source": [
    "$$\\begin{array}{rcl} \\textrm{ Speedup}& =& f + P\\left (1 - f\\right ) \\\\ & =& P - f\\left (P - 1\\right )\\end{array}$$"
   ]
  },
  {
   "cell_type": "code",
   "execution_count": null,
   "id": "ddc79951-0fd7-4b62-82c2-2daf16be2f2f",
   "metadata": {},
   "outputs": [],
   "source": []
  }
 ],
 "metadata": {
  "kernelspec": {
   "display_name": "Python 3 (ipykernel)",
   "language": "python",
   "name": "python3"
  },
  "language_info": {
   "codemirror_mode": {
    "name": "ipython",
    "version": 3
   },
   "file_extension": ".py",
   "mimetype": "text/x-python",
   "name": "python",
   "nbconvert_exporter": "python",
   "pygments_lexer": "ipython3",
   "version": "3.12.5"
  }
 },
 "nbformat": 4,
 "nbformat_minor": 5
}
