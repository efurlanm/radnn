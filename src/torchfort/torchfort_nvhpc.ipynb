{
 "cells": [
  {
   "cell_type": "markdown",
   "id": "0024afd2-3279-48d3-9c35-9191996db2eb",
   "metadata": {},
   "source": [
    "Converting Dockerfile to torchfort_nvhpc.def, to create the container in Singularity, instead of Docker. The `.def` files are in the `sty/` directory. The 7.9 GB `nvhpc_2025_253_Linux_x86_64_cuda_12.8.tar.gz` package must be downloaded separately and placed in the root of `torchfort_local`."
   ]
  },
  {
   "cell_type": "markdown",
   "id": "4dd38d2a-5c4a-4e50-a8fa-2d8c485fecb6",
   "metadata": {},
   "source": [
    "To create de container:\n",
    "\n",
    "    ! singularity build --fakeroot ~/containers/torchfort_nvhpc.sif\n",
    "         sty/torchfort_nvhpc.def"
   ]
  },
  {
   "cell_type": "code",
   "execution_count": 10,
   "id": "eecf9269-84fd-45c1-a1c9-7de20a4edc4c",
   "metadata": {},
   "outputs": [
    {
     "name": "stdout",
     "output_type": "stream",
     "text": [
      "Hello, world!\n"
     ]
    }
   ],
   "source": [
    "! singularity exec --nv \\\n",
    "  ~/containers/torchfort_nvhpc.sif \\\n",
    "  bash -c \"echo 'Hello, world!'\""
   ]
  },
  {
   "cell_type": "code",
   "execution_count": 11,
   "id": "a5d1c5fa-13a9-42c9-8abe-a8e87b4338d9",
   "metadata": {},
   "outputs": [
    {
     "name": "stdout",
     "output_type": "stream",
     "text": [
      "PRETTY_NAME=\"Ubuntu 22.04.5 LTS\"\n",
      "NAME=\"Ubuntu\"\n",
      "VERSION_ID=\"22.04\"\n",
      "VERSION=\"22.04.5 LTS (Jammy Jellyfish)\"\n",
      "VERSION_CODENAME=jammy\n",
      "ID=ubuntu\n",
      "ID_LIKE=debian\n",
      "HOME_URL=\"https://www.ubuntu.com/\"\n",
      "SUPPORT_URL=\"https://help.ubuntu.com/\"\n",
      "BUG_REPORT_URL=\"https://bugs.launchpad.net/ubuntu/\"\n",
      "PRIVACY_POLICY_URL=\"https://www.ubuntu.com/legal/terms-and-policies/privacy-policy\"\n",
      "UBUNTU_CODENAME=jammy\n"
     ]
    }
   ],
   "source": [
    "! singularity exec --nv \\\n",
    "  ~/containers/torchfort_nvhpc.sif \\\n",
    "  bash -c \"cat /etc/os-release\""
   ]
  },
  {
   "cell_type": "code",
   "execution_count": 12,
   "id": "4f2ff626-c415-48af-bd1c-6a2360e41440",
   "metadata": {},
   "outputs": [
    {
     "name": "stdout",
     "output_type": "stream",
     "text": [
      "PRETTY_NAME=\"Ubuntu 22.04.5 LTS\"\n",
      "NAME=\"Ubuntu\"\n",
      "VERSION_ID=\"22.04\"\n",
      "VERSION=\"22.04.5 LTS (Jammy Jellyfish)\"\n",
      "VERSION_CODENAME=jammy\n",
      "ID=ubuntu\n",
      "ID_LIKE=debian\n",
      "HOME_URL=\"https://www.ubuntu.com/\"\n",
      "SUPPORT_URL=\"https://help.ubuntu.com/\"\n",
      "BUG_REPORT_URL=\"https://bugs.launchpad.net/ubuntu/\"\n",
      "PRIVACY_POLICY_URL=\"https://www.ubuntu.com/legal/terms-and-policies/privacy-policy\"\n",
      "UBUNTU_CODENAME=jammy\n"
     ]
    }
   ],
   "source": [
    "! singularity exec --nv \\\n",
    "  --bind ~/tfort/250703-train_distr_03/torchfort_local:/torchfort \\\n",
    "  ~/containers/torchfort_nvhpc.sif \\\n",
    "  bash -c \"cat /etc/os-release\""
   ]
  },
  {
   "cell_type": "code",
   "execution_count": 13,
   "id": "74672ef5-971b-4497-b4fd-ce328db5a59d",
   "metadata": {},
   "outputs": [
    {
     "name": "stdout",
     "output_type": "stream",
     "text": [
      "Overwriting sing\n"
     ]
    }
   ],
   "source": [
    "%%writefile sing\n",
    "singularity exec --nv \\\n",
    "  --bind ~/tfort/250703-train_distr_03/torchfort_local:/torchfort \\\n",
    "  ~/containers/torchfort_nvhpc.sif \\\n",
    "  bash -c \"CUDA_PATH=/opt/nvidia/hpc_sdk/Linux_x86_64/25.3/cuda && \\\n",
    "    cd /torchfort/build && \\\n",
    "    $* \""
   ]
  },
  {
   "cell_type": "code",
   "execution_count": 14,
   "id": "fe2a83e7-e7ad-4b0e-806f-39d09e295c0c",
   "metadata": {},
   "outputs": [
    {
     "name": "stdout",
     "output_type": "stream",
     "text": [
      "PRETTY_NAME=\"Ubuntu 22.04.5 LTS\"\n",
      "NAME=\"Ubuntu\"\n",
      "VERSION_ID=\"22.04\"\n",
      "VERSION=\"22.04.5 LTS (Jammy Jellyfish)\"\n",
      "VERSION_CODENAME=jammy\n",
      "ID=ubuntu\n",
      "ID_LIKE=debian\n",
      "HOME_URL=\"https://www.ubuntu.com/\"\n",
      "SUPPORT_URL=\"https://help.ubuntu.com/\"\n",
      "BUG_REPORT_URL=\"https://bugs.launchpad.net/ubuntu/\"\n",
      "PRIVACY_POLICY_URL=\"https://www.ubuntu.com/legal/terms-and-policies/privacy-policy\"\n",
      "UBUNTU_CODENAME=jammy\n"
     ]
    }
   ],
   "source": [
    "! ./sing \"cat /etc/os-release\""
   ]
  },
  {
   "cell_type": "code",
   "execution_count": 15,
   "id": "d62e9f92-08b1-4ddf-932f-d82922226102",
   "metadata": {},
   "outputs": [
    {
     "name": "stdout",
     "output_type": "stream",
     "text": [
      " Run settings:\n",
      " \tconfigfile: config_mlp_native.yaml\n",
      " \tsimulation_device: cpu\n",
      " \ttrain_device: cpu\n",
      " \tcheckpoint_dir:NONE\n",
      " \toutput_model_name: model.pt\n",
      " \toutput_checkpoint_dir: checkpoint\n",
      " \tntrain_steps:        100000\n",
      " \tnval_steps:          1000\n",
      " \tval_write_freq:            10\n",
      " \n",
      "TORCHFORT::WARN: enable_wandb_hook is true but the environment variable TORCHFORT_LOGDIR was not specified. To enable logging, set TORCHFORT_LOGDIR to a writeable directory prior to launching wandb_helper.py and your torchfort enabled application.\n",
      "TORCHFORT::WARN: enable_wandb_hook is true but the environment variable TORCHFORT_LOGDIR was not specified. To enable logging, set TORCHFORT_LOGDIR to a writeable directory prior to launching wandb_helper.py and your torchfort enabled application.\n",
      " start training...\n",
      "TORCHFORT::INFO: model: mymodel, step_train: 100, loss: 0.306781, lr: 0.000999998\n",
      "TORCHFORT::INFO: model: mymodel, step_train: 200, loss: 5.74357, lr: 0.00099999\n",
      "TORCHFORT::INFO: model: mymodel, step_train: 300, loss: 0.503913, lr: 0.000999978\n",
      "^C\n"
     ]
    }
   ],
   "source": [
    "! ./sing \"cd /torchfort/examples/fortran/simulation/ && \\\n",
    "      mpirun --allow-run-as-root --mca plm_rsh_agent false \\\n",
    "        -np 2 ./train_distributed --simulation_device -1 --train_device -1\""
   ]
  },
  {
   "cell_type": "code",
   "execution_count": 16,
   "id": "f84d423e-5186-4987-8c7d-223315a1bfa8",
   "metadata": {},
   "outputs": [
    {
     "name": "stdout",
     "output_type": "stream",
     "text": [
      "/usr/bin/bash: line 1: cd: /torchfort/examples/fortran/simulation/: No such file or directory\n"
     ]
    }
   ],
   "source": [
    "! singularity exec --nv --bind .:/torchfort ~/containers/torchfort_nvhpc.sif \\\n",
    "     bash -c \"CUDA_PATH=/opt/nvidia/hpc_sdk/Linux_x86_64/25.3/cuda && \\\n",
    "     cd /torchfort/examples/fortran/simulation/ && \\\n",
    "     mpirun --allow-run-as-root --mca plm_rsh_agent false \\\n",
    "       -np 2 ./train_distributed --simulation_device -1 --train_device -1\""
   ]
  },
  {
   "cell_type": "code",
   "execution_count": null,
   "id": "ed45a1f9-fee9-4b1f-ad33-4f1f4a43a9fc",
   "metadata": {},
   "outputs": [],
   "source": []
  }
 ],
 "metadata": {
  "kernelspec": {
   "display_name": "Python 3 (ipykernel)",
   "language": "python",
   "name": "python3"
  },
  "language_info": {
   "codemirror_mode": {
    "name": "ipython",
    "version": 3
   },
   "file_extension": ".py",
   "mimetype": "text/x-python",
   "name": "python",
   "nbconvert_exporter": "python",
   "pygments_lexer": "ipython3",
   "version": "3.12.5"
  }
 },
 "nbformat": 4,
 "nbformat_minor": 5
}
