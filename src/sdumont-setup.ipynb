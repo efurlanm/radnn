{
 "cells": [
  {
   "cell_type": "markdown",
   "id": "2379082a-3692-4dd4-babc-8130d48e3871",
   "metadata": {},
   "source": [
    "# SDUMONT - MINIMAL INSTALLATION\n",
    "\n",
    "- Miniconda3 + JupyterLab + SyncThing\n",
    "- the rest is installed via .ipynb in the install directory in sdumont"
   ]
  },
  {
   "cell_type": "markdown",
   "id": "408a7fe6-c64a-4021-9689-af81b7ac3b3a",
   "metadata": {},
   "source": [
    "## Connect\n",
    "\n",
    "<font style=\"color:red\">Don't forget to connect VPNC first</font>"
   ]
  },
  {
   "cell_type": "code",
   "execution_count": null,
   "id": "93be606d-fb05-4d76-9d72-740702bad922",
   "metadata": {},
   "outputs": [],
   "source": [
    "! ssh -TNf sd"
   ]
  },
  {
   "cell_type": "code",
   "execution_count": null,
   "id": "6efcc34a-df68-4361-a2aa-cbbaa6f79586",
   "metadata": {},
   "outputs": [],
   "source": [
    "! ssh -T sd hostname > $HOME/sd-current-login-hostname.txt"
   ]
  },
  {
   "cell_type": "code",
   "execution_count": 6,
   "id": "9318e1e4-d2da-4362-a0a0-04c2fdebe5bd",
   "metadata": {},
   "outputs": [
    {
     "name": "stdout",
     "output_type": "stream",
     "text": [
      "sdumont18\n"
     ]
    }
   ],
   "source": [
    "! cat $HOME/sd-current-login-hostname.txt"
   ]
  },
  {
   "cell_type": "code",
   "execution_count": 9,
   "id": "aeb7f518-96e1-4a3a-bce9-faa3e89805bd",
   "metadata": {},
   "outputs": [],
   "source": [
    "%%bash\n",
    "# OPT='workaround=rename,uid=1000,gid=1000,auto_cache,reconnect,cache=yes,kernel_cache'\n",
    "OPT='uid=1000,gid=1000,auto_cache,cache=yes,compression=yes,noatime'\n",
    "sshfs sd:/prj     /prj     -o $OPT\n",
    "sshfs sd:/scratch /scratch -o $OPT"
   ]
  },
  {
   "cell_type": "markdown",
   "id": "6d06be80-d9b2-46f4-8ca8-9541800ef025",
   "metadata": {
    "jp-MarkdownHeadingCollapsed": true
   },
   "source": [
    "To clear/reset the environment, see \"Clear the environment\" below."
   ]
  },
  {
   "cell_type": "markdown",
   "id": "a7bd2cf7-ff03-4e3c-9742-66ac08fa9111",
   "metadata": {},
   "source": [
    "## Installation"
   ]
  },
  {
   "cell_type": "code",
   "execution_count": 26,
   "id": "2c16a88d-e37c-4a77-a2ec-16c120aca313",
   "metadata": {
    "scrolled": true
   },
   "outputs": [
    {
     "name": "stdout",
     "output_type": "stream",
     "text": [
      "PREFIX=/prj/ampemi/eduardo.miranda2/miniconda3\n",
      "Unpacking payload ...\n",
      "\n",
      "Installing base environment...\n",
      "\n",
      "\n",
      "Downloading and Extracting Packages\n",
      "\n",
      "\n",
      "Downloading and Extracting Packages\n",
      "\n",
      "Preparing transaction: ...working... done\n",
      "Executing transaction: ...working... done\n",
      "installation finished.\n",
      "Retrieving notices: ...working... done\n",
      "Collecting package metadata (current_repodata.json): ...working... done\n",
      "Solving environment: ...working... done\n",
      "\n",
      "## Package Plan ##\n",
      "\n",
      "  environment location: /prj/ampemi/eduardo.miranda2/miniconda3\n",
      "\n",
      "  added / updated specs:\n",
      "    - conda\n",
      "\n",
      "\n",
      "The following packages will be downloaded:\n",
      "\n",
      "    package                    |            build\n",
      "    ---------------------------|-----------------\n",
      "    archspec-0.2.1             |     pyhd3eb1b0_0          39 KB\n",
      "    brotli-python-1.0.9        |  py311h6a678d5_7         318 KB\n",
      "    certifi-2023.11.17         |  py311h06a4308_0         159 KB\n",
      "    cffi-1.16.0                |  py311h5eee18b_0         314 KB\n",
      "    conda-23.11.0              |  py311h06a4308_0         1.3 MB\n",
      "    conda-libmamba-solver-23.12.0|  py311h06a4308_0         105 KB\n",
      "    cryptography-41.0.7        |  py311hdda0065_0         2.1 MB\n",
      "    distro-1.8.0               |  py311h06a4308_0          37 KB\n",
      "    libcurl-8.4.0              |       h251f7ec_1         411 KB\n",
      "    libmamba-1.5.3             |       haf1ee3a_0         1.9 MB\n",
      "    libmambapy-1.5.3           |  py311h2dafd23_0         314 KB\n",
      "    libnghttp2-1.57.0          |       h2d74bed_0         674 KB\n",
      "    menuinst-2.0.1             |  py311h06a4308_1         164 KB\n",
      "    openssl-3.0.12             |       h7f8727e_0         5.2 MB\n",
      "    platformdirs-3.10.0        |  py311h06a4308_0          37 KB\n",
      "    urllib3-1.26.18            |  py311h06a4308_0         251 KB\n",
      "    xz-5.4.5                   |       h5eee18b_0         646 KB\n",
      "    yaml-cpp-0.8.0             |       h6a678d5_0         607 KB\n",
      "    ------------------------------------------------------------\n",
      "                                           Total:        14.3 MB\n",
      "\n",
      "The following NEW packages will be INSTALLED:\n",
      "\n",
      "  archspec           pkgs/main/noarch::archspec-0.2.1-pyhd3eb1b0_0 \n",
      "  brotli-python      pkgs/main/linux-64::brotli-python-1.0.9-py311h6a678d5_7 \n",
      "  distro             pkgs/main/linux-64::distro-1.8.0-py311h06a4308_0 \n",
      "  menuinst           pkgs/main/linux-64::menuinst-2.0.1-py311h06a4308_1 \n",
      "  platformdirs       pkgs/main/linux-64::platformdirs-3.10.0-py311h06a4308_0 \n",
      "\n",
      "The following packages will be REMOVED:\n",
      "\n",
      "  brotlipy-0.7.0-py311h5eee18b_1002\n",
      "\n",
      "The following packages will be UPDATED:\n",
      "\n",
      "  certifi                         2023.7.22-py311h06a4308_0 --> 2023.11.17-py311h06a4308_0 \n",
      "  cffi                               1.15.1-py311h5eee18b_3 --> 1.16.0-py311h5eee18b_0 \n",
      "  conda                              23.9.0-py311h06a4308_0 --> 23.11.0-py311h06a4308_0 \n",
      "  conda-libmamba-so~                 23.9.1-py311h06a4308_0 --> 23.12.0-py311h06a4308_0 \n",
      "  cryptography                       41.0.3-py311hdda0065_0 --> 41.0.7-py311hdda0065_0 \n",
      "  libcurl                                  8.2.1-h251f7ec_0 --> 8.4.0-h251f7ec_1 \n",
      "  libmamba                                 1.5.1-haf1ee3a_0 --> 1.5.3-haf1ee3a_0 \n",
      "  libmambapy                          1.5.1-py311h2dafd23_0 --> 1.5.3-py311h2dafd23_0 \n",
      "  libnghttp2                              1.52.0-h2d74bed_1 --> 1.57.0-h2d74bed_0 \n",
      "  openssl                                 3.0.11-h7f8727e_2 --> 3.0.12-h7f8727e_0 \n",
      "  urllib3                           1.26.16-py311h06a4308_0 --> 1.26.18-py311h06a4308_0 \n",
      "  xz                                       5.4.2-h5eee18b_0 --> 5.4.5-h5eee18b_0 \n",
      "  yaml-cpp                                 0.7.0-h295c915_1 --> 0.8.0-h6a678d5_0 \n",
      "\n",
      "\n",
      "Proceed ([y]/n)? Invalid choice: pip3 install --upgrade pip\n",
      "Proceed ([y]/n)? Invalid choice: conda install -yc conda-forge jupyterlab jupyterlab_code_formatter black isort yapf autopep8\n",
      "Proceed ([y]/n)? \n",
      "\n",
      "Downloading and Extracting Packages: ...working... done\n",
      "Preparing transaction: ...working... done\n",
      "Verifying transaction: ...working... done\n",
      "Executing transaction: ...working... done\n"
     ]
    },
    {
     "name": "stderr",
     "output_type": "stream",
     "text": [
      "                                                                                                                 \r"
     ]
    }
   ],
   "source": [
    "%%bash\n",
    "ssh -T sd <<'EOF'\n",
    "#BASE=$HOME/conda\n",
    "BASE=/scratch${HOME#/prj}/conda    # install in /scratch/ directory\n",
    "cd $HOME/install\n",
    "bash ./Miniconda3-latest-Linux-x86_64.sh -b -p $BASE\n",
    "source $BASE/bin/activate base\n",
    "pip3 install --upgrade pip\n",
    "conda update -n base -c defaults conda\n",
    "conda install -yc conda-forge syncthing jupyterlab jupyterlab_code_formatter black yapf\n",
    "EOF\n"
   ]
  },
  {
   "cell_type": "markdown",
   "id": "51ca9035-5a00-4558-9419-d01999d57a65",
   "metadata": {},
   "source": [
    "## Update (prj/)"
   ]
  },
  {
   "cell_type": "code",
   "execution_count": 5,
   "id": "437025e7-f723-411a-afc9-7b4a97bbdb97",
   "metadata": {
    "scrolled": true
   },
   "outputs": [
    {
     "name": "stdout",
     "output_type": "stream",
     "text": [
      "Channels:\n",
      " - defaults\n",
      " - conda-forge\n",
      "Platform: linux-64\n",
      "Collecting package metadata (repodata.json): ...working... done\n",
      "Solving environment: ...working... done\n",
      "\n",
      "# All requested packages already installed.\n",
      "\n",
      "Channels:\n",
      " - defaults\n",
      " - conda-forge\n",
      "Platform: linux-64\n",
      "Collecting package metadata (repodata.json): ...working... done\n",
      "Solving environment: ...working... done\n",
      "\n",
      "## Package Plan ##\n",
      "\n",
      "  environment location: /prj/ampemi/eduardo.miranda2/miniconda3\n",
      "\n",
      "\n",
      "The following packages will be downloaded:\n",
      "\n",
      "    package                    |            build\n",
      "    ---------------------------|-----------------\n",
      "    anyio-4.2.0                |  py311h06a4308_0         237 KB\n",
      "    argon2-cffi-bindings-21.2.0|  py311h5eee18b_0          33 KB\n",
      "    async-lru-2.0.4            |  py311h06a4308_0          20 KB\n",
      "    attrs-23.1.0               |  py311h06a4308_0         161 KB\n",
      "    autopep8-2.0.4             |     pyhd3eb1b0_0          44 KB\n",
      "    beautifulsoup4-4.12.2      |  py311h06a4308_0         268 KB\n",
      "    black-24.4.2               |  py311h06a4308_0         378 KB\n",
      "    brotli-python-1.0.9        |  py311h6a678d5_8         358 KB\n",
      "    bzip2-1.0.8                |       h5eee18b_6         262 KB\n",
      "    cached-property-1.5.2      |             py_0          11 KB\n",
      "    cffi-1.16.0                |  py311h5eee18b_1         313 KB\n",
      "    click-8.1.7                |  py311h06a4308_0         221 KB\n",
      "    comm-0.2.1                 |  py311h06a4308_0          17 KB\n",
      "    conda-content-trust-0.2.0  |  py311h06a4308_1          62 KB\n",
      "    conda-libmamba-solver-24.1.0|     pyhd3eb1b0_0          39 KB\n",
      "    conda-package-handling-2.2.0|  py311h06a4308_1         278 KB\n",
      "    cryptography-42.0.5        |  py311hdda0065_1         2.1 MB\n",
      "    decorator-5.1.1            |     pyhd3eb1b0_0          12 KB\n",
      "    defusedxml-0.7.1           |     pyhd3eb1b0_0          23 KB\n",
      "    distro-1.9.0               |  py311h06a4308_0          36 KB\n",
      "    entrypoints-0.4            |  py311h06a4308_0          17 KB\n",
      "    exceptiongroup-1.2.0       |  py311h06a4308_0          37 KB\n",
      "    fmt-9.1.0                  |       hdb19cb5_1         195 KB\n",
      "    idna-3.7                   |  py311h06a4308_0         133 KB\n",
      "    importlib-metadata-7.0.1   |  py311h06a4308_0          49 KB\n",
      "    importlib_metadata-7.0.1   |       hd3eb1b0_0           8 KB\n",
      "    importlib_resources-6.1.1  |  py311h06a4308_1          70 KB\n",
      "    ipykernel-6.28.0           |  py311h06a4308_0         245 KB\n",
      "    ipython-8.20.0             |  py311h06a4308_0         1.4 MB\n",
      "    jinja2-3.1.4               |  py311h06a4308_0         360 KB\n",
      "    jsonpatch-1.33             |  py311h06a4308_1          37 KB\n",
      "    jupyter_client-8.6.0       |  py311h06a4308_0         233 KB\n",
      "    jupyter_core-5.5.0         |  py311h06a4308_0          91 KB\n",
      "    jupyterlab-4.0.11          |  py311h06a4308_0         4.5 MB\n",
      "    jupyterlab_code_formatter-2.2.1|  py311h06a4308_0          43 KB\n",
      "    libarchive-3.6.2           |       h6ac8c49_3         898 KB\n",
      "    libcurl-8.7.1              |       h251f7ec_0         424 KB\n",
      "    libedit-3.1.20230828       |       h5eee18b_0         179 KB\n",
      "    libffi-3.4.4               |       h6a678d5_1         141 KB\n",
      "    libmamba-1.5.8             |       hfe524e5_2         1.9 MB\n",
      "    libmambapy-1.5.8           |  py311h2dafd23_2         329 KB\n",
      "    libsodium-1.0.18           |       h7b6447c_0         244 KB\n",
      "    libsolv-0.7.24             |       he621ea3_1         490 KB\n",
      "    libssh2-1.11.0             |       h251f7ec_0         282 KB\n",
      "    libxml2-2.10.4             |       hfdd30dd_2         754 KB\n",
      "    lz4-c-1.9.4                |       h6a678d5_1         156 KB\n",
      "    markupsafe-2.1.3           |  py311h5eee18b_0          25 KB\n",
      "    matplotlib-inline-0.1.6    |  py311h06a4308_0          18 KB\n",
      "    menuinst-2.1.0             |  py311h06a4308_0         250 KB\n",
      "    mypy_extensions-1.0.0      |  py311h06a4308_0          13 KB\n",
      "    nbclient-0.8.0             |  py311h06a4308_0         120 KB\n",
      "    nbconvert-core-7.16.4      |     pyhd8ed1ab_0         185 KB  conda-forge\n",
      "    nbformat-5.9.2             |  py311h06a4308_0         158 KB\n",
      "    nest-asyncio-1.6.0         |  py311h06a4308_0          16 KB\n",
      "    notebook-shim-0.2.3        |  py311h06a4308_0          26 KB\n",
      "    openssl-3.0.13             |       h7f8727e_2         5.2 MB\n",
      "    overrides-7.4.0            |  py311h06a4308_0          36 KB\n",
      "    packaging-23.2             |  py311h06a4308_0         171 KB\n",
      "    pandocfilters-1.5.0        |     pyhd3eb1b0_0          11 KB\n",
      "    parso-0.8.3                |     pyhd3eb1b0_0          70 KB\n",
      "    pcre2-10.42                |       hebb0a14_1         1.3 MB\n",
      "    pexpect-4.8.0              |     pyhd3eb1b0_3          53 KB\n",
      "    pickleshare-0.7.5          |  pyhd3eb1b0_1003          13 KB\n",
      "    pip-24.0                   |  py311h06a4308_0         3.3 MB\n",
      "    pkgutil-resolve-name-1.3.10|  py311h06a4308_1          10 KB\n",
      "    prompt-toolkit-3.0.43      |  py311h06a4308_0         745 KB\n",
      "    prompt_toolkit-3.0.43      |       hd3eb1b0_0           5 KB\n",
      "    psutil-5.9.0               |  py311h5eee18b_0         463 KB\n",
      "    ptyprocess-0.7.0           |     pyhd3eb1b0_2          17 KB\n",
      "    pure_eval-0.2.2            |     pyhd3eb1b0_0          14 KB\n",
      "    pycodestyle-2.11.1         |  py311h06a4308_0          71 KB\n",
      "    pycosat-0.6.6              |  py311h5eee18b_1          95 KB\n",
      "    pyopenssl-24.0.0           |  py311h06a4308_0         124 KB\n",
      "    python-dateutil-2.9.0post0 |  py311h06a4308_2         323 KB\n",
      "    python-json-logger-2.0.7   |  py311h06a4308_0          18 KB\n",
      "    pytz-2024.1                |  py311h06a4308_0         220 KB\n",
      "    pyyaml-6.0.1               |  py311h5eee18b_0         210 KB\n",
      "    pyzmq-25.1.2               |  py311h6a678d5_0         540 KB\n",
      "    reproc-14.2.4              |       h6a678d5_2          29 KB\n",
      "    reproc-cpp-14.2.4          |       h6a678d5_2          21 KB\n",
      "    requests-2.32.2            |  py311h06a4308_0         129 KB\n",
      "    rfc3339-validator-0.1.4    |  py311h06a4308_0          10 KB\n",
      "    rfc3986-validator-0.1.1    |  py311h06a4308_0          10 KB\n",
      "    rpds-py-0.10.6             |  py311hb02cf49_0        1007 KB\n",
      "    send2trash-1.8.2           |  py311h06a4308_0          32 KB\n",
      "    setuptools-69.5.1          |  py311h06a4308_0         1.3 MB\n",
      "    six-1.16.0                 |     pyhd3eb1b0_1          18 KB\n",
      "    sniffio-1.3.0              |  py311h06a4308_0          17 KB\n",
      "    soupsieve-2.5              |  py311h06a4308_0          92 KB\n",
      "    sqlite-3.45.3              |       h5eee18b_0         1.2 MB\n",
      "    tinycss2-1.2.1             |  py311h06a4308_0          46 KB\n",
      "    tk-8.6.14                  |       h39e8969_0         3.4 MB\n",
      "    tomli-2.0.1                |  py311h06a4308_0          30 KB\n",
      "    tornado-6.3.3              |  py311h5eee18b_0         852 KB\n",
      "    tqdm-4.66.4                |  py311h92b7b1e_0         163 KB\n",
      "    types-python-dateutil-2.9.0.20240316|     pyhd8ed1ab_0          21 KB  conda-forge\n",
      "    typing-extensions-4.11.0   |  py311h06a4308_0           9 KB\n",
      "    typing_extensions-4.11.0   |  py311h06a4308_0          73 KB\n",
      "    tzdata-2024a               |       h04d1e81_0         116 KB\n",
      "    urllib3-2.2.1              |  py311h06a4308_0         222 KB\n",
      "    webcolors-24.6.0           |     pyhd8ed1ab_0          18 KB  conda-forge\n",
      "    webencodings-0.5.1         |  py311h06a4308_1          25 KB\n",
      "    websocket-client-1.8.0     |  py311h06a4308_0         119 KB\n",
      "    wheel-0.43.0               |  py311h06a4308_0         146 KB\n",
      "    xz-5.4.6                   |       h5eee18b_1         643 KB\n",
      "    yaml-0.2.5                 |       h7b6447c_0          75 KB\n",
      "    yaml-cpp-0.8.0             |       h6a678d5_1         607 KB\n",
      "    yapf-0.40.2                |  py311h06a4308_0         481 KB\n",
      "    zeromq-4.3.5               |       h6a678d5_0         366 KB\n",
      "    zipp-3.17.0                |  py311h06a4308_0          24 KB\n",
      "    zlib-1.2.13                |       h5eee18b_1         111 KB\n",
      "    zstandard-0.22.0           |  py311h2c38b39_0         438 KB\n",
      "    zstd-1.5.5                 |       hc292b87_2         643 KB\n",
      "    ------------------------------------------------------------\n",
      "                                           Total:        44.1 MB\n",
      "\n",
      "The following NEW packages will be INSTALLED:\n",
      "\n",
      "  prompt_toolkit     pkgs/main/noarch::prompt_toolkit-3.0.43-hd3eb1b0_0 \n",
      "\n",
      "The following packages will be UPDATED:\n",
      "\n",
      "  _openmp_mutex        conda-forge::_openmp_mutex-4.5-2_gnu --> pkgs/main::_openmp_mutex-5.1-1_gnu \n",
      "  anyio              conda-forge/noarch::anyio-4.1.0-pyhd8~ --> pkgs/main/linux-64::anyio-4.2.0-py311h06a4308_0 \n",
      "  black              conda-forge::black-23.11.0-py311h38be~ --> pkgs/main::black-24.4.2-py311h06a4308_0 \n",
      "  brotli-python                       1.0.9-py311h6a678d5_7 --> 1.0.9-py311h6a678d5_8 \n",
      "  bzip2                                    1.0.8-h7b6447c_0 --> 1.0.8-h5eee18b_6 \n",
      "  cffi                               1.16.0-py311h5eee18b_0 --> 1.16.0-py311h5eee18b_1 \n",
      "  comm               conda-forge/noarch::comm-0.1.4-pyhd8e~ --> pkgs/main/linux-64::comm-0.2.1-py311h06a4308_0 \n",
      "  conda-content-tru~                  0.2.0-py311h06a4308_0 --> 0.2.0-py311h06a4308_1 \n",
      "  conda-libmamba-so~ pkgs/main/linux-64::conda-libmamba-so~ --> pkgs/main/noarch::conda-libmamba-solver-24.1.0-pyhd3eb1b0_0 \n",
      "  conda-package-han~                  2.2.0-py311h06a4308_0 --> 2.2.0-py311h06a4308_1 \n",
      "  cryptography                       41.0.7-py311hdda0065_0 --> 42.0.5-py311hdda0065_1 \n",
      "  distro                              1.8.0-py311h06a4308_0 --> 1.9.0-py311h06a4308_0 \n",
      "  fmt                                      9.1.0-hdb19cb5_0 --> 9.1.0-hdb19cb5_1 \n",
      "  idna                                  3.4-py311h06a4308_0 --> 3.7-py311h06a4308_0 \n",
      "  importlib-metadata conda-forge/noarch::importlib-metadat~ --> pkgs/main/linux-64::importlib-metadata-7.0.1-py311h06a4308_0 \n",
      "  importlib_metadata conda-forge::importlib_metadata-7.0.0~ --> pkgs/main::importlib_metadata-7.0.1-hd3eb1b0_0 \n",
      "  importlib_resourc~ conda-forge/noarch::importlib_resourc~ --> pkgs/main/linux-64::importlib_resources-6.1.1-py311h06a4308_1 \n",
      "  ipykernel          conda-forge/noarch::ipykernel-6.26.0-~ --> pkgs/main/linux-64::ipykernel-6.28.0-py311h06a4308_0 \n",
      "  ipython            conda-forge/noarch::ipython-8.18.1-py~ --> pkgs/main/linux-64::ipython-8.20.0-py311h06a4308_0 \n",
      "  jinja2             conda-forge/noarch::jinja2-3.1.2-pyhd~ --> pkgs/main/linux-64::jinja2-3.1.4-py311h06a4308_0 \n",
      "  jsonpatch          pkgs/main/noarch::jsonpatch-1.32-pyhd~ --> pkgs/main/linux-64::jsonpatch-1.33-py311h06a4308_1 \n",
      "  jupyterlab         conda-forge/noarch::jupyterlab-4.0.9-~ --> pkgs/main/linux-64::jupyterlab-4.0.11-py311h06a4308_0 \n",
      "  libarchive                               3.6.2-h6ac8c49_2 --> 3.6.2-h6ac8c49_3 \n",
      "  libcurl                                  8.4.0-h251f7ec_1 --> 8.7.1-h251f7ec_0 \n",
      "  libedit                           3.1.20221030-h5eee18b_0 --> 3.1.20230828-h5eee18b_0 \n",
      "  libffi                                   3.4.4-h6a678d5_0 --> 3.4.4-h6a678d5_1 \n",
      "  libmamba                                 1.5.3-haf1ee3a_0 --> 1.5.8-hfe524e5_2 \n",
      "  libmambapy                          1.5.3-py311h2dafd23_0 --> 1.5.8-py311h2dafd23_2 \n",
      "  libsolv                                 0.7.24-he621ea3_0 --> 0.7.24-he621ea3_1 \n",
      "  libssh2                                 1.10.0-hdbd6064_2 --> 1.11.0-h251f7ec_0 \n",
      "  libxml2                                 2.10.4-hf1b16e4_1 --> 2.10.4-hfdd30dd_2 \n",
      "  lz4-c                                    1.9.4-h6a678d5_0 --> 1.9.4-h6a678d5_1 \n",
      "  menuinst                            2.0.1-py311h06a4308_1 --> 2.1.0-py311h06a4308_0 \n",
      "  nbconvert-core                        7.12.0-pyhd8ed1ab_0 --> 7.16.4-pyhd8ed1ab_0 \n",
      "  nest-asyncio       conda-forge/noarch::nest-asyncio-1.5.~ --> pkgs/main/linux-64::nest-asyncio-1.6.0-py311h06a4308_0 \n",
      "  packaging                            23.1-py311h06a4308_0 --> 23.2-py311h06a4308_0 \n",
      "  pcre2                                    10.42-hebb0a14_0 --> 10.42-hebb0a14_1 \n",
      "  pexpect            conda-forge::pexpect-4.8.0-pyh1a96a4e~ --> pkgs/main::pexpect-4.8.0-pyhd3eb1b0_3 \n",
      "  pip                                23.2.1-py311h06a4308_0 --> 24.0-py311h06a4308_0 \n",
      "  prompt-toolkit     conda-forge/noarch::prompt-toolkit-3.~ --> pkgs/main/linux-64::prompt-toolkit-3.0.43-py311h06a4308_0 \n",
      "  ptyprocess         conda-forge::ptyprocess-0.7.0-pyhd3de~ --> pkgs/main::ptyprocess-0.7.0-pyhd3eb1b0_2 \n",
      "  pycosat                             0.6.6-py311h5eee18b_0 --> 0.6.6-py311h5eee18b_1 \n",
      "  pyopenssl                          23.2.0-py311h06a4308_0 --> 24.0.0-py311h06a4308_0 \n",
      "  python-dateutil    conda-forge/noarch::python-dateutil-2~ --> pkgs/main/linux-64::python-dateutil-2.9.0post0-py311h06a4308_2 \n",
      "  pytz               conda-forge/noarch::pytz-2023.3.post1~ --> pkgs/main/linux-64::pytz-2024.1-py311h06a4308_0 \n",
      "  pyzmq                              25.1.0-py311h6a678d5_0 --> 25.1.2-py311h6a678d5_0 \n",
      "  reproc                                  14.2.4-h295c915_1 --> 14.2.4-h6a678d5_2 \n",
      "  reproc-cpp                              14.2.4-h295c915_1 --> 14.2.4-h6a678d5_2 \n",
      "  requests                           2.31.0-py311h06a4308_0 --> 2.32.2-py311h06a4308_0 \n",
      "  setuptools                         68.0.0-py311h06a4308_0 --> 69.5.1-py311h06a4308_0 \n",
      "  six                  conda-forge::six-1.16.0-pyh6c4a22f_0 --> pkgs/main::six-1.16.0-pyhd3eb1b0_1 \n",
      "  sqlite                                  3.41.2-h5eee18b_0 --> 3.45.3-h5eee18b_0 \n",
      "  tk                                      8.6.12-h1ccaba5_0 --> 8.6.14-h39e8969_0 \n",
      "  tqdm                               4.65.0-py311h92b7b1e_0 --> 4.66.4-py311h92b7b1e_0 \n",
      "  types-python-date~                 2.8.19.14-pyhd8ed1ab_0 --> 2.9.0.20240316-pyhd8ed1ab_0 \n",
      "  typing-extensions  conda-forge/noarch::typing-extensions~ --> pkgs/main/linux-64::typing-extensions-4.11.0-py311h06a4308_0 \n",
      "  typing_extensions  conda-forge/noarch::typing_extensions~ --> pkgs/main/linux-64::typing_extensions-4.11.0-py311h06a4308_0 \n",
      "  tzdata                                   2023c-h04d1e81_0 --> 2024a-h04d1e81_0 \n",
      "  urllib3                           1.26.18-py311h06a4308_0 --> 2.2.1-py311h06a4308_0 \n",
      "  webcolors                               1.13-pyhd8ed1ab_0 --> 24.6.0-pyhd8ed1ab_0 \n",
      "  websocket-client   conda-forge/noarch::websocket-client-~ --> pkgs/main/linux-64::websocket-client-1.8.0-py311h06a4308_0 \n",
      "  wheel                              0.41.2-py311h06a4308_0 --> 0.43.0-py311h06a4308_0 \n",
      "  xz                                       5.4.5-h5eee18b_0 --> 5.4.6-h5eee18b_1 \n",
      "  yaml-cpp                                 0.8.0-h6a678d5_0 --> 0.8.0-h6a678d5_1 \n",
      "  yapf               conda-forge/noarch::yapf-0.40.1-pyhd8~ --> pkgs/main/linux-64::yapf-0.40.2-py311h06a4308_0 \n",
      "  zeromq               conda-forge::zeromq-4.3.4-h9c3ff4c_1 --> pkgs/main::zeromq-4.3.5-h6a678d5_0 \n",
      "  zlib                                    1.2.13-h5eee18b_0 --> 1.2.13-h5eee18b_1 \n",
      "  zstandard                          0.19.0-py311h5eee18b_0 --> 0.22.0-py311h2c38b39_0 \n",
      "  zstd                                     1.5.5-hc292b87_0 --> 1.5.5-hc292b87_2 \n",
      "\n",
      "The following packages will be SUPERSEDED by a higher-priority channel:\n",
      "\n",
      "  _libgcc_mutex      conda-forge::_libgcc_mutex-0.1-conda_~ --> pkgs/main::_libgcc_mutex-0.1-main \n",
      "  argon2-cffi-bindi~ conda-forge::argon2-cffi-bindings-21.~ --> pkgs/main::argon2-cffi-bindings-21.2.0-py311h5eee18b_0 \n",
      "  async-lru          conda-forge/noarch::async-lru-2.0.4-p~ --> pkgs/main/linux-64::async-lru-2.0.4-py311h06a4308_0 \n",
      "  attrs              conda-forge/noarch::attrs-23.1.0-pyh7~ --> pkgs/main/linux-64::attrs-23.1.0-py311h06a4308_0 \n",
      "  autopep8           conda-forge::autopep8-2.0.4-pyhd8ed1a~ --> pkgs/main::autopep8-2.0.4-pyhd3eb1b0_0 \n",
      "  beautifulsoup4     conda-forge/noarch::beautifulsoup4-4.~ --> pkgs/main/linux-64::beautifulsoup4-4.12.2-py311h06a4308_0 \n",
      "  cached-property    conda-forge::cached-property-1.5.2-hd~ --> pkgs/main::cached-property-1.5.2-py_0 \n",
      "  click              conda-forge/noarch::click-8.1.7-unix_~ --> pkgs/main/linux-64::click-8.1.7-py311h06a4308_0 \n",
      "  decorator          conda-forge::decorator-5.1.1-pyhd8ed1~ --> pkgs/main::decorator-5.1.1-pyhd3eb1b0_0 \n",
      "  defusedxml         conda-forge::defusedxml-0.7.1-pyhd8ed~ --> pkgs/main::defusedxml-0.7.1-pyhd3eb1b0_0 \n",
      "  entrypoints        conda-forge/noarch::entrypoints-0.4-p~ --> pkgs/main/linux-64::entrypoints-0.4-py311h06a4308_0 \n",
      "  exceptiongroup     conda-forge/noarch::exceptiongroup-1.~ --> pkgs/main/linux-64::exceptiongroup-1.2.0-py311h06a4308_0 \n",
      "  jupyter_client     conda-forge/noarch::jupyter_client-8.~ --> pkgs/main/linux-64::jupyter_client-8.6.0-py311h06a4308_0 \n",
      "  jupyter_core       conda-forge::jupyter_core-5.5.0-py311~ --> pkgs/main::jupyter_core-5.5.0-py311h06a4308_0 \n",
      "  jupyterlab_code_f~ conda-forge/noarch::jupyterlab_code_f~ --> pkgs/main/linux-64::jupyterlab_code_formatter-2.2.1-py311h06a4308_0 \n",
      "  libgcc-ng          conda-forge::libgcc-ng-13.2.0-h807b86~ --> pkgs/main::libgcc-ng-11.2.0-h1234567_1 \n",
      "  libgomp            conda-forge::libgomp-13.2.0-h807b86a_3 --> pkgs/main::libgomp-11.2.0-h1234567_1 \n",
      "  libsodium          conda-forge::libsodium-1.0.18-h36c2ea~ --> pkgs/main::libsodium-1.0.18-h7b6447c_0 \n",
      "  markupsafe         conda-forge::markupsafe-2.1.3-py311h4~ --> pkgs/main::markupsafe-2.1.3-py311h5eee18b_0 \n",
      "  matplotlib-inline  conda-forge/noarch::matplotlib-inline~ --> pkgs/main/linux-64::matplotlib-inline-0.1.6-py311h06a4308_0 \n",
      "  mypy_extensions    conda-forge/noarch::mypy_extensions-1~ --> pkgs/main/linux-64::mypy_extensions-1.0.0-py311h06a4308_0 \n",
      "  nbclient           conda-forge/noarch::nbclient-0.8.0-py~ --> pkgs/main/linux-64::nbclient-0.8.0-py311h06a4308_0 \n",
      "  nbformat           conda-forge/noarch::nbformat-5.9.2-py~ --> pkgs/main/linux-64::nbformat-5.9.2-py311h06a4308_0 \n",
      "  notebook-shim      conda-forge/noarch::notebook-shim-0.2~ --> pkgs/main/linux-64::notebook-shim-0.2.3-py311h06a4308_0 \n",
      "  openssl             conda-forge::openssl-3.2.0-hd590300_1 --> pkgs/main::openssl-3.0.13-h7f8727e_2 \n",
      "  overrides          conda-forge/noarch::overrides-7.4.0-p~ --> pkgs/main/linux-64::overrides-7.4.0-py311h06a4308_0 \n",
      "  pandocfilters      conda-forge::pandocfilters-1.5.0-pyhd~ --> pkgs/main::pandocfilters-1.5.0-pyhd3eb1b0_0 \n",
      "  parso               conda-forge::parso-0.8.3-pyhd8ed1ab_0 --> pkgs/main::parso-0.8.3-pyhd3eb1b0_0 \n",
      "  pickleshare        conda-forge::pickleshare-0.7.5-py_1003 --> pkgs/main::pickleshare-0.7.5-pyhd3eb1b0_1003 \n",
      "  pkgutil-resolve-n~ conda-forge/noarch::pkgutil-resolve-n~ --> pkgs/main/linux-64::pkgutil-resolve-name-1.3.10-py311h06a4308_1 \n",
      "  psutil             conda-forge::psutil-5.9.5-py311h459d7~ --> pkgs/main::psutil-5.9.0-py311h5eee18b_0 \n",
      "  pure_eval          conda-forge::pure_eval-0.2.2-pyhd8ed1~ --> pkgs/main::pure_eval-0.2.2-pyhd3eb1b0_0 \n",
      "  pycodestyle        conda-forge/noarch::pycodestyle-2.11.~ --> pkgs/main/linux-64::pycodestyle-2.11.1-py311h06a4308_0 \n",
      "  python-json-logger conda-forge/noarch::python-json-logge~ --> pkgs/main/linux-64::python-json-logger-2.0.7-py311h06a4308_0 \n",
      "  pyyaml             conda-forge::pyyaml-6.0.1-py311h459d7~ --> pkgs/main::pyyaml-6.0.1-py311h5eee18b_0 \n",
      "  rfc3339-validator  conda-forge/noarch::rfc3339-validator~ --> pkgs/main/linux-64::rfc3339-validator-0.1.4-py311h06a4308_0 \n",
      "  rfc3986-validator  conda-forge/noarch::rfc3986-validator~ --> pkgs/main/linux-64::rfc3986-validator-0.1.1-py311h06a4308_0 \n",
      "  rpds-py            conda-forge::rpds-py-0.13.2-py311h462~ --> pkgs/main::rpds-py-0.10.6-py311hb02cf49_0 \n",
      "  send2trash         conda-forge/noarch::send2trash-1.8.2-~ --> pkgs/main/linux-64::send2trash-1.8.2-py311h06a4308_0 \n",
      "  sniffio            conda-forge/noarch::sniffio-1.3.0-pyh~ --> pkgs/main/linux-64::sniffio-1.3.0-py311h06a4308_0 \n",
      "  soupsieve          conda-forge/noarch::soupsieve-2.5-pyh~ --> pkgs/main/linux-64::soupsieve-2.5-py311h06a4308_0 \n",
      "  tinycss2           conda-forge/noarch::tinycss2-1.2.1-py~ --> pkgs/main/linux-64::tinycss2-1.2.1-py311h06a4308_0 \n",
      "  tomli              conda-forge/noarch::tomli-2.0.1-pyhd8~ --> pkgs/main/linux-64::tomli-2.0.1-py311h06a4308_0 \n",
      "  tornado            conda-forge::tornado-6.3.3-py311h459d~ --> pkgs/main::tornado-6.3.3-py311h5eee18b_0 \n",
      "  webencodings       conda-forge/noarch::webencodings-0.5.~ --> pkgs/main/linux-64::webencodings-0.5.1-py311h06a4308_1 \n",
      "  yaml                   conda-forge::yaml-0.2.5-h7f98852_2 --> pkgs/main::yaml-0.2.5-h7b6447c_0 \n",
      "  zipp               conda-forge/noarch::zipp-3.17.0-pyhd8~ --> pkgs/main/linux-64::zipp-3.17.0-py311h06a4308_0 \n",
      "\n",
      "\n",
      "\n",
      "Downloading and Extracting Packages: ...working... done\n",
      "Preparing transaction: ...working... done\n",
      "Verifying transaction: ...working... done\n",
      "Executing transaction: ...working... done\n",
      "Channels:\n",
      " - conda-forge\n",
      " - defaults\n",
      "Platform: linux-64\n",
      "Collecting package metadata (repodata.json): ...working... done\n",
      "Solving environment: ...working... done\n",
      "\n",
      "## Package Plan ##\n",
      "\n",
      "  environment location: /prj/ampemi/eduardo.miranda2/miniconda3\n",
      "\n",
      "  added / updated specs:\n",
      "    - black\n",
      "    - jupyterlab\n",
      "    - jupyterlab_code_formatter\n",
      "\n",
      "\n",
      "The following packages will be downloaded:\n",
      "\n",
      "    package                    |            build\n",
      "    ---------------------------|-----------------\n",
      "    black-24.4.2               |  py311h38be061_0         388 KB  conda-forge\n",
      "    ca-certificates-2024.6.2   |       hbcca054_0         152 KB  conda-forge\n",
      "    conda-24.5.0               |  py311h38be061_0         1.2 MB  conda-forge\n",
      "    h11-0.14.0                 |     pyhd8ed1ab_0          47 KB  conda-forge\n",
      "    h2-4.1.0                   |     pyhd8ed1ab_0          46 KB  conda-forge\n",
      "    hpack-4.0.0                |     pyh9f0ad1d_0          25 KB  conda-forge\n",
      "    httpcore-1.0.5             |     pyhd8ed1ab_0          45 KB  conda-forge\n",
      "    httpx-0.27.0               |     pyhd8ed1ab_0          63 KB  conda-forge\n",
      "    hyperframe-6.0.1           |     pyhd8ed1ab_0          14 KB  conda-forge\n",
      "    jupyterlab-4.2.1           |     pyhd8ed1ab_0         7.4 MB  conda-forge\n",
      "    jupyterlab_server-2.27.2   |     pyhd8ed1ab_0          48 KB  conda-forge\n",
      "    libgcc-ng-13.2.0           |       h77fa898_7         758 KB  conda-forge\n",
      "    libgomp-13.2.0             |       h77fa898_7         412 KB  conda-forge\n",
      "    openssl-3.3.1              |       h4ab18f5_0         2.8 MB  conda-forge\n",
      "    ------------------------------------------------------------\n",
      "                                           Total:        13.3 MB\n",
      "\n",
      "The following NEW packages will be INSTALLED:\n",
      "\n",
      "  h11                conda-forge/noarch::h11-0.14.0-pyhd8ed1ab_0 \n",
      "  h2                 conda-forge/noarch::h2-4.1.0-pyhd8ed1ab_0 \n",
      "  hpack              conda-forge/noarch::hpack-4.0.0-pyh9f0ad1d_0 \n",
      "  httpcore           conda-forge/noarch::httpcore-1.0.5-pyhd8ed1ab_0 \n",
      "  httpx              conda-forge/noarch::httpx-0.27.0-pyhd8ed1ab_0 \n",
      "  hyperframe         conda-forge/noarch::hyperframe-6.0.1-pyhd8ed1ab_0 \n",
      "\n",
      "The following packages will be UPDATED:\n",
      "\n",
      "  ca-certificates    pkgs/main::ca-certificates-2024.3.11-~ --> conda-forge::ca-certificates-2024.6.2-hbcca054_0 \n",
      "  jupyterlab         pkgs/main/linux-64::jupyterlab-4.0.11~ --> conda-forge/noarch::jupyterlab-4.2.1-pyhd8ed1ab_0 \n",
      "  jupyterlab_server                     2.25.2-pyhd8ed1ab_0 --> 2.27.2-pyhd8ed1ab_0 \n",
      "  libgcc-ng          pkgs/main::libgcc-ng-11.2.0-h1234567_1 --> conda-forge::libgcc-ng-13.2.0-h77fa898_7 \n",
      "  libgomp              pkgs/main::libgomp-11.2.0-h1234567_1 --> conda-forge::libgomp-13.2.0-h77fa898_7 \n",
      "  openssl              pkgs/main::openssl-3.0.13-h7f8727e_2 --> conda-forge::openssl-3.3.1-h4ab18f5_0 \n",
      "\n",
      "The following packages will be SUPERSEDED by a higher-priority channel:\n",
      "\n",
      "  _libgcc_mutex           pkgs/main::_libgcc_mutex-0.1-main --> conda-forge::_libgcc_mutex-0.1-conda_forge \n",
      "  _openmp_mutex          pkgs/main::_openmp_mutex-5.1-1_gnu --> conda-forge::_openmp_mutex-4.5-2_gnu \n",
      "  black              pkgs/main::black-24.4.2-py311h06a4308~ --> conda-forge::black-24.4.2-py311h38be061_0 \n",
      "  conda              pkgs/main::conda-24.5.0-py311h06a4308~ --> conda-forge::conda-24.5.0-py311h38be061_0 \n",
      "  jupyterlab_code_f~ pkgs/main/linux-64::jupyterlab_code_f~ --> conda-forge/noarch::jupyterlab_code_formatter-2.2.1-pyhd8ed1ab_0 \n",
      "\n",
      "\n",
      "\n",
      "Downloading and Extracting Packages: ...working... done\n",
      "Preparing transaction: ...working... done\n",
      "Verifying transaction: ...working... done\n",
      "Executing transaction: ...working... done\n",
      "Looking in indexes: https://pypi.org/simple, https://pypi.ngc.nvidia.com\n",
      "Requirement already satisfied: pip in ./miniconda3/lib/python3.11/site-packages (23.3.1)\n",
      "Collecting pip\n",
      "  Downloading pip-24.0-py3-none-any.whl.metadata (3.6 kB)\n",
      "Requirement already satisfied: wheel in ./miniconda3/lib/python3.11/site-packages (0.43.0)\n",
      "Downloading pip-24.0-py3-none-any.whl (2.1 MB)\n",
      "   ━━━━━━━━━━━━━━━━━━━━━━━━━━━━━━━━━━━━━━━━ 2.1/2.1 MB 42.6 MB/s eta 0:00:00\n",
      "Installing collected packages: pip\n",
      "  Attempting uninstall: pip\n",
      "    Found existing installation: pip 23.3.1\n",
      "    Uninstalling pip-23.3.1:\n",
      "      Successfully uninstalled pip-23.3.1\n",
      "Successfully installed pip-24.0\n"
     ]
    }
   ],
   "source": [
    "%%bash\n",
    "ssh -T sd <<'EOF'\n",
    "source $HOME/conda/bin/activate base\n",
    "conda update -yc defaults conda\n",
    "conda update -y --all\n",
    "# conda update -y jupyterlab jupyterlab_code_formatter black yapf\n",
    "EOF"
   ]
  },
  {
   "cell_type": "markdown",
   "id": "cbb36aa8-0c25-4f02-bfae-5208c1d3d9e8",
   "metadata": {},
   "source": [
    "## Quit"
   ]
  },
  {
   "cell_type": "code",
   "execution_count": 6,
   "id": "42ebb1b2-6b9e-4e9b-9d40-7da281397016",
   "metadata": {},
   "outputs": [
    {
     "name": "stderr",
     "output_type": "stream",
     "text": [
      "Exit request sent.\n"
     ]
    }
   ],
   "source": [
    "%%bash\n",
    "# sudo umount -fl /prj /scratch\n",
    "sudo umount /prj /scratch\n",
    "ssh -O exit sd"
   ]
  },
  {
   "cell_type": "markdown",
   "id": "a66b6599-fcf4-46fa-90bd-7db147c367cd",
   "metadata": {},
   "source": [
    "---"
   ]
  },
  {
   "cell_type": "markdown",
   "id": "54b3b751-fce7-4c71-9073-05a7f0c476a7",
   "metadata": {},
   "source": [
    "# Environment clean"
   ]
  },
  {
   "cell_type": "markdown",
   "id": "98446664-1e8e-47e9-81e8-bca8cccbb19f",
   "metadata": {},
   "source": [
    "/prj"
   ]
  },
  {
   "cell_type": "code",
   "execution_count": 24,
   "id": "2c2fa409-aad5-45d9-8b97-4a2d8330fe3e",
   "metadata": {},
   "outputs": [],
   "source": [
    "%%bash\n",
    "ssh -T sd <<'EOF'\n",
    "B=$HOME\n",
    "rm -rf $B/conda $B/.conda $B/.local/share/jupyter\n",
    "rm -rf $B/.cache/ipython $B/.cache/jedi $B/.cache/matplotlib $B/.config/matplotlib\n",
    "rm -rf $B/.python_history $B/.local/lib/python* $B/.jupyter $B/.ipython $B/.condarc\n",
    "rm -rf $B/.continuum $B/.ipynb_checkpoints $B/.keras $B/.local/bin/f2py \n",
    "rm -rf $B/.local/bin/horovodrun $B/.local/bin/tensorboard $B/.local/bin/tf_upgrade_v2\n",
    "rm -rf $B/.pip $B/.cache/pip \n",
    "EOF\n"
   ]
  },
  {
   "cell_type": "markdown",
   "id": "4ed69bad-2a99-48a5-b71d-fbfa0df86bea",
   "metadata": {},
   "source": [
    "/scratch"
   ]
  },
  {
   "cell_type": "code",
   "execution_count": 25,
   "id": "d556ce3e-cfea-4007-b8fb-737c6ce32060",
   "metadata": {},
   "outputs": [],
   "source": [
    "%%bash\n",
    "ssh -T sd <<'EOF'\n",
    "B=/scratch${HOME#/prj}/\n",
    "rm -rf $B/conda $B/.conda $B/.local/share/jupyter\n",
    "rm -rf $B/.cache/ipython $B/.cache/jedi $B/.cache/matplotlib $B/.config/matplotlib\n",
    "rm -rf $B/.python_history $B/.local/lib/python* $B/.jupyter $B/.ipython $B/.condarc\n",
    "rm -rf $B/.continuum $B/.ipynb_checkpoints $B/.keras $B/.local/bin/f2py \n",
    "rm -rf $B/.local/bin/horovodrun $B/.local/bin/tensorboard $B/.local/bin/tf_upgrade_v2\n",
    "rm -rf $B/.pip $B/.cache/pip \n",
    "EOF\n"
   ]
  },
  {
   "cell_type": "markdown",
   "id": "a2ca0311-1755-4a00-9b85-c43b47dd26c6",
   "metadata": {},
   "source": [
    "---"
   ]
  },
  {
   "cell_type": "markdown",
   "id": "164922d1-bf82-43c9-89a8-db9cde104dfc",
   "metadata": {},
   "source": [
    "## Syncthing"
   ]
  },
  {
   "cell_type": "markdown",
   "id": "c2913b6f-a807-4050-a14c-42e55be1295c",
   "metadata": {},
   "source": [
    "    conda install syncthing\n",
    "    syncthing -no-browser --gui-address=0.0.0.0:18384 &>/dev/null&\n",
    "    - on the local machine:\n",
    "    ssh -NfTL 8885:sdumont18:18384 sd\n",
    "\n",
    "- do not use the default dir because it is for something else.\n",
    "- create Sync-sd-prj and Sync-sd-scratch and set ignore \".*\" (ignores hidden files)."
   ]
  },
  {
   "cell_type": "markdown",
   "id": "631bcd24-1b97-4cbf-93b7-17b0cfe89fe0",
   "metadata": {},
   "source": [
    "---"
   ]
  },
  {
   "cell_type": "markdown",
   "id": "af7862fd-978f-49c6-bb82-eb69793489a5",
   "metadata": {},
   "source": [
    "## Module"
   ]
  },
  {
   "cell_type": "code",
   "execution_count": 29,
   "id": "121044e0-9646-4196-8f45-bda725bad36d",
   "metadata": {
    "scrolled": true
   },
   "outputs": [
    {
     "name": "stdout",
     "output_type": "stream",
     "text": [
      "   arpack/3.9.1_gnu_gcc-9.3\n",
      "   cmake/3.18_gcc-7.4_sequana\n",
      "   cmake/3.26.4_gcc-4.9.2_sequana\n",
      "   flexiblas/3.2.0_gcc-9.3_sequana\n",
      "   gcc/4.9.2_sequana\n",
      "   gcc/4.9.2-petrobras_sequana\n",
      "   gcc/4.9.3_sequana\n",
      "   gcc/6.5_sequana_teste\n",
      "   gcc/6.5_sequana\n",
      "   gcc/7.4.0_sequana\n",
      "   gcc/7.4_sequana\n",
      "   gcc/8.3_sequana\n",
      "   gcc/8.4_sequana\n",
      "   gcc/9.3_sequana\n",
      "   gcc/10.2_sequana\n",
      "   gcc/11.1_sequana\n",
      "   gcc/12.4.0_sequana\n",
      "   gcc/13.2_sequana\n",
      "   gcc/14.2.0_sequana                                            (D)\n",
      "   gmp/6.2.1_gcc-9.3_gnu_sequana\n",
      "   gmp/6.3.0_gcc-12.4_sequana                                    (D)\n",
      "   gperf/3.1_gcc-9.3_sequana\n",
      "   gsl/2.8_gcc-6.5\n",
      "   gsl/2.8_gcc-9.3_gnu_sequana\n",
      "   hdf5/1.6.10_openmpi-2.1.6_gcc-6.5\n",
      "   hdf5/1.8.22_openmpi-2.1.6_gcc-6.5\n",
      "   hdf5/1.14.5_openmpi-4.1.4_gcc-12.4_sequana\n",
      "   help2man/1.49.3_gcc-12.4_sequana\n",
      "   hwloc/2.11.2_gcc-9.3_sequana\n",
      "   hwloc/2.11.2_gcc-12.4+cuda-12.6_sequana\n",
      "   hwloc/2.11.2_gcc-12.4_sequana\n",
      "   julia/1.10.6_gcc-9.3_sequana\n",
      "   lapack/3.12.1_gcc-9.3_sequana\n",
      "   libevent/2.1.12_gcc-12.4_sequana\n",
      "   libevent/2.1.12_gcc-14.2_sequana\n",
      "   libint/2.6.0_gnu+gcc-9.3\n",
      "   libltdl/2.5.3_gcc-12.4_sequana\n",
      "   libltdl/2.5.3_gcc-14.2_sequana                                (D)\n",
      "   libtool/2.5.3_gcc-12.4_sequana\n",
      "   libtool/2.5.3_gcc-14.2_sequana                                (D)\n",
      "   libxc/6.2.2_gnu+gcc-9.3_sequana                               (D)\n",
      "   mathlibs/fftw/3.3.10_gcc-9.3_gnu_sequana\n",
      "   mathlibs/fftw/3.3.10_openmpi-2.1.6_gcc-6.5\n",
      "   mathlibs/fftw/3.3.10_openmpi-4.1.4_gcc-12.4+cuda-10.2_sequana\n",
      "   mathlibs/fftw/3.3.10_openmpi-4.1.4_gcc-12.4+cuda-12.6_sequana\n",
      "   mathlibs/fftw/3.3.10_openmpi-4.1.4_gcc-12.4_sequana\n",
      "   mathlibs/netlib/blas+lapack_gcc-12.4_gnu_sequana\n",
      "   mathlibs/netlib/blas+lapack-3.12+gcc-9.3_gnu_sequana\n",
      "   mathlibs/netlib/blas-3.12.0_gcc-12.4_gnu_sequana\n",
      "   mathlibs/netlib/lapack-3.12.0_gcc-12.4_gnu_sequana\n",
      "   mathlibs/netlib/lapack-3.12_gnu+gcc-9.3_sequana\n",
      "   mathlibs/netlib/openblas-0.3.27_gnu+gcc-9.3_sequana\n",
      "   mathlibs/netlib/openblas-0.3.29_gnu+gcc-9.3_sequana\n",
      "   mathlibs/netlib/openblas-0.3.29_gnu_gcc-12.4_sequana\n",
      "   mathlibs/netlib/scalapack-2.2.2_gcc-12.4_sequana\n",
      "   mathlibs/netlib/3.12.1_gcc-9.3_sequana                        (D)\n",
      "   mpfr/4.2.1_gcc-9.3_gnu_sequana\n",
      "   openblas/0.3.29_gnu+gcc-9.3_sequana                           (D)\n",
      "   openmpi/gnu/2.1.6_gcc-6.5\n",
      "   openmpi/gnu/4.1.4+gcc-9.3+cuda-11.1_sequana\n",
      "   openmpi/gnu/4.1.4+gcc-12.4+cuda-10.2_sequana\n",
      "   openmpi/gnu/4.1.4+gcc-12.4+cuda-11.6_sequana\n",
      "   openmpi/gnu/4.1.4+gcc-12.4_sequana\n",
      "   pcre2/10.44_gcc-9.3_gnu_sequana                               (D)\n",
      "   plumed/2.6.1_gnu_gcc-7.4_mpi_sequana\n",
      "   plumed/2.7.0_gnu_gcc-7.4_mpi_sequana_SUPORTE\n",
      "   plumed/2.7.0_gnu_gcc-7.4_mpi_sequana\n",
      "   plumed/2.9.0_gcc-12.4\n",
      "   plumed/2.9.3_gnu_gcc-9.3_nompi_sequana                        (D)\n",
      "   prrte/3.0.7_gcc-12.4_sequana\n",
      "   prrte/3.0.7_gcc-14.2_sequana                                  (D)\n",
      "   readline/8.2.13_gcc-9.3_sequana                               (D)\n",
      "   texinfo/7.0_gcc-9.3_sequana\n",
      "   texinfo/7.1_gcc-12.4_sequana\n",
      "   ucx/1.13_gcc-12.4+cuda-10.2_sequana\n",
      "   ucx/1.15_gcc-6.5\n",
      "   ucx/1.17_gcc-12.4+cuda-12.6_sequana\n",
      "   ucx/1.17_gcc-12.4_sequana\n",
      "   ucx/1.18_gcc-9.3+cuda-11.1_sequana                            (D)\n",
      "   xblas/1.0.248_gcc-9.3_sequana\n",
      "   xpmem/2.7.4_gcc-12.4_sequana\n",
      "   xpmem/2.7.4_gcc-14.2_sequana\n"
     ]
    }
   ],
   "source": [
    "! ssh -T sd module avail 2>&1 | grep gcc | grep -v \"DISABLED\""
   ]
  },
  {
   "cell_type": "code",
   "execution_count": 13,
   "id": "4a16d6ed-0d0a-49ad-a24d-dda1ac8f3c3b",
   "metadata": {},
   "outputs": [
    {
     "name": "stdout",
     "output_type": "stream",
     "text": [
      "   cmake/3.9.4_sequana\n",
      "   cmake/3.12_sequana\n",
      "   cmake/3.17.1_gnu_sequana\n",
      "   cmake/3.17.3_sequana\n",
      "   cmake/3.18_gcc-7.4_sequana\n",
      "   cmake/3.23.2_sequana\n",
      "   cmake/3.26.4_gcc-4.9.2_sequana\n",
      "   cmake/3.30.3_sequana                                          (D)\n"
     ]
    }
   ],
   "source": [
    "! ssh -T sd module avail 2>&1 | grep cmake"
   ]
  },
  {
   "cell_type": "code",
   "execution_count": 28,
   "id": "9e8c2ba0-b59b-4def-b348-669674127d28",
   "metadata": {},
   "outputs": [
    {
     "name": "stdout",
     "output_type": "stream",
     "text": [
      "   openmpi/gnu/2.1.1_sequana\n",
      "   openmpi/gnu/2.1.6_gcc-6.5\n",
      "   openmpi/gnu/4.1.1_sequana\n",
      "   openmpi/gnu/4.1.2+cuda-11.2_sequana\n",
      "   openmpi/gnu/4.1.4+cuda-11.2_sequana\n",
      "   openmpi/gnu/4.1.4+gcc-9.3+cuda-11.1_sequana\n",
      "   openmpi/gnu/4.1.4+gcc-12.4+cuda-10.2_sequana\n",
      "   openmpi/gnu/4.1.4+gcc-12.4+cuda-11.6_sequana\n",
      "   openmpi/gnu/4.1.4+gcc-12.4_sequana\n",
      "   openmpi/gnu/4.1.4_sequana\n",
      "   openmpi/gnu/4.1.6_sequana\n",
      "   openmpi/gnu/4.1.8_sequana\n",
      "   openmpi/gnu/5.0.5_sequana_TESTING                             (D)\n"
     ]
    }
   ],
   "source": [
    "! ssh -T sd module avail 2>&1 | grep openmpi/gnu | grep -v \"DISABLED\""
   ]
  },
  {
   "cell_type": "code",
   "execution_count": 27,
   "id": "2952d375-2829-4ec5-9699-206003494999",
   "metadata": {
    "scrolled": true
   },
   "outputs": [
    {
     "name": "stdout",
     "output_type": "stream",
     "text": [
      "   autodock-gpu/4.2.6_cuda_sequana\n",
      "   cuda/10.1_sequana\n",
      "   cuda/10.2_sequana\n",
      "   cuda/11.0_sequana\n",
      "   cuda/11.1_sequana\n",
      "   cuda/11.2_sequana\n",
      "   cuda/11.4_sequana\n",
      "   cuda/12.6_sequana                                             (D)\n",
      "   cuda_sankoff/1.0_sequana\n",
      "   cudnn/7.6_cuda-10.1_sequana\n",
      "   cudnn/8.0_cuda-10.1_sequana\n",
      "   cudnn/8.2_cuda-11.1_sequana                                   (D)\n",
      "   gromacs/constantph_openmpi_gnu+cuda_sequana\n",
      "   gromacs/TESTING_5.1.5_openmpi-4.1.4+cuda_gnu\n",
      "   gromacs/5.0.7_openmpi_gnu+cuda_sequana\n",
      "   gromacs/5.1.5_openmpi-4.1.4+cuda_gnu\n",
      "   gromacs/2019.3_openmpi-4.1.4+cuda_gnu\n",
      "   gromacs/2020.4_openmpi-4.1.4+cuda_gnu\n",
      "   gromacs/2020.5_openmpi_gnu+cuda_sequana\n",
      "   gromacs/2021.1_openmpi-4.1.4+cuda_gnu\n",
      "   gromacs/2022.3_openmpi4.1.6_cuda12.6_sequana\n",
      "   gromacs/2023.2_openmpi-4.1.4+cuda_gnu\n",
      "   gromacs/2024.4_openmpi_gnu+cuda_sequana                       (D)\n",
      "   hwloc/2.11.2_gcc-12.4+cuda-12.6_sequana\n",
      "   lammps/3Nov22_openmpi_cuda_gnu_sequana\n",
      "   masa-cudalign/4.0.2.1028_sequana\n",
      "   mathlibs/fftw/3.3.10_openmpi-4.1.4_gcc-12.4+cuda-10.2_sequana\n",
      "   mathlibs/fftw/3.3.10_openmpi-4.1.4_gcc-12.4+cuda-12.6_sequana\n",
      "   mathlibs/fftw/3.3.10_openmpi-4.1.4_gnu_sequana+cuda\n",
      "   mpich2/4.2.1_sequana+cuda-11.4\n",
      "   namd/3.0.1_multicore-cuda_sequana\n",
      "   namd/3.0.1_verbs-smp-cuda_sequana                             (D)\n",
      "   nccl/2.4_cuda-10.0_sequana\n",
      "   nccl/2.13_cuda-11.2_sequana                                   (D)\n",
      "   openmpi/gnu/4.1.2+cuda-11.2_sequana\n",
      "   openmpi/gnu/4.1.4+cuda-11.2_sequana\n",
      "   openmpi/gnu/4.1.4+gcc-9.3+cuda-11.1_sequana\n",
      "   openmpi/gnu/4.1.4+gcc-12.4+cuda-10.2_sequana\n",
      "   openmpi/gnu/4.1.4+gcc-12.4+cuda-11.6_sequana\n",
      "   pgi/cuda-9.1-18.10_sequana\n",
      "   pgi/cuda-9.2-18.10_sequana\n",
      "   pgi/cuda-9.2-19.4_sequana\n",
      "   pgi/cuda-9.2-19.10_sequana\n",
      "   pgi/cuda-10.0-18.10_sequana\n",
      "   pgi/cuda-10.0-19.4_sequana\n",
      "   pgi/cuda-10.0-19.10_sequana\n",
      "   pgi/cuda-10.1-19.4_sequana\n",
      "   pgi/cuda-10.1-19.10_sequana\n",
      "   quantum-espresso/7.3_+cuda-11.1+intel_2020_sequana\n",
      "   tensorrt/5.1_sequana\n",
      "   ucx/1.12+cuda-11.2_sequana\n",
      "   ucx/1.13+cuda-11.2_sequana\n",
      "   ucx/1.13_gcc-12.4+cuda-10.2_sequana\n",
      "   ucx/1.15+cuda-11.4_sequana\n",
      "   ucx/1.16+cuda-11.4_sequana\n",
      "   ucx/1.17+cuda-12.6_sequana\n",
      "   ucx/1.17_gcc-12.4+cuda-12.6_sequana\n",
      "   ucx/1.18_gcc-9.3+cuda-11.1_sequana                            (D)\n"
     ]
    }
   ],
   "source": [
    "! ssh -T sd module avail 2>&1 | grep -E \"cuda|tensorrt|nccl\" | grep -v \"DISABLED\""
   ]
  },
  {
   "cell_type": "code",
   "execution_count": 18,
   "id": "4fa6c3cd-55b1-4979-bbd5-5165429ae438",
   "metadata": {
    "scrolled": true
   },
   "outputs": [
    {
     "name": "stdout",
     "output_type": "stream",
     "text": [
      "   cudnn/DISABLED-7.3_cuda-10.0_sequana\n",
      "   cudnn/DISABLED-7.4_cuda-10.0_sequana\n",
      "   cudnn/DISABLED-7.5_cuda-10.0_sequana\n",
      "   cudnn/DISABLED-7.6_cuda-10.0_sequana\n",
      "   cudnn/7.6_cuda-10.1_sequana\n",
      "   cudnn/8.0_cuda-10.1_sequana\n",
      "   cudnn/8.2_cuda-11.1_sequana                                   (D)\n"
     ]
    }
   ],
   "source": [
    "! ssh -T sd module avail 2>&1 | grep 'cudnn'"
   ]
  },
  {
   "cell_type": "code",
   "execution_count": 35,
   "id": "8b09b62e-546e-4b64-a167-397b9aac5c81",
   "metadata": {
    "scrolled": true
   },
   "outputs": [
    {
     "name": "stdout",
     "output_type": "stream",
     "text": [
      "   berkeleygw/3.0.1_intel_sequana\n",
      "   boost/1.72.0_intel_sequana\n",
      "   boost/1.86.0_intel-2020_sequana\n",
      "   elpa/2016.11_intel_sequana\n",
      "   elpa/2018.11_intel_sequana\n",
      "   elpa/2018.11_intel_2020_sequana\n",
      "   elpa/2022.05_intel_2020_sequana                               (D)\n",
      "   fftw/2.1.5_intel-psxe-2020_sequana\n",
      "   fusion-io/openmpi_intel_sequana\n",
      "   gsl/2.8_intel-2020                                            (D)\n",
      "   hdf5/1.8_intel_sequana\n",
      "   hdf5/1.8_openmpi-2.0_intel_sequana\n",
      "   hdf5/1.12_intel_2018_sequana\n",
      "   hdf5/1.12_intel_2020_sequana\n",
      "   hdf5/1.14_intel_2020_sequana\n",
      "   hdf5/1.14.5_oneapi_2022_intel_sequana\n",
      "   hdf5/1.14.6_intel_2025_sequana\n",
      "   hdf5/1.14.6_oneapi_2022_intel_sequana                         (D)\n",
      "   hypre/2.14_intel_2020_sequana\n",
      "   hypre/2.15_intel_sequana\n",
      "   hypre/2.15_openmpi-2.0_intel_sequana                          (D)\n",
      "   intel-oneapi/2021_sequana\n",
      "   intel-oneapi/2022_sequana\n",
      "   intel-oneapi/2025.0_sequana\n",
      "   intel-opencl/2020_sequana\n",
      "   intel_psxe/2016_sequana\n",
      "   intel_psxe/2017_sequana\n",
      "   intel_psxe/2018_sequana\n",
      "   intel_psxe/2019_sequana\n",
      "   intel_psxe/2020_sequana                                       (D)\n",
      "   lammps/23Jun2022_intel_sequana\n",
      "   lammps/29Aug2024_intel_sequana\n",
      "   libgridxc/0.10.1_intel_2020_sequana\n",
      "   libjpeg-turbo/3.0.1_intel-2020_sequana\n",
      "   libxc/4.3.4_intel_2020_sequana\n",
      "   libxc/5.2.3_intel_2020_sequana\n",
      "   mathlibs/fftw/3.3.8_intel_sequana\n",
      "   mathlibs/fftw/3.3.8_openmpi-2.0_intel_sequana\n",
      "   mathlibs/fftw/3.3.10_intel_2020_sequana\n",
      "   mathlibs/netlib/intel_sequana\n",
      "   metis/5.1.0_intel_sequana\n",
      "   metis/5.1.0_intel_2018_sequana\n",
      "   metis/5.1.0_intel_2020_sequana\n",
      "   mumps/5.1.2_intel_2020_sequana\n",
      "   mumps/5.3.3_intel_sequana                                     (D)\n",
      "   netcdf/c-4.9.3_oneapi-2022_sequana\n",
      "   netcdf/4.6_intel_sequana\n",
      "   netcdf/4.6_openmpi-2.0_intel_sequana\n",
      "   netcdf/4.7_intel_2018_sequana\n",
      "   netcdf/4.7_intel_2020_sequana\n",
      "   netcdf/4.9_oneapi-2022_sequana\n",
      "   openblas/0.3.27_intel-oneapi-2022\n",
      "   parmetis/4.0.3_intel_sequana\n",
      "   petsc/3.10_intel_2020_sequana\n",
      "   plumed/2.5_intel_sequana\n",
      "   plumed/2.9-dev_intel_2020_sequana\n",
      "   pnetcdf/1.10_intel_sequana\n",
      "   pnetcdf/1.10_openmpi-2.0_intel_sequana\n",
      "   pnetcdf/1.12.3_intel-2020_sequana\n",
      "   pnetcdf/1.14.0_intel-2020_sequana\n",
      "   pnetcdf/1.14_oneapi-2022_sequana\n",
      "   pnetcdf/1.14.0_oneapi-2025_sequana                            (D)\n",
      "   qe-gipaw/7.2_intel-2020_sequana\n",
      "   quantum-espresso/6.0_intel_sequana\n",
      "   quantum-espresso/6.4_intel_sequana\n",
      "   quantum-espresso/6.7_intel_sequana\n",
      "   quantum-espresso/6.8_intel_2020_sequana\n",
      "   quantum-espresso/7.0_intel_sequana\n",
      "   quantum-espresso/7.1_intel_2020_sequana\n",
      "   quantum-espresso/7.2_intel_2020_sequana\n",
      "   quantum-espresso/7.3_+cuda-11.1+intel_2020_sequana\n",
      "   quantum-espresso/7.3.1_intel_2020_sequana\n",
      "   quantum-espresso/7.4.1_intel_2020_sequana                     (D)\n",
      "   scotch/6.0.9_intel_sequana\n",
      "   siesta/4.1.5_intel_2018_sequana\n",
      "   siesta/4.1.5_intel_2020_sequana                               (D)\n",
      "   slapack/2.2.0_intel-oneapi-2022\n",
      "   sundials/2.7_intel_2020_sequana\n",
      "   wannier90/3.1.0_intel-2020\n",
      "   xrdfile/1.1.4_intel_2020_sequana\n"
     ]
    }
   ],
   "source": [
    "! ssh -T sd module avail 2>&1 | grep -E \"intel|oneapi\" | grep -v \"DISABLED\""
   ]
  },
  {
   "cell_type": "code",
   "execution_count": 61,
   "id": "6299b5e5-e4b3-4fd7-b866-52551843638f",
   "metadata": {},
   "outputs": [
    {
     "name": "stdout",
     "output_type": "stream",
     "text": [
      "   parabricks/2.5.0_singularity_sequana\n",
      "   parabricks/3.0_singularity_sequana                            (D)\n"
     ]
    }
   ],
   "source": [
    "! ssh -T sd module avail 2>&1 | grep -E \"apptainer|docker|singularity|apptainer\""
   ]
  },
  {
   "cell_type": "markdown",
   "id": "1020fa93-e47f-44e4-a091-4df4e1f27ca3",
   "metadata": {},
   "source": [
    "NVIDIA Parabricks is a software suite for genomic analysis. It delivers major improvements in throughput time for common analytical tasks in genomics, including germline and somatic analysis."
   ]
  },
  {
   "cell_type": "code",
   "execution_count": null,
   "id": "8c75f4cc-097b-47fc-b686-d09915bf445a",
   "metadata": {},
   "outputs": [],
   "source": []
  },
  {
   "cell_type": "code",
   "execution_count": 59,
   "id": "b7123c12-0982-4e43-acc5-8e6a8bc4e57e",
   "metadata": {},
   "outputs": [
    {
     "name": "stdout",
     "output_type": "stream",
     "text": [
      "singularity-ce version 4.2.1-1\n"
     ]
    }
   ],
   "source": [
    "! ssh -T sd singularity --version"
   ]
  },
  {
   "cell_type": "markdown",
   "id": "5a34f9bc-df87-4305-ad9a-0d9b9b54dabf",
   "metadata": {},
   "source": [
    "User guide: <https://docs.sylabs.io/guides/4.2/user-guide/>"
   ]
  },
  {
   "cell_type": "code",
   "execution_count": 60,
   "id": "e1520f0f-7bf0-4610-a48c-55cbcd9fadf4",
   "metadata": {},
   "outputs": [
    {
     "name": "stdout",
     "output_type": "stream",
     "text": [
      "bash: docker: command not found\n"
     ]
    }
   ],
   "source": [
    "! ssh -T sd docker --version"
   ]
  },
  {
   "cell_type": "code",
   "execution_count": 58,
   "id": "62f86e10-cc82-4fe5-8b14-d0fa98bb4104",
   "metadata": {},
   "outputs": [],
   "source": [
    "! ssh -T sd module avail 2>&1 | grep -E \"torchfort\""
   ]
  },
  {
   "cell_type": "markdown",
   "id": "47f968c7-6565-4f7e-9738-67a31a005432",
   "metadata": {},
   "source": [
    "---"
   ]
  },
  {
   "cell_type": "code",
   "execution_count": 23,
   "id": "10ad05f7-b316-4028-9585-4f6e70965f43",
   "metadata": {},
   "outputs": [
    {
     "name": "stdout",
     "output_type": "stream",
     "text": [
      "\n",
      "# conda environments:\n",
      "#\n",
      "base                 * /prj/ampemi/eduardo.miranda2/conda\n",
      "tf2                    /prj/ampemi/eduardo.miranda2/conda/envs/tf2\n",
      "                       /scratch/ampemi/eduardo.miranda2/env01\n",
      "\n"
     ]
    }
   ],
   "source": [
    "%%bash\n",
    "ssh -T sd <<'EOF'\n",
    "source $HOME/conda/bin/activate\n",
    "conda env list\n",
    "EOF"
   ]
  },
  {
   "cell_type": "code",
   "execution_count": null,
   "id": "9aacb535-8f4d-4dbe-9e1f-3ca9aeafcc6c",
   "metadata": {
    "scrolled": true
   },
   "outputs": [],
   "source": [
    "%%bash\n",
    "ssh -T sd <<'EOF'\n",
    "source $HOME/conda/bin/activate\n",
    "conda remove --name tfh1 --all --yes\n",
    "conda remove --name horo01 --all --yes\n",
    "conda remove --name horo02 --all --yes\n",
    "conda env list\n",
    "EOF"
   ]
  },
  {
   "cell_type": "markdown",
   "id": "13dfb403-8734-4f5a-9701-53b3d91598f9",
   "metadata": {},
   "source": [
    "---"
   ]
  },
  {
   "cell_type": "code",
   "execution_count": 3,
   "id": "6f7c0f0a-4dfd-42de-a5ca-bdb848b08695",
   "metadata": {},
   "outputs": [
    {
     "name": "stdout",
     "output_type": "stream",
     "text": [
      "Overwriting /prj/ampemi/eduardo.miranda2/environment-tfpthr.yml\n"
     ]
    }
   ],
   "source": [
    "%%writefile $HOME/environment-tfpthr2.yml\n",
    "name: tfpthr2\n",
    "channels:\n",
    "  - pytorch\n",
    "  - nvidia\n",
    "  - bokeh\n",
    "  - conda-forge\n",
    "  - defaults\n",
    "dependencies:\n",
    "  - python=3.9\n",
    "  - ipykernel\n",
    "  - mpi4py\n",
    "  - cudatoolkit=11.8\n",
    "  - nccl\n",
    "  - bokeh\n",
    "  - cupti\n",
    "  - ccache\n",
    "  - pip\n",
    "  - pip:\n",
    "    - nvidia-cudnn-cu11==8.7.0.84\n",
    "    - tensorflow==2.14.0\n",
    "    - tensorrt==8.5.3.1\n",
    "prefix: /scratch/ampemi/eduardo.miranda2/miniconda3/envs/tfpthr2"
   ]
  },
  {
   "cell_type": "code",
   "execution_count": null,
   "id": "82b73273-7a04-4e0b-98cb-67a9cd54f15f",
   "metadata": {
    "scrolled": true
   },
   "outputs": [],
   "source": [
    "%%bash\n",
    "ssh -T sd <<'EOF1'\n",
    "ssh -T sdumont18 <<'EOF2'\n",
    "hostname\n",
    "module load openmpi/gnu/4.1.4+cuda-11.2\n",
    "#module load nccl/2.13_cuda-11.2\n",
    "#module load cudnn/8.2_cuda-11.2\n",
    "#module load tensorrt/5.1\n",
    "module load gcc/10.2\n",
    "module load cmake/3.23.2\n",
    "source /scratch/ampemi/eduardo.miranda2/miniconda3/bin/activate\n",
    "conda env create -f environment-tfpthr2.yml --force\n",
    "EOF2\n",
    "EOF1"
   ]
  },
  {
   "cell_type": "code",
   "execution_count": null,
   "id": "ad7ffdbf-eaf3-40af-9f1d-3272db332a2f",
   "metadata": {
    "scrolled": true
   },
   "outputs": [],
   "source": [
    "%%bash\n",
    "ssh -T sd <<'EOF1'\n",
    "ssh -T sdumont18 <<'EOF2'\n",
    "hostname\n",
    "module load openmpi/gnu/4.1.4+cuda-11.2\n",
    "module load nccl/2.13_cuda-11.2\n",
    "module load gcc/10.2\n",
    "module load cmake/3.23.2\n",
    "source /scratch/ampemi/eduardo.miranda2/miniconda3/bin/activate\n",
    "conda activate tfpthr2\n",
    "python3 -c \"import tensorflow as tf; print(tf.config.list_physical_devices('GPU'))\"\n",
    "EOF2\n",
    "EOF1"
   ]
  },
  {
   "cell_type": "code",
   "execution_count": null,
   "id": "e886fe62-ded5-428d-a6d0-52481414d489",
   "metadata": {
    "scrolled": true
   },
   "outputs": [],
   "source": [
    "%%bash\n",
    "ssh -T sd <<'EOF1'\n",
    "ssh -T sdumont18 <<'EOF2'\n",
    "hostname\n",
    "module load openmpi/gnu/4.1.4+cuda-11.2\n",
    "module load nccl/2.13_cuda-11.2\n",
    "module load gcc/10.2\n",
    "module load cmake/3.23.2\n",
    "source /scratch/ampemi/eduardo.miranda2/miniconda3/bin/activate\n",
    "conda activate tfpthr2\n",
    "#export HOROVOD_WITH_MPI=1\n",
    "#export HOROVOD_GPU_OPERATIONS=NCCL\n",
    "#export HOROVOD_WITH_PYTORCH=1\n",
    "export HOROVOD_WITH_TENSORFLOW=1\n",
    "#pip install horovod[tensorflow,pytorch]\n",
    "pip install horovod[tensorflow] --no-binary=horovod --no-cache-dir\n",
    "EOF2\n",
    "EOF1"
   ]
  },
  {
   "cell_type": "code",
   "execution_count": null,
   "id": "ae710e21-2ca0-4415-81f4-ac021656fd57",
   "metadata": {
    "scrolled": true
   },
   "outputs": [],
   "source": [
    "%%bash\n",
    "ssh -T sd <<'EOF1'\n",
    "ssh -T sdumont18 <<'EOF2'\n",
    "hostname\n",
    "module load openmpi/gnu/4.1.4+cuda-11.2\n",
    "module load nccl/2.13_cuda-11.2\n",
    "module load gcc/10.2\n",
    "module load cmake/3.23.2\n",
    "source /scratch/ampemi/eduardo.miranda2/miniconda3/bin/activate\n",
    "conda activate tfpthr2\n",
    "horovodrun --check-build\n",
    "EOF2\n",
    "EOF1"
   ]
  },
  {
   "cell_type": "markdown",
   "id": "21a59ea2-498a-42aa-ba1a-8b42f516b54a",
   "metadata": {},
   "source": [
    "---"
   ]
  },
  {
   "cell_type": "code",
   "execution_count": 7,
   "id": "5cb79372-bb36-482a-8298-fedb5d35b085",
   "metadata": {},
   "outputs": [
    {
     "name": "stdout",
     "output_type": "stream",
     "text": [
      "sdumont18\n"
     ]
    },
    {
     "name": "stderr",
     "output_type": "stream",
     "text": [
      "2023-11-08 08:24:10.932892: E tensorflow/compiler/xla/stream_executor/cuda/cuda_dnn.cc:9342] Unable to register cuDNN factory: Attempting to register factory for plugin cuDNN when one has already been registered\n",
      "2023-11-08 08:24:10.932935: E tensorflow/compiler/xla/stream_executor/cuda/cuda_fft.cc:609] Unable to register cuFFT factory: Attempting to register factory for plugin cuFFT when one has already been registered\n",
      "2023-11-08 08:24:10.932967: E tensorflow/compiler/xla/stream_executor/cuda/cuda_blas.cc:1518] Unable to register cuBLAS factory: Attempting to register factory for plugin cuBLAS when one has already been registered\n",
      "2023-11-08 08:24:10.943132: I tensorflow/core/platform/cpu_feature_guard.cc:182] This TensorFlow binary is optimized to use available CPU instructions in performance-critical operations.\n",
      "To enable the following instructions: AVX2 AVX512F FMA, in other operations, rebuild TensorFlow with the appropriate compiler flags.\n"
     ]
    },
    {
     "name": "stdout",
     "output_type": "stream",
     "text": [
      "[PhysicalDevice(name='/physical_device:GPU:0', device_type='GPU'), PhysicalDevice(name='/physical_device:GPU:1', device_type='GPU'), PhysicalDevice(name='/physical_device:GPU:2', device_type='GPU'), PhysicalDevice(name='/physical_device:GPU:3', device_type='GPU')]\n"
     ]
    }
   ],
   "source": [
    "%%bash\n",
    "ssh -T sd <<'EOF1'\n",
    "ssh -T sdumont18 <<'EOF2'\n",
    "hostname\n",
    "module load openmpi/gnu/4.1.4+cuda-11.2\n",
    "module load nccl/2.13_cuda-11.2\n",
    "module load hdf5/1.8_openmpi-4.1.4_gnu\n",
    "module load gcc/10.2\n",
    "module load cmake/3.23.2\n",
    "source /scratch/ampemi/eduardo.miranda2/miniconda3/bin/activate\n",
    "conda activate tfh1\n",
    "python3 -c \"import tensorflow as tf; print(tf.config.list_physical_devices('GPU'))\"\n",
    "EOF2\n",
    "EOF1"
   ]
  },
  {
   "cell_type": "code",
   "execution_count": 13,
   "id": "bf8dd8b8-d5c7-4340-882a-8244ae84f76b",
   "metadata": {
    "scrolled": true
   },
   "outputs": [
    {
     "name": "stdout",
     "output_type": "stream",
     "text": [
      "sdumont18\n",
      "Collecting horovod[tensorflow]\n",
      "  Using cached horovod-0.28.1.tar.gz (3.5 MB)\n",
      "Requirement already satisfied: cloudpickle in /scratch/ampemi/eduardo.miranda2/miniconda3/envs/tfh1/lib/python3.9/site-packages (from horovod[tensorflow]) (3.0.0)\n",
      "Requirement already satisfied: psutil in /scratch/ampemi/eduardo.miranda2/miniconda3/envs/tfh1/lib/python3.9/site-packages (from horovod[tensorflow]) (5.9.6)\n",
      "Requirement already satisfied: pyyaml in /scratch/ampemi/eduardo.miranda2/miniconda3/envs/tfh1/lib/python3.9/site-packages (from horovod[tensorflow]) (6.0.1)\n",
      "Requirement already satisfied: packaging in /scratch/ampemi/eduardo.miranda2/miniconda3/envs/tfh1/lib/python3.9/site-packages (from horovod[tensorflow]) (23.2)\n",
      "Requirement already satisfied: cffi>=1.4.0 in /scratch/ampemi/eduardo.miranda2/miniconda3/envs/tfh1/lib/python3.9/site-packages (from horovod[tensorflow]) (1.16.0)\n",
      "Requirement already satisfied: tensorflow in /scratch/ampemi/eduardo.miranda2/miniconda3/envs/tfh1/lib/python3.9/site-packages (from horovod[tensorflow]) (2.14.0)\n",
      "Requirement already satisfied: pycparser in /scratch/ampemi/eduardo.miranda2/miniconda3/envs/tfh1/lib/python3.9/site-packages (from cffi>=1.4.0->horovod[tensorflow]) (2.21)\n",
      "Requirement already satisfied: absl-py>=1.0.0 in /scratch/ampemi/eduardo.miranda2/miniconda3/envs/tfh1/lib/python3.9/site-packages (from tensorflow->horovod[tensorflow]) (2.0.0)\n",
      "Requirement already satisfied: h5py>=2.9.0 in /scratch/ampemi/eduardo.miranda2/miniconda3/envs/tfh1/lib/python3.9/site-packages (from tensorflow->horovod[tensorflow]) (3.10.0)\n",
      "Requirement already satisfied: setuptools in /scratch/ampemi/eduardo.miranda2/miniconda3/envs/tfh1/lib/python3.9/site-packages (from tensorflow->horovod[tensorflow]) (68.2.2)\n",
      "Requirement already satisfied: gast!=0.5.0,!=0.5.1,!=0.5.2,>=0.2.1 in /scratch/ampemi/eduardo.miranda2/miniconda3/envs/tfh1/lib/python3.9/site-packages (from tensorflow->horovod[tensorflow]) (0.5.4)\n",
      "Requirement already satisfied: google-pasta>=0.1.1 in /scratch/ampemi/eduardo.miranda2/miniconda3/envs/tfh1/lib/python3.9/site-packages (from tensorflow->horovod[tensorflow]) (0.2.0)\n",
      "Requirement already satisfied: numpy>=1.23.5 in /scratch/ampemi/eduardo.miranda2/miniconda3/envs/tfh1/lib/python3.9/site-packages (from tensorflow->horovod[tensorflow]) (1.26.1)\n",
      "Requirement already satisfied: grpcio<2.0,>=1.24.3 in /scratch/ampemi/eduardo.miranda2/miniconda3/envs/tfh1/lib/python3.9/site-packages (from tensorflow->horovod[tensorflow]) (1.59.2)\n",
      "Requirement already satisfied: opt-einsum>=2.3.2 in /scratch/ampemi/eduardo.miranda2/miniconda3/envs/tfh1/lib/python3.9/site-packages (from tensorflow->horovod[tensorflow]) (3.3.0)\n",
      "Requirement already satisfied: termcolor>=1.1.0 in /scratch/ampemi/eduardo.miranda2/miniconda3/envs/tfh1/lib/python3.9/site-packages (from tensorflow->horovod[tensorflow]) (2.3.0)\n",
      "Requirement already satisfied: libclang>=13.0.0 in /scratch/ampemi/eduardo.miranda2/miniconda3/envs/tfh1/lib/python3.9/site-packages (from tensorflow->horovod[tensorflow]) (16.0.6)\n",
      "Requirement already satisfied: keras<2.15,>=2.14.0 in /scratch/ampemi/eduardo.miranda2/miniconda3/envs/tfh1/lib/python3.9/site-packages (from tensorflow->horovod[tensorflow]) (2.14.0)\n",
      "Requirement already satisfied: astunparse>=1.6.0 in /scratch/ampemi/eduardo.miranda2/miniconda3/envs/tfh1/lib/python3.9/site-packages (from tensorflow->horovod[tensorflow]) (1.6.3)\n",
      "Requirement already satisfied: protobuf!=4.21.0,!=4.21.1,!=4.21.2,!=4.21.3,!=4.21.4,!=4.21.5,<5.0.0dev,>=3.20.3 in /scratch/ampemi/eduardo.miranda2/miniconda3/envs/tfh1/lib/python3.9/site-packages (from tensorflow->horovod[tensorflow]) (4.25.0)\n",
      "Requirement already satisfied: tensorboard<2.15,>=2.14 in /scratch/ampemi/eduardo.miranda2/miniconda3/envs/tfh1/lib/python3.9/site-packages (from tensorflow->horovod[tensorflow]) (2.14.1)\n",
      "Requirement already satisfied: six>=1.12.0 in /scratch/ampemi/eduardo.miranda2/miniconda3/envs/tfh1/lib/python3.9/site-packages (from tensorflow->horovod[tensorflow]) (1.16.0)\n",
      "Requirement already satisfied: wrapt<1.15,>=1.11.0 in /scratch/ampemi/eduardo.miranda2/miniconda3/envs/tfh1/lib/python3.9/site-packages (from tensorflow->horovod[tensorflow]) (1.14.1)\n",
      "Requirement already satisfied: tensorflow-io-gcs-filesystem>=0.23.1 in /scratch/ampemi/eduardo.miranda2/miniconda3/envs/tfh1/lib/python3.9/site-packages (from tensorflow->horovod[tensorflow]) (0.34.0)\n",
      "Requirement already satisfied: typing-extensions>=3.6.6 in /scratch/ampemi/eduardo.miranda2/miniconda3/envs/tfh1/lib/python3.9/site-packages (from tensorflow->horovod[tensorflow]) (4.8.0)\n",
      "Requirement already satisfied: flatbuffers>=23.5.26 in /scratch/ampemi/eduardo.miranda2/miniconda3/envs/tfh1/lib/python3.9/site-packages (from tensorflow->horovod[tensorflow]) (23.5.26)\n",
      "Requirement already satisfied: ml-dtypes==0.2.0 in /scratch/ampemi/eduardo.miranda2/miniconda3/envs/tfh1/lib/python3.9/site-packages (from tensorflow->horovod[tensorflow]) (0.2.0)\n",
      "Requirement already satisfied: tensorflow-estimator<2.15,>=2.14.0 in /scratch/ampemi/eduardo.miranda2/miniconda3/envs/tfh1/lib/python3.9/site-packages (from tensorflow->horovod[tensorflow]) (2.14.0)\n",
      "Requirement already satisfied: wheel<1.0,>=0.23.0 in /scratch/ampemi/eduardo.miranda2/miniconda3/envs/tfh1/lib/python3.9/site-packages (from astunparse>=1.6.0->tensorflow->horovod[tensorflow]) (0.41.3)\n",
      "Requirement already satisfied: tensorboard-data-server<0.8.0,>=0.7.0 in /scratch/ampemi/eduardo.miranda2/miniconda3/envs/tfh1/lib/python3.9/site-packages (from tensorboard<2.15,>=2.14->tensorflow->horovod[tensorflow]) (0.7.2)\n",
      "Requirement already satisfied: requests<3,>=2.21.0 in /scratch/ampemi/eduardo.miranda2/miniconda3/envs/tfh1/lib/python3.9/site-packages (from tensorboard<2.15,>=2.14->tensorflow->horovod[tensorflow]) (2.31.0)\n",
      "Requirement already satisfied: google-auth<3,>=1.6.3 in /scratch/ampemi/eduardo.miranda2/miniconda3/envs/tfh1/lib/python3.9/site-packages (from tensorboard<2.15,>=2.14->tensorflow->horovod[tensorflow]) (2.23.4)\n",
      "Requirement already satisfied: google-auth-oauthlib<1.1,>=0.5 in /scratch/ampemi/eduardo.miranda2/miniconda3/envs/tfh1/lib/python3.9/site-packages (from tensorboard<2.15,>=2.14->tensorflow->horovod[tensorflow]) (1.0.0)\n",
      "Requirement already satisfied: markdown>=2.6.8 in /scratch/ampemi/eduardo.miranda2/miniconda3/envs/tfh1/lib/python3.9/site-packages (from tensorboard<2.15,>=2.14->tensorflow->horovod[tensorflow]) (3.5.1)\n",
      "Requirement already satisfied: werkzeug>=1.0.1 in /scratch/ampemi/eduardo.miranda2/miniconda3/envs/tfh1/lib/python3.9/site-packages (from tensorboard<2.15,>=2.14->tensorflow->horovod[tensorflow]) (3.0.1)\n",
      "Requirement already satisfied: pyasn1-modules>=0.2.1 in /scratch/ampemi/eduardo.miranda2/miniconda3/envs/tfh1/lib/python3.9/site-packages (from google-auth<3,>=1.6.3->tensorboard<2.15,>=2.14->tensorflow->horovod[tensorflow]) (0.3.0)\n",
      "Requirement already satisfied: cachetools<6.0,>=2.0.0 in /scratch/ampemi/eduardo.miranda2/miniconda3/envs/tfh1/lib/python3.9/site-packages (from google-auth<3,>=1.6.3->tensorboard<2.15,>=2.14->tensorflow->horovod[tensorflow]) (5.3.2)\n",
      "Requirement already satisfied: rsa<5,>=3.1.4 in /scratch/ampemi/eduardo.miranda2/miniconda3/envs/tfh1/lib/python3.9/site-packages (from google-auth<3,>=1.6.3->tensorboard<2.15,>=2.14->tensorflow->horovod[tensorflow]) (4.9)\n",
      "Requirement already satisfied: requests-oauthlib>=0.7.0 in /scratch/ampemi/eduardo.miranda2/miniconda3/envs/tfh1/lib/python3.9/site-packages (from google-auth-oauthlib<1.1,>=0.5->tensorboard<2.15,>=2.14->tensorflow->horovod[tensorflow]) (1.3.1)\n",
      "Requirement already satisfied: importlib-metadata>=4.4 in /scratch/ampemi/eduardo.miranda2/miniconda3/envs/tfh1/lib/python3.9/site-packages (from markdown>=2.6.8->tensorboard<2.15,>=2.14->tensorflow->horovod[tensorflow]) (6.8.0)\n",
      "Requirement already satisfied: zipp>=0.5 in /scratch/ampemi/eduardo.miranda2/miniconda3/envs/tfh1/lib/python3.9/site-packages (from importlib-metadata>=4.4->markdown>=2.6.8->tensorboard<2.15,>=2.14->tensorflow->horovod[tensorflow]) (3.17.0)\n",
      "Requirement already satisfied: pyasn1<0.6.0,>=0.4.6 in /scratch/ampemi/eduardo.miranda2/miniconda3/envs/tfh1/lib/python3.9/site-packages (from pyasn1-modules>=0.2.1->google-auth<3,>=1.6.3->tensorboard<2.15,>=2.14->tensorflow->horovod[tensorflow]) (0.5.0)\n",
      "Requirement already satisfied: idna<4,>=2.5 in /scratch/ampemi/eduardo.miranda2/miniconda3/envs/tfh1/lib/python3.9/site-packages (from requests<3,>=2.21.0->tensorboard<2.15,>=2.14->tensorflow->horovod[tensorflow]) (3.4)\n",
      "Requirement already satisfied: certifi>=2017.4.17 in /scratch/ampemi/eduardo.miranda2/miniconda3/envs/tfh1/lib/python3.9/site-packages (from requests<3,>=2.21.0->tensorboard<2.15,>=2.14->tensorflow->horovod[tensorflow]) (2023.7.22)\n",
      "Requirement already satisfied: urllib3<3,>=1.21.1 in /scratch/ampemi/eduardo.miranda2/miniconda3/envs/tfh1/lib/python3.9/site-packages (from requests<3,>=2.21.0->tensorboard<2.15,>=2.14->tensorflow->horovod[tensorflow]) (2.0.7)\n",
      "Requirement already satisfied: charset-normalizer<4,>=2 in /scratch/ampemi/eduardo.miranda2/miniconda3/envs/tfh1/lib/python3.9/site-packages (from requests<3,>=2.21.0->tensorboard<2.15,>=2.14->tensorflow->horovod[tensorflow]) (3.3.2)\n",
      "Requirement already satisfied: oauthlib>=3.0.0 in /scratch/ampemi/eduardo.miranda2/miniconda3/envs/tfh1/lib/python3.9/site-packages (from requests-oauthlib>=0.7.0->google-auth-oauthlib<1.1,>=0.5->tensorboard<2.15,>=2.14->tensorflow->horovod[tensorflow]) (3.2.2)\n",
      "Requirement already satisfied: MarkupSafe>=2.1.1 in /scratch/ampemi/eduardo.miranda2/miniconda3/envs/tfh1/lib/python3.9/site-packages (from werkzeug>=1.0.1->tensorboard<2.15,>=2.14->tensorflow->horovod[tensorflow]) (2.1.3)\n",
      "Building wheels for collected packages: horovod\n",
      "  Building wheel for horovod (setup.py): started\n",
      "  Building wheel for horovod (setup.py): still running...\n",
      "  Building wheel for horovod (setup.py): finished with status 'done'\n",
      "  Created wheel for horovod: filename=horovod-0.28.1-cp39-cp39-linux_x86_64.whl size=14757836 sha256=f522c35006515b02f6692173b6483f1a0cbad5a9d3f125efea40597764ac8a69\n",
      "  Stored in directory: /prj/ampemi/eduardo.miranda2/.cache/pip/wheels/b4/80/e9/56240c43cccaf60994db5d9c686a5675ff9adf5ae83abbba74\n",
      "Successfully built horovod\n",
      "Installing collected packages: horovod\n",
      "Successfully installed horovod-0.28.1\n"
     ]
    }
   ],
   "source": [
    "%%bash\n",
    "ssh -T sd <<'EOF1'\n",
    "ssh -T sdumont18 <<'EOF2'\n",
    "hostname\n",
    "module load openmpi/gnu/4.1.4+cuda-11.2\n",
    "module load nccl/2.13_cuda-11.2\n",
    "module load hdf5/1.8_openmpi-4.1.4_gnu\n",
    "module load gcc/10.2\n",
    "module load cmake/3.23.2\n",
    "source /scratch/ampemi/eduardo.miranda2/miniconda3/bin/activate\n",
    "conda activate tfh1\n",
    "export HOROVOD_WITH_TENSORFLOW=1\n",
    "export HOROVOD_WITH_MPI=1\n",
    "export HOROVOD_GPU_OPERATIONS=NCCL\n",
    "export HOROVOD_WITH_TENSORFLOW=1\n",
    "pip install horovod[tensorflow]\n",
    "EOF2\n",
    "EOF1"
   ]
  },
  {
   "cell_type": "markdown",
   "id": "b4b18323-660f-424f-ab8e-19e9aa69d8c8",
   "metadata": {},
   "source": [
    "---"
   ]
  },
  {
   "cell_type": "code",
   "execution_count": 45,
   "id": "ca821e1c-e569-4adb-af5f-8e6f5a9f7244",
   "metadata": {},
   "outputs": [
    {
     "name": "stdout",
     "output_type": "stream",
     "text": [
      "   anaconda2/2019.10_sequana\n",
      "   anaconda3/5.2.0_sequana\n",
      "   anaconda3/2020.02_sequana\n",
      "   anaconda3/2020.07_sequana\n",
      "   anaconda3/2020.11\n",
      "   anaconda3/2024.02_sequana                                     (D)\n"
     ]
    }
   ],
   "source": [
    "! ssh -T sd module avail 2>&1 | grep \"anaconda\" | grep -v \"DISABLED\""
   ]
  },
  {
   "cell_type": "code",
   "execution_count": 46,
   "id": "a612a2a6-20c2-45c1-95a5-524635fd65af",
   "metadata": {},
   "outputs": [
    {
     "name": "stdout",
     "output_type": "stream",
     "text": [
      "   hdf5/1.14.5_oneapi_2022_intel_sequana\n",
      "   hdf5/1.14.6_oneapi_2022_intel_sequana                         (D)\n",
      "   intel-oneapi/2021_sequana\n",
      "   intel-oneapi/2022_sequana\n",
      "   intel-oneapi/2025.0_sequana\n",
      "   netcdf/c-4.9.3_oneapi-2022_sequana\n",
      "   netcdf/4.9_oneapi-2022_sequana\n",
      "   openblas/0.3.27_intel-oneapi-2022\n",
      "   pnetcdf/1.14_oneapi-2022_sequana\n",
      "   pnetcdf/1.14.0_oneapi-2025_sequana                            (D)\n",
      "   slapack/2.2.0_intel-oneapi-2022\n"
     ]
    }
   ],
   "source": [
    "! ssh -T sd module avail 2>&1 | grep \"oneapi\" | grep -v \"DISABLED\""
   ]
  },
  {
   "cell_type": "code",
   "execution_count": 54,
   "id": "09652f37-2b5c-4b8b-8641-d00d07289267",
   "metadata": {},
   "outputs": [
    {
     "name": "stdout",
     "output_type": "stream",
     "text": [
      "ifx (IFX) 2025.0.4 20241205\n",
      "Copyright (C) 1985-2024 Intel Corporation. All rights reserved.\n",
      "\n"
     ]
    }
   ],
   "source": [
    "%%bash\n",
    "ssh -T sd <<'EOF'\n",
    "module load \"intel-oneapi/2025.0_sequana\"\n",
    "ifx --version\n",
    "EOF"
   ]
  },
  {
   "cell_type": "markdown",
   "id": "bae9485e-b2e4-4d11-9301-0703d7fb0663",
   "metadata": {},
   "source": [
    "---\n",
    "\n",
    "### 231029"
   ]
  },
  {
   "cell_type": "code",
   "execution_count": 6,
   "id": "c325c27c-7f30-4879-9df3-3ee55cc36f99",
   "metadata": {},
   "outputs": [
    {
     "name": "stdout",
     "output_type": "stream",
     "text": [
      "PING google.com(2800:3f0:4001:822::200e (2800:3f0:4001:822::200e)) 56 data bytes\n",
      "64 bytes from 2800:3f0:4001:822::200e (2800:3f0:4001:822::200e): icmp_seq=1 ttl=58 time=4.40 ms\n",
      "64 bytes from 2800:3f0:4001:822::200e (2800:3f0:4001:822::200e): icmp_seq=2 ttl=58 time=4.34 ms\n",
      "64 bytes from 2800:3f0:4001:822::200e (2800:3f0:4001:822::200e): icmp_seq=3 ttl=58 time=4.24 ms\n",
      "64 bytes from 2800:3f0:4001:822::200e (2800:3f0:4001:822::200e): icmp_seq=4 ttl=58 time=4.71 ms\n",
      "64 bytes from 2800:3f0:4001:822::200e (2800:3f0:4001:822::200e): icmp_seq=5 ttl=58 time=4.43 ms\n",
      "64 bytes from 2800:3f0:4001:822::200e (2800:3f0:4001:822::200e): icmp_seq=6 ttl=58 time=4.38 ms\n",
      "64 bytes from 2800:3f0:4001:822::200e (2800:3f0:4001:822::200e): icmp_seq=7 ttl=58 time=4.47 ms\n",
      "64 bytes from 2800:3f0:4001:822::200e (2800:3f0:4001:822::200e): icmp_seq=8 ttl=58 time=4.49 ms\n",
      "64 bytes from 2800:3f0:4001:822::200e (2800:3f0:4001:822::200e): icmp_seq=9 ttl=58 time=3.06 ms\n",
      "64 bytes from 2800:3f0:4001:822::200e (2800:3f0:4001:822::200e): icmp_seq=10 ttl=58 time=4.17 ms\n",
      "64 bytes from 2800:3f0:4001:822::200e (2800:3f0:4001:822::200e): icmp_seq=11 ttl=58 time=4.30 ms\n",
      "64 bytes from 2800:3f0:4001:822::200e (2800:3f0:4001:822::200e): icmp_seq=12 ttl=58 time=4.61 ms\n",
      "64 bytes from 2800:3f0:4001:822::200e (2800:3f0:4001:822::200e): icmp_seq=13 ttl=58 time=4.42 ms\n",
      "64 bytes from 2800:3f0:4001:822::200e (2800:3f0:4001:822::200e): icmp_seq=14 ttl=58 time=4.49 ms\n",
      "^C\n",
      "\n",
      "--- google.com ping statistics ---\n",
      "14 packets transmitted, 14 received, 0% packet loss, time 13021ms\n",
      "rtt min/avg/max/mdev = 3.058/4.321/4.709/0.375 ms\n"
     ]
    }
   ],
   "source": [
    "! ping google.com"
   ]
  },
  {
   "cell_type": "markdown",
   "id": "00a8caea-366f-4206-91da-3f315476a8ed",
   "metadata": {},
   "source": [
    "---\n",
    "\n",
    "## 221209 TENSORFLOW v1.15"
   ]
  },
  {
   "cell_type": "markdown",
   "id": "926820db-98b2-4ab4-b019-a1cbf8e9d194",
   "metadata": {},
   "source": [
    "cria o env em \n",
    "\n",
    "environment location: /prj/ampemi/eduardo.miranda2/.conda/envs/tf1"
   ]
  },
  {
   "cell_type": "code",
   "execution_count": 12,
   "id": "0114da31-236c-44bc-b33c-61e30fbd03dc",
   "metadata": {
    "scrolled": true,
    "tags": []
   },
   "outputs": [
    {
     "name": "stdout",
     "output_type": "stream",
     "text": [
      " \n",
      ":: initializing oneAPI environment ...\n",
      "   -bash: BASH_VERSION = 4.2.46(2)-release\n",
      "   args: Using \"$@\" for setvars.sh arguments: \n",
      ":: advisor -- latest\n",
      ":: ccl -- latest\n",
      ":: clck -- latest\n",
      ":: compiler -- latest\n",
      ":: dal -- latest\n",
      ":: debugger -- latest\n",
      ":: dev-utilities -- latest\n",
      ":: dnnl -- latest\n",
      ":: dpcpp-ct -- latest\n",
      ":: dpl -- latest\n",
      ":: inspector -- latest\n",
      ":: intelpython -- latest\n",
      ":: ipp -- latest\n",
      ":: ippcp -- latest\n",
      ":: ipp -- latest\n",
      ":: itac -- latest\n",
      ":: mkl -- latest\n",
      ":: mpi -- latest\n",
      ":: tbb -- latest\n",
      ":: vpl -- latest\n",
      ":: vtune -- latest\n",
      ":: oneAPI environment initialized ::\n",
      " \n",
      "Collecting package metadata (current_repodata.json): ...working... done\n",
      "Solving environment: ...working... done\n",
      "\n",
      "## Package Plan ##\n",
      "\n",
      "  environment location: /prj/ampemi/eduardo.miranda2/.conda/envs/env_tf1\n",
      "\n",
      "  added / updated specs:\n",
      "    - ipykernel\n",
      "    - python=3.7\n",
      "\n",
      "\n",
      "The following packages will be downloaded:\n",
      "\n",
      "    package                    |            build\n",
      "    ---------------------------|-----------------\n",
      "    certifi-2022.6.15          |   py37h06a4308_0         156 KB  intel\n",
      "    debugpy-1.5.1              |   py37h295c915_0         1.7 MB\n",
      "    entrypoints-0.4            |   py37h06a4308_0          16 KB\n",
      "    ipykernel-6.15.2           |   py37h06a4308_0         189 KB\n",
      "    ipython-7.31.1             |   py37h06a4308_1        1002 KB\n",
      "    jedi-0.18.1                |   py37h06a4308_1         980 KB\n",
      "    jupyter_client-7.3.4       |   py37h06a4308_0         191 KB\n",
      "    jupyter_core-4.11.2        |   py37h06a4308_0          80 KB\n",
      "    libgcc-ng-11.2.0           |       h1234567_1         8.5 MB  intel\n",
      "    libgomp-11.2.0             |       h1234567_1         560 KB  intel\n",
      "    libstdcxx-ng-11.2.0        |       h1234567_1         6.1 MB  intel\n",
      "    matplotlib-inline-0.1.6    |   py37h06a4308_0          16 KB\n",
      "    nest-asyncio-1.5.5         |   py37h06a4308_0          16 KB\n",
      "    openssl-1.1.1q             |       h7f8727e_0         3.8 MB  intel\n",
      "    pip-22.1.2                 |   py37h06a4308_0         2.9 MB  intel\n",
      "    psutil-5.8.0               |   py37h27cfd23_1         341 KB  intel\n",
      "    python-3.7.13              |      h47d3085_12        33.5 MB  intel\n",
      "    pyzmq-23.2.0               |   py37h6a678d5_0         438 KB\n",
      "    setuptools-58.0.4          |   py37h06a4308_0         979 KB  intel\n",
      "    sqlite-3.39.2              |       h5082296_0         1.5 MB  intel\n",
      "    tk-8.6.12                  |       h1ccaba5_0         3.3 MB  intel\n",
      "    tornado-6.1                |   py37h27cfd23_0         647 KB  intel\n",
      "    zlib-1.2.12                |       h5eee18b_3         124 KB  intel\n",
      "    ------------------------------------------------------------\n",
      "                                           Total:        66.9 MB\n",
      "\n",
      "The following NEW packages will be INSTALLED:\n",
      "\n",
      "  _libgcc_mutex      conda_channel/linux-64::_libgcc_mutex-0.1-main\n",
      "  _openmp_mutex      conda_channel/linux-64::_openmp_mutex-4.5-1_gnu\n",
      "  backcall           pkgs/main/noarch::backcall-0.2.0-pyhd3eb1b0_0\n",
      "  bzip2              conda_channel/linux-64::bzip2-1.0.8-hb9a14ef_9\n",
      "  ca-certificates    conda_channel/linux-64::ca-certificates-2022.2.1-h06a4308_0\n",
      "  certifi            intel/linux-64::certifi-2022.6.15-py37h06a4308_0\n",
      "  debugpy            pkgs/main/linux-64::debugpy-1.5.1-py37h295c915_0\n",
      "  decorator          intel/noarch::decorator-5.0.9-pyhd3eb1b0_0\n",
      "  entrypoints        pkgs/main/linux-64::entrypoints-0.4-py37h06a4308_0\n",
      "  intelpython        conda_channel/linux-64::intelpython-2022.1.0-0\n",
      "  ipykernel          pkgs/main/linux-64::ipykernel-6.15.2-py37h06a4308_0\n",
      "  ipython            pkgs/main/linux-64::ipython-7.31.1-py37h06a4308_1\n",
      "  jedi               pkgs/main/linux-64::jedi-0.18.1-py37h06a4308_1\n",
      "  jupyter_client     pkgs/main/linux-64::jupyter_client-7.3.4-py37h06a4308_0\n",
      "  jupyter_core       pkgs/main/linux-64::jupyter_core-4.11.2-py37h06a4308_0\n",
      "  libffi             conda_channel/linux-64::libffi-3.3-14\n",
      "  libgcc-ng          intel/linux-64::libgcc-ng-11.2.0-h1234567_1\n",
      "  libgomp            intel/linux-64::libgomp-11.2.0-h1234567_1\n",
      "  libsodium          pkgs/main/linux-64::libsodium-1.0.18-h7b6447c_0\n",
      "  libstdcxx-ng       intel/linux-64::libstdcxx-ng-11.2.0-h1234567_1\n",
      "  matplotlib-inline  pkgs/main/linux-64::matplotlib-inline-0.1.6-py37h06a4308_0\n",
      "  ncurses            conda_channel/linux-64::ncurses-6.3-h7f8727e_2\n",
      "  nest-asyncio       pkgs/main/linux-64::nest-asyncio-1.5.5-py37h06a4308_0\n",
      "  openssl            intel/linux-64::openssl-1.1.1q-h7f8727e_0\n",
      "  packaging          conda_channel/noarch::packaging-21.3-pyhd3eb1b0_0\n",
      "  parso              pkgs/main/noarch::parso-0.8.3-pyhd3eb1b0_0\n",
      "  pexpect            pkgs/main/noarch::pexpect-4.8.0-pyhd3eb1b0_3\n",
      "  pickleshare        pkgs/main/noarch::pickleshare-0.7.5-pyhd3eb1b0_1003\n",
      "  pip                intel/linux-64::pip-22.1.2-py37h06a4308_0\n",
      "  prompt-toolkit     pkgs/main/noarch::prompt-toolkit-3.0.20-pyhd3eb1b0_0\n",
      "  psutil             intel/linux-64::psutil-5.8.0-py37h27cfd23_1\n",
      "  ptyprocess         pkgs/main/noarch::ptyprocess-0.7.0-pyhd3eb1b0_2\n",
      "  pygments           pkgs/main/noarch::pygments-2.11.2-pyhd3eb1b0_0\n",
      "  pyparsing          conda_channel/noarch::pyparsing-3.0.4-pyhd3eb1b0_0\n",
      "  python             intel/linux-64::python-3.7.13-h47d3085_12\n",
      "  python-dateutil    conda_channel/noarch::python-dateutil-2.8.2-pyhd3eb1b0_0\n",
      "  pyzmq              pkgs/main/linux-64::pyzmq-23.2.0-py37h6a678d5_0\n",
      "  readline           conda_channel/linux-64::readline-8.1.2-h7f8727e_1\n",
      "  setuptools         intel/linux-64::setuptools-58.0.4-py37h06a4308_0\n",
      "  six                conda_channel/noarch::six-1.16.0-pyhd3eb1b0_1\n",
      "  sqlite             intel/linux-64::sqlite-3.39.2-h5082296_0\n",
      "  tk                 intel/linux-64::tk-8.6.12-h1ccaba5_0\n",
      "  tornado            intel/linux-64::tornado-6.1-py37h27cfd23_0\n",
      "  traitlets          pkgs/main/noarch::traitlets-5.1.1-pyhd3eb1b0_0\n",
      "  wcwidth            pkgs/main/noarch::wcwidth-0.2.5-pyhd3eb1b0_0\n",
      "  wheel              conda_channel/noarch::wheel-0.37.1-pyhd3eb1b0_0\n",
      "  xz                 conda_channel/linux-64::xz-5.2.5-h7b6447c_0\n",
      "  zeromq             pkgs/main/linux-64::zeromq-4.3.4-h2531618_0\n",
      "  zlib               intel/linux-64::zlib-1.2.12-h5eee18b_3\n",
      "\n",
      "\n",
      "\n",
      "Downloading and Extracting Packages\n",
      "tornado-6.1          | 647 KB    | ########## | 100% \n",
      "ipython-7.31.1       | 1002 KB   | ########## | 100% \n",
      "jedi-0.18.1          | 980 KB    | ########## | 100% \n",
      "zlib-1.2.12          | 124 KB    | ########## | 100% \n",
      "matplotlib-inline-0. | 16 KB     | ########## | 100% \n",
      "tk-8.6.12            | 3.3 MB    | ########## | 100% \n",
      "libgomp-11.2.0       | 560 KB    | ########## | 100% \n",
      "python-3.7.13        | 33.5 MB   | ########## | 100% \n",
      "jupyter_core-4.11.2  | 80 KB     | ########## | 100% \n",
      "psutil-5.8.0         | 341 KB    | ########## | 100% \n",
      "jupyter_client-7.3.4 | 191 KB    | ########## | 100% \n",
      "openssl-1.1.1q       | 3.8 MB    | ########## | 100% \n",
      "sqlite-3.39.2        | 1.5 MB    | ########## | 100% \n",
      "pip-22.1.2           | 2.9 MB    | ########## | 100% \n",
      "ipykernel-6.15.2     | 189 KB    | ########## | 100% \n",
      "debugpy-1.5.1        | 1.7 MB    | ########## | 100% \n",
      "setuptools-58.0.4    | 979 KB    | ########## | 100% \n",
      "libgcc-ng-11.2.0     | 8.5 MB    | ########## | 100% \n",
      "libstdcxx-ng-11.2.0  | 6.1 MB    | ########## | 100% \n",
      "certifi-2022.6.15    | 156 KB    | ########## | 100% \n",
      "pyzmq-23.2.0         | 438 KB    | ########## | 100% \n",
      "nest-asyncio-1.5.5   | 16 KB     | ########## | 100% \n",
      "entrypoints-0.4      | 16 KB     | ########## | 100% \n",
      "Preparing transaction: ...working... done\n",
      "Verifying transaction: ...working... done\n",
      "Executing transaction: ...working... done\n",
      "#\n",
      "# To activate this environment, use\n",
      "#\n",
      "#     $ conda activate env_tf1\n",
      "#\n",
      "# To deactivate an active environment, use\n",
      "#\n",
      "#     $ conda deactivate\n",
      "\n",
      "# conda environments:\n",
      "#\n",
      "env_tf1                  /prj/ampemi/eduardo.miranda2/.conda/envs/env_tf1\n",
      "                         /scratch/ampemi/eduardo.miranda2/env\n",
      "                         /scratch/ampemi/eduardo.miranda2/env2\n",
      "base                  *  /scratch/app/oneapi/2022.2/intelpython/latest\n",
      "2022.1.0                 /scratch/app/oneapi/2022.2/intelpython/latest/envs/2022.1.0\n",
      "\n"
     ]
    }
   ],
   "source": [
    "%%bash\n",
    "ssh -T sd <<'EOF'\n",
    "source /scratch/app/oneapi/2022.2/setvars.sh\n",
    "conda activate\n",
    "conda create -yn tf1 ipykernel python=3.7\n",
    "conda env list\n",
    "EOF"
   ]
  },
  {
   "cell_type": "code",
   "execution_count": 15,
   "id": "2a0f00c9-febb-4440-ae4d-314700336ec3",
   "metadata": {},
   "outputs": [
    {
     "name": "stderr",
     "output_type": "stream",
     "text": [
      "ATENTION: It is necessery to run the command 'source /scratch/app/oneapi/2022.2/setvars.sh' to configure the environment! This module does not perform automatic environment configuration\n"
     ]
    },
    {
     "name": "stdout",
     "output_type": "stream",
     "text": [
      " \n",
      ":: initializing oneAPI environment ...\n",
      "   -bash: BASH_VERSION = 4.2.46(2)-release\n",
      "   args: Using \"$@\" for setvars.sh arguments: \n",
      ":: advisor -- latest\n",
      ":: ccl -- latest\n",
      ":: clck -- latest\n",
      ":: compiler -- latest\n",
      ":: dal -- latest\n",
      ":: debugger -- latest\n",
      ":: dev-utilities -- latest\n",
      ":: dnnl -- latest\n",
      ":: dpcpp-ct -- latest\n",
      ":: dpl -- latest\n",
      ":: inspector -- latest\n",
      ":: intelpython -- latest\n",
      ":: ipp -- latest\n",
      ":: ippcp -- latest\n",
      ":: ipp -- latest\n",
      ":: itac -- latest\n",
      ":: mkl -- latest\n",
      ":: mpi -- latest\n",
      ":: tbb -- latest\n",
      ":: vpl -- latest\n",
      ":: vtune -- latest\n",
      ":: oneAPI environment initialized ::\n",
      " \n",
      "# conda environments:\n",
      "#\n",
      "env_tf1               *  /prj/ampemi/eduardo.miranda2/.conda/envs/env_tf1\n",
      "                         /scratch/ampemi/eduardo.miranda2/env\n",
      "                         /scratch/ampemi/eduardo.miranda2/env2\n",
      "base                     /scratch/app/oneapi/2022.2/intelpython/latest\n",
      "2022.1.0                 /scratch/app/oneapi/2022.2/intelpython/latest/envs/2022.1.0\n",
      "\n"
     ]
    }
   ],
   "source": [
    "%%bash\n",
    "ssh -T sd <<'EOF'\n",
    "module load oneapi\n",
    "source /scratch/app/oneapi/2022.2/setvars.sh\n",
    "conda activate\n",
    "conda activate tf1\n",
    "conda env list\n",
    "EOF"
   ]
  },
  {
   "cell_type": "markdown",
   "id": "bc2258db-b569-40dd-91cf-71e5f21376ab",
   "metadata": {},
   "source": [
    "- instala TensorFlow1.15.2 :"
   ]
  },
  {
   "cell_type": "code",
   "execution_count": 17,
   "id": "ebcdde21-061c-4c45-b721-4cc0a9eb126a",
   "metadata": {},
   "outputs": [
    {
     "name": "stderr",
     "output_type": "stream",
     "text": [
      "ATENTION: It is necessery to run the command 'source /scratch/app/oneapi/2022.2/setvars.sh' to configure the environment! This module does not perform automatic environment configuration\n"
     ]
    },
    {
     "name": "stdout",
     "output_type": "stream",
     "text": [
      " \n",
      ":: initializing oneAPI environment ...\n",
      "   -bash: BASH_VERSION = 4.2.46(2)-release\n",
      "   args: Using \"$@\" for setvars.sh arguments: \n",
      ":: advisor -- latest\n",
      ":: ccl -- latest\n",
      ":: clck -- latest\n",
      ":: compiler -- latest\n",
      ":: dal -- latest\n",
      ":: debugger -- latest\n",
      ":: dev-utilities -- latest\n",
      ":: dnnl -- latest\n",
      ":: dpcpp-ct -- latest\n",
      ":: dpl -- latest\n",
      ":: inspector -- latest\n",
      ":: intelpython -- latest\n",
      ":: ipp -- latest\n",
      ":: ippcp -- latest\n",
      ":: ipp -- latest\n",
      ":: itac -- latest\n",
      ":: mkl -- latest\n",
      ":: mpi -- latest\n",
      ":: tbb -- latest\n",
      ":: vpl -- latest\n",
      ":: vtune -- latest\n",
      ":: oneAPI environment initialized ::\n",
      " \n"
     ]
    },
    {
     "name": "stderr",
     "output_type": "stream",
     "text": [
      "Timeout, server 146.134.143.249 not responding.\n"
     ]
    },
    {
     "ename": "CalledProcessError",
     "evalue": "Command 'b'ssh -T sd <<EOF\\nmodule load oneapi\\nsource /scratch/app/oneapi/2022.2/setvars.sh\\nconda activate\\nconda activate env_tf1\\nconda install -y tensorflow-gpu=1.15 matplotlib pyDOE matplotlib fortran-magic pyyaml h5py jupyterlab\\nEOF\\n'' returned non-zero exit status 255.",
     "output_type": "error",
     "traceback": [
      "\u001b[0;31m---------------------------------------------------------------------------\u001b[0m",
      "\u001b[0;31mCalledProcessError\u001b[0m                        Traceback (most recent call last)",
      "Cell \u001b[0;32mIn [17], line 1\u001b[0m\n\u001b[0;32m----> 1\u001b[0m \u001b[43mget_ipython\u001b[49m\u001b[43m(\u001b[49m\u001b[43m)\u001b[49m\u001b[38;5;241;43m.\u001b[39;49m\u001b[43mrun_cell_magic\u001b[49m\u001b[43m(\u001b[49m\u001b[38;5;124;43m'\u001b[39;49m\u001b[38;5;124;43mbash\u001b[39;49m\u001b[38;5;124;43m'\u001b[39;49m\u001b[43m,\u001b[49m\u001b[43m \u001b[49m\u001b[38;5;124;43m'\u001b[39;49m\u001b[38;5;124;43m'\u001b[39;49m\u001b[43m,\u001b[49m\u001b[43m \u001b[49m\u001b[38;5;124;43m'\u001b[39;49m\u001b[38;5;124;43mssh -T sd <<EOF\u001b[39;49m\u001b[38;5;130;43;01m\\n\u001b[39;49;00m\u001b[38;5;124;43mmodule load oneapi\u001b[39;49m\u001b[38;5;130;43;01m\\n\u001b[39;49;00m\u001b[38;5;124;43msource /scratch/app/oneapi/2022.2/setvars.sh\u001b[39;49m\u001b[38;5;130;43;01m\\n\u001b[39;49;00m\u001b[38;5;124;43mconda activate\u001b[39;49m\u001b[38;5;130;43;01m\\n\u001b[39;49;00m\u001b[38;5;124;43mconda activate env_tf1\u001b[39;49m\u001b[38;5;130;43;01m\\n\u001b[39;49;00m\u001b[38;5;124;43mconda install -y tensorflow-gpu=1.15 matplotlib pyDOE matplotlib fortran-magic pyyaml h5py jupyterlab\u001b[39;49m\u001b[38;5;130;43;01m\\n\u001b[39;49;00m\u001b[38;5;124;43mEOF\u001b[39;49m\u001b[38;5;130;43;01m\\n\u001b[39;49;00m\u001b[38;5;124;43m'\u001b[39;49m\u001b[43m)\u001b[49m\n",
      "File \u001b[0;32m~/anaconda3/envs/f/lib/python3.11/site-packages/IPython/core/interactiveshell.py:2417\u001b[0m, in \u001b[0;36mInteractiveShell.run_cell_magic\u001b[0;34m(self, magic_name, line, cell)\u001b[0m\n\u001b[1;32m   2415\u001b[0m \u001b[38;5;28;01mwith\u001b[39;00m \u001b[38;5;28mself\u001b[39m\u001b[38;5;241m.\u001b[39mbuiltin_trap:\n\u001b[1;32m   2416\u001b[0m     args \u001b[38;5;241m=\u001b[39m (magic_arg_s, cell)\n\u001b[0;32m-> 2417\u001b[0m     result \u001b[38;5;241m=\u001b[39m \u001b[43mfn\u001b[49m\u001b[43m(\u001b[49m\u001b[38;5;241;43m*\u001b[39;49m\u001b[43margs\u001b[49m\u001b[43m,\u001b[49m\u001b[43m \u001b[49m\u001b[38;5;241;43m*\u001b[39;49m\u001b[38;5;241;43m*\u001b[39;49m\u001b[43mkwargs\u001b[49m\u001b[43m)\u001b[49m\n\u001b[1;32m   2418\u001b[0m \u001b[38;5;28;01mreturn\u001b[39;00m result\n",
      "File \u001b[0;32m~/anaconda3/envs/f/lib/python3.11/site-packages/IPython/core/magics/script.py:153\u001b[0m, in \u001b[0;36mScriptMagics._make_script_magic.<locals>.named_script_magic\u001b[0;34m(line, cell)\u001b[0m\n\u001b[1;32m    151\u001b[0m \u001b[38;5;28;01melse\u001b[39;00m:\n\u001b[1;32m    152\u001b[0m     line \u001b[38;5;241m=\u001b[39m script\n\u001b[0;32m--> 153\u001b[0m \u001b[38;5;28;01mreturn\u001b[39;00m \u001b[38;5;28;43mself\u001b[39;49m\u001b[38;5;241;43m.\u001b[39;49m\u001b[43mshebang\u001b[49m\u001b[43m(\u001b[49m\u001b[43mline\u001b[49m\u001b[43m,\u001b[49m\u001b[43m \u001b[49m\u001b[43mcell\u001b[49m\u001b[43m)\u001b[49m\n",
      "File \u001b[0;32m~/anaconda3/envs/f/lib/python3.11/site-packages/IPython/core/magics/script.py:305\u001b[0m, in \u001b[0;36mScriptMagics.shebang\u001b[0;34m(self, line, cell)\u001b[0m\n\u001b[1;32m    300\u001b[0m \u001b[38;5;28;01mif\u001b[39;00m args\u001b[38;5;241m.\u001b[39mraise_error \u001b[38;5;129;01mand\u001b[39;00m p\u001b[38;5;241m.\u001b[39mreturncode \u001b[38;5;241m!=\u001b[39m \u001b[38;5;241m0\u001b[39m:\n\u001b[1;32m    301\u001b[0m     \u001b[38;5;66;03m# If we get here and p.returncode is still None, we must have\u001b[39;00m\n\u001b[1;32m    302\u001b[0m     \u001b[38;5;66;03m# killed it but not yet seen its return code. We don't wait for it,\u001b[39;00m\n\u001b[1;32m    303\u001b[0m     \u001b[38;5;66;03m# in case it's stuck in uninterruptible sleep. -9 = SIGKILL\u001b[39;00m\n\u001b[1;32m    304\u001b[0m     rc \u001b[38;5;241m=\u001b[39m p\u001b[38;5;241m.\u001b[39mreturncode \u001b[38;5;129;01mor\u001b[39;00m \u001b[38;5;241m-\u001b[39m\u001b[38;5;241m9\u001b[39m\n\u001b[0;32m--> 305\u001b[0m     \u001b[38;5;28;01mraise\u001b[39;00m CalledProcessError(rc, cell)\n",
      "\u001b[0;31mCalledProcessError\u001b[0m: Command 'b'ssh -T sd <<EOF\\nmodule load oneapi\\nsource /scratch/app/oneapi/2022.2/setvars.sh\\nconda activate\\nconda activate env_tf1\\nconda install -y tensorflow-gpu=1.15 matplotlib pyDOE matplotlib fortran-magic pyyaml h5py jupyterlab\\nEOF\\n'' returned non-zero exit status 255."
     ]
    }
   ],
   "source": [
    "%%bash\n",
    "ssh -T sd <<'EOF'\n",
    "module load oneapi >/dev/null 2>&1\n",
    "source /scratch/app/oneapi/2022.2/setvars.sh >/dev/null 2>&1\n",
    "conda activate\n",
    "conda activate tf1\n",
    "conda install -y tensorflow=1.15 matplotlib pyyaml h5py jupyterlab\n",
    "pip install pyDOE fortran-magic \n",
    "EOF"
   ]
  },
  {
   "cell_type": "markdown",
   "id": "9a922523-1bb2-466c-9dbc-1895034bfea5",
   "metadata": {},
   "source": [
    "---"
   ]
  },
  {
   "cell_type": "code",
   "execution_count": 10,
   "id": "c453ac92-9afb-418a-81b8-749047889b67",
   "metadata": {},
   "outputs": [
    {
     "name": "stdout",
     "output_type": "stream",
     "text": [
      "/opt/intel/oneapi/intelpython/python3.9/pkgs/conda-4.11.0-py39haac1dbc_1/etc/profile.d/conda.sh\n",
      "/opt/intel/oneapi/intelpython/python3.9/pkgs/conda-4.11.0-py39haac1dbc_1/lib/python3.9/site-packages/conda/shell/etc/profile.d/conda.sh\n",
      "/opt/intel/oneapi/intelpython/python3.9/pkgs/conda-4.10.3-py39hb2ebc77_2/etc/profile.d/conda.sh\n",
      "/opt/intel/oneapi/intelpython/python3.9/pkgs/conda-4.10.3-py39hb2ebc77_2/lib/python3.9/site-packages/conda/shell/etc/profile.d/conda.sh\n",
      "/opt/intel/oneapi/intelpython/python3.9/etc/profile.d/conda.sh\n",
      "/opt/intel/oneapi/intelpython/python3.9/envs/2022.0.2/etc/profile.d/conda.sh\n",
      "/opt/intel/oneapi/intelpython/python3.9/envs/2022.0.2/lib/python3.9/site-packages/conda/shell/etc/profile.d/conda.sh\n",
      "/opt/intel/oneapi/intelpython/python3.9/lib/python3.9/site-packages/conda/shell/etc/profile.d/conda.sh\n"
     ]
    }
   ],
   "source": [
    "  # !find /opt/intel/oneapi/ -iname conda.sh"
   ]
  },
  {
   "cell_type": "code",
   "execution_count": 11,
   "id": "90daf69a-00c8-4356-b881-3774a6586806",
   "metadata": {},
   "outputs": [
    {
     "name": "stdout",
     "output_type": "stream",
     "text": [
      "# conda environments:\n",
      "#\n",
      "base                  *  /opt/intel/oneapi/intelpython/latest\n",
      "2022.0.2                 /opt/intel/oneapi/intelpython/latest/envs/2022.0.2\n",
      "\n"
     ]
    }
   ],
   "source": [
    "%%bash\n",
    "ssh -T sd <<'EOF'\n",
    "module load intel-oneapi\n",
    "source /opt/intel/oneapi/intelpython/python3.9/etc/profile.d/conda.sh\n",
    "conda activate\n",
    "conda env list\n",
    "EOF"
   ]
  },
  {
   "cell_type": "code",
   "execution_count": 15,
   "id": "229375e0-91ec-49c6-b35d-31910f2876ec",
   "metadata": {
    "scrolled": true,
    "tags": []
   },
   "outputs": [
    {
     "name": "stdout",
     "output_type": "stream",
     "text": [
      "# packages in environment at /opt/intel/oneapi/intelpython/latest:\n",
      "#\n",
      "# Name                    Version                   Build  Channel\n",
      "# packages in environment at /opt/intel/oneapi/intelpython/latest/envs/2022.0.2:\n",
      "#\n",
      "# Name                    Version                   Build  Channel\n",
      "----------------------------------------\n",
      "# packages in environment at /opt/intel/oneapi/intelpython/latest/envs/2022.0.2:\n",
      "#\n",
      "# Name                    Version                   Build  Channel\n",
      "_libgcc_mutex             0.1                        main    file:///opt/intel/oneapi/conda_channel\n",
      "_openmp_mutex             4.5                       1_gnu    file:///opt/intel/oneapi/conda_channel\n",
      "asn1crypto                1.4.0                      py_0    file:///opt/intel/oneapi/conda_channel\n",
      "bzip2                     1.0.8                hb9a14ef_9    file:///opt/intel/oneapi/conda_channel\n",
      "c-ares                    1.17.1               h14c3975_2    file:///opt/intel/oneapi/conda_channel\n",
      "ca-certificates           2021.10.26           h06a4308_2    file:///opt/intel/oneapi/conda_channel\n",
      "certifi                   2021.10.8        py39h06a4308_0    file:///opt/intel/oneapi/conda_channel\n",
      "cffi                      1.14.6           py39h400218f_0    file:///opt/intel/oneapi/conda_channel\n",
      "chardet                   4.0.0           py39h06a4308_1003    file:///opt/intel/oneapi/conda_channel\n",
      "common_cmplr_lib_rt       2022.0.2             intel_3658    file:///opt/intel/oneapi/conda_channel\n",
      "common_cmplr_lic_rt       2022.0.2             intel_3658    file:///opt/intel/oneapi/conda_channel\n",
      "conda                     4.10.3           py39hb2ebc77_2    file:///opt/intel/oneapi/conda_channel\n",
      "conda-package-handling    1.7.3            py39h27cfd23_1    file:///opt/intel/oneapi/conda_channel\n",
      "cryptography              3.3.2            py39h3d3d174_1    file:///opt/intel/oneapi/conda_channel\n",
      "cycler                    0.10.0           py39h06a4308_0    file:///opt/intel/oneapi/conda_channel\n",
      "cython                    0.29.24          py39hbf8da92_1    file:///opt/intel/oneapi/conda_channel\n",
      "daal                      2021.5.3              intel_832    file:///opt/intel/oneapi/conda_channel\n",
      "daal4py                   2021.5.3         py39_intel_832    file:///opt/intel/oneapi/conda_channel\n",
      "dal                       2021.5.3              intel_832    file:///opt/intel/oneapi/conda_channel\n",
      "dpcpp-cpp-rt              2022.0.2             intel_3658    file:///opt/intel/oneapi/conda_channel\n",
      "dpcpp_cpp_rt              2022.0.2             intel_3658    file:///opt/intel/oneapi/conda_channel\n",
      "dpctl                     0.11.1           py39hbd01409_0    file:///opt/intel/oneapi/conda_channel\n",
      "dpnp                      0.9.0            py39h2493cab_0    file:///opt/intel/oneapi/conda_channel\n",
      "fortran_rt                2022.0.2             intel_3658    file:///opt/intel/oneapi/conda_channel\n",
      "freetype                  2.10.4               h5ab3b9f_0    file:///opt/intel/oneapi/conda_channel\n",
      "funcsigs                  1.0.2            py39h06a4308_0    file:///opt/intel/oneapi/conda_channel\n",
      "future                    0.18.2           py39h06a4308_1    file:///opt/intel/oneapi/conda_channel\n",
      "icc_rt                    2022.0.2             intel_3658    file:///opt/intel/oneapi/conda_channel\n",
      "idna                      2.10               pyhd3eb1b0_0    file:///opt/intel/oneapi/conda_channel\n",
      "impi_rt                   2021.5.1              intel_515    file:///opt/intel/oneapi/conda_channel\n",
      "intel-cmplr-lib-rt        2022.0.2             intel_3658    file:///opt/intel/oneapi/conda_channel\n",
      "intel-cmplr-lic-rt        2022.0.2             intel_3658    file:///opt/intel/oneapi/conda_channel\n",
      "intel-fortran-rt          2022.0.2             intel_3658    file:///opt/intel/oneapi/conda_channel\n",
      "intel-opencl-rt           2022.0.2             intel_3658    file:///opt/intel/oneapi/conda_channel\n",
      "intel-openmp              2022.0.2             intel_3658    file:///opt/intel/oneapi/conda_channel\n",
      "intelpython               2022.0.0                      0    file:///opt/intel/oneapi/conda_channel\n",
      "ipp                       2021.5.2              intel_544    file:///opt/intel/oneapi/conda_channel\n",
      "joblib                    1.0.1              pyhd3eb1b0_0    file:///opt/intel/oneapi/conda_channel\n",
      "kiwisolver                1.3.1            py39h2531618_0    file:///opt/intel/oneapi/conda_channel\n",
      "libarchive                3.5.2                h27f34a6_0    file:///opt/intel/oneapi/conda_channel\n",
      "libevent                  2.1.10               he436679_1    file:///opt/intel/oneapi/conda_channel\n",
      "libffi                    3.3                          14    file:///opt/intel/oneapi/conda_channel\n",
      "libgcc-ng                 9.3.0               h5101ec6_17    file:///opt/intel/oneapi/conda_channel\n",
      "libgomp                   9.3.0               h5101ec6_17    file:///opt/intel/oneapi/conda_channel\n",
      "libllvm11                 11.0.0               h3826bc1_0    file:///opt/intel/oneapi/conda_channel\n",
      "libpng                    1.6.37                        8    file:///opt/intel/oneapi/conda_channel\n",
      "libprotobuf               3.14.0               he78db7b_1    file:///opt/intel/oneapi/conda_channel\n",
      "libstdcxx-ng              9.3.0               hd4cf53a_17    file:///opt/intel/oneapi/conda_channel\n",
      "libxml2                   2.9.12               h6441c91_1    file:///opt/intel/oneapi/conda_channel\n",
      "llvm                      11.0.0               h06a4308_0    file:///opt/intel/oneapi/conda_channel\n",
      "llvm-spirv                11.0.0               h4616538_1    file:///opt/intel/oneapi/conda_channel\n",
      "llvmlite                  0.37.0           py39h188ca7a_1    file:///opt/intel/oneapi/conda_channel\n",
      "lz4-c                     1.9.3                h295c915_1    file:///opt/intel/oneapi/conda_channel\n",
      "lzo                       2.10                 h7b6447c_2    file:///opt/intel/oneapi/conda_channel\n",
      "matplotlib                3.1.2           py39h254464c_11    file:///opt/intel/oneapi/conda_channel\n",
      "mkl                       2022.0.2              intel_136    file:///opt/intel/oneapi/conda_channel\n",
      "mkl-dpcpp                 2022.0.2              intel_136    file:///opt/intel/oneapi/conda_channel\n",
      "mkl-service               2.4.0           py39h4119f30_10    file:///opt/intel/oneapi/conda_channel\n",
      "mkl_fft                   1.3.1            py39h8344fd8_7    file:///opt/intel/oneapi/conda_channel\n",
      "mkl_random                1.2.2            py39h4ac99d2_7    file:///opt/intel/oneapi/conda_channel\n",
      "mkl_umath                 0.1.1           py39h03fa629_17    file:///opt/intel/oneapi/conda_channel\n",
      "mpi4py                    3.0.3           py39h4a7690d_11    file:///opt/intel/oneapi/conda_channel\n",
      "numba                     0.54.1           py39h671cb0e_3    file:///opt/intel/oneapi/conda_channel\n",
      "numba-dppy                0.17.2           py39h31cfeb5_0    file:///opt/intel/oneapi/conda_channel\n",
      "numexpr                   2.7.3            py39h1d04dd3_4    file:///opt/intel/oneapi/conda_channel\n",
      "numpy                     1.21.2           py39hec4e512_7    file:///opt/intel/oneapi/conda_channel\n",
      "numpy-base                1.21.2           py39h40791c5_7    file:///opt/intel/oneapi/conda_channel\n",
      "opencl_rt                 2022.0.2             intel_3658    file:///opt/intel/oneapi/conda_channel\n",
      "openssl                   1.1.1l               h7f8727e_0    file:///opt/intel/oneapi/conda_channel\n",
      "packaging                 21.0             py39h1546d3d_4    file:///opt/intel/oneapi/conda_channel\n",
      "pandas                    1.2.5            py39h8328df6_2    file:///opt/intel/oneapi/conda_channel\n",
      "pip                       21.2.4           py39h06a4308_0    file:///opt/intel/oneapi/conda_channel\n",
      "pycosat                   0.6.3            py39h27cfd23_0    file:///opt/intel/oneapi/conda_channel\n",
      "pycparser                 2.21               pyhd3eb1b0_0    file:///opt/intel/oneapi/conda_channel\n",
      "pyeditline                2.0.1                    py39_2    file:///opt/intel/oneapi/conda_channel\n",
      "pyopenssl                 21.0.0             pyhd3eb1b0_1    file:///opt/intel/oneapi/conda_channel\n",
      "pyparsing                 3.0.4              pyhd3eb1b0_0    file:///opt/intel/oneapi/conda_channel\n",
      "pysocks                   1.7.1            py39h06a4308_0    file:///opt/intel/oneapi/conda_channel\n",
      "python                    3.9.7                h718aa4a_4    file:///opt/intel/oneapi/conda_channel\n",
      "python-dateutil           2.8.2                    py39_1    file:///opt/intel/oneapi/conda_channel\n",
      "python-libarchive-c       2.9                pyhd3eb1b0_1    file:///opt/intel/oneapi/conda_channel\n",
      "pytz                      2021.3             pyhd3eb1b0_0    file:///opt/intel/oneapi/conda_channel\n",
      "pyyaml                    6.0              py39h7f8727e_1    file:///opt/intel/oneapi/conda_channel\n",
      "requests                  2.25.1             pyhd3eb1b0_0    file:///opt/intel/oneapi/conda_channel\n",
      "ruamel_yaml               0.15.100         py39h27cfd23_0    file:///opt/intel/oneapi/conda_channel\n",
      "scikit-ipp                1.2.0            py39h2d01023_8    file:///opt/intel/oneapi/conda_channel\n",
      "scikit-learn              0.24.2           py39ha9443f7_0    file:///opt/intel/oneapi/conda_channel\n",
      "scikit-learn-intelex      2021.5.3         py39_intel_832    file:///opt/intel/oneapi/conda_channel\n",
      "scipy                     1.6.2            py39ha2f9938_5    file:///opt/intel/oneapi/conda_channel\n",
      "setuptools                58.0.4           py39h06a4308_0    file:///opt/intel/oneapi/conda_channel\n",
      "six                       1.16.0             pyhd3eb1b0_0    file:///opt/intel/oneapi/conda_channel\n",
      "smp                       0.1.4            py39hab8cbcd_2    file:///opt/intel/oneapi/conda_channel\n",
      "snappy                    1.1.8                he6710b0_0    file:///opt/intel/oneapi/conda_channel\n",
      "spirv-tools               2020.5               h6bb024c_2    file:///opt/intel/oneapi/conda_channel\n",
      "sqlite                    3.36.0               hb9a14ef_3    file:///opt/intel/oneapi/conda_channel\n",
      "sys_check                 2022.0                        0    file:///opt/intel/oneapi/conda_channel\n",
      "tbb                       2021.5.1              intel_738    file:///opt/intel/oneapi/conda_channel\n",
      "tbb4py                    2021.5.1         py39_intel_738    file:///opt/intel/oneapi/conda_channel\n",
      "tcl                       8.6.10                        2    file:///opt/intel/oneapi/conda_channel\n",
      "threadpoolctl             2.2.0              pyh0d69192_0    file:///opt/intel/oneapi/conda_channel\n",
      "tk                        8.6.10               hbc83047_0    file:///opt/intel/oneapi/conda_channel\n",
      "tqdm                      4.62.2             pyhd3eb1b0_1    file:///opt/intel/oneapi/conda_channel\n",
      "urllib3                   1.26.6           py39h6fed32d_1    file:///opt/intel/oneapi/conda_channel\n",
      "wheel                     0.37.0             pyhd3eb1b0_1    file:///opt/intel/oneapi/conda_channel\n",
      "xgboost                   1.4.3           1596_gbab738py39_4    file:///opt/intel/oneapi/conda_channel\n",
      "xz                        5.2.5                h7b6447c_0    file:///opt/intel/oneapi/conda_channel\n",
      "yaml                      0.2.5                h7b6447c_0    file:///opt/intel/oneapi/conda_channel\n",
      "zlib                      1.2.11.1             h1e99aa7_5    file:///opt/intel/oneapi/conda_channel\n",
      "zstd                      1.4.5                h9ceee32_0    file:///opt/intel/oneapi/conda_channel\n"
     ]
    }
   ],
   "source": [
    "%%bash\n",
    "ssh -T sd <<'EOF'\n",
    "module load intel-oneapi\n",
    "source /opt/intel/oneapi/intelpython/python3.9/etc/profile.d/conda.sh\n",
    "conda activate\n",
    "conda list jupyter\n",
    "conda activate 2022.0.2\n",
    "conda list jupyter\n",
    "echo \"----------------------------------------\"\n",
    "conda list\n",
    "EOF"
   ]
  },
  {
   "cell_type": "markdown",
   "id": "1e92cc76-638e-4d9a-9c8d-8c0377f5da63",
   "metadata": {},
   "source": [
    "---"
   ]
  }
 ],
 "metadata": {
  "kernelspec": {
   "display_name": "Python 3 (ipykernel)",
   "language": "python",
   "name": "python3"
  },
  "language_info": {
   "codemirror_mode": {
    "name": "ipython",
    "version": 3
   },
   "file_extension": ".py",
   "mimetype": "text/x-python",
   "name": "python",
   "nbconvert_exporter": "python",
   "pygments_lexer": "ipython3",
   "version": "3.12.5"
  }
 },
 "nbformat": 4,
 "nbformat_minor": 5
}
