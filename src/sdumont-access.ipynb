{
 "cells": [
  {
   "cell_type": "markdown",
   "id": "20922835-872f-4089-92b5-640ad6c3a9c3",
   "metadata": {},
   "source": [
    "# ACCESS AND ENV SETUP"
   ]
  },
  {
   "cell_type": "markdown",
   "id": "9e1cef4f-5190-4bde-9a3a-3ee81659ee3a",
   "metadata": {},
   "source": [
    "# <font style=\"color:red\">→ Don't forget to connect VPNC</font>\n",
    "\n",
    "SDumont manual (in Portuguese): <https://github.com/lncc-sered/manual-sdumont/wiki>"
   ]
  },
  {
   "cell_type": "code",
   "execution_count": 1,
   "id": "c9c6d3de-62ec-4cf6-83e7-68eff29de8d6",
   "metadata": {},
   "outputs": [],
   "source": [
    "! ssh -TNf sd"
   ]
  },
  {
   "cell_type": "code",
   "execution_count": 2,
   "id": "4c39ff2f-8fcf-401b-8914-7046b07e5a12",
   "metadata": {
    "vscode": {
     "languageId": "shellscript"
    }
   },
   "outputs": [
    {
     "name": "stdout",
     "output_type": "stream",
     "text": [
      "sdumont18\n",
      "  83923 syncthing\n",
      "  83924 jupyter-lab\n",
      "  84045 syncthing\n",
      " 858290 jupyter-lab\n",
      " 859396 jupyter-lab\n",
      " 863788 jupyter-lab\n",
      " 864854 jupyter-lab\n",
      " 865187 jupyter-lab\n",
      " 865708 jupyter-lab\n",
      "1240597 jupyter-lab\n",
      "1243909 jupyter-lab\n",
      "1246357 jupyter-lab\n",
      "1467788 syncthing\n",
      "1467801 syncthing\n",
      "1467802 jupyter-lab\n",
      "1477111 jupyter-lab\n"
     ]
    }
   ],
   "source": [
    "%%bash\n",
    "(\n",
    "OPT=\"uid=1000,gid=1000,reconnect,cache=yes,kernel_cache,compression=no,ServerAliveCountMax=3\"\n",
    "SPWD=$(ssh -T sd \"pwd\")    # /prj\n",
    "SSWD=/scratch${SPWD#/prj}  # /scratch\n",
    "#sshfs sd:$SPWD  /prj      -o $OPT\n",
    "#sshfs sd:$SSWD  /scratch  -o $OPT\n",
    "sshfs sd:$SPWD  ~/prj      -o $OPT\n",
    "sshfs sd:$SSWD  ~/scratch  -o $OPT\n",
    "ssh -T sd << 'EOF'\n",
    "source $HOME/conda/bin/activate base\n",
    "PORT=18384\n",
    "pkill -u $USER -f $PORT\n",
    "if ss -tuln | grep -q \":$PORT\"; then\n",
    "    echo \"Port $PORT is already in use.\"\n",
    "else\n",
    "    syncthing \\\n",
    "        --no-browser \\\n",
    "        --no-restart \\\n",
    "        --gui-address=0.0.0.0:$PORT \\\n",
    "        >/dev/null 2>&1 &\n",
    "fi\n",
    "PORT=18889\n",
    "pkill -u $USER -f $PORT\n",
    "if ss -tuln | grep -q \":$PORT\"; then\n",
    "    echo \"Port $PORT is already in use.\"\n",
    "else\n",
    "    jupyter-lab \\\n",
    "        --no-browser \\\n",
    "        --notebook-dir=$HOME/ \\\n",
    "        --IdentityProvider.token='' \\\n",
    "        --ip=* \\\n",
    "        --port=$PORT \\\n",
    "        >/dev/null 2>&1 &\n",
    "fi\n",
    "sleep 2\n",
    "hostname\n",
    "ps -U $(id -u) -o pid,comm | grep -E \"[j]upyter|[s]yncthing\"\n",
    "EOF\n",
    "ssh -TNfL 8385:localhost:18384 sd    # syncthing\n",
    "ssh -TNfL 8889:localhost:18889 sd    # jupyter\n",
    ")"
   ]
  },
  {
   "cell_type": "markdown",
   "id": "303e6fe0-7cea-40ff-8fba-21ec09d368b4",
   "metadata": {},
   "source": [
    "Now, you can connect to JL instance running on the SDumont login node. The `~/sdumont-sync/` directory is synchronized between the local machine and the SDumont.\n",
    "\n",
    "- <http://localhost:8889>  JL (can takes minutes to go up)\n",
    "- <http://localhost:8385>  ST"
   ]
  },
  {
   "cell_type": "markdown",
   "id": "b67f991a-23e3-4fe1-96be-deeeb2a1ce99",
   "metadata": {},
   "source": [
    "<hr style=\"height:10px;border-width:0;background-color:green\">"
   ]
  },
  {
   "cell_type": "markdown",
   "id": "d558cb80-c152-4d9c-8b3e-452bca43e66c",
   "metadata": {},
   "source": [
    "# Shutdown"
   ]
  },
  {
   "cell_type": "code",
   "execution_count": 1,
   "id": "8456040a-eede-4ebf-9662-9aba85fa0d0a",
   "metadata": {
    "scrolled": true
   },
   "outputs": [
    {
     "name": "stdout",
     "output_type": "stream",
     "text": [
      "sdumont18\n"
     ]
    },
    {
     "name": "stderr",
     "output_type": "stream",
     "text": [
      "Exit request sent.\n"
     ]
    }
   ],
   "source": [
    "%%bash\n",
    "(\n",
    "sudo umount -f ~/prj ~/scratch\n",
    "ssh -T sd << 'EOF'\n",
    "pkill -u $USER -f jupyter\n",
    "pkill -u $USER -f syncthing\n",
    "hostname\n",
    "EOF\n",
    "ssh -O cancel -L 8889:localhost:18889 sd\n",
    "ssh -O cancel -L 8385:localhost:18384 sd\n",
    "ssh -O exit sd\n",
    ")"
   ]
  },
  {
   "cell_type": "markdown",
   "id": "7ec02f00-9575-4dde-a0e3-972325619b8d",
   "metadata": {},
   "source": [
    "# <font style=\"color:red\">don't forget to disconnect VPNC</font>"
   ]
  },
  {
   "cell_type": "markdown",
   "id": "b591e59a-0cfb-42d3-84f6-cbb1d92cffe5",
   "metadata": {},
   "source": [
    "<hr style=\"height:10px;border-width:0;background-color:green\">"
   ]
  },
  {
   "cell_type": "code",
   "execution_count": null,
   "id": "19a42c65-22ec-419b-a71d-b4890472d3e3",
   "metadata": {},
   "outputs": [],
   "source": []
  },
  {
   "cell_type": "code",
   "execution_count": null,
   "id": "532bbeaf-73ac-47a8-973e-8d55585df303",
   "metadata": {},
   "outputs": [],
   "source": []
  },
  {
   "cell_type": "code",
   "execution_count": null,
   "id": "37c3fba2-f885-4a39-ad63-0521e4f119e9",
   "metadata": {},
   "outputs": [],
   "source": []
  },
  {
   "cell_type": "code",
   "execution_count": null,
   "id": "6eef2c10-0da7-40b9-adfb-3ddefdc47238",
   "metadata": {},
   "outputs": [],
   "source": []
  },
  {
   "cell_type": "code",
   "execution_count": null,
   "id": "446f8563-76e3-4839-a3b7-4d3859d0a7ce",
   "metadata": {},
   "outputs": [],
   "source": []
  },
  {
   "cell_type": "code",
   "execution_count": null,
   "id": "aba63a50-5cff-4036-93a4-967a439f533e",
   "metadata": {},
   "outputs": [],
   "source": []
  },
  {
   "cell_type": "code",
   "execution_count": null,
   "id": "94604caf-580e-4787-a10e-f65ee4fa02ab",
   "metadata": {},
   "outputs": [],
   "source": []
  },
  {
   "cell_type": "code",
   "execution_count": null,
   "id": "68d0e70c-8b01-4b1e-ab74-78dd665c78ee",
   "metadata": {},
   "outputs": [],
   "source": []
  },
  {
   "cell_type": "code",
   "execution_count": null,
   "id": "ffb69ab1-cee1-4893-a40d-75dfb57d42bd",
   "metadata": {},
   "outputs": [],
   "source": []
  },
  {
   "cell_type": "markdown",
   "id": "e5855045-d3e6-459e-bd8e-dc9f196b5fa6",
   "metadata": {},
   "source": [
    "OLD - sdumont18:"
   ]
  },
  {
   "cell_type": "code",
   "execution_count": 13,
   "id": "59a6d87a-6bdc-4c85-ae0f-5f5fd2ca50eb",
   "metadata": {
    "scrolled": true
   },
   "outputs": [
    {
     "name": "stdout",
     "output_type": "stream",
     "text": [
      "sdumont18\n"
     ]
    }
   ],
   "source": [
    "%%bash\n",
    "ssh -T sd << 'EOF1'\n",
    "ssh -T sdumont18 << 'EOF2'\n",
    "pkill -u ${USER} -f jupyter\n",
    "pkill -u ${USER} -f syncthing\n",
    "hostname\n",
    "EOF2\n",
    "EOF1\n",
    "\n",
    "ssh -NfTL 8890:sdumont18:18890 sd"
   ]
  },
  {
   "cell_type": "markdown",
   "id": "5b6465c3-0574-45f8-93a3-1743995736bc",
   "metadata": {},
   "source": [
    "OLD - sdumont13,14:"
   ]
  },
  {
   "cell_type": "code",
   "execution_count": 14,
   "id": "80b9ac80-b849-46b2-925e-6a4e197f07e0",
   "metadata": {},
   "outputs": [
    {
     "name": "stdout",
     "output_type": "stream",
     "text": [
      "sdumont14\n",
      "sdumont13\n",
      "sdumont14\n"
     ]
    }
   ],
   "source": [
    "%%bash\n",
    "ssh -T sd << 'EOF1'\n",
    "pkill -u ${USER} -f jupyter\n",
    "pkill -u ${USER} -f syncthing\n",
    "hostname\n",
    "ssh -T sdumont13 << 'EOF2'\n",
    "pkill -u ${USER} -f jupyter\n",
    "pkill -u ${USER} -f syncthing\n",
    "hostname\n",
    "EOF2\n",
    "\n",
    "ssh -T sdumont14 << 'EOF2'\n",
    "pkill -u ${USER} -f jupyter\n",
    "pkill -u ${USER} -f syncthing\n",
    "hostname\n",
    "EOF2\n",
    "EOF1\n"
   ]
  },
  {
   "cell_type": "markdown",
   "id": "7b6978c2-3849-480a-93cd-03f445c95616",
   "metadata": {},
   "source": [
    "máquina local:"
   ]
  },
  {
   "cell_type": "markdown",
   "id": "991174e9-10a7-4717-9cb6-c3c5ca299807",
   "metadata": {},
   "source": [
    "<hr style=\"height:10px;border-width:0;background-color:blue\">"
   ]
  },
  {
   "cell_type": "markdown",
   "id": "be95ba5a-8251-4d01-b26f-a13676fbafd5",
   "metadata": {},
   "source": [
    "# When the connection drops (vpnc):"
   ]
  },
  {
   "cell_type": "code",
   "execution_count": null,
   "id": "a28b3abc-a266-48ae-8b10-e8e275965787",
   "metadata": {},
   "outputs": [],
   "source": [
    "%%bash\n",
    "ssh -O exit sd\n",
    "ssh -NfT sd\n",
    "ssh -NfTL 8890:sdumont18:18890 sd\n",
    "ssh -NfTL 8891:sdumont18:18891 sd\n",
    "ssh -T sd hostname"
   ]
  },
  {
   "cell_type": "markdown",
   "id": "67520b1a-3193-4cf0-a168-392722beab10",
   "metadata": {},
   "source": [
    "- \"ssh -O exit sd\" (exit) and then \"ssh -Nf sd\" (enter)\n",
    "- disconnects everything and connects again (JL returns)\n",
    "- if you connect to another login node, the previous session that was on the previous node remains there.\n",
    "- if you need to kill a process, enter it with ssh XXXX and pkill -u ${USER} -f jupyter"
   ]
  },
  {
   "cell_type": "markdown",
   "id": "bcc4149f-d580-4de8-8b31-e3de732199b0",
   "metadata": {},
   "source": [
    "---"
   ]
  },
  {
   "cell_type": "markdown",
   "id": "06e35623-5583-405e-a21d-d30bef70b551",
   "metadata": {},
   "source": [
    "SSH\n",
    "\n",
    "- -f : Requests ssh to go to background. The recommended way to start X11 programs at a remote site (does not work if there is 'EOF')\n",
    "- -N : Do not execute a remote command. This is useful for just forwarding ports\n",
    "- -T : Disable pseudo-tty allocation. (tty = to have interactive prompt)\n",
    "- -L : Port forwarding\n",
    "- (the sequence and order of the flags is important)"
   ]
  },
  {
   "cell_type": "markdown",
   "id": "ba5cd84d-59bf-4282-ba14-3fe497b24afa",
   "metadata": {},
   "source": [
    "    vi ~/.ssh/config\n",
    "    Host sd\n",
    "      HostName login.sdumont.lncc.br   (or 146.134.143.249)\n",
    "      User xxxx\n",
    "      ControlMaster auto\n",
    "      ControlPath ~/.ssh/remote_sd"
   ]
  },
  {
   "cell_type": "markdown",
   "id": "fd791760-f4fe-4d5e-9fe7-401d7bc4f551",
   "metadata": {
    "tags": []
   },
   "source": [
    "OLD - sdumont18 - conda in the /prj directory"
   ]
  },
  {
   "cell_type": "code",
   "execution_count": 4,
   "id": "e429b50d-e5ec-4367-9cb9-81489161b2b1",
   "metadata": {
    "tags": [],
    "vscode": {
     "languageId": "shellscript"
    }
   },
   "outputs": [
    {
     "name": "stderr",
     "output_type": "stream",
     "text": [
      "Loading SEQUANA Software environment\n",
      "Loading SDumont BASE Software environment\n"
     ]
    },
    {
     "name": "stdout",
     "output_type": "stream",
     "text": [
      "sdumont18\n",
      "  9478 ?        D      0:00 /prj/ampemi/eduardo.miranda2/conda/bin/python3.10 /prj/ampemi/eduardo.miranda2/conda/bin/jupyter-lab --no-browser --LabApp.token=x --ip=0.0.0.0 --port=18890\n",
      "193043 ?        Sl     0:03 /prj/ampemi/eduardo.miranda2/conda/bin/python3.10 /prj/ampemi/eduardo.miranda2/conda/bin/jupyter-lab --no-browser --LabApp.token=x --ip=0.0.0.0 --port=18890\n"
     ]
    }
   ],
   "source": [
    "%%bash\n",
    "ssh -T sd << 'EOF1'\n",
    "ssh -T sdumont18 << 'EOF2'\n",
    "module load sequana/current\n",
    "module load sdbase\n",
    "#module load cuda/10.0_sequana\n",
    "#module load cuda/10.0\n",
    "#module load cudnn/7.6_cuda-10.0_sequana\n",
    "#module load cudnn/7.6_cuda-10.0\n",
    "#module load gcc/7.4_sequana\n",
    "#module load gcc/7.4\n",
    "#module load cmake/3.23.2_sequana\n",
    "#module load cmake/3.23.2\n",
    "#module load openmpi/gnu/4.0.1_sequana\n",
    "pkill -u ${USER} -f 18890\n",
    "module load gcc/11.1 netcdf/4.9.2_openmpi-4.1.6_gnu openblas/0.3.19_gnu\n",
    "source $HOME/conda/bin/activate base\n",
    "jupyter-lab --no-browser --LabApp.token=x --ip=0.0.0.0 --port=18890 &>/dev/null&\n",
    "hostname && sleep 2 && ps x | grep \"[j]upyter\\|[s]yncthing\"\n",
    "EOF2\n",
    "EOF1\n",
    "\n",
    "ssh -NfTL 8890:sdumont18:18890 sd"
   ]
  },
  {
   "cell_type": "markdown",
   "id": "06ac1497-0642-477c-ba2d-1287f74c3828",
   "metadata": {},
   "source": [
    "- <http://localhost:8890/lab?token=x> (may take a long time to upload, 1 min. or more)\n",
    "- only works on the machine running ssh\n",
    "- programs have a 5 min. limit running on the login node\n",
    "- para 20 min: salloc --partition=sequana_gpu_dev --nodes=1 --ntasks=1 --job-name test01\n",
    "- salloc --partition=sequana_gpu_shared --nodes=1 --ntasks=1 --job-name test01"
   ]
  },
  {
   "cell_type": "markdown",
   "id": "a1dda4a4-37a3-4f6d-b7dc-2c30511bee31",
   "metadata": {},
   "source": [
    "---\n",
    "\n",
    "OLD - sdumont18 - miniconda int the /scratch  directory"
   ]
  },
  {
   "cell_type": "code",
   "execution_count": 5,
   "id": "8525f566-f54e-4d46-bcfc-7ca539b03491",
   "metadata": {
    "scrolled": true,
    "tags": [],
    "vscode": {
     "languageId": "shellscript"
    }
   },
   "outputs": [
    {
     "name": "stderr",
     "output_type": "stream",
     "text": [
      "Loading SEQUANA Software environment\n",
      "Loading SDumont BASE Software environment\n",
      "ModuleCmd_Load.c(213):ERROR:105: Unable to locate a modulefile for 'cuda/10.0_sequana'\n",
      "ModuleCmd_Load.c(213):ERROR:105: Unable to locate a modulefile for 'cudnn/7.6_cuda-10.0_sequana'\n",
      "ModuleCmd_Load.c(213):ERROR:105: Unable to locate a modulefile for 'openmpi/gnu/4.0.1_sequana'\n",
      "ModuleCmd_Load.c(213):ERROR:105: Unable to locate a modulefile for 'gcc/7.4_sequana'\n",
      "ModuleCmd_Load.c(213):ERROR:105: Unable to locate a modulefile for 'cmake/3.23.2_sequana'\n"
     ]
    },
    {
     "name": "stdout",
     "output_type": "stream",
     "text": [
      "sdumont18\n",
      " 99058 ?        Sl     0:05 /prj/ampemi/eduardo.miranda2/conda/bin/python3.10 /prj/ampemi/eduardo.miranda2/conda/bin/jupyter-lab --no-browser --LabApp.token=x --ip=0.0.0.0 --port=18890\n",
      " 99599 ?        Ssl    0:00 /prj/ampemi/eduardo.miranda2/conda/bin/python -m ipykernel_launcher -f /prj/ampemi/eduardo.miranda2/.local/share/jupyter/runtime/kernel-2cd5f5a5-6b51-4144-b781-f73bba7ed221.json\n",
      " 99606 ?        Ssl    0:00 /prj/ampemi/eduardo.miranda2/conda/bin/python -m ipykernel_launcher -f /prj/ampemi/eduardo.miranda2/.local/share/jupyter/runtime/kernel-c4f96dd9-520e-4b47-bf4d-b82a12258ce2.json\n",
      "101622 ?        S      0:00 /scratch/ampemi/eduardo.miranda2/miniconda3/bin/python3.11 /scratch/ampemi/eduardo.miranda2/miniconda3/bin/jupyter-lab --no-browser --LabApp.token=x --ip=0.0.0.0 --port=18891\n"
     ]
    }
   ],
   "source": [
    "%%bash\n",
    "ssh -T sd << 'EOF1'\n",
    "ssh -T sdumont18 << 'EOF2'\n",
    "module purge\n",
    "module load sequana/current\n",
    "module load sdbase\n",
    "module load cuda/10.0_sequana\n",
    "module load cudnn/7.6_cuda-10.0_sequana\n",
    "module load openmpi/gnu/4.0.1_sequana\n",
    "module load gcc/7.4_sequana\n",
    "module load cmake/3.23.2_sequana\n",
    "source /scratch${HOME#/prj}/miniconda3/bin/activate base\n",
    "pkill -u ${USER} -f 18891\n",
    "jupyter-lab --no-browser --LabApp.token='' --ip=0.0.0.0 --port=18891 &>/dev/null&\n",
    "hostname && sleep 2 && ps x | grep [j]upyter\n",
    "EOF2\n",
    "EOF1\n",
    "\n",
    "ssh -NfTL 8891:sdumont18:18891 sd"
   ]
  },
  {
   "cell_type": "markdown",
   "id": "15d24b81-1455-41f7-a231-83f98d921396",
   "metadata": {},
   "source": [
    "- <http://localhost:8891>"
   ]
  }
 ],
 "metadata": {
  "kernelspec": {
   "display_name": "Python 3 (ipykernel)",
   "language": "python",
   "name": "python3"
  },
  "language_info": {
   "codemirror_mode": {
    "name": "ipython",
    "version": 3
   },
   "file_extension": ".py",
   "mimetype": "text/x-python",
   "name": "python",
   "nbconvert_exporter": "python",
   "pygments_lexer": "ipython3",
   "version": "3.12.5"
  }
 },
 "nbformat": 4,
 "nbformat_minor": 5
}
