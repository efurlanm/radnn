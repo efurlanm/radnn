{
 "cells": [
  {
   "cell_type": "markdown",
   "id": "9e1cef4f-5190-4bde-9a3a-3ee81659ee3a",
   "metadata": {},
   "source": [
    "# <font style=\"color:red\">→ Don't forget to connect VPNC first</font>\n",
    "\n",
    "SDumont manual (in Portuguese): <https://github.com/lncc-sered/manual-sdumont/wiki>"
   ]
  },
  {
   "cell_type": "code",
   "execution_count": 1,
   "id": "16710f06-541a-4133-acd4-5bc15ab37925",
   "metadata": {
    "vscode": {
     "languageId": "shellscript"
    }
   },
   "outputs": [],
   "source": [
    "! ssh -NfT sd"
   ]
  },
  {
   "cell_type": "code",
   "execution_count": 2,
   "id": "4809af8d-1234-4b00-af04-c038cb6ca7c9",
   "metadata": {
    "vscode": {
     "languageId": "shellscript"
    }
   },
   "outputs": [
    {
     "name": "stdout",
     "output_type": "stream",
     "text": [
      "sdumont18\n"
     ]
    }
   ],
   "source": [
    "! ssh -T sd hostname"
   ]
  },
  {
   "cell_type": "code",
   "execution_count": null,
   "id": "7f88b11a-b26b-4741-a0de-5e35abe4335f",
   "metadata": {
    "vscode": {
     "languageId": "shellscript"
    }
   },
   "outputs": [],
   "source": [
    "%%bash\n",
    "ssh -T sd \"pwd\" > ~/.WDP.txt\n",
    "TEMP=$(cat ~/.WDP.txt)\n",
    "echo \"/scratch${TEMP#/prj}\" > ~/.WDS.txt"
   ]
  },
  {
   "cell_type": "code",
   "execution_count": 8,
   "id": "17234704-9869-4267-bd36-a1a123b7da45",
   "metadata": {
    "vscode": {
     "languageId": "shellscript"
    }
   },
   "outputs": [],
   "source": [
    "%%bash\n",
    "OPT=\"workaround=rename,uid=1000,gid=1000,auto_cache,reconnect,cache=yes,kernel_cache,Compression=no,max_conns=2\"\n",
    "sshfs sd:$(cat ~/.WDP.txt)  /prj     -o $OPT\n",
    "sshfs sd:$(cat ~/.WDS.txt)  /scratch -o $OPT"
   ]
  },
  {
   "cell_type": "code",
   "execution_count": 4,
   "id": "d4d4d884-2084-4c3f-aaf1-0b5487e7959d",
   "metadata": {
    "vscode": {
     "languageId": "shellscript"
    }
   },
   "outputs": [
    {
     "name": "stdout",
     "output_type": "stream",
     "text": [
      "sdumont18\n",
      "3181792 syncthing\n",
      "3181799 jupyter-lab\n",
      "3181806 syncthing\n"
     ]
    }
   ],
   "source": [
    "%%bash\n",
    "ssh -T sd << 'EOF'\n",
    "source $HOME/conda/bin/activate base\n",
    "pkill -u ${USER} -f 18384\n",
    "syncthing --gui-address=0.0.0.0:18384 >/dev/null 2>&1 &\n",
    "pkill -u ${USER} -f 18889\n",
    "jupyter-lab \\\n",
    "    --no-browser \\\n",
    "    --notebook-dir=$HOME/ \\\n",
    "    --IdentityProvider.token='' --ServerApp.password='' \\\n",
    "    --ip=0.0.0.0 --port=18889 \\\n",
    "    >/dev/null 2>&1 &\n",
    "hostname\n",
    "sleep 2\n",
    "ps -o pid,comm | grep \"[j]upyter\\|[s]yncthing\"\n",
    "EOF\n",
    "\n",
    "ssh -NfTL 8385:localhost:18384 sd    # syncthing\n",
    "ssh -NfTL 8889:localhost:18889 sd    # jupyter"
   ]
  },
  {
   "cell_type": "markdown",
   "id": "303e6fe0-7cea-40ff-8fba-21ec09d368b4",
   "metadata": {},
   "source": [
    "Now, you can connect to JL instance running on the SDumont login node. The ~/radnn directory is synchronized between the local machine and the SDumont:\n",
    "\n",
    "- <http://localhost:8889>  JL (can takes minutes to go up)\n",
    "- <http://localhost:8385>  ST"
   ]
  },
  {
   "cell_type": "markdown",
   "id": "b67f991a-23e3-4fe1-96be-deeeb2a1ce99",
   "metadata": {},
   "source": [
    "<hr style=\"height:10px;border-width:0;background-color:green\">"
   ]
  },
  {
   "cell_type": "markdown",
   "id": "d558cb80-c152-4d9c-8b3e-452bca43e66c",
   "metadata": {},
   "source": [
    "# Shutdown"
   ]
  },
  {
   "cell_type": "code",
   "execution_count": 4,
   "id": "8456040a-eede-4ebf-9662-9aba85fa0d0a",
   "metadata": {
    "scrolled": true
   },
   "outputs": [
    {
     "name": "stdout",
     "output_type": "stream",
     "text": [
      "sdumont18\n"
     ]
    }
   ],
   "source": [
    "%%bash\n",
    "ssh -T sd << 'EOF1'\n",
    "pkill -u ${USER} -f jupyter\n",
    "pkill -u ${USER} -f syncthing\n",
    "hostname\n",
    "EOF1"
   ]
  },
  {
   "cell_type": "code",
   "execution_count": 5,
   "id": "0b59fe42-f54f-47d5-867b-f7e20c5715a2",
   "metadata": {},
   "outputs": [
    {
     "name": "stderr",
     "output_type": "stream",
     "text": [
      "mux_client_forward: forwarding request failed: port not forwarded\n",
      "muxclient: master cancel forward request failed\n",
      "mux_client_forward: forwarding request failed: port not forwarded\n",
      "muxclient: master cancel forward request failed\n",
      "umount: /prj: not mounted.\n",
      "umount: /scratch: not mounted.\n",
      "Exit request sent.\n"
     ]
    }
   ],
   "source": [
    "%%bash\n",
    "ssh -O cancel -L 8889:localhost:18889 sd\n",
    "ssh -O cancel -L 8385:localhost:18384 sd\n",
    "sudo umount -f /prj /scratch\n",
    "ssh -O exit sd"
   ]
  },
  {
   "cell_type": "markdown",
   "id": "b591e59a-0cfb-42d3-84f6-cbb1d92cffe5",
   "metadata": {},
   "source": [
    "<hr style=\"height:10px;border-width:0;background-color:green\">"
   ]
  },
  {
   "cell_type": "markdown",
   "id": "e5855045-d3e6-459e-bd8e-dc9f196b5fa6",
   "metadata": {},
   "source": [
    "OLD - sdumont18:"
   ]
  },
  {
   "cell_type": "code",
   "execution_count": 13,
   "id": "59a6d87a-6bdc-4c85-ae0f-5f5fd2ca50eb",
   "metadata": {
    "scrolled": true
   },
   "outputs": [
    {
     "name": "stdout",
     "output_type": "stream",
     "text": [
      "sdumont18\n"
     ]
    }
   ],
   "source": [
    "%%bash\n",
    "ssh -T sd << 'EOF1'\n",
    "ssh -T sdumont18 << 'EOF2'\n",
    "pkill -u ${USER} -f jupyter\n",
    "pkill -u ${USER} -f syncthing\n",
    "hostname\n",
    "EOF2\n",
    "EOF1\n",
    "\n",
    "ssh -NfTL 8890:sdumont18:18890 sd"
   ]
  },
  {
   "cell_type": "markdown",
   "id": "5b6465c3-0574-45f8-93a3-1743995736bc",
   "metadata": {},
   "source": [
    "OLD - sdumont13,14:"
   ]
  },
  {
   "cell_type": "code",
   "execution_count": 14,
   "id": "80b9ac80-b849-46b2-925e-6a4e197f07e0",
   "metadata": {},
   "outputs": [
    {
     "name": "stdout",
     "output_type": "stream",
     "text": [
      "sdumont14\n",
      "sdumont13\n",
      "sdumont14\n"
     ]
    }
   ],
   "source": [
    "%%bash\n",
    "ssh -T sd << 'EOF1'\n",
    "pkill -u ${USER} -f jupyter\n",
    "pkill -u ${USER} -f syncthing\n",
    "hostname\n",
    "ssh -T sdumont13 << 'EOF2'\n",
    "pkill -u ${USER} -f jupyter\n",
    "pkill -u ${USER} -f syncthing\n",
    "hostname\n",
    "EOF2\n",
    "\n",
    "ssh -T sdumont14 << 'EOF2'\n",
    "pkill -u ${USER} -f jupyter\n",
    "pkill -u ${USER} -f syncthing\n",
    "hostname\n",
    "EOF2\n",
    "EOF1\n"
   ]
  },
  {
   "cell_type": "markdown",
   "id": "7b6978c2-3849-480a-93cd-03f445c95616",
   "metadata": {},
   "source": [
    "máquina local:"
   ]
  },
  {
   "cell_type": "markdown",
   "id": "7ec02f00-9575-4dde-a0e3-972325619b8d",
   "metadata": {},
   "source": [
    "# <font style=\"color:red\">don't forget to disconnect VPNC</font>"
   ]
  },
  {
   "cell_type": "markdown",
   "id": "991174e9-10a7-4717-9cb6-c3c5ca299807",
   "metadata": {},
   "source": [
    "<hr style=\"height:10px;border-width:0;background-color:blue\">"
   ]
  },
  {
   "cell_type": "markdown",
   "id": "be95ba5a-8251-4d01-b26f-a13676fbafd5",
   "metadata": {},
   "source": [
    "# When the connection drops (vpnc):"
   ]
  },
  {
   "cell_type": "code",
   "execution_count": null,
   "id": "a28b3abc-a266-48ae-8b10-e8e275965787",
   "metadata": {},
   "outputs": [],
   "source": [
    "%%bash\n",
    "ssh -O exit sd\n",
    "ssh -NfT sd\n",
    "ssh -NfTL 8890:sdumont18:18890 sd\n",
    "ssh -NfTL 8891:sdumont18:18891 sd\n",
    "ssh -T sd hostname"
   ]
  },
  {
   "cell_type": "markdown",
   "id": "67520b1a-3193-4cf0-a168-392722beab10",
   "metadata": {},
   "source": [
    "- \"ssh -O exit sd\" (exit) and then \"ssh -Nf sd\" (enter)\n",
    "- disconnects everything and connects again (JL returns)\n",
    "- if you connect to another login node, the previous session that was on the previous node remains there.\n",
    "- if you need to kill a process, enter it with ssh XXXX and pkill -u ${USER} -f jupyter"
   ]
  },
  {
   "cell_type": "markdown",
   "id": "bcc4149f-d580-4de8-8b31-e3de732199b0",
   "metadata": {},
   "source": [
    "---"
   ]
  },
  {
   "cell_type": "markdown",
   "id": "06e35623-5583-405e-a21d-d30bef70b551",
   "metadata": {},
   "source": [
    "SSH\n",
    "\n",
    "- -f : Requests ssh to go to background. The recommended way to start X11 programs at a remote site (does not work if there is 'EOF')\n",
    "- -N : Do not execute a remote command. This is useful for just forwarding ports\n",
    "- -T : Disable pseudo-tty allocation. (tty = to have interactive prompt)\n",
    "- -L : Port forwarding\n",
    "- (the sequence and order of the flags is important)"
   ]
  },
  {
   "cell_type": "markdown",
   "id": "ba5cd84d-59bf-4282-ba14-3fe497b24afa",
   "metadata": {},
   "source": [
    "    vi ~/.ssh/config\n",
    "    Host sd\n",
    "      HostName login.sdumont.lncc.br   (or 146.134.143.249)\n",
    "      User xxxx\n",
    "      ControlMaster auto\n",
    "      ControlPath ~/.ssh/remote_sd"
   ]
  },
  {
   "cell_type": "markdown",
   "id": "fd791760-f4fe-4d5e-9fe7-401d7bc4f551",
   "metadata": {
    "tags": []
   },
   "source": [
    "OLD - sdumont18 - conda in the /prj directory"
   ]
  },
  {
   "cell_type": "code",
   "execution_count": 4,
   "id": "e429b50d-e5ec-4367-9cb9-81489161b2b1",
   "metadata": {
    "tags": [],
    "vscode": {
     "languageId": "shellscript"
    }
   },
   "outputs": [
    {
     "name": "stderr",
     "output_type": "stream",
     "text": [
      "Loading SEQUANA Software environment\n",
      "Loading SDumont BASE Software environment\n"
     ]
    },
    {
     "name": "stdout",
     "output_type": "stream",
     "text": [
      "sdumont18\n",
      "  9478 ?        D      0:00 /prj/ampemi/eduardo.miranda2/conda/bin/python3.10 /prj/ampemi/eduardo.miranda2/conda/bin/jupyter-lab --no-browser --LabApp.token=x --ip=0.0.0.0 --port=18890\n",
      "193043 ?        Sl     0:03 /prj/ampemi/eduardo.miranda2/conda/bin/python3.10 /prj/ampemi/eduardo.miranda2/conda/bin/jupyter-lab --no-browser --LabApp.token=x --ip=0.0.0.0 --port=18890\n"
     ]
    }
   ],
   "source": [
    "%%bash\n",
    "ssh -T sd << 'EOF1'\n",
    "ssh -T sdumont18 << 'EOF2'\n",
    "module load sequana/current\n",
    "module load sdbase\n",
    "#module load cuda/10.0_sequana\n",
    "#module load cuda/10.0\n",
    "#module load cudnn/7.6_cuda-10.0_sequana\n",
    "#module load cudnn/7.6_cuda-10.0\n",
    "#module load gcc/7.4_sequana\n",
    "#module load gcc/7.4\n",
    "#module load cmake/3.23.2_sequana\n",
    "#module load cmake/3.23.2\n",
    "#module load openmpi/gnu/4.0.1_sequana\n",
    "pkill -u ${USER} -f 18890\n",
    "module load gcc/11.1 netcdf/4.9.2_openmpi-4.1.6_gnu openblas/0.3.19_gnu\n",
    "source $HOME/conda/bin/activate base\n",
    "jupyter-lab --no-browser --LabApp.token=x --ip=0.0.0.0 --port=18890 &>/dev/null&\n",
    "hostname && sleep 2 && ps x | grep \"[j]upyter\\|[s]yncthing\"\n",
    "EOF2\n",
    "EOF1\n",
    "\n",
    "ssh -NfTL 8890:sdumont18:18890 sd"
   ]
  },
  {
   "cell_type": "markdown",
   "id": "06ac1497-0642-477c-ba2d-1287f74c3828",
   "metadata": {},
   "source": [
    "- <http://localhost:8890/lab?token=x> (may take a long time to upload, 1 min. or more)\n",
    "- only works on the machine running ssh\n",
    "- programs have a 5 min. limit running on the login node\n",
    "- para 20 min: salloc --partition=sequana_gpu_dev --nodes=1 --ntasks=1 --job-name test01\n",
    "- salloc --partition=sequana_gpu_shared --nodes=1 --ntasks=1 --job-name test01"
   ]
  },
  {
   "cell_type": "markdown",
   "id": "a1dda4a4-37a3-4f6d-b7dc-2c30511bee31",
   "metadata": {},
   "source": [
    "---\n",
    "\n",
    "OLD - sdumont18 - miniconda int the /scratch  directory"
   ]
  },
  {
   "cell_type": "code",
   "execution_count": 5,
   "id": "8525f566-f54e-4d46-bcfc-7ca539b03491",
   "metadata": {
    "scrolled": true,
    "tags": [],
    "vscode": {
     "languageId": "shellscript"
    }
   },
   "outputs": [
    {
     "name": "stderr",
     "output_type": "stream",
     "text": [
      "Loading SEQUANA Software environment\n",
      "Loading SDumont BASE Software environment\n",
      "ModuleCmd_Load.c(213):ERROR:105: Unable to locate a modulefile for 'cuda/10.0_sequana'\n",
      "ModuleCmd_Load.c(213):ERROR:105: Unable to locate a modulefile for 'cudnn/7.6_cuda-10.0_sequana'\n",
      "ModuleCmd_Load.c(213):ERROR:105: Unable to locate a modulefile for 'openmpi/gnu/4.0.1_sequana'\n",
      "ModuleCmd_Load.c(213):ERROR:105: Unable to locate a modulefile for 'gcc/7.4_sequana'\n",
      "ModuleCmd_Load.c(213):ERROR:105: Unable to locate a modulefile for 'cmake/3.23.2_sequana'\n"
     ]
    },
    {
     "name": "stdout",
     "output_type": "stream",
     "text": [
      "sdumont18\n",
      " 99058 ?        Sl     0:05 /prj/ampemi/eduardo.miranda2/conda/bin/python3.10 /prj/ampemi/eduardo.miranda2/conda/bin/jupyter-lab --no-browser --LabApp.token=x --ip=0.0.0.0 --port=18890\n",
      " 99599 ?        Ssl    0:00 /prj/ampemi/eduardo.miranda2/conda/bin/python -m ipykernel_launcher -f /prj/ampemi/eduardo.miranda2/.local/share/jupyter/runtime/kernel-2cd5f5a5-6b51-4144-b781-f73bba7ed221.json\n",
      " 99606 ?        Ssl    0:00 /prj/ampemi/eduardo.miranda2/conda/bin/python -m ipykernel_launcher -f /prj/ampemi/eduardo.miranda2/.local/share/jupyter/runtime/kernel-c4f96dd9-520e-4b47-bf4d-b82a12258ce2.json\n",
      "101622 ?        S      0:00 /scratch/ampemi/eduardo.miranda2/miniconda3/bin/python3.11 /scratch/ampemi/eduardo.miranda2/miniconda3/bin/jupyter-lab --no-browser --LabApp.token=x --ip=0.0.0.0 --port=18891\n"
     ]
    }
   ],
   "source": [
    "%%bash\n",
    "ssh -T sd << 'EOF1'\n",
    "ssh -T sdumont18 << 'EOF2'\n",
    "module purge\n",
    "module load sequana/current\n",
    "module load sdbase\n",
    "module load cuda/10.0_sequana\n",
    "module load cudnn/7.6_cuda-10.0_sequana\n",
    "module load openmpi/gnu/4.0.1_sequana\n",
    "module load gcc/7.4_sequana\n",
    "module load cmake/3.23.2_sequana\n",
    "source /scratch${HOME#/prj}/miniconda3/bin/activate base\n",
    "pkill -u ${USER} -f 18891\n",
    "jupyter-lab --no-browser --LabApp.token='' --ip=0.0.0.0 --port=18891 &>/dev/null&\n",
    "hostname && sleep 2 && ps x | grep [j]upyter\n",
    "EOF2\n",
    "EOF1\n",
    "\n",
    "ssh -NfTL 8891:sdumont18:18891 sd"
   ]
  },
  {
   "cell_type": "markdown",
   "id": "15d24b81-1455-41f7-a231-83f98d921396",
   "metadata": {},
   "source": [
    "- <http://localhost:8891>"
   ]
  }
 ],
 "metadata": {
  "kernelspec": {
   "display_name": "Python 3 (ipykernel)",
   "language": "python",
   "name": "python3"
  },
  "language_info": {
   "codemirror_mode": {
    "name": "ipython",
    "version": 3
   },
   "file_extension": ".py",
   "mimetype": "text/x-python",
   "name": "python",
   "nbconvert_exporter": "python",
   "pygments_lexer": "ipython3",
   "version": "3.12.5"
  }
 },
 "nbformat": 4,
 "nbformat_minor": 5
}
